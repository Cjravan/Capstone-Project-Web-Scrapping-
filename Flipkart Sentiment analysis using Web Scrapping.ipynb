{
 "cells": [
  {
   "cell_type": "code",
   "execution_count": 177,
   "id": "859c9c96",
   "metadata": {},
   "outputs": [],
   "source": [
    "import requests \n",
    "from bs4 import BeautifulSoup as bs\n",
    "import numpy as np\n",
    "import pandas as ps\n",
    "import tensorflow as tf\n",
    "import tensorflow_hub as hub\n",
    "import tensorflow_text as text\n",
    "import matplotlib.pyplot as mt\n",
    "import pandas as ps\n",
    "import numpy as np\n",
    "import seaborn as sns\n",
    "import math\n",
    "import warnings\n",
    "from sklearn.feature_extraction.text import TfidfVectorizer\n",
    "from sklearn.metrics.pairwise import linear_kernel\n",
    "warnings.filterwarnings('ignore') # Hides warning\n",
    "warnings.filterwarnings(\"ignore\", category=DeprecationWarning)\n",
    "warnings.filterwarnings(\"ignore\",category=UserWarning)\n",
    "sns.set_style(\"whitegrid\") # Plotting style\n",
    "np.random.seed(7) # seeding random number generator\n",
    "import seaborn as sns\n",
    "\n",
    "mt.style.use('ggplot')\n",
    "\n",
    "import nltk"
   ]
  },
  {
   "cell_type": "code",
   "execution_count": 178,
   "id": "948c060f",
   "metadata": {},
   "outputs": [
    {
     "name": "stdout",
     "output_type": "stream",
     "text": [
      "Enter Your product: iphone accessories\n"
     ]
    }
   ],
   "source": [
    "product_name = input(\"Enter Your product: \")"
   ]
  },
  {
   "cell_type": "code",
   "execution_count": 179,
   "id": "f58bee16",
   "metadata": {},
   "outputs": [],
   "source": [
    "page_url=\"https://www.flipkart.com/search?q={}\".format(product_name)\n",
    "scrap_pageno=requests.get(page_url).text\n",
    "page_web=bs(scrap_pageno)"
   ]
  },
  {
   "cell_type": "code",
   "execution_count": 183,
   "id": "59baf120",
   "metadata": {},
   "outputs": [
    {
     "data": {
      "text/plain": [
       "'4,404'"
      ]
     },
     "execution_count": 183,
     "metadata": {},
     "output_type": "execute_result"
    }
   ],
   "source": [
    "page_web.find_all(\"div\",class_=\"_2MImiq\")[0].find(\"span\").text.split()[3]"
   ]
  },
  {
   "cell_type": "code",
   "execution_count": 184,
   "id": "8b9062bf",
   "metadata": {},
   "outputs": [],
   "source": [
    "page_url=\"https://www.flipkart.com/search?q={}\".format(product_name)\n",
    "scrap_pageno=requests.get(page_url).text\n",
    "page_web=bs(scrap_pageno)\n",
    "try:\n",
    "    page_no=int(page_web.find_all(\"div\",class_=\"_2MImiq\")[0].find(\"span\").text.split()[3])\n",
    "    \n",
    "except Exception as e:\n",
    "    a=page_web.find_all(\"div\",class_=\"_2MImiq\")[0].find(\"span\").text.split()[3].split(\",\")\n",
    "    page_no=int(a[0]+a[1])"
   ]
  },
  {
   "cell_type": "code",
   "execution_count": 185,
   "id": "150e80fe",
   "metadata": {},
   "outputs": [
    {
     "data": {
      "text/plain": [
       "4404"
      ]
     },
     "execution_count": 185,
     "metadata": {},
     "output_type": "execute_result"
    }
   ],
   "source": [
    "page_no"
   ]
  },
  {
   "cell_type": "code",
   "execution_count": null,
   "id": "3fd8a656",
   "metadata": {},
   "outputs": [],
   "source": [
    "# Pipeline for data fetching from website\n",
    "import requests\n",
    "from bs4 import BeautifulSoup as bs\n",
    "\n",
    "final_links = []\n",
    "reviews = []\n",
    "product_title = []\n",
    "\n",
    "for i in range(1, page_no + 1):\n",
    "    url = \"https://www.flipkart.com/search?q={}&page={}\".format(product_name, i)\n",
    "    headers = {\n",
    "        \"User-Agent\": \"Mozilla/5.0 (Windows NT 6.3; Win64; x64) AppleWebKit/537.36 (KHTML, like Gecko) Chrome/80.0.3987.162 Safari/537.36\"\n",
    "    }\n",
    "    webpage = requests.get(url, headers=headers).text\n",
    "    scrap = requests.get(url).text\n",
    "    web = bs(scrap)\n",
    "    \n",
    "    for j in web.find_all(\"a\", class_=\"_1fQZEK\"):\n",
    "        link = \"https://www.flipkart.com\" + j.get(\"href\")\n",
    "        link = link.replace(\"/p/\", \"/product-reviews/\")\n",
    "        final_links.append(link)\n",
    "else:\n",
    "    for k in final_links:\n",
    "        product_page = requests.get(k).text\n",
    "        page_web = bs(product_page)\n",
    "        test = page_web.find_all(\"div\", class_=\"_2MImiq _1Qnn1K\")\n",
    "        \n",
    "        if len(test) > 0:\n",
    "            try:\n",
    "                pro_page_no = int(page_web.find_all(\"div\", class_=\"_2MImiq _1Qnn1K\")[0].find(\"span\").text.split()[3])\n",
    "            except Exception as e:\n",
    "                pro_ex = page_web.find_all(\"div\", class_=\"_2MImiq _1Qnn1K\")[0].find(\"span\").text.split()[3].split(\",\")\n",
    "                pro_page_no = int(pro_ex[0] + pro_ex[1])\n",
    "        else:\n",
    "            pro_page_no = 1\n",
    "        \n",
    "        for t in range(1,20):\n",
    "            scrap = requests.get(k + \"&page={}\".format(t)).text\n",
    "            pro_web = bs(scrap)\n",
    "            \n",
    "            for l in pro_web.find_all(\"p\", class_=\"_2-N8zT\"):\n",
    "                reviews.append(l.text)\n",
    "                try:\n",
    "                    product_title.append(pro_web.find(\"div\", class_=\"_2s4DIt _1CDdy2\").text)\n",
    "                except:\n",
    "                    product_title.append(\"no name\")"
   ]
  },
  {
   "cell_type": "code",
   "execution_count": 101,
   "id": "faf486d2",
   "metadata": {},
   "outputs": [
    {
     "data": {
      "text/plain": [
       "<div class=\"_2s4DIt _1CDdy2\">LG 308 L Frost Free Double Door 2 Star Refrigerator Reviews</div>"
      ]
     },
     "execution_count": 101,
     "metadata": {},
     "output_type": "execute_result"
    }
   ],
   "source": [
    "pro_web.find(\"div\",class_=\"_2s4DIt _1CDdy2\")"
   ]
  },
  {
   "cell_type": "code",
   "execution_count": null,
   "id": "f33910d5",
   "metadata": {},
   "outputs": [],
   "source": [
    "# pro_page_no+1"
   ]
  },
  {
   "cell_type": "code",
   "execution_count": 102,
   "id": "df5c1f28",
   "metadata": {},
   "outputs": [
    {
     "data": {
      "text/plain": [
       "30175"
      ]
     },
     "execution_count": 102,
     "metadata": {},
     "output_type": "execute_result"
    }
   ],
   "source": [
    "len(reviews)"
   ]
  },
  {
   "cell_type": "code",
   "execution_count": 103,
   "id": "25309fdf",
   "metadata": {},
   "outputs": [
    {
     "data": {
      "text/plain": [
       "30175"
      ]
     },
     "execution_count": 103,
     "metadata": {},
     "output_type": "execute_result"
    }
   ],
   "source": [
    "len(product_title)"
   ]
  },
  {
   "cell_type": "code",
   "execution_count": 104,
   "id": "47a42936",
   "metadata": {
    "scrolled": true
   },
   "outputs": [
    {
     "data": {
      "text/html": [
       "<div>\n",
       "<style scoped>\n",
       "    .dataframe tbody tr th:only-of-type {\n",
       "        vertical-align: middle;\n",
       "    }\n",
       "\n",
       "    .dataframe tbody tr th {\n",
       "        vertical-align: top;\n",
       "    }\n",
       "\n",
       "    .dataframe thead th {\n",
       "        text-align: right;\n",
       "    }\n",
       "</style>\n",
       "<table border=\"1\" class=\"dataframe\">\n",
       "  <thead>\n",
       "    <tr style=\"text-align: right;\">\n",
       "      <th></th>\n",
       "      <th>product_title</th>\n",
       "      <th>reviews</th>\n",
       "    </tr>\n",
       "  </thead>\n",
       "  <tbody>\n",
       "    <tr>\n",
       "      <th>0</th>\n",
       "      <td>Godrej 180 L Direct Cool Single Door 4 Star Re...</td>\n",
       "      <td>Super!</td>\n",
       "    </tr>\n",
       "    <tr>\n",
       "      <th>1</th>\n",
       "      <td>Godrej 180 L Direct Cool Single Door 4 Star Re...</td>\n",
       "      <td>Terrific</td>\n",
       "    </tr>\n",
       "    <tr>\n",
       "      <th>2</th>\n",
       "      <td>Godrej 180 L Direct Cool Single Door 4 Star Re...</td>\n",
       "      <td>Simply awesome</td>\n",
       "    </tr>\n",
       "    <tr>\n",
       "      <th>3</th>\n",
       "      <td>Godrej 180 L Direct Cool Single Door 4 Star Re...</td>\n",
       "      <td>Super!</td>\n",
       "    </tr>\n",
       "    <tr>\n",
       "      <th>4</th>\n",
       "      <td>Godrej 180 L Direct Cool Single Door 4 Star Re...</td>\n",
       "      <td>Nice product</td>\n",
       "    </tr>\n",
       "  </tbody>\n",
       "</table>\n",
       "</div>"
      ],
      "text/plain": [
       "                                       product_title         reviews\n",
       "0  Godrej 180 L Direct Cool Single Door 4 Star Re...          Super!\n",
       "1  Godrej 180 L Direct Cool Single Door 4 Star Re...        Terrific\n",
       "2  Godrej 180 L Direct Cool Single Door 4 Star Re...  Simply awesome\n",
       "3  Godrej 180 L Direct Cool Single Door 4 Star Re...          Super!\n",
       "4  Godrej 180 L Direct Cool Single Door 4 Star Re...    Nice product"
      ]
     },
     "execution_count": 104,
     "metadata": {},
     "output_type": "execute_result"
    }
   ],
   "source": [
    "import pandas as ps\n",
    "fd=ps.DataFrame({\"product_title\":product_title,\"reviews\":reviews})\n",
    "fd.head()"
   ]
  },
  {
   "cell_type": "code",
   "execution_count": 105,
   "id": "b18a09ea",
   "metadata": {},
   "outputs": [],
   "source": [
    "fd.to_csv(r\"C:\\Users\\Harshit\\Downloads\\refrigerators.csv\")"
   ]
  },
  {
   "cell_type": "code",
   "execution_count": 12,
   "id": "d036241c",
   "metadata": {},
   "outputs": [],
   "source": [
    "fd.to_csv(r\"C:\\Users\\Harshit\\Downloads\\IFB_.csv\")"
   ]
  },
  {
   "cell_type": "code",
   "execution_count": 42,
   "id": "7ee86a22",
   "metadata": {},
   "outputs": [],
   "source": [
    "fd.to_csv(r\"C:\\Users\\Harshit\\Downloads\\IFB.csv\")"
   ]
  },
  {
   "cell_type": "code",
   "execution_count": 13,
   "id": "c1e22b44",
   "metadata": {},
   "outputs": [],
   "source": [
    "fd.to_csv(r\"C:\\Users\\Harshit\\Downloads\\LG.csv\")"
   ]
  },
  {
   "cell_type": "code",
   "execution_count": 12,
   "id": "4e72f663",
   "metadata": {},
   "outputs": [],
   "source": [
    "fd.to_csv(r\"C:\\Users\\Harshit\\Downloads\\vu.csv\")"
   ]
  },
  {
   "cell_type": "code",
   "execution_count": 44,
   "id": "c78a12cb",
   "metadata": {},
   "outputs": [],
   "source": [
    "fd.to_csv(r\"C:\\Users\\Harshit\\Downloads\\laptops.csv\")"
   ]
  },
  {
   "cell_type": "code",
   "execution_count": 33,
   "id": "6382c5c8",
   "metadata": {},
   "outputs": [],
   "source": [
    "fd.to_csv(r\"C:\\Users\\Harshit\\Downloads\\jabbaaaa.csv\")"
   ]
  },
  {
   "cell_type": "code",
   "execution_count": 78,
   "id": "5cfbbb7d",
   "metadata": {},
   "outputs": [],
   "source": [
    "fd.to_csv(r\"C:\\Users\\Harshit\\Downloads\\washing_machines.csv\")"
   ]
  },
  {
   "cell_type": "code",
   "execution_count": 28,
   "id": "12b8f428",
   "metadata": {},
   "outputs": [],
   "source": [
    "fd.to_csv(r\"C:\\Users\\Harshit\\Downloads\\mi_mobiles.csv\")"
   ]
  },
  {
   "cell_type": "code",
   "execution_count": null,
   "id": "33594727",
   "metadata": {},
   "outputs": [],
   "source": [
    "fd.to_csv(r\"C:\\Users\\Harshit\\Downloads\\iphone_1.csv\")"
   ]
  },
  {
   "cell_type": "code",
   "execution_count": null,
   "id": "7217bb95",
   "metadata": {},
   "outputs": [],
   "source": [
    "fd.to_csv(r\"C:\\Users\\Harshit\\Downloads\\oneplusmobile.csv\")"
   ]
  },
  {
   "cell_type": "code",
   "execution_count": null,
   "id": "eafaffce",
   "metadata": {},
   "outputs": [],
   "source": [
    "fd.to_csv(r\"C:\\Users\\Harshit\\Downloads\\iphone.csv\")"
   ]
  },
  {
   "cell_type": "code",
   "execution_count": null,
   "id": "81bddaa1",
   "metadata": {},
   "outputs": [],
   "source": [
    "fd.to_csv(r\"C:\\Users\\Harshit\\Downloads\\samsungtv.csv\")"
   ]
  },
  {
   "cell_type": "code",
   "execution_count": 110,
   "id": "7a3f872e",
   "metadata": {},
   "outputs": [],
   "source": [
    "ps.set_option(\"display.max_rows\",None)"
   ]
  },
  {
   "cell_type": "code",
   "execution_count": 24,
   "id": "97be99df",
   "metadata": {},
   "outputs": [
    {
     "data": {
      "text/html": [
       "<div>\n",
       "<style scoped>\n",
       "    .dataframe tbody tr th:only-of-type {\n",
       "        vertical-align: middle;\n",
       "    }\n",
       "\n",
       "    .dataframe tbody tr th {\n",
       "        vertical-align: top;\n",
       "    }\n",
       "\n",
       "    .dataframe thead th {\n",
       "        text-align: right;\n",
       "    }\n",
       "</style>\n",
       "<table border=\"1\" class=\"dataframe\">\n",
       "  <thead>\n",
       "    <tr style=\"text-align: right;\">\n",
       "      <th></th>\n",
       "      <th>Unnamed: 0</th>\n",
       "      <th>product_title</th>\n",
       "      <th>reviews</th>\n",
       "    </tr>\n",
       "  </thead>\n",
       "  <tbody>\n",
       "    <tr>\n",
       "      <th>0</th>\n",
       "      <td>0</td>\n",
       "      <td>InnoQ 6.5 Kg Semi Automatic Top Load Washing M...</td>\n",
       "      <td>Best in the market!</td>\n",
       "    </tr>\n",
       "    <tr>\n",
       "      <th>1</th>\n",
       "      <td>1</td>\n",
       "      <td>InnoQ 6.5 Kg Semi Automatic Top Load Washing M...</td>\n",
       "      <td>Great product</td>\n",
       "    </tr>\n",
       "    <tr>\n",
       "      <th>2</th>\n",
       "      <td>2</td>\n",
       "      <td>InnoQ 6.5 Kg Semi Automatic Top Load Washing M...</td>\n",
       "      <td>Super!</td>\n",
       "    </tr>\n",
       "    <tr>\n",
       "      <th>3</th>\n",
       "      <td>3</td>\n",
       "      <td>InnoQ 6.5 Kg Semi Automatic Top Load Washing M...</td>\n",
       "      <td>Worth every penny</td>\n",
       "    </tr>\n",
       "    <tr>\n",
       "      <th>4</th>\n",
       "      <td>4</td>\n",
       "      <td>InnoQ 6.5 Kg Semi Automatic Top Load Washing M...</td>\n",
       "      <td>Just wow!</td>\n",
       "    </tr>\n",
       "  </tbody>\n",
       "</table>\n",
       "</div>"
      ],
      "text/plain": [
       "   Unnamed: 0                                      product_title  \\\n",
       "0           0  InnoQ 6.5 Kg Semi Automatic Top Load Washing M...   \n",
       "1           1  InnoQ 6.5 Kg Semi Automatic Top Load Washing M...   \n",
       "2           2  InnoQ 6.5 Kg Semi Automatic Top Load Washing M...   \n",
       "3           3  InnoQ 6.5 Kg Semi Automatic Top Load Washing M...   \n",
       "4           4  InnoQ 6.5 Kg Semi Automatic Top Load Washing M...   \n",
       "\n",
       "               reviews  \n",
       "0  Best in the market!  \n",
       "1        Great product  \n",
       "2               Super!  \n",
       "3    Worth every penny  \n",
       "4            Just wow!  "
      ]
     },
     "execution_count": 24,
     "metadata": {},
     "output_type": "execute_result"
    }
   ],
   "source": [
    "df=ps.read_csv(r\"C:\\Users\\Harshit\\Downloads\\washing_machines.csv\")\n",
    "df.head()"
   ]
  },
  {
   "cell_type": "code",
   "execution_count": 25,
   "id": "3542475f",
   "metadata": {},
   "outputs": [
    {
     "data": {
      "text/html": [
       "<div>\n",
       "<style scoped>\n",
       "    .dataframe tbody tr th:only-of-type {\n",
       "        vertical-align: middle;\n",
       "    }\n",
       "\n",
       "    .dataframe tbody tr th {\n",
       "        vertical-align: top;\n",
       "    }\n",
       "\n",
       "    .dataframe thead th {\n",
       "        text-align: right;\n",
       "    }\n",
       "</style>\n",
       "<table border=\"1\" class=\"dataframe\">\n",
       "  <thead>\n",
       "    <tr style=\"text-align: right;\">\n",
       "      <th></th>\n",
       "      <th>Unnamed: 0</th>\n",
       "      <th>product_title</th>\n",
       "      <th>reviews</th>\n",
       "    </tr>\n",
       "  </thead>\n",
       "  <tbody>\n",
       "    <tr>\n",
       "      <th>0</th>\n",
       "      <td>0</td>\n",
       "      <td>APPLE iPhone 13 (Starlight, 128 GB) Reviews</td>\n",
       "      <td>Mind-blowing purchase</td>\n",
       "    </tr>\n",
       "    <tr>\n",
       "      <th>1</th>\n",
       "      <td>1</td>\n",
       "      <td>APPLE iPhone 13 (Starlight, 128 GB) Reviews</td>\n",
       "      <td>Very Good</td>\n",
       "    </tr>\n",
       "    <tr>\n",
       "      <th>2</th>\n",
       "      <td>2</td>\n",
       "      <td>APPLE iPhone 13 (Starlight, 128 GB) Reviews</td>\n",
       "      <td>Best in the market!</td>\n",
       "    </tr>\n",
       "    <tr>\n",
       "      <th>3</th>\n",
       "      <td>3</td>\n",
       "      <td>APPLE iPhone 13 (Starlight, 128 GB) Reviews</td>\n",
       "      <td>Excellent</td>\n",
       "    </tr>\n",
       "    <tr>\n",
       "      <th>4</th>\n",
       "      <td>4</td>\n",
       "      <td>APPLE iPhone 13 (Starlight, 128 GB) Reviews</td>\n",
       "      <td>Brilliant</td>\n",
       "    </tr>\n",
       "  </tbody>\n",
       "</table>\n",
       "</div>"
      ],
      "text/plain": [
       "   Unnamed: 0                                product_title  \\\n",
       "0           0  APPLE iPhone 13 (Starlight, 128 GB) Reviews   \n",
       "1           1  APPLE iPhone 13 (Starlight, 128 GB) Reviews   \n",
       "2           2  APPLE iPhone 13 (Starlight, 128 GB) Reviews   \n",
       "3           3  APPLE iPhone 13 (Starlight, 128 GB) Reviews   \n",
       "4           4  APPLE iPhone 13 (Starlight, 128 GB) Reviews   \n",
       "\n",
       "                 reviews  \n",
       "0  Mind-blowing purchase  \n",
       "1              Very Good  \n",
       "2    Best in the market!  \n",
       "3              Excellent  \n",
       "4              Brilliant  "
      ]
     },
     "execution_count": 25,
     "metadata": {},
     "output_type": "execute_result"
    }
   ],
   "source": [
    "df1=ps.read_csv(r\"C:\\Users\\Harshit\\Downloads\\iphone_1.csv\")\n",
    "df1.head()"
   ]
  },
  {
   "cell_type": "code",
   "execution_count": 26,
   "id": "b493ad61",
   "metadata": {},
   "outputs": [
    {
     "data": {
      "text/html": [
       "<div>\n",
       "<style scoped>\n",
       "    .dataframe tbody tr th:only-of-type {\n",
       "        vertical-align: middle;\n",
       "    }\n",
       "\n",
       "    .dataframe tbody tr th {\n",
       "        vertical-align: top;\n",
       "    }\n",
       "\n",
       "    .dataframe thead th {\n",
       "        text-align: right;\n",
       "    }\n",
       "</style>\n",
       "<table border=\"1\" class=\"dataframe\">\n",
       "  <thead>\n",
       "    <tr style=\"text-align: right;\">\n",
       "      <th></th>\n",
       "      <th>Unnamed: 0</th>\n",
       "      <th>product_title</th>\n",
       "      <th>reviews</th>\n",
       "    </tr>\n",
       "  </thead>\n",
       "  <tbody>\n",
       "    <tr>\n",
       "      <th>0</th>\n",
       "      <td>0</td>\n",
       "      <td>REDMI 10 Power (Sporty Orange, 128 GB) Reviews</td>\n",
       "      <td>Nice product</td>\n",
       "    </tr>\n",
       "    <tr>\n",
       "      <th>1</th>\n",
       "      <td>1</td>\n",
       "      <td>REDMI 10 Power (Sporty Orange, 128 GB) Reviews</td>\n",
       "      <td>Nice product</td>\n",
       "    </tr>\n",
       "    <tr>\n",
       "      <th>2</th>\n",
       "      <td>2</td>\n",
       "      <td>REDMI 10 Power (Sporty Orange, 128 GB) Reviews</td>\n",
       "      <td>Nice</td>\n",
       "    </tr>\n",
       "    <tr>\n",
       "      <th>3</th>\n",
       "      <td>3</td>\n",
       "      <td>REDMI 10 Power (Sporty Orange, 128 GB) Reviews</td>\n",
       "      <td>Delightful</td>\n",
       "    </tr>\n",
       "    <tr>\n",
       "      <th>4</th>\n",
       "      <td>4</td>\n",
       "      <td>REDMI 10 Power (Sporty Orange, 128 GB) Reviews</td>\n",
       "      <td>Moderate</td>\n",
       "    </tr>\n",
       "  </tbody>\n",
       "</table>\n",
       "</div>"
      ],
      "text/plain": [
       "   Unnamed: 0                                   product_title       reviews\n",
       "0           0  REDMI 10 Power (Sporty Orange, 128 GB) Reviews  Nice product\n",
       "1           1  REDMI 10 Power (Sporty Orange, 128 GB) Reviews  Nice product\n",
       "2           2  REDMI 10 Power (Sporty Orange, 128 GB) Reviews          Nice\n",
       "3           3  REDMI 10 Power (Sporty Orange, 128 GB) Reviews    Delightful\n",
       "4           4  REDMI 10 Power (Sporty Orange, 128 GB) Reviews      Moderate"
      ]
     },
     "execution_count": 26,
     "metadata": {},
     "output_type": "execute_result"
    }
   ],
   "source": [
    "df2=ps.read_csv(r\"C:\\Users\\Harshit\\Downloads\\mi_mobiles.csv\")\n",
    "df2.head()"
   ]
  },
  {
   "cell_type": "code",
   "execution_count": 27,
   "id": "d81dcf48",
   "metadata": {},
   "outputs": [
    {
     "data": {
      "text/html": [
       "<div>\n",
       "<style scoped>\n",
       "    .dataframe tbody tr th:only-of-type {\n",
       "        vertical-align: middle;\n",
       "    }\n",
       "\n",
       "    .dataframe tbody tr th {\n",
       "        vertical-align: top;\n",
       "    }\n",
       "\n",
       "    .dataframe thead th {\n",
       "        text-align: right;\n",
       "    }\n",
       "</style>\n",
       "<table border=\"1\" class=\"dataframe\">\n",
       "  <thead>\n",
       "    <tr style=\"text-align: right;\">\n",
       "      <th></th>\n",
       "      <th>Unnamed: 0</th>\n",
       "      <th>product_title</th>\n",
       "      <th>reviews</th>\n",
       "    </tr>\n",
       "  </thead>\n",
       "  <tbody>\n",
       "    <tr>\n",
       "      <th>0</th>\n",
       "      <td>0</td>\n",
       "      <td>OnePlus Nord CE 2 Lite 5G (Blue Tide, 128 GB) ...</td>\n",
       "      <td>Must buy!</td>\n",
       "    </tr>\n",
       "    <tr>\n",
       "      <th>1</th>\n",
       "      <td>1</td>\n",
       "      <td>OnePlus Nord CE 2 Lite 5G (Blue Tide, 128 GB) ...</td>\n",
       "      <td>Delightful</td>\n",
       "    </tr>\n",
       "    <tr>\n",
       "      <th>2</th>\n",
       "      <td>2</td>\n",
       "      <td>OnePlus Nord CE 2 Lite 5G (Blue Tide, 128 GB) ...</td>\n",
       "      <td>Nice product</td>\n",
       "    </tr>\n",
       "    <tr>\n",
       "      <th>3</th>\n",
       "      <td>3</td>\n",
       "      <td>OnePlus Nord CE 2 Lite 5G (Blue Tide, 128 GB) ...</td>\n",
       "      <td>Decent product</td>\n",
       "    </tr>\n",
       "    <tr>\n",
       "      <th>4</th>\n",
       "      <td>4</td>\n",
       "      <td>OnePlus Nord CE 2 Lite 5G (Blue Tide, 128 GB) ...</td>\n",
       "      <td>Nice product</td>\n",
       "    </tr>\n",
       "  </tbody>\n",
       "</table>\n",
       "</div>"
      ],
      "text/plain": [
       "   Unnamed: 0                                      product_title  \\\n",
       "0           0  OnePlus Nord CE 2 Lite 5G (Blue Tide, 128 GB) ...   \n",
       "1           1  OnePlus Nord CE 2 Lite 5G (Blue Tide, 128 GB) ...   \n",
       "2           2  OnePlus Nord CE 2 Lite 5G (Blue Tide, 128 GB) ...   \n",
       "3           3  OnePlus Nord CE 2 Lite 5G (Blue Tide, 128 GB) ...   \n",
       "4           4  OnePlus Nord CE 2 Lite 5G (Blue Tide, 128 GB) ...   \n",
       "\n",
       "          reviews  \n",
       "0       Must buy!  \n",
       "1      Delightful  \n",
       "2    Nice product  \n",
       "3  Decent product  \n",
       "4    Nice product  "
      ]
     },
     "execution_count": 27,
     "metadata": {},
     "output_type": "execute_result"
    }
   ],
   "source": [
    "df3=ps.read_csv(r\"C:\\Users\\Harshit\\Downloads\\oneplusmobile.csv\")\n",
    "df3.head()"
   ]
  },
  {
   "cell_type": "code",
   "execution_count": 28,
   "id": "822392ae",
   "metadata": {},
   "outputs": [
    {
     "data": {
      "text/html": [
       "<div>\n",
       "<style scoped>\n",
       "    .dataframe tbody tr th:only-of-type {\n",
       "        vertical-align: middle;\n",
       "    }\n",
       "\n",
       "    .dataframe tbody tr th {\n",
       "        vertical-align: top;\n",
       "    }\n",
       "\n",
       "    .dataframe thead th {\n",
       "        text-align: right;\n",
       "    }\n",
       "</style>\n",
       "<table border=\"1\" class=\"dataframe\">\n",
       "  <thead>\n",
       "    <tr style=\"text-align: right;\">\n",
       "      <th></th>\n",
       "      <th>Unnamed: 0</th>\n",
       "      <th>product_title</th>\n",
       "      <th>reviews</th>\n",
       "    </tr>\n",
       "  </thead>\n",
       "  <tbody>\n",
       "    <tr>\n",
       "      <th>0</th>\n",
       "      <td>0</td>\n",
       "      <td>APPLE iPhone 13 (Starlight, 128 GB) Reviews</td>\n",
       "      <td>Perfect product!</td>\n",
       "    </tr>\n",
       "    <tr>\n",
       "      <th>1</th>\n",
       "      <td>1</td>\n",
       "      <td>APPLE iPhone 13 (Starlight, 128 GB) Reviews</td>\n",
       "      <td>Perfect product!</td>\n",
       "    </tr>\n",
       "    <tr>\n",
       "      <th>2</th>\n",
       "      <td>2</td>\n",
       "      <td>APPLE iPhone 13 (Starlight, 128 GB) Reviews</td>\n",
       "      <td>Excellent</td>\n",
       "    </tr>\n",
       "    <tr>\n",
       "      <th>3</th>\n",
       "      <td>3</td>\n",
       "      <td>APPLE iPhone 13 (Starlight, 128 GB) Reviews</td>\n",
       "      <td>Brilliant</td>\n",
       "    </tr>\n",
       "    <tr>\n",
       "      <th>4</th>\n",
       "      <td>4</td>\n",
       "      <td>APPLE iPhone 13 (Starlight, 128 GB) Reviews</td>\n",
       "      <td>Fabulous!</td>\n",
       "    </tr>\n",
       "  </tbody>\n",
       "</table>\n",
       "</div>"
      ],
      "text/plain": [
       "   Unnamed: 0                                product_title           reviews\n",
       "0           0  APPLE iPhone 13 (Starlight, 128 GB) Reviews  Perfect product!\n",
       "1           1  APPLE iPhone 13 (Starlight, 128 GB) Reviews  Perfect product!\n",
       "2           2  APPLE iPhone 13 (Starlight, 128 GB) Reviews         Excellent\n",
       "3           3  APPLE iPhone 13 (Starlight, 128 GB) Reviews         Brilliant\n",
       "4           4  APPLE iPhone 13 (Starlight, 128 GB) Reviews         Fabulous!"
      ]
     },
     "execution_count": 28,
     "metadata": {},
     "output_type": "execute_result"
    }
   ],
   "source": [
    "df4=ps.read_csv(r\"C:\\Users\\Harshit\\Downloads\\iphone.csv\")\n",
    "df4.head()"
   ]
  },
  {
   "cell_type": "code",
   "execution_count": 29,
   "id": "e79a225a",
   "metadata": {},
   "outputs": [
    {
     "data": {
      "text/html": [
       "<div>\n",
       "<style scoped>\n",
       "    .dataframe tbody tr th:only-of-type {\n",
       "        vertical-align: middle;\n",
       "    }\n",
       "\n",
       "    .dataframe tbody tr th {\n",
       "        vertical-align: top;\n",
       "    }\n",
       "\n",
       "    .dataframe thead th {\n",
       "        text-align: right;\n",
       "    }\n",
       "</style>\n",
       "<table border=\"1\" class=\"dataframe\">\n",
       "  <thead>\n",
       "    <tr style=\"text-align: right;\">\n",
       "      <th></th>\n",
       "      <th>Unnamed: 0</th>\n",
       "      <th>product_title</th>\n",
       "      <th>reviews</th>\n",
       "    </tr>\n",
       "  </thead>\n",
       "  <tbody>\n",
       "    <tr>\n",
       "      <th>0</th>\n",
       "      <td>0</td>\n",
       "      <td>SAMSUNG Crystal 4K 108 cm (43 inch) Ultra HD (...</td>\n",
       "      <td>Perfect product!</td>\n",
       "    </tr>\n",
       "    <tr>\n",
       "      <th>1</th>\n",
       "      <td>1</td>\n",
       "      <td>SAMSUNG Crystal 4K 108 cm (43 inch) Ultra HD (...</td>\n",
       "      <td>Perfect product!</td>\n",
       "    </tr>\n",
       "    <tr>\n",
       "      <th>2</th>\n",
       "      <td>2</td>\n",
       "      <td>SAMSUNG Crystal 4K 108 cm (43 inch) Ultra HD (...</td>\n",
       "      <td>Awesome</td>\n",
       "    </tr>\n",
       "    <tr>\n",
       "      <th>3</th>\n",
       "      <td>3</td>\n",
       "      <td>SAMSUNG Crystal 4K 108 cm (43 inch) Ultra HD (...</td>\n",
       "      <td>Super!</td>\n",
       "    </tr>\n",
       "    <tr>\n",
       "      <th>4</th>\n",
       "      <td>4</td>\n",
       "      <td>SAMSUNG Crystal 4K 108 cm (43 inch) Ultra HD (...</td>\n",
       "      <td>Good quality product</td>\n",
       "    </tr>\n",
       "  </tbody>\n",
       "</table>\n",
       "</div>"
      ],
      "text/plain": [
       "   Unnamed: 0                                      product_title  \\\n",
       "0           0  SAMSUNG Crystal 4K 108 cm (43 inch) Ultra HD (...   \n",
       "1           1  SAMSUNG Crystal 4K 108 cm (43 inch) Ultra HD (...   \n",
       "2           2  SAMSUNG Crystal 4K 108 cm (43 inch) Ultra HD (...   \n",
       "3           3  SAMSUNG Crystal 4K 108 cm (43 inch) Ultra HD (...   \n",
       "4           4  SAMSUNG Crystal 4K 108 cm (43 inch) Ultra HD (...   \n",
       "\n",
       "                reviews  \n",
       "0      Perfect product!  \n",
       "1      Perfect product!  \n",
       "2               Awesome  \n",
       "3                Super!  \n",
       "4  Good quality product  "
      ]
     },
     "execution_count": 29,
     "metadata": {},
     "output_type": "execute_result"
    }
   ],
   "source": [
    "df5=ps.read_csv(r\"C:\\Users\\Harshit\\Downloads\\samsungtv.csv\")\n",
    "df5.head()"
   ]
  },
  {
   "cell_type": "code",
   "execution_count": 30,
   "id": "05825a6b",
   "metadata": {},
   "outputs": [
    {
     "data": {
      "text/html": [
       "<div>\n",
       "<style scoped>\n",
       "    .dataframe tbody tr th:only-of-type {\n",
       "        vertical-align: middle;\n",
       "    }\n",
       "\n",
       "    .dataframe tbody tr th {\n",
       "        vertical-align: top;\n",
       "    }\n",
       "\n",
       "    .dataframe thead th {\n",
       "        text-align: right;\n",
       "    }\n",
       "</style>\n",
       "<table border=\"1\" class=\"dataframe\">\n",
       "  <thead>\n",
       "    <tr style=\"text-align: right;\">\n",
       "      <th></th>\n",
       "      <th>Unnamed: 0</th>\n",
       "      <th>product_title</th>\n",
       "      <th>reviews</th>\n",
       "    </tr>\n",
       "  </thead>\n",
       "  <tbody>\n",
       "    <tr>\n",
       "      <th>0</th>\n",
       "      <td>0</td>\n",
       "      <td>APPLE iPhone 13 (Midnight, 128 GB) Reviews</td>\n",
       "      <td>Perfect product!</td>\n",
       "    </tr>\n",
       "    <tr>\n",
       "      <th>1</th>\n",
       "      <td>1</td>\n",
       "      <td>APPLE iPhone 13 (Midnight, 128 GB) Reviews</td>\n",
       "      <td>Perfect product!</td>\n",
       "    </tr>\n",
       "    <tr>\n",
       "      <th>2</th>\n",
       "      <td>2</td>\n",
       "      <td>APPLE iPhone 13 (Midnight, 128 GB) Reviews</td>\n",
       "      <td>Brilliant</td>\n",
       "    </tr>\n",
       "    <tr>\n",
       "      <th>3</th>\n",
       "      <td>3</td>\n",
       "      <td>APPLE iPhone 13 (Midnight, 128 GB) Reviews</td>\n",
       "      <td>Excellent</td>\n",
       "    </tr>\n",
       "    <tr>\n",
       "      <th>4</th>\n",
       "      <td>4</td>\n",
       "      <td>APPLE iPhone 13 (Midnight, 128 GB) Reviews</td>\n",
       "      <td>Fabulous!</td>\n",
       "    </tr>\n",
       "  </tbody>\n",
       "</table>\n",
       "</div>"
      ],
      "text/plain": [
       "   Unnamed: 0                               product_title           reviews\n",
       "0           0  APPLE iPhone 13 (Midnight, 128 GB) Reviews  Perfect product!\n",
       "1           1  APPLE iPhone 13 (Midnight, 128 GB) Reviews  Perfect product!\n",
       "2           2  APPLE iPhone 13 (Midnight, 128 GB) Reviews         Brilliant\n",
       "3           3  APPLE iPhone 13 (Midnight, 128 GB) Reviews         Excellent\n",
       "4           4  APPLE iPhone 13 (Midnight, 128 GB) Reviews         Fabulous!"
      ]
     },
     "execution_count": 30,
     "metadata": {},
     "output_type": "execute_result"
    }
   ],
   "source": [
    "df6=ps.read_csv(r\"C:\\Users\\Harshit\\Downloads\\jabbaaaa.csv\")\n",
    "df6.head()"
   ]
  },
  {
   "cell_type": "code",
   "execution_count": 31,
   "id": "abb0563e",
   "metadata": {},
   "outputs": [
    {
     "data": {
      "text/html": [
       "<div>\n",
       "<style scoped>\n",
       "    .dataframe tbody tr th:only-of-type {\n",
       "        vertical-align: middle;\n",
       "    }\n",
       "\n",
       "    .dataframe tbody tr th {\n",
       "        vertical-align: top;\n",
       "    }\n",
       "\n",
       "    .dataframe thead th {\n",
       "        text-align: right;\n",
       "    }\n",
       "</style>\n",
       "<table border=\"1\" class=\"dataframe\">\n",
       "  <thead>\n",
       "    <tr style=\"text-align: right;\">\n",
       "      <th></th>\n",
       "      <th>Unnamed: 0</th>\n",
       "      <th>product_title</th>\n",
       "      <th>reviews</th>\n",
       "    </tr>\n",
       "  </thead>\n",
       "  <tbody>\n",
       "    <tr>\n",
       "      <th>0</th>\n",
       "      <td>0</td>\n",
       "      <td>Vu Premium TV 108 cm (43 inch) Full HD LED Sma...</td>\n",
       "      <td>Simply awesome</td>\n",
       "    </tr>\n",
       "    <tr>\n",
       "      <th>1</th>\n",
       "      <td>1</td>\n",
       "      <td>Vu Premium TV 108 cm (43 inch) Full HD LED Sma...</td>\n",
       "      <td>Terrific</td>\n",
       "    </tr>\n",
       "    <tr>\n",
       "      <th>2</th>\n",
       "      <td>2</td>\n",
       "      <td>Vu Premium TV 108 cm (43 inch) Full HD LED Sma...</td>\n",
       "      <td>Wonderful</td>\n",
       "    </tr>\n",
       "    <tr>\n",
       "      <th>3</th>\n",
       "      <td>3</td>\n",
       "      <td>Vu Premium TV 108 cm (43 inch) Full HD LED Sma...</td>\n",
       "      <td>Highly recommended</td>\n",
       "    </tr>\n",
       "    <tr>\n",
       "      <th>4</th>\n",
       "      <td>4</td>\n",
       "      <td>Vu Premium TV 108 cm (43 inch) Full HD LED Sma...</td>\n",
       "      <td>Don't waste your money</td>\n",
       "    </tr>\n",
       "    <tr>\n",
       "      <th>5</th>\n",
       "      <td>5</td>\n",
       "      <td>Vu Premium TV 108 cm (43 inch) Full HD LED Sma...</td>\n",
       "      <td>Did not meet expectations</td>\n",
       "    </tr>\n",
       "    <tr>\n",
       "      <th>6</th>\n",
       "      <td>6</td>\n",
       "      <td>Vu Premium TV 108 cm (43 inch) Full HD LED Sma...</td>\n",
       "      <td>Really Nice</td>\n",
       "    </tr>\n",
       "    <tr>\n",
       "      <th>7</th>\n",
       "      <td>7</td>\n",
       "      <td>Vu Premium TV 108 cm (43 inch) Full HD LED Sma...</td>\n",
       "      <td>Worth every penny</td>\n",
       "    </tr>\n",
       "    <tr>\n",
       "      <th>8</th>\n",
       "      <td>8</td>\n",
       "      <td>Vu Premium TV 108 cm (43 inch) Full HD LED Sma...</td>\n",
       "      <td>Wonderful</td>\n",
       "    </tr>\n",
       "    <tr>\n",
       "      <th>9</th>\n",
       "      <td>9</td>\n",
       "      <td>Vu Premium TV 108 cm (43 inch) Full HD LED Sma...</td>\n",
       "      <td>Classy product</td>\n",
       "    </tr>\n",
       "  </tbody>\n",
       "</table>\n",
       "</div>"
      ],
      "text/plain": [
       "   Unnamed: 0                                      product_title  \\\n",
       "0           0  Vu Premium TV 108 cm (43 inch) Full HD LED Sma...   \n",
       "1           1  Vu Premium TV 108 cm (43 inch) Full HD LED Sma...   \n",
       "2           2  Vu Premium TV 108 cm (43 inch) Full HD LED Sma...   \n",
       "3           3  Vu Premium TV 108 cm (43 inch) Full HD LED Sma...   \n",
       "4           4  Vu Premium TV 108 cm (43 inch) Full HD LED Sma...   \n",
       "5           5  Vu Premium TV 108 cm (43 inch) Full HD LED Sma...   \n",
       "6           6  Vu Premium TV 108 cm (43 inch) Full HD LED Sma...   \n",
       "7           7  Vu Premium TV 108 cm (43 inch) Full HD LED Sma...   \n",
       "8           8  Vu Premium TV 108 cm (43 inch) Full HD LED Sma...   \n",
       "9           9  Vu Premium TV 108 cm (43 inch) Full HD LED Sma...   \n",
       "\n",
       "                     reviews  \n",
       "0             Simply awesome  \n",
       "1                   Terrific  \n",
       "2                  Wonderful  \n",
       "3         Highly recommended  \n",
       "4     Don't waste your money  \n",
       "5  Did not meet expectations  \n",
       "6                Really Nice  \n",
       "7          Worth every penny  \n",
       "8                  Wonderful  \n",
       "9             Classy product  "
      ]
     },
     "execution_count": 31,
     "metadata": {},
     "output_type": "execute_result"
    }
   ],
   "source": [
    "df7=ps.read_csv(r\"C:\\Users\\Harshit\\Downloads\\vu.csv\")\n",
    "df7.head(10)"
   ]
  },
  {
   "cell_type": "code",
   "execution_count": 32,
   "id": "225ee069",
   "metadata": {},
   "outputs": [
    {
     "data": {
      "text/html": [
       "<div>\n",
       "<style scoped>\n",
       "    .dataframe tbody tr th:only-of-type {\n",
       "        vertical-align: middle;\n",
       "    }\n",
       "\n",
       "    .dataframe tbody tr th {\n",
       "        vertical-align: top;\n",
       "    }\n",
       "\n",
       "    .dataframe thead th {\n",
       "        text-align: right;\n",
       "    }\n",
       "</style>\n",
       "<table border=\"1\" class=\"dataframe\">\n",
       "  <thead>\n",
       "    <tr style=\"text-align: right;\">\n",
       "      <th></th>\n",
       "      <th>Unnamed: 0</th>\n",
       "      <th>product_title</th>\n",
       "      <th>reviews</th>\n",
       "    </tr>\n",
       "  </thead>\n",
       "  <tbody>\n",
       "    <tr>\n",
       "      <th>0</th>\n",
       "      <td>0</td>\n",
       "      <td>Primebook 4G Android Based MediaTek MT8788 - (...</td>\n",
       "      <td>Simply awesome</td>\n",
       "    </tr>\n",
       "    <tr>\n",
       "      <th>1</th>\n",
       "      <td>1</td>\n",
       "      <td>Primebook 4G Android Based MediaTek MT8788 - (...</td>\n",
       "      <td>Terrific</td>\n",
       "    </tr>\n",
       "    <tr>\n",
       "      <th>2</th>\n",
       "      <td>2</td>\n",
       "      <td>Primebook 4G Android Based MediaTek MT8788 - (...</td>\n",
       "      <td>Awesome</td>\n",
       "    </tr>\n",
       "    <tr>\n",
       "      <th>3</th>\n",
       "      <td>3</td>\n",
       "      <td>Primebook 4G Android Based MediaTek MT8788 - (...</td>\n",
       "      <td>Worth every penny</td>\n",
       "    </tr>\n",
       "    <tr>\n",
       "      <th>4</th>\n",
       "      <td>4</td>\n",
       "      <td>Primebook 4G Android Based MediaTek MT8788 - (...</td>\n",
       "      <td>Very Good</td>\n",
       "    </tr>\n",
       "    <tr>\n",
       "      <th>5</th>\n",
       "      <td>5</td>\n",
       "      <td>Primebook 4G Android Based MediaTek MT8788 - (...</td>\n",
       "      <td>Fabulous!</td>\n",
       "    </tr>\n",
       "    <tr>\n",
       "      <th>6</th>\n",
       "      <td>6</td>\n",
       "      <td>Primebook 4G Android Based MediaTek MT8788 - (...</td>\n",
       "      <td>Terrific</td>\n",
       "    </tr>\n",
       "    <tr>\n",
       "      <th>7</th>\n",
       "      <td>7</td>\n",
       "      <td>Primebook 4G Android Based MediaTek MT8788 - (...</td>\n",
       "      <td>Super!</td>\n",
       "    </tr>\n",
       "    <tr>\n",
       "      <th>8</th>\n",
       "      <td>8</td>\n",
       "      <td>Primebook 4G Android Based MediaTek MT8788 - (...</td>\n",
       "      <td>Must buy!</td>\n",
       "    </tr>\n",
       "    <tr>\n",
       "      <th>9</th>\n",
       "      <td>9</td>\n",
       "      <td>Primebook 4G Android Based MediaTek MT8788 - (...</td>\n",
       "      <td>Awesome</td>\n",
       "    </tr>\n",
       "  </tbody>\n",
       "</table>\n",
       "</div>"
      ],
      "text/plain": [
       "   Unnamed: 0                                      product_title  \\\n",
       "0           0  Primebook 4G Android Based MediaTek MT8788 - (...   \n",
       "1           1  Primebook 4G Android Based MediaTek MT8788 - (...   \n",
       "2           2  Primebook 4G Android Based MediaTek MT8788 - (...   \n",
       "3           3  Primebook 4G Android Based MediaTek MT8788 - (...   \n",
       "4           4  Primebook 4G Android Based MediaTek MT8788 - (...   \n",
       "5           5  Primebook 4G Android Based MediaTek MT8788 - (...   \n",
       "6           6  Primebook 4G Android Based MediaTek MT8788 - (...   \n",
       "7           7  Primebook 4G Android Based MediaTek MT8788 - (...   \n",
       "8           8  Primebook 4G Android Based MediaTek MT8788 - (...   \n",
       "9           9  Primebook 4G Android Based MediaTek MT8788 - (...   \n",
       "\n",
       "             reviews  \n",
       "0     Simply awesome  \n",
       "1           Terrific  \n",
       "2            Awesome  \n",
       "3  Worth every penny  \n",
       "4          Very Good  \n",
       "5          Fabulous!  \n",
       "6           Terrific  \n",
       "7             Super!  \n",
       "8          Must buy!  \n",
       "9            Awesome  "
      ]
     },
     "execution_count": 32,
     "metadata": {},
     "output_type": "execute_result"
    }
   ],
   "source": [
    "df8=ps.read_csv(r\"C:\\Users\\Harshit\\Downloads\\laptops.csv\")\n",
    "df8.head(10)"
   ]
  },
  {
   "cell_type": "code",
   "execution_count": 33,
   "id": "29197889",
   "metadata": {},
   "outputs": [
    {
     "data": {
      "text/html": [
       "<div>\n",
       "<style scoped>\n",
       "    .dataframe tbody tr th:only-of-type {\n",
       "        vertical-align: middle;\n",
       "    }\n",
       "\n",
       "    .dataframe tbody tr th {\n",
       "        vertical-align: top;\n",
       "    }\n",
       "\n",
       "    .dataframe thead th {\n",
       "        text-align: right;\n",
       "    }\n",
       "</style>\n",
       "<table border=\"1\" class=\"dataframe\">\n",
       "  <thead>\n",
       "    <tr style=\"text-align: right;\">\n",
       "      <th></th>\n",
       "      <th>Unnamed: 0</th>\n",
       "      <th>product_title</th>\n",
       "      <th>reviews</th>\n",
       "    </tr>\n",
       "  </thead>\n",
       "  <tbody>\n",
       "    <tr>\n",
       "      <th>0</th>\n",
       "      <td>0</td>\n",
       "      <td>LG AI Convertible 6-in-1 Cooling 2023 Model 1....</td>\n",
       "      <td>Pretty good</td>\n",
       "    </tr>\n",
       "    <tr>\n",
       "      <th>1</th>\n",
       "      <td>1</td>\n",
       "      <td>LG AI Convertible 6-in-1 Cooling 2023 Model 1....</td>\n",
       "      <td>Perfect product!</td>\n",
       "    </tr>\n",
       "    <tr>\n",
       "      <th>2</th>\n",
       "      <td>2</td>\n",
       "      <td>LG AI Convertible 6-in-1 Cooling 2023 Model 1....</td>\n",
       "      <td>Must buy!</td>\n",
       "    </tr>\n",
       "    <tr>\n",
       "      <th>3</th>\n",
       "      <td>3</td>\n",
       "      <td>LG AI Convertible 6-in-1 Cooling 2023 Model 1....</td>\n",
       "      <td>Super!</td>\n",
       "    </tr>\n",
       "    <tr>\n",
       "      <th>4</th>\n",
       "      <td>4</td>\n",
       "      <td>LG AI Convertible 6-in-1 Cooling 2023 Model 1....</td>\n",
       "      <td>Value-for-money</td>\n",
       "    </tr>\n",
       "    <tr>\n",
       "      <th>5</th>\n",
       "      <td>5</td>\n",
       "      <td>LG AI Convertible 6-in-1 Cooling 2023 Model 1....</td>\n",
       "      <td>Classy product</td>\n",
       "    </tr>\n",
       "    <tr>\n",
       "      <th>6</th>\n",
       "      <td>6</td>\n",
       "      <td>LG AI Convertible 6-in-1 Cooling 2023 Model 1....</td>\n",
       "      <td>Very Good</td>\n",
       "    </tr>\n",
       "    <tr>\n",
       "      <th>7</th>\n",
       "      <td>7</td>\n",
       "      <td>LG AI Convertible 6-in-1 Cooling 2023 Model 1....</td>\n",
       "      <td>Excellent</td>\n",
       "    </tr>\n",
       "    <tr>\n",
       "      <th>8</th>\n",
       "      <td>8</td>\n",
       "      <td>LG AI Convertible 6-in-1 Cooling 2023 Model 1....</td>\n",
       "      <td>Super!</td>\n",
       "    </tr>\n",
       "    <tr>\n",
       "      <th>9</th>\n",
       "      <td>9</td>\n",
       "      <td>LG AI Convertible 6-in-1 Cooling 2023 Model 1....</td>\n",
       "      <td>Fabulous!</td>\n",
       "    </tr>\n",
       "  </tbody>\n",
       "</table>\n",
       "</div>"
      ],
      "text/plain": [
       "   Unnamed: 0                                      product_title  \\\n",
       "0           0  LG AI Convertible 6-in-1 Cooling 2023 Model 1....   \n",
       "1           1  LG AI Convertible 6-in-1 Cooling 2023 Model 1....   \n",
       "2           2  LG AI Convertible 6-in-1 Cooling 2023 Model 1....   \n",
       "3           3  LG AI Convertible 6-in-1 Cooling 2023 Model 1....   \n",
       "4           4  LG AI Convertible 6-in-1 Cooling 2023 Model 1....   \n",
       "5           5  LG AI Convertible 6-in-1 Cooling 2023 Model 1....   \n",
       "6           6  LG AI Convertible 6-in-1 Cooling 2023 Model 1....   \n",
       "7           7  LG AI Convertible 6-in-1 Cooling 2023 Model 1....   \n",
       "8           8  LG AI Convertible 6-in-1 Cooling 2023 Model 1....   \n",
       "9           9  LG AI Convertible 6-in-1 Cooling 2023 Model 1....   \n",
       "\n",
       "            reviews  \n",
       "0       Pretty good  \n",
       "1  Perfect product!  \n",
       "2         Must buy!  \n",
       "3            Super!  \n",
       "4   Value-for-money  \n",
       "5    Classy product  \n",
       "6         Very Good  \n",
       "7         Excellent  \n",
       "8            Super!  \n",
       "9         Fabulous!  "
      ]
     },
     "execution_count": 33,
     "metadata": {},
     "output_type": "execute_result"
    }
   ],
   "source": [
    "df9=ps.read_csv(r\"C:\\Users\\Harshit\\Downloads\\LG.csv\")\n",
    "df9.head(10)"
   ]
  },
  {
   "cell_type": "code",
   "execution_count": 34,
   "id": "c1fe1339",
   "metadata": {
    "scrolled": true
   },
   "outputs": [
    {
     "data": {
      "text/html": [
       "<div>\n",
       "<style scoped>\n",
       "    .dataframe tbody tr th:only-of-type {\n",
       "        vertical-align: middle;\n",
       "    }\n",
       "\n",
       "    .dataframe tbody tr th {\n",
       "        vertical-align: top;\n",
       "    }\n",
       "\n",
       "    .dataframe thead th {\n",
       "        text-align: right;\n",
       "    }\n",
       "</style>\n",
       "<table border=\"1\" class=\"dataframe\">\n",
       "  <thead>\n",
       "    <tr style=\"text-align: right;\">\n",
       "      <th></th>\n",
       "      <th>Unnamed: 0</th>\n",
       "      <th>product_title</th>\n",
       "      <th>reviews</th>\n",
       "    </tr>\n",
       "  </thead>\n",
       "  <tbody>\n",
       "    <tr>\n",
       "      <th>0</th>\n",
       "      <td>0</td>\n",
       "      <td>IFB 9 kg 2X Power Dual Steam, Hard Water Wash,...</td>\n",
       "      <td>Fabulous!</td>\n",
       "    </tr>\n",
       "    <tr>\n",
       "      <th>1</th>\n",
       "      <td>1</td>\n",
       "      <td>IFB 9 kg 2X Power Dual Steam, Hard Water Wash,...</td>\n",
       "      <td>Must buy!</td>\n",
       "    </tr>\n",
       "    <tr>\n",
       "      <th>2</th>\n",
       "      <td>2</td>\n",
       "      <td>IFB 9 kg 2X Power Dual Steam, Hard Water Wash,...</td>\n",
       "      <td>Nice</td>\n",
       "    </tr>\n",
       "    <tr>\n",
       "      <th>3</th>\n",
       "      <td>3</td>\n",
       "      <td>IFB 9 kg 2X Power Dual Steam, Hard Water Wash,...</td>\n",
       "      <td>Best in the market!</td>\n",
       "    </tr>\n",
       "    <tr>\n",
       "      <th>4</th>\n",
       "      <td>4</td>\n",
       "      <td>IFB 9 kg 2X Power Dual Steam, Hard Water Wash,...</td>\n",
       "      <td>Hated it!</td>\n",
       "    </tr>\n",
       "    <tr>\n",
       "      <th>5</th>\n",
       "      <td>5</td>\n",
       "      <td>IFB 9 kg 2X Power Dual Steam, Hard Water Wash,...</td>\n",
       "      <td>Fabulous!</td>\n",
       "    </tr>\n",
       "    <tr>\n",
       "      <th>6</th>\n",
       "      <td>6</td>\n",
       "      <td>IFB 9 kg 2X Power Dual Steam, Hard Water Wash,...</td>\n",
       "      <td>Fabulous!</td>\n",
       "    </tr>\n",
       "    <tr>\n",
       "      <th>7</th>\n",
       "      <td>7</td>\n",
       "      <td>IFB 9 kg 2X Power Dual Steam, Hard Water Wash,...</td>\n",
       "      <td>Classy product</td>\n",
       "    </tr>\n",
       "    <tr>\n",
       "      <th>8</th>\n",
       "      <td>8</td>\n",
       "      <td>IFB 9 kg 2X Power Dual Steam, Hard Water Wash,...</td>\n",
       "      <td>Fabulous!</td>\n",
       "    </tr>\n",
       "    <tr>\n",
       "      <th>9</th>\n",
       "      <td>9</td>\n",
       "      <td>IFB 9 kg 2X Power Dual Steam, Hard Water Wash,...</td>\n",
       "      <td>Wonderful</td>\n",
       "    </tr>\n",
       "  </tbody>\n",
       "</table>\n",
       "</div>"
      ],
      "text/plain": [
       "   Unnamed: 0                                      product_title  \\\n",
       "0           0  IFB 9 kg 2X Power Dual Steam, Hard Water Wash,...   \n",
       "1           1  IFB 9 kg 2X Power Dual Steam, Hard Water Wash,...   \n",
       "2           2  IFB 9 kg 2X Power Dual Steam, Hard Water Wash,...   \n",
       "3           3  IFB 9 kg 2X Power Dual Steam, Hard Water Wash,...   \n",
       "4           4  IFB 9 kg 2X Power Dual Steam, Hard Water Wash,...   \n",
       "5           5  IFB 9 kg 2X Power Dual Steam, Hard Water Wash,...   \n",
       "6           6  IFB 9 kg 2X Power Dual Steam, Hard Water Wash,...   \n",
       "7           7  IFB 9 kg 2X Power Dual Steam, Hard Water Wash,...   \n",
       "8           8  IFB 9 kg 2X Power Dual Steam, Hard Water Wash,...   \n",
       "9           9  IFB 9 kg 2X Power Dual Steam, Hard Water Wash,...   \n",
       "\n",
       "               reviews  \n",
       "0            Fabulous!  \n",
       "1            Must buy!  \n",
       "2                 Nice  \n",
       "3  Best in the market!  \n",
       "4            Hated it!  \n",
       "5            Fabulous!  \n",
       "6            Fabulous!  \n",
       "7       Classy product  \n",
       "8            Fabulous!  \n",
       "9            Wonderful  "
      ]
     },
     "execution_count": 34,
     "metadata": {},
     "output_type": "execute_result"
    }
   ],
   "source": [
    "df10=ps.read_csv(r\"C:\\Users\\Harshit\\Downloads\\IFB.csv\")\n",
    "df10.head(10)"
   ]
  },
  {
   "cell_type": "code",
   "execution_count": 35,
   "id": "e1472cf1",
   "metadata": {},
   "outputs": [
    {
     "data": {
      "text/html": [
       "<div>\n",
       "<style scoped>\n",
       "    .dataframe tbody tr th:only-of-type {\n",
       "        vertical-align: middle;\n",
       "    }\n",
       "\n",
       "    .dataframe tbody tr th {\n",
       "        vertical-align: top;\n",
       "    }\n",
       "\n",
       "    .dataframe thead th {\n",
       "        text-align: right;\n",
       "    }\n",
       "</style>\n",
       "<table border=\"1\" class=\"dataframe\">\n",
       "  <thead>\n",
       "    <tr style=\"text-align: right;\">\n",
       "      <th></th>\n",
       "      <th>Unnamed: 0</th>\n",
       "      <th>product_title</th>\n",
       "      <th>reviews</th>\n",
       "    </tr>\n",
       "  </thead>\n",
       "  <tbody>\n",
       "    <tr>\n",
       "      <th>0</th>\n",
       "      <td>0</td>\n",
       "      <td>IFB 8 kg 5 Star 9 Swirl AI Powered with Wi-Fi ...</td>\n",
       "      <td>Delightful</td>\n",
       "    </tr>\n",
       "    <tr>\n",
       "      <th>1</th>\n",
       "      <td>1</td>\n",
       "      <td>IFB 8 kg 5 Star 9 Swirl AI Powered with Wi-Fi ...</td>\n",
       "      <td>Best in the market!</td>\n",
       "    </tr>\n",
       "    <tr>\n",
       "      <th>2</th>\n",
       "      <td>2</td>\n",
       "      <td>IFB 8 kg 5 Star 9 Swirl AI Powered with Wi-Fi ...</td>\n",
       "      <td>Must buy!</td>\n",
       "    </tr>\n",
       "    <tr>\n",
       "      <th>3</th>\n",
       "      <td>3</td>\n",
       "      <td>IFB 8 kg 5 Star 9 Swirl AI Powered with Wi-Fi ...</td>\n",
       "      <td>Great product</td>\n",
       "    </tr>\n",
       "    <tr>\n",
       "      <th>4</th>\n",
       "      <td>4</td>\n",
       "      <td>IFB 8 kg 5 Star 9 Swirl AI Powered with Wi-Fi ...</td>\n",
       "      <td>Really Nice</td>\n",
       "    </tr>\n",
       "    <tr>\n",
       "      <th>5</th>\n",
       "      <td>5</td>\n",
       "      <td>IFB 8 kg 5 Star 9 Swirl AI Powered with Wi-Fi ...</td>\n",
       "      <td>Mind-blowing purchase</td>\n",
       "    </tr>\n",
       "    <tr>\n",
       "      <th>6</th>\n",
       "      <td>6</td>\n",
       "      <td>IFB 8 kg 5 Star 9 Swirl AI Powered with Wi-Fi ...</td>\n",
       "      <td>Awesome</td>\n",
       "    </tr>\n",
       "    <tr>\n",
       "      <th>7</th>\n",
       "      <td>7</td>\n",
       "      <td>IFB 8 kg 5 Star 9 Swirl AI Powered with Wi-Fi ...</td>\n",
       "      <td>Mind-blowing purchase</td>\n",
       "    </tr>\n",
       "    <tr>\n",
       "      <th>8</th>\n",
       "      <td>8</td>\n",
       "      <td>IFB 8 kg 5 Star 9 Swirl AI Powered with Wi-Fi ...</td>\n",
       "      <td>Great product</td>\n",
       "    </tr>\n",
       "    <tr>\n",
       "      <th>9</th>\n",
       "      <td>9</td>\n",
       "      <td>IFB 8 kg 5 Star 9 Swirl AI Powered with Wi-Fi ...</td>\n",
       "      <td>Just wow!</td>\n",
       "    </tr>\n",
       "  </tbody>\n",
       "</table>\n",
       "</div>"
      ],
      "text/plain": [
       "   Unnamed: 0                                      product_title  \\\n",
       "0           0  IFB 8 kg 5 Star 9 Swirl AI Powered with Wi-Fi ...   \n",
       "1           1  IFB 8 kg 5 Star 9 Swirl AI Powered with Wi-Fi ...   \n",
       "2           2  IFB 8 kg 5 Star 9 Swirl AI Powered with Wi-Fi ...   \n",
       "3           3  IFB 8 kg 5 Star 9 Swirl AI Powered with Wi-Fi ...   \n",
       "4           4  IFB 8 kg 5 Star 9 Swirl AI Powered with Wi-Fi ...   \n",
       "5           5  IFB 8 kg 5 Star 9 Swirl AI Powered with Wi-Fi ...   \n",
       "6           6  IFB 8 kg 5 Star 9 Swirl AI Powered with Wi-Fi ...   \n",
       "7           7  IFB 8 kg 5 Star 9 Swirl AI Powered with Wi-Fi ...   \n",
       "8           8  IFB 8 kg 5 Star 9 Swirl AI Powered with Wi-Fi ...   \n",
       "9           9  IFB 8 kg 5 Star 9 Swirl AI Powered with Wi-Fi ...   \n",
       "\n",
       "                 reviews  \n",
       "0             Delightful  \n",
       "1    Best in the market!  \n",
       "2              Must buy!  \n",
       "3          Great product  \n",
       "4            Really Nice  \n",
       "5  Mind-blowing purchase  \n",
       "6                Awesome  \n",
       "7  Mind-blowing purchase  \n",
       "8          Great product  \n",
       "9              Just wow!  "
      ]
     },
     "execution_count": 35,
     "metadata": {},
     "output_type": "execute_result"
    }
   ],
   "source": [
    "df11=ps.read_csv(r\"C:\\Users\\Harshit\\Downloads\\IFB_.csv\")\n",
    "df11.head(10)"
   ]
  },
  {
   "cell_type": "code",
   "execution_count": 106,
   "id": "2675227f",
   "metadata": {},
   "outputs": [
    {
     "data": {
      "text/html": [
       "<div>\n",
       "<style scoped>\n",
       "    .dataframe tbody tr th:only-of-type {\n",
       "        vertical-align: middle;\n",
       "    }\n",
       "\n",
       "    .dataframe tbody tr th {\n",
       "        vertical-align: top;\n",
       "    }\n",
       "\n",
       "    .dataframe thead th {\n",
       "        text-align: right;\n",
       "    }\n",
       "</style>\n",
       "<table border=\"1\" class=\"dataframe\">\n",
       "  <thead>\n",
       "    <tr style=\"text-align: right;\">\n",
       "      <th></th>\n",
       "      <th>Unnamed: 0</th>\n",
       "      <th>product_title</th>\n",
       "      <th>reviews</th>\n",
       "    </tr>\n",
       "  </thead>\n",
       "  <tbody>\n",
       "    <tr>\n",
       "      <th>0</th>\n",
       "      <td>0</td>\n",
       "      <td>Godrej 180 L Direct Cool Single Door 4 Star Re...</td>\n",
       "      <td>Super!</td>\n",
       "    </tr>\n",
       "    <tr>\n",
       "      <th>1</th>\n",
       "      <td>1</td>\n",
       "      <td>Godrej 180 L Direct Cool Single Door 4 Star Re...</td>\n",
       "      <td>Terrific</td>\n",
       "    </tr>\n",
       "    <tr>\n",
       "      <th>2</th>\n",
       "      <td>2</td>\n",
       "      <td>Godrej 180 L Direct Cool Single Door 4 Star Re...</td>\n",
       "      <td>Simply awesome</td>\n",
       "    </tr>\n",
       "    <tr>\n",
       "      <th>3</th>\n",
       "      <td>3</td>\n",
       "      <td>Godrej 180 L Direct Cool Single Door 4 Star Re...</td>\n",
       "      <td>Super!</td>\n",
       "    </tr>\n",
       "    <tr>\n",
       "      <th>4</th>\n",
       "      <td>4</td>\n",
       "      <td>Godrej 180 L Direct Cool Single Door 4 Star Re...</td>\n",
       "      <td>Nice product</td>\n",
       "    </tr>\n",
       "    <tr>\n",
       "      <th>5</th>\n",
       "      <td>5</td>\n",
       "      <td>Godrej 180 L Direct Cool Single Door 4 Star Re...</td>\n",
       "      <td>Really Nice</td>\n",
       "    </tr>\n",
       "    <tr>\n",
       "      <th>6</th>\n",
       "      <td>6</td>\n",
       "      <td>Godrej 180 L Direct Cool Single Door 4 Star Re...</td>\n",
       "      <td>Wonderful</td>\n",
       "    </tr>\n",
       "    <tr>\n",
       "      <th>7</th>\n",
       "      <td>7</td>\n",
       "      <td>Godrej 180 L Direct Cool Single Door 4 Star Re...</td>\n",
       "      <td>Terrific</td>\n",
       "    </tr>\n",
       "    <tr>\n",
       "      <th>8</th>\n",
       "      <td>8</td>\n",
       "      <td>Godrej 180 L Direct Cool Single Door 4 Star Re...</td>\n",
       "      <td>Simply awesome</td>\n",
       "    </tr>\n",
       "    <tr>\n",
       "      <th>9</th>\n",
       "      <td>9</td>\n",
       "      <td>Godrej 180 L Direct Cool Single Door 4 Star Re...</td>\n",
       "      <td>Must buy!</td>\n",
       "    </tr>\n",
       "  </tbody>\n",
       "</table>\n",
       "</div>"
      ],
      "text/plain": [
       "   Unnamed: 0                                      product_title  \\\n",
       "0           0  Godrej 180 L Direct Cool Single Door 4 Star Re...   \n",
       "1           1  Godrej 180 L Direct Cool Single Door 4 Star Re...   \n",
       "2           2  Godrej 180 L Direct Cool Single Door 4 Star Re...   \n",
       "3           3  Godrej 180 L Direct Cool Single Door 4 Star Re...   \n",
       "4           4  Godrej 180 L Direct Cool Single Door 4 Star Re...   \n",
       "5           5  Godrej 180 L Direct Cool Single Door 4 Star Re...   \n",
       "6           6  Godrej 180 L Direct Cool Single Door 4 Star Re...   \n",
       "7           7  Godrej 180 L Direct Cool Single Door 4 Star Re...   \n",
       "8           8  Godrej 180 L Direct Cool Single Door 4 Star Re...   \n",
       "9           9  Godrej 180 L Direct Cool Single Door 4 Star Re...   \n",
       "\n",
       "          reviews  \n",
       "0          Super!  \n",
       "1        Terrific  \n",
       "2  Simply awesome  \n",
       "3          Super!  \n",
       "4    Nice product  \n",
       "5     Really Nice  \n",
       "6       Wonderful  \n",
       "7        Terrific  \n",
       "8  Simply awesome  \n",
       "9       Must buy!  "
      ]
     },
     "execution_count": 106,
     "metadata": {},
     "output_type": "execute_result"
    }
   ],
   "source": [
    "df12=ps.read_csv(r\"C:\\Users\\Harshit\\Downloads\\refrigerators.csv\")\n",
    "df12.head(10)"
   ]
  },
  {
   "cell_type": "code",
   "execution_count": 109,
   "id": "ad4a4869",
   "metadata": {},
   "outputs": [
    {
     "data": {
      "text/html": [
       "<div>\n",
       "<style scoped>\n",
       "    .dataframe tbody tr th:only-of-type {\n",
       "        vertical-align: middle;\n",
       "    }\n",
       "\n",
       "    .dataframe tbody tr th {\n",
       "        vertical-align: top;\n",
       "    }\n",
       "\n",
       "    .dataframe thead th {\n",
       "        text-align: right;\n",
       "    }\n",
       "</style>\n",
       "<table border=\"1\" class=\"dataframe\">\n",
       "  <thead>\n",
       "    <tr style=\"text-align: right;\">\n",
       "      <th></th>\n",
       "      <th>Unnamed: 0</th>\n",
       "      <th>product_title</th>\n",
       "      <th>reviews</th>\n",
       "    </tr>\n",
       "  </thead>\n",
       "  <tbody>\n",
       "    <tr>\n",
       "      <th>0</th>\n",
       "      <td>0</td>\n",
       "      <td>InnoQ 6.5 Kg Semi Automatic Top Load Washing M...</td>\n",
       "      <td>Best in the market!</td>\n",
       "    </tr>\n",
       "    <tr>\n",
       "      <th>1</th>\n",
       "      <td>1</td>\n",
       "      <td>InnoQ 6.5 Kg Semi Automatic Top Load Washing M...</td>\n",
       "      <td>Great product</td>\n",
       "    </tr>\n",
       "    <tr>\n",
       "      <th>2</th>\n",
       "      <td>2</td>\n",
       "      <td>InnoQ 6.5 Kg Semi Automatic Top Load Washing M...</td>\n",
       "      <td>Super!</td>\n",
       "    </tr>\n",
       "    <tr>\n",
       "      <th>3</th>\n",
       "      <td>3</td>\n",
       "      <td>InnoQ 6.5 Kg Semi Automatic Top Load Washing M...</td>\n",
       "      <td>Worth every penny</td>\n",
       "    </tr>\n",
       "    <tr>\n",
       "      <th>4</th>\n",
       "      <td>4</td>\n",
       "      <td>InnoQ 6.5 Kg Semi Automatic Top Load Washing M...</td>\n",
       "      <td>Just wow!</td>\n",
       "    </tr>\n",
       "  </tbody>\n",
       "</table>\n",
       "</div>"
      ],
      "text/plain": [
       "   Unnamed: 0                                      product_title  \\\n",
       "0           0  InnoQ 6.5 Kg Semi Automatic Top Load Washing M...   \n",
       "1           1  InnoQ 6.5 Kg Semi Automatic Top Load Washing M...   \n",
       "2           2  InnoQ 6.5 Kg Semi Automatic Top Load Washing M...   \n",
       "3           3  InnoQ 6.5 Kg Semi Automatic Top Load Washing M...   \n",
       "4           4  InnoQ 6.5 Kg Semi Automatic Top Load Washing M...   \n",
       "\n",
       "               reviews  \n",
       "0  Best in the market!  \n",
       "1        Great product  \n",
       "2               Super!  \n",
       "3    Worth every penny  \n",
       "4            Just wow!  "
      ]
     },
     "execution_count": 109,
     "metadata": {},
     "output_type": "execute_result"
    }
   ],
   "source": [
    "fd=ps.concat([df, df1, df2, df3, df4,df5,df6,df7,df8,df9,df10,df11,df12],ignore_index=True)\n",
    "fd.head()"
   ]
  },
  {
   "cell_type": "code",
   "execution_count": 111,
   "id": "043e47fa",
   "metadata": {},
   "outputs": [
    {
     "data": {
      "text/plain": [
       "(248192, 3)"
      ]
     },
     "execution_count": 111,
     "metadata": {},
     "output_type": "execute_result"
    }
   ],
   "source": [
    "fd.shape"
   ]
  },
  {
   "cell_type": "code",
   "execution_count": 112,
   "id": "7d7c2eff",
   "metadata": {},
   "outputs": [],
   "source": [
    "fd.reset_index(inplace=True)"
   ]
  },
  {
   "cell_type": "code",
   "execution_count": 113,
   "id": "b4505f25",
   "metadata": {},
   "outputs": [
    {
     "data": {
      "text/html": [
       "<div>\n",
       "<style scoped>\n",
       "    .dataframe tbody tr th:only-of-type {\n",
       "        vertical-align: middle;\n",
       "    }\n",
       "\n",
       "    .dataframe tbody tr th {\n",
       "        vertical-align: top;\n",
       "    }\n",
       "\n",
       "    .dataframe thead th {\n",
       "        text-align: right;\n",
       "    }\n",
       "</style>\n",
       "<table border=\"1\" class=\"dataframe\">\n",
       "  <thead>\n",
       "    <tr style=\"text-align: right;\">\n",
       "      <th></th>\n",
       "      <th>index</th>\n",
       "      <th>Unnamed: 0</th>\n",
       "      <th>product_title</th>\n",
       "      <th>reviews</th>\n",
       "    </tr>\n",
       "  </thead>\n",
       "  <tbody>\n",
       "    <tr>\n",
       "      <th>0</th>\n",
       "      <td>0</td>\n",
       "      <td>0</td>\n",
       "      <td>InnoQ 6.5 Kg Semi Automatic Top Load Washing M...</td>\n",
       "      <td>Best in the market!</td>\n",
       "    </tr>\n",
       "    <tr>\n",
       "      <th>1</th>\n",
       "      <td>1</td>\n",
       "      <td>1</td>\n",
       "      <td>InnoQ 6.5 Kg Semi Automatic Top Load Washing M...</td>\n",
       "      <td>Great product</td>\n",
       "    </tr>\n",
       "    <tr>\n",
       "      <th>2</th>\n",
       "      <td>2</td>\n",
       "      <td>2</td>\n",
       "      <td>InnoQ 6.5 Kg Semi Automatic Top Load Washing M...</td>\n",
       "      <td>Super!</td>\n",
       "    </tr>\n",
       "    <tr>\n",
       "      <th>3</th>\n",
       "      <td>3</td>\n",
       "      <td>3</td>\n",
       "      <td>InnoQ 6.5 Kg Semi Automatic Top Load Washing M...</td>\n",
       "      <td>Worth every penny</td>\n",
       "    </tr>\n",
       "    <tr>\n",
       "      <th>4</th>\n",
       "      <td>4</td>\n",
       "      <td>4</td>\n",
       "      <td>InnoQ 6.5 Kg Semi Automatic Top Load Washing M...</td>\n",
       "      <td>Just wow!</td>\n",
       "    </tr>\n",
       "  </tbody>\n",
       "</table>\n",
       "</div>"
      ],
      "text/plain": [
       "   index  Unnamed: 0                                      product_title  \\\n",
       "0      0           0  InnoQ 6.5 Kg Semi Automatic Top Load Washing M...   \n",
       "1      1           1  InnoQ 6.5 Kg Semi Automatic Top Load Washing M...   \n",
       "2      2           2  InnoQ 6.5 Kg Semi Automatic Top Load Washing M...   \n",
       "3      3           3  InnoQ 6.5 Kg Semi Automatic Top Load Washing M...   \n",
       "4      4           4  InnoQ 6.5 Kg Semi Automatic Top Load Washing M...   \n",
       "\n",
       "               reviews  \n",
       "0  Best in the market!  \n",
       "1        Great product  \n",
       "2               Super!  \n",
       "3    Worth every penny  \n",
       "4            Just wow!  "
      ]
     },
     "execution_count": 113,
     "metadata": {},
     "output_type": "execute_result"
    }
   ],
   "source": [
    "fd.head()"
   ]
  },
  {
   "cell_type": "code",
   "execution_count": 115,
   "id": "a54b4977",
   "metadata": {},
   "outputs": [
    {
     "data": {
      "text/plain": [
       "(248192, 4)"
      ]
     },
     "execution_count": 115,
     "metadata": {},
     "output_type": "execute_result"
    }
   ],
   "source": [
    "fd.shape"
   ]
  },
  {
   "cell_type": "code",
   "execution_count": null,
   "id": "5d6183c7",
   "metadata": {},
   "outputs": [],
   "source": [
    "fd.drop([\"Unnamed: 0\"],axis=1,inplace=True)"
   ]
  },
  {
   "cell_type": "code",
   "execution_count": 118,
   "id": "ae4f584f",
   "metadata": {},
   "outputs": [
    {
     "name": "stdout",
     "output_type": "stream",
     "text": [
      "Awesome\n"
     ]
    }
   ],
   "source": [
    "example = fd['reviews'][69]\n",
    "print(example)"
   ]
  },
  {
   "cell_type": "code",
   "execution_count": 119,
   "id": "ba9559b0",
   "metadata": {},
   "outputs": [
    {
     "data": {
      "text/plain": [
       "0            Best in the market!\n",
       "1                  Great product\n",
       "2                         Super!\n",
       "3              Worth every penny\n",
       "4                      Just wow!\n",
       "                   ...          \n",
       "248187      Good quality product\n",
       "248188    Don't waste your money\n",
       "248189     Slightly disappointed\n",
       "248190                 Wonderful\n",
       "248191              Nice product\n",
       "Name: reviews, Length: 248192, dtype: object"
      ]
     },
     "execution_count": 119,
     "metadata": {},
     "output_type": "execute_result"
    }
   ],
   "source": [
    "fd['reviews']"
   ]
  },
  {
   "cell_type": "code",
   "execution_count": 120,
   "id": "a4e3bd44",
   "metadata": {
    "scrolled": true
   },
   "outputs": [
    {
     "data": {
      "text/plain": [
       "['Awesome']"
      ]
     },
     "execution_count": 120,
     "metadata": {},
     "output_type": "execute_result"
    }
   ],
   "source": [
    "tokens = nltk.word_tokenize(example)\n",
    "tokens[:10]"
   ]
  },
  {
   "cell_type": "code",
   "execution_count": 121,
   "id": "334f2998",
   "metadata": {},
   "outputs": [
    {
     "data": {
      "text/plain": [
       "[('Awesome', 'NNP')]"
      ]
     },
     "execution_count": 121,
     "metadata": {},
     "output_type": "execute_result"
    }
   ],
   "source": [
    "tagged = nltk.pos_tag(tokens)\n",
    "tagged[:10]"
   ]
  },
  {
   "cell_type": "code",
   "execution_count": 122,
   "id": "be2521e3",
   "metadata": {},
   "outputs": [
    {
     "name": "stdout",
     "output_type": "stream",
     "text": [
      "(S (GPE Awesome/NNP))\n"
     ]
    }
   ],
   "source": [
    "entities = nltk.chunk.ne_chunk(tagged)\n",
    "entities.pprint()"
   ]
  },
  {
   "cell_type": "code",
   "execution_count": 123,
   "id": "7526af0f",
   "metadata": {
    "scrolled": true
   },
   "outputs": [
    {
     "data": {
      "text/html": [
       "<div>\n",
       "<style scoped>\n",
       "    .dataframe tbody tr th:only-of-type {\n",
       "        vertical-align: middle;\n",
       "    }\n",
       "\n",
       "    .dataframe tbody tr th {\n",
       "        vertical-align: top;\n",
       "    }\n",
       "\n",
       "    .dataframe thead th {\n",
       "        text-align: right;\n",
       "    }\n",
       "</style>\n",
       "<table border=\"1\" class=\"dataframe\">\n",
       "  <thead>\n",
       "    <tr style=\"text-align: right;\">\n",
       "      <th></th>\n",
       "      <th>index</th>\n",
       "      <th>product_title</th>\n",
       "      <th>reviews</th>\n",
       "    </tr>\n",
       "  </thead>\n",
       "  <tbody>\n",
       "    <tr>\n",
       "      <th>0</th>\n",
       "      <td>0</td>\n",
       "      <td>InnoQ 6.5 Kg Semi Automatic Top Load Washing M...</td>\n",
       "      <td>Best in the market!</td>\n",
       "    </tr>\n",
       "    <tr>\n",
       "      <th>1</th>\n",
       "      <td>1</td>\n",
       "      <td>InnoQ 6.5 Kg Semi Automatic Top Load Washing M...</td>\n",
       "      <td>Great product</td>\n",
       "    </tr>\n",
       "    <tr>\n",
       "      <th>2</th>\n",
       "      <td>2</td>\n",
       "      <td>InnoQ 6.5 Kg Semi Automatic Top Load Washing M...</td>\n",
       "      <td>Super!</td>\n",
       "    </tr>\n",
       "    <tr>\n",
       "      <th>3</th>\n",
       "      <td>3</td>\n",
       "      <td>InnoQ 6.5 Kg Semi Automatic Top Load Washing M...</td>\n",
       "      <td>Worth every penny</td>\n",
       "    </tr>\n",
       "    <tr>\n",
       "      <th>4</th>\n",
       "      <td>4</td>\n",
       "      <td>InnoQ 6.5 Kg Semi Automatic Top Load Washing M...</td>\n",
       "      <td>Just wow!</td>\n",
       "    </tr>\n",
       "  </tbody>\n",
       "</table>\n",
       "</div>"
      ],
      "text/plain": [
       "   index                                      product_title  \\\n",
       "0      0  InnoQ 6.5 Kg Semi Automatic Top Load Washing M...   \n",
       "1      1  InnoQ 6.5 Kg Semi Automatic Top Load Washing M...   \n",
       "2      2  InnoQ 6.5 Kg Semi Automatic Top Load Washing M...   \n",
       "3      3  InnoQ 6.5 Kg Semi Automatic Top Load Washing M...   \n",
       "4      4  InnoQ 6.5 Kg Semi Automatic Top Load Washing M...   \n",
       "\n",
       "               reviews  \n",
       "0  Best in the market!  \n",
       "1        Great product  \n",
       "2               Super!  \n",
       "3    Worth every penny  \n",
       "4            Just wow!  "
      ]
     },
     "execution_count": 123,
     "metadata": {},
     "output_type": "execute_result"
    }
   ],
   "source": [
    "fd.head()"
   ]
  },
  {
   "cell_type": "code",
   "execution_count": 124,
   "id": "37ed97c6",
   "metadata": {},
   "outputs": [],
   "source": [
    "fd.drop([\"index\"],axis=1,inplace=True)"
   ]
  },
  {
   "cell_type": "code",
   "execution_count": 125,
   "id": "d3c4c9b4",
   "metadata": {},
   "outputs": [],
   "source": [
    "from nltk.sentiment.vader import SentimentIntensityAnalyzer\n",
    "\n",
    "sia = SentimentIntensityAnalyzer()"
   ]
  },
  {
   "cell_type": "code",
   "execution_count": 126,
   "id": "1b6b9e46",
   "metadata": {},
   "outputs": [
    {
     "data": {
      "text/plain": [
       "{'neg': 0.594, 'neu': 0.406, 'pos': 0.0, 'compound': -0.6588}"
      ]
     },
     "execution_count": 126,
     "metadata": {},
     "output_type": "execute_result"
    }
   ],
   "source": [
    "sia.polarity_scores('I am at my worst!')"
   ]
  },
  {
   "cell_type": "code",
   "execution_count": 127,
   "id": "a963105f",
   "metadata": {},
   "outputs": [
    {
     "data": {
      "text/plain": [
       "{'neg': 0.0, 'neu': 0.318, 'pos': 0.682, 'compound': 0.6468}"
      ]
     },
     "execution_count": 127,
     "metadata": {},
     "output_type": "execute_result"
    }
   ],
   "source": [
    "sia.polarity_scores('I am so happy!')"
   ]
  },
  {
   "cell_type": "code",
   "execution_count": 128,
   "id": "c8738b6b",
   "metadata": {},
   "outputs": [
    {
     "data": {
      "text/plain": [
       "{'neg': 0.0, 'neu': 0.0, 'pos': 1.0, 'compound': 0.6249}"
      ]
     },
     "execution_count": 128,
     "metadata": {},
     "output_type": "execute_result"
    }
   ],
   "source": [
    "sia.polarity_scores(fd.iloc[69]['reviews'])"
   ]
  },
  {
   "cell_type": "code",
   "execution_count": 129,
   "id": "8a8f29bc",
   "metadata": {},
   "outputs": [
    {
     "data": {
      "text/plain": [
       "reviews\n",
       "Wonderful                                        12879\n",
       "Must buy!                                         9443\n",
       "Classy product                                    9249\n",
       "Great product                                     9207\n",
       "Fabulous!                                         9199\n",
       "                                                 ...  \n",
       "So far so good                                       1\n",
       "Great phone got it Rs 10400                          1\n",
       "Excellent phone till date                            1\n",
       "One of the best smartphones under 15K budget!        1\n",
       "Worth every penny by NarasaR                         1\n",
       "Name: count, Length: 2188, dtype: int64"
      ]
     },
     "execution_count": 129,
     "metadata": {},
     "output_type": "execute_result"
    }
   ],
   "source": [
    "fd[\"reviews\"].value_counts()"
   ]
  },
  {
   "cell_type": "code",
   "execution_count": 130,
   "id": "a494a0c4",
   "metadata": {},
   "outputs": [
    {
     "data": {
      "text/plain": [
       "'Brilliant'"
      ]
     },
     "execution_count": 130,
     "metadata": {},
     "output_type": "execute_result"
    }
   ],
   "source": [
    "fd.iloc[60]['reviews']"
   ]
  },
  {
   "cell_type": "code",
   "execution_count": 131,
   "id": "89f0be4b",
   "metadata": {
    "scrolled": true
   },
   "outputs": [
    {
     "data": {
      "text/html": [
       "<div>\n",
       "<style scoped>\n",
       "    .dataframe tbody tr th:only-of-type {\n",
       "        vertical-align: middle;\n",
       "    }\n",
       "\n",
       "    .dataframe tbody tr th {\n",
       "        vertical-align: top;\n",
       "    }\n",
       "\n",
       "    .dataframe thead th {\n",
       "        text-align: right;\n",
       "    }\n",
       "</style>\n",
       "<table border=\"1\" class=\"dataframe\">\n",
       "  <thead>\n",
       "    <tr style=\"text-align: right;\">\n",
       "      <th></th>\n",
       "      <th>product_title</th>\n",
       "      <th>reviews</th>\n",
       "      <th>scores</th>\n",
       "    </tr>\n",
       "  </thead>\n",
       "  <tbody>\n",
       "    <tr>\n",
       "      <th>0</th>\n",
       "      <td>InnoQ 6.5 Kg Semi Automatic Top Load Washing M...</td>\n",
       "      <td>Best in the market!</td>\n",
       "      <td>{'neg': 0.0, 'neu': 0.4, 'pos': 0.6, 'compound...</td>\n",
       "    </tr>\n",
       "    <tr>\n",
       "      <th>1</th>\n",
       "      <td>InnoQ 6.5 Kg Semi Automatic Top Load Washing M...</td>\n",
       "      <td>Great product</td>\n",
       "      <td>{'neg': 0.0, 'neu': 0.196, 'pos': 0.804, 'comp...</td>\n",
       "    </tr>\n",
       "    <tr>\n",
       "      <th>2</th>\n",
       "      <td>InnoQ 6.5 Kg Semi Automatic Top Load Washing M...</td>\n",
       "      <td>Super!</td>\n",
       "      <td>{'neg': 0.0, 'neu': 0.0, 'pos': 1.0, 'compound...</td>\n",
       "    </tr>\n",
       "    <tr>\n",
       "      <th>3</th>\n",
       "      <td>InnoQ 6.5 Kg Semi Automatic Top Load Washing M...</td>\n",
       "      <td>Worth every penny</td>\n",
       "      <td>{'neg': 0.0, 'neu': 0.513, 'pos': 0.487, 'comp...</td>\n",
       "    </tr>\n",
       "    <tr>\n",
       "      <th>4</th>\n",
       "      <td>InnoQ 6.5 Kg Semi Automatic Top Load Washing M...</td>\n",
       "      <td>Just wow!</td>\n",
       "      <td>{'neg': 0.0, 'neu': 0.196, 'pos': 0.804, 'comp...</td>\n",
       "    </tr>\n",
       "  </tbody>\n",
       "</table>\n",
       "</div>"
      ],
      "text/plain": [
       "                                       product_title              reviews  \\\n",
       "0  InnoQ 6.5 Kg Semi Automatic Top Load Washing M...  Best in the market!   \n",
       "1  InnoQ 6.5 Kg Semi Automatic Top Load Washing M...        Great product   \n",
       "2  InnoQ 6.5 Kg Semi Automatic Top Load Washing M...               Super!   \n",
       "3  InnoQ 6.5 Kg Semi Automatic Top Load Washing M...    Worth every penny   \n",
       "4  InnoQ 6.5 Kg Semi Automatic Top Load Washing M...            Just wow!   \n",
       "\n",
       "                                              scores  \n",
       "0  {'neg': 0.0, 'neu': 0.4, 'pos': 0.6, 'compound...  \n",
       "1  {'neg': 0.0, 'neu': 0.196, 'pos': 0.804, 'comp...  \n",
       "2  {'neg': 0.0, 'neu': 0.0, 'pos': 1.0, 'compound...  \n",
       "3  {'neg': 0.0, 'neu': 0.513, 'pos': 0.487, 'comp...  \n",
       "4  {'neg': 0.0, 'neu': 0.196, 'pos': 0.804, 'comp...  "
      ]
     },
     "execution_count": 131,
     "metadata": {},
     "output_type": "execute_result"
    }
   ],
   "source": [
    "fd['scores'] = fd['reviews'].apply(lambda reviews: sia.polarity_scores(reviews) if not isinstance(reviews, float) else None)\n",
    "\n",
    "fd.head()"
   ]
  },
  {
   "cell_type": "code",
   "execution_count": 56,
   "id": "004b2c83",
   "metadata": {},
   "outputs": [
    {
     "data": {
      "text/plain": [
       "(218017, 3)"
      ]
     },
     "execution_count": 56,
     "metadata": {},
     "output_type": "execute_result"
    }
   ],
   "source": [
    "fd.shape"
   ]
  },
  {
   "cell_type": "code",
   "execution_count": 57,
   "id": "d46bc068",
   "metadata": {},
   "outputs": [
    {
     "data": {
      "text/plain": [
       "0         False\n",
       "1         False\n",
       "2         False\n",
       "3         False\n",
       "4         False\n",
       "          ...  \n",
       "218012    False\n",
       "218013    False\n",
       "218014    False\n",
       "218015    False\n",
       "218016    False\n",
       "Name: reviews, Length: 218017, dtype: bool"
      ]
     },
     "execution_count": 57,
     "metadata": {},
     "output_type": "execute_result"
    }
   ],
   "source": [
    "fd['reviews']==\"no name\""
   ]
  },
  {
   "cell_type": "code",
   "execution_count": 133,
   "id": "4790666e",
   "metadata": {},
   "outputs": [
    {
     "data": {
      "text/html": [
       "<div>\n",
       "<style scoped>\n",
       "    .dataframe tbody tr th:only-of-type {\n",
       "        vertical-align: middle;\n",
       "    }\n",
       "\n",
       "    .dataframe tbody tr th {\n",
       "        vertical-align: top;\n",
       "    }\n",
       "\n",
       "    .dataframe thead th {\n",
       "        text-align: right;\n",
       "    }\n",
       "</style>\n",
       "<table border=\"1\" class=\"dataframe\">\n",
       "  <thead>\n",
       "    <tr style=\"text-align: right;\">\n",
       "      <th></th>\n",
       "      <th>product_title</th>\n",
       "      <th>reviews</th>\n",
       "      <th>scores</th>\n",
       "      <th>compound</th>\n",
       "    </tr>\n",
       "  </thead>\n",
       "  <tbody>\n",
       "    <tr>\n",
       "      <th>0</th>\n",
       "      <td>InnoQ 6.5 Kg Semi Automatic Top Load Washing M...</td>\n",
       "      <td>Best in the market!</td>\n",
       "      <td>{'neg': 0.0, 'neu': 0.4, 'pos': 0.6, 'compound...</td>\n",
       "      <td>0.6696</td>\n",
       "    </tr>\n",
       "    <tr>\n",
       "      <th>1</th>\n",
       "      <td>InnoQ 6.5 Kg Semi Automatic Top Load Washing M...</td>\n",
       "      <td>Great product</td>\n",
       "      <td>{'neg': 0.0, 'neu': 0.196, 'pos': 0.804, 'comp...</td>\n",
       "      <td>0.6249</td>\n",
       "    </tr>\n",
       "    <tr>\n",
       "      <th>2</th>\n",
       "      <td>InnoQ 6.5 Kg Semi Automatic Top Load Washing M...</td>\n",
       "      <td>Super!</td>\n",
       "      <td>{'neg': 0.0, 'neu': 0.0, 'pos': 1.0, 'compound...</td>\n",
       "      <td>0.6360</td>\n",
       "    </tr>\n",
       "    <tr>\n",
       "      <th>3</th>\n",
       "      <td>InnoQ 6.5 Kg Semi Automatic Top Load Washing M...</td>\n",
       "      <td>Worth every penny</td>\n",
       "      <td>{'neg': 0.0, 'neu': 0.513, 'pos': 0.487, 'comp...</td>\n",
       "      <td>0.2263</td>\n",
       "    </tr>\n",
       "    <tr>\n",
       "      <th>4</th>\n",
       "      <td>InnoQ 6.5 Kg Semi Automatic Top Load Washing M...</td>\n",
       "      <td>Just wow!</td>\n",
       "      <td>{'neg': 0.0, 'neu': 0.196, 'pos': 0.804, 'comp...</td>\n",
       "      <td>0.6239</td>\n",
       "    </tr>\n",
       "  </tbody>\n",
       "</table>\n",
       "</div>"
      ],
      "text/plain": [
       "                                       product_title              reviews  \\\n",
       "0  InnoQ 6.5 Kg Semi Automatic Top Load Washing M...  Best in the market!   \n",
       "1  InnoQ 6.5 Kg Semi Automatic Top Load Washing M...        Great product   \n",
       "2  InnoQ 6.5 Kg Semi Automatic Top Load Washing M...               Super!   \n",
       "3  InnoQ 6.5 Kg Semi Automatic Top Load Washing M...    Worth every penny   \n",
       "4  InnoQ 6.5 Kg Semi Automatic Top Load Washing M...            Just wow!   \n",
       "\n",
       "                                              scores  compound  \n",
       "0  {'neg': 0.0, 'neu': 0.4, 'pos': 0.6, 'compound...    0.6696  \n",
       "1  {'neg': 0.0, 'neu': 0.196, 'pos': 0.804, 'comp...    0.6249  \n",
       "2  {'neg': 0.0, 'neu': 0.0, 'pos': 1.0, 'compound...    0.6360  \n",
       "3  {'neg': 0.0, 'neu': 0.513, 'pos': 0.487, 'comp...    0.2263  \n",
       "4  {'neg': 0.0, 'neu': 0.196, 'pos': 0.804, 'comp...    0.6239  "
      ]
     },
     "execution_count": 133,
     "metadata": {},
     "output_type": "execute_result"
    }
   ],
   "source": [
    "fd['compound'] = fd['scores'].apply(lambda score_dict: score_dict['compound'] if score_dict is not None else None)\n",
    "fd.head()"
   ]
  },
  {
   "cell_type": "code",
   "execution_count": 134,
   "id": "700e39d1",
   "metadata": {},
   "outputs": [
    {
     "data": {
      "text/html": [
       "<div>\n",
       "<style scoped>\n",
       "    .dataframe tbody tr th:only-of-type {\n",
       "        vertical-align: middle;\n",
       "    }\n",
       "\n",
       "    .dataframe tbody tr th {\n",
       "        vertical-align: top;\n",
       "    }\n",
       "\n",
       "    .dataframe thead th {\n",
       "        text-align: right;\n",
       "    }\n",
       "</style>\n",
       "<table border=\"1\" class=\"dataframe\">\n",
       "  <thead>\n",
       "    <tr style=\"text-align: right;\">\n",
       "      <th></th>\n",
       "      <th>product_title</th>\n",
       "      <th>reviews</th>\n",
       "      <th>scores</th>\n",
       "      <th>compound</th>\n",
       "      <th>comp_score</th>\n",
       "    </tr>\n",
       "  </thead>\n",
       "  <tbody>\n",
       "    <tr>\n",
       "      <th>0</th>\n",
       "      <td>InnoQ 6.5 Kg Semi Automatic Top Load Washing M...</td>\n",
       "      <td>Best in the market!</td>\n",
       "      <td>{'neg': 0.0, 'neu': 0.4, 'pos': 0.6, 'compound...</td>\n",
       "      <td>0.6696</td>\n",
       "      <td>pos</td>\n",
       "    </tr>\n",
       "    <tr>\n",
       "      <th>1</th>\n",
       "      <td>InnoQ 6.5 Kg Semi Automatic Top Load Washing M...</td>\n",
       "      <td>Great product</td>\n",
       "      <td>{'neg': 0.0, 'neu': 0.196, 'pos': 0.804, 'comp...</td>\n",
       "      <td>0.6249</td>\n",
       "      <td>pos</td>\n",
       "    </tr>\n",
       "    <tr>\n",
       "      <th>2</th>\n",
       "      <td>InnoQ 6.5 Kg Semi Automatic Top Load Washing M...</td>\n",
       "      <td>Super!</td>\n",
       "      <td>{'neg': 0.0, 'neu': 0.0, 'pos': 1.0, 'compound...</td>\n",
       "      <td>0.6360</td>\n",
       "      <td>pos</td>\n",
       "    </tr>\n",
       "    <tr>\n",
       "      <th>3</th>\n",
       "      <td>InnoQ 6.5 Kg Semi Automatic Top Load Washing M...</td>\n",
       "      <td>Worth every penny</td>\n",
       "      <td>{'neg': 0.0, 'neu': 0.513, 'pos': 0.487, 'comp...</td>\n",
       "      <td>0.2263</td>\n",
       "      <td>pos</td>\n",
       "    </tr>\n",
       "    <tr>\n",
       "      <th>4</th>\n",
       "      <td>InnoQ 6.5 Kg Semi Automatic Top Load Washing M...</td>\n",
       "      <td>Just wow!</td>\n",
       "      <td>{'neg': 0.0, 'neu': 0.196, 'pos': 0.804, 'comp...</td>\n",
       "      <td>0.6239</td>\n",
       "      <td>pos</td>\n",
       "    </tr>\n",
       "    <tr>\n",
       "      <th>5</th>\n",
       "      <td>InnoQ 6.5 Kg Semi Automatic Top Load Washing M...</td>\n",
       "      <td>Super!</td>\n",
       "      <td>{'neg': 0.0, 'neu': 0.0, 'pos': 1.0, 'compound...</td>\n",
       "      <td>0.6360</td>\n",
       "      <td>pos</td>\n",
       "    </tr>\n",
       "    <tr>\n",
       "      <th>6</th>\n",
       "      <td>InnoQ 6.5 Kg Semi Automatic Top Load Washing M...</td>\n",
       "      <td>Awesome</td>\n",
       "      <td>{'neg': 0.0, 'neu': 0.0, 'pos': 1.0, 'compound...</td>\n",
       "      <td>0.6249</td>\n",
       "      <td>pos</td>\n",
       "    </tr>\n",
       "    <tr>\n",
       "      <th>7</th>\n",
       "      <td>InnoQ 6.5 Kg Semi Automatic Top Load Washing M...</td>\n",
       "      <td>Mind-blowing purchase</td>\n",
       "      <td>{'neg': 0.0, 'neu': 1.0, 'pos': 0.0, 'compound...</td>\n",
       "      <td>0.0000</td>\n",
       "      <td>pos</td>\n",
       "    </tr>\n",
       "    <tr>\n",
       "      <th>8</th>\n",
       "      <td>InnoQ 6.5 Kg Semi Automatic Top Load Washing M...</td>\n",
       "      <td>Great product</td>\n",
       "      <td>{'neg': 0.0, 'neu': 0.196, 'pos': 0.804, 'comp...</td>\n",
       "      <td>0.6249</td>\n",
       "      <td>pos</td>\n",
       "    </tr>\n",
       "    <tr>\n",
       "      <th>9</th>\n",
       "      <td>no name</td>\n",
       "      <td>Perfect product!</td>\n",
       "      <td>{'neg': 0.0, 'neu': 0.2, 'pos': 0.8, 'compound...</td>\n",
       "      <td>0.6114</td>\n",
       "      <td>pos</td>\n",
       "    </tr>\n",
       "  </tbody>\n",
       "</table>\n",
       "</div>"
      ],
      "text/plain": [
       "                                       product_title                reviews  \\\n",
       "0  InnoQ 6.5 Kg Semi Automatic Top Load Washing M...    Best in the market!   \n",
       "1  InnoQ 6.5 Kg Semi Automatic Top Load Washing M...          Great product   \n",
       "2  InnoQ 6.5 Kg Semi Automatic Top Load Washing M...                 Super!   \n",
       "3  InnoQ 6.5 Kg Semi Automatic Top Load Washing M...      Worth every penny   \n",
       "4  InnoQ 6.5 Kg Semi Automatic Top Load Washing M...              Just wow!   \n",
       "5  InnoQ 6.5 Kg Semi Automatic Top Load Washing M...                 Super!   \n",
       "6  InnoQ 6.5 Kg Semi Automatic Top Load Washing M...                Awesome   \n",
       "7  InnoQ 6.5 Kg Semi Automatic Top Load Washing M...  Mind-blowing purchase   \n",
       "8  InnoQ 6.5 Kg Semi Automatic Top Load Washing M...          Great product   \n",
       "9                                            no name       Perfect product!   \n",
       "\n",
       "                                              scores  compound comp_score  \n",
       "0  {'neg': 0.0, 'neu': 0.4, 'pos': 0.6, 'compound...    0.6696        pos  \n",
       "1  {'neg': 0.0, 'neu': 0.196, 'pos': 0.804, 'comp...    0.6249        pos  \n",
       "2  {'neg': 0.0, 'neu': 0.0, 'pos': 1.0, 'compound...    0.6360        pos  \n",
       "3  {'neg': 0.0, 'neu': 0.513, 'pos': 0.487, 'comp...    0.2263        pos  \n",
       "4  {'neg': 0.0, 'neu': 0.196, 'pos': 0.804, 'comp...    0.6239        pos  \n",
       "5  {'neg': 0.0, 'neu': 0.0, 'pos': 1.0, 'compound...    0.6360        pos  \n",
       "6  {'neg': 0.0, 'neu': 0.0, 'pos': 1.0, 'compound...    0.6249        pos  \n",
       "7  {'neg': 0.0, 'neu': 1.0, 'pos': 0.0, 'compound...    0.0000        pos  \n",
       "8  {'neg': 0.0, 'neu': 0.196, 'pos': 0.804, 'comp...    0.6249        pos  \n",
       "9  {'neg': 0.0, 'neu': 0.2, 'pos': 0.8, 'compound...    0.6114        pos  "
      ]
     },
     "execution_count": 134,
     "metadata": {},
     "output_type": "execute_result"
    }
   ],
   "source": [
    "fd['comp_score'] = fd['compound'].apply(lambda c: 'pos' if c >=0 else 'neg')\n",
    "\n",
    "fd.head(10)"
   ]
  },
  {
   "cell_type": "code",
   "execution_count": 135,
   "id": "722bfcbd",
   "metadata": {},
   "outputs": [
    {
     "data": {
      "text/plain": [
       "comp_score\n",
       "pos    231588\n",
       "neg     16604\n",
       "Name: count, dtype: int64"
      ]
     },
     "execution_count": 135,
     "metadata": {},
     "output_type": "execute_result"
    }
   ],
   "source": [
    "fd.comp_score.value_counts()"
   ]
  },
  {
   "cell_type": "code",
   "execution_count": 136,
   "id": "2919f26b",
   "metadata": {},
   "outputs": [
    {
     "data": {
      "text/plain": [
       "0.07169628823600532"
      ]
     },
     "execution_count": 136,
     "metadata": {},
     "output_type": "execute_result"
    }
   ],
   "source": [
    "16604/231588\n",
    "# we can see that barely see that it is the matter of data imbalance"
   ]
  },
  {
   "cell_type": "code",
   "execution_count": 137,
   "id": "0503c4ec",
   "metadata": {},
   "outputs": [
    {
     "data": {
      "text/html": [
       "<div>\n",
       "<style scoped>\n",
       "    .dataframe tbody tr th:only-of-type {\n",
       "        vertical-align: middle;\n",
       "    }\n",
       "\n",
       "    .dataframe tbody tr th {\n",
       "        vertical-align: top;\n",
       "    }\n",
       "\n",
       "    .dataframe thead th {\n",
       "        text-align: right;\n",
       "    }\n",
       "</style>\n",
       "<table border=\"1\" class=\"dataframe\">\n",
       "  <thead>\n",
       "    <tr style=\"text-align: right;\">\n",
       "      <th></th>\n",
       "      <th>product_title</th>\n",
       "      <th>reviews</th>\n",
       "      <th>scores</th>\n",
       "      <th>compound</th>\n",
       "      <th>comp_score</th>\n",
       "    </tr>\n",
       "  </thead>\n",
       "  <tbody>\n",
       "    <tr>\n",
       "      <th>0</th>\n",
       "      <td>InnoQ 6.5 Kg Semi Automatic Top Load Washing M...</td>\n",
       "      <td>Best in the market!</td>\n",
       "      <td>{'neg': 0.0, 'neu': 0.4, 'pos': 0.6, 'compound...</td>\n",
       "      <td>0.6696</td>\n",
       "      <td>pos</td>\n",
       "    </tr>\n",
       "    <tr>\n",
       "      <th>1</th>\n",
       "      <td>InnoQ 6.5 Kg Semi Automatic Top Load Washing M...</td>\n",
       "      <td>Great product</td>\n",
       "      <td>{'neg': 0.0, 'neu': 0.196, 'pos': 0.804, 'comp...</td>\n",
       "      <td>0.6249</td>\n",
       "      <td>pos</td>\n",
       "    </tr>\n",
       "    <tr>\n",
       "      <th>2</th>\n",
       "      <td>InnoQ 6.5 Kg Semi Automatic Top Load Washing M...</td>\n",
       "      <td>Super!</td>\n",
       "      <td>{'neg': 0.0, 'neu': 0.0, 'pos': 1.0, 'compound...</td>\n",
       "      <td>0.6360</td>\n",
       "      <td>pos</td>\n",
       "    </tr>\n",
       "    <tr>\n",
       "      <th>3</th>\n",
       "      <td>InnoQ 6.5 Kg Semi Automatic Top Load Washing M...</td>\n",
       "      <td>Worth every penny</td>\n",
       "      <td>{'neg': 0.0, 'neu': 0.513, 'pos': 0.487, 'comp...</td>\n",
       "      <td>0.2263</td>\n",
       "      <td>pos</td>\n",
       "    </tr>\n",
       "    <tr>\n",
       "      <th>4</th>\n",
       "      <td>InnoQ 6.5 Kg Semi Automatic Top Load Washing M...</td>\n",
       "      <td>Just wow!</td>\n",
       "      <td>{'neg': 0.0, 'neu': 0.196, 'pos': 0.804, 'comp...</td>\n",
       "      <td>0.6239</td>\n",
       "      <td>pos</td>\n",
       "    </tr>\n",
       "  </tbody>\n",
       "</table>\n",
       "</div>"
      ],
      "text/plain": [
       "                                       product_title              reviews  \\\n",
       "0  InnoQ 6.5 Kg Semi Automatic Top Load Washing M...  Best in the market!   \n",
       "1  InnoQ 6.5 Kg Semi Automatic Top Load Washing M...        Great product   \n",
       "2  InnoQ 6.5 Kg Semi Automatic Top Load Washing M...               Super!   \n",
       "3  InnoQ 6.5 Kg Semi Automatic Top Load Washing M...    Worth every penny   \n",
       "4  InnoQ 6.5 Kg Semi Automatic Top Load Washing M...            Just wow!   \n",
       "\n",
       "                                              scores  compound comp_score  \n",
       "0  {'neg': 0.0, 'neu': 0.4, 'pos': 0.6, 'compound...    0.6696        pos  \n",
       "1  {'neg': 0.0, 'neu': 0.196, 'pos': 0.804, 'comp...    0.6249        pos  \n",
       "2  {'neg': 0.0, 'neu': 0.0, 'pos': 1.0, 'compound...    0.6360        pos  \n",
       "3  {'neg': 0.0, 'neu': 0.513, 'pos': 0.487, 'comp...    0.2263        pos  \n",
       "4  {'neg': 0.0, 'neu': 0.196, 'pos': 0.804, 'comp...    0.6239        pos  "
      ]
     },
     "execution_count": 137,
     "metadata": {},
     "output_type": "execute_result"
    }
   ],
   "source": [
    "fd.head()"
   ]
  },
  {
   "cell_type": "code",
   "execution_count": 138,
   "id": "2a2323c6",
   "metadata": {},
   "outputs": [
    {
     "data": {
      "text/plain": [
       "product_title    0.000000\n",
       "reviews          0.002417\n",
       "scores           0.002417\n",
       "compound         0.002417\n",
       "comp_score       0.000000\n",
       "dtype: float64"
      ]
     },
     "execution_count": 138,
     "metadata": {},
     "output_type": "execute_result"
    }
   ],
   "source": [
    "fd.isnull().sum()/len(fd)*100"
   ]
  },
  {
   "cell_type": "code",
   "execution_count": 139,
   "id": "ce22dcf4",
   "metadata": {},
   "outputs": [],
   "source": [
    "fd.dropna(subset=['reviews', 'scores', 'compound'], inplace=True)"
   ]
  },
  {
   "cell_type": "code",
   "execution_count": 140,
   "id": "e20e070c",
   "metadata": {},
   "outputs": [
    {
     "data": {
      "text/html": [
       "<div>\n",
       "<style scoped>\n",
       "    .dataframe tbody tr th:only-of-type {\n",
       "        vertical-align: middle;\n",
       "    }\n",
       "\n",
       "    .dataframe tbody tr th {\n",
       "        vertical-align: top;\n",
       "    }\n",
       "\n",
       "    .dataframe thead th {\n",
       "        text-align: right;\n",
       "    }\n",
       "</style>\n",
       "<table border=\"1\" class=\"dataframe\">\n",
       "  <thead>\n",
       "    <tr style=\"text-align: right;\">\n",
       "      <th></th>\n",
       "      <th>compound</th>\n",
       "    </tr>\n",
       "  </thead>\n",
       "  <tbody>\n",
       "    <tr>\n",
       "      <th>count</th>\n",
       "      <td>248186.000000</td>\n",
       "    </tr>\n",
       "    <tr>\n",
       "      <th>mean</th>\n",
       "      <td>0.379384</td>\n",
       "    </tr>\n",
       "    <tr>\n",
       "      <th>std</th>\n",
       "      <td>0.317191</td>\n",
       "    </tr>\n",
       "    <tr>\n",
       "      <th>min</th>\n",
       "      <td>-0.863300</td>\n",
       "    </tr>\n",
       "    <tr>\n",
       "      <th>25%</th>\n",
       "      <td>0.226300</td>\n",
       "    </tr>\n",
       "    <tr>\n",
       "      <th>50%</th>\n",
       "      <td>0.476700</td>\n",
       "    </tr>\n",
       "    <tr>\n",
       "      <th>75%</th>\n",
       "      <td>0.611400</td>\n",
       "    </tr>\n",
       "    <tr>\n",
       "      <th>max</th>\n",
       "      <td>0.949100</td>\n",
       "    </tr>\n",
       "  </tbody>\n",
       "</table>\n",
       "</div>"
      ],
      "text/plain": [
       "            compound\n",
       "count  248186.000000\n",
       "mean        0.379384\n",
       "std         0.317191\n",
       "min        -0.863300\n",
       "25%         0.226300\n",
       "50%         0.476700\n",
       "75%         0.611400\n",
       "max         0.949100"
      ]
     },
     "execution_count": 140,
     "metadata": {},
     "output_type": "execute_result"
    }
   ],
   "source": [
    "fd.describe()"
   ]
  },
  {
   "cell_type": "code",
   "execution_count": 141,
   "id": "d8911dd4",
   "metadata": {},
   "outputs": [
    {
     "name": "stdout",
     "output_type": "stream",
     "text": [
      "<class 'pandas.core.frame.DataFrame'>\n",
      "Index: 248186 entries, 0 to 248191\n",
      "Data columns (total 5 columns):\n",
      " #   Column         Non-Null Count   Dtype  \n",
      "---  ------         --------------   -----  \n",
      " 0   product_title  248186 non-null  object \n",
      " 1   reviews        248186 non-null  object \n",
      " 2   scores         248186 non-null  object \n",
      " 3   compound       248186 non-null  float64\n",
      " 4   comp_score     248186 non-null  object \n",
      "dtypes: float64(1), object(4)\n",
      "memory usage: 11.4+ MB\n"
     ]
    }
   ],
   "source": [
    "fd.info()"
   ]
  },
  {
   "cell_type": "code",
   "execution_count": 142,
   "id": "09a84e5b",
   "metadata": {},
   "outputs": [
    {
     "data": {
      "text/html": [
       "<div>\n",
       "<style scoped>\n",
       "    .dataframe tbody tr th:only-of-type {\n",
       "        vertical-align: middle;\n",
       "    }\n",
       "\n",
       "    .dataframe tbody tr th {\n",
       "        vertical-align: top;\n",
       "    }\n",
       "\n",
       "    .dataframe thead tr th {\n",
       "        text-align: left;\n",
       "    }\n",
       "\n",
       "    .dataframe thead tr:last-of-type th {\n",
       "        text-align: right;\n",
       "    }\n",
       "</style>\n",
       "<table border=\"1\" class=\"dataframe\">\n",
       "  <thead>\n",
       "    <tr>\n",
       "      <th></th>\n",
       "      <th colspan=\"8\" halign=\"left\">compound</th>\n",
       "    </tr>\n",
       "    <tr>\n",
       "      <th></th>\n",
       "      <th>count</th>\n",
       "      <th>mean</th>\n",
       "      <th>std</th>\n",
       "      <th>min</th>\n",
       "      <th>25%</th>\n",
       "      <th>50%</th>\n",
       "      <th>75%</th>\n",
       "      <th>max</th>\n",
       "    </tr>\n",
       "    <tr>\n",
       "      <th>comp_score</th>\n",
       "      <th></th>\n",
       "      <th></th>\n",
       "      <th></th>\n",
       "      <th></th>\n",
       "      <th></th>\n",
       "      <th></th>\n",
       "      <th></th>\n",
       "      <th></th>\n",
       "    </tr>\n",
       "  </thead>\n",
       "  <tbody>\n",
       "    <tr>\n",
       "      <th>neg</th>\n",
       "      <td>16598.0</td>\n",
       "      <td>-0.479702</td>\n",
       "      <td>0.138713</td>\n",
       "      <td>-0.8633</td>\n",
       "      <td>-0.5423</td>\n",
       "      <td>-0.4767</td>\n",
       "      <td>-0.4228</td>\n",
       "      <td>-0.0127</td>\n",
       "    </tr>\n",
       "    <tr>\n",
       "      <th>pos</th>\n",
       "      <td>231588.0</td>\n",
       "      <td>0.440955</td>\n",
       "      <td>0.223060</td>\n",
       "      <td>0.0000</td>\n",
       "      <td>0.2716</td>\n",
       "      <td>0.4927</td>\n",
       "      <td>0.6239</td>\n",
       "      <td>0.9491</td>\n",
       "    </tr>\n",
       "  </tbody>\n",
       "</table>\n",
       "</div>"
      ],
      "text/plain": [
       "            compound                                                      \\\n",
       "               count      mean       std     min     25%     50%     75%   \n",
       "comp_score                                                                 \n",
       "neg          16598.0 -0.479702  0.138713 -0.8633 -0.5423 -0.4767 -0.4228   \n",
       "pos         231588.0  0.440955  0.223060  0.0000  0.2716  0.4927  0.6239   \n",
       "\n",
       "                    \n",
       "               max  \n",
       "comp_score          \n",
       "neg        -0.0127  \n",
       "pos         0.9491  "
      ]
     },
     "execution_count": 142,
     "metadata": {},
     "output_type": "execute_result"
    }
   ],
   "source": [
    "fd.groupby('comp_score').describe()"
   ]
  },
  {
   "cell_type": "code",
   "execution_count": 143,
   "id": "d5343d57",
   "metadata": {},
   "outputs": [
    {
     "data": {
      "text/plain": [
       "(16598, 5)"
      ]
     },
     "execution_count": 143,
     "metadata": {},
     "output_type": "execute_result"
    }
   ],
   "source": [
    "# Now we are managing our data to make it balance\n",
    "fd_neg = fd[fd['comp_score']=='neg']\n",
    "fd_neg.shape"
   ]
  },
  {
   "cell_type": "code",
   "execution_count": 144,
   "id": "7ad08ae1",
   "metadata": {},
   "outputs": [
    {
     "data": {
      "text/plain": [
       "(231588, 5)"
      ]
     },
     "execution_count": 144,
     "metadata": {},
     "output_type": "execute_result"
    }
   ],
   "source": [
    "fd_pos = fd[fd['comp_score']=='pos']\n",
    "fd_pos.shape"
   ]
  },
  {
   "cell_type": "code",
   "execution_count": 145,
   "id": "c65120fa",
   "metadata": {},
   "outputs": [
    {
     "data": {
      "text/plain": [
       "(16598, 5)"
      ]
     },
     "execution_count": 145,
     "metadata": {},
     "output_type": "execute_result"
    }
   ],
   "source": [
    "fd_pos_downsampled = fd_pos.sample(fd_neg.shape[0])\n",
    "fd_pos_downsampled.shape"
   ]
  },
  {
   "cell_type": "code",
   "execution_count": 146,
   "id": "f9472c5f",
   "metadata": {},
   "outputs": [
    {
     "data": {
      "text/plain": [
       "(33196, 5)"
      ]
     },
     "execution_count": 146,
     "metadata": {},
     "output_type": "execute_result"
    }
   ],
   "source": [
    "fd_balanced = ps.concat([fd_pos_downsampled, fd_neg])\n",
    "fd_balanced.shape"
   ]
  },
  {
   "cell_type": "code",
   "execution_count": 149,
   "id": "3394ec70",
   "metadata": {},
   "outputs": [
    {
     "data": {
      "text/plain": [
       "comp_score\n",
       "pos    16598\n",
       "neg    16598\n",
       "Name: count, dtype: int64"
      ]
     },
     "execution_count": 149,
     "metadata": {},
     "output_type": "execute_result"
    }
   ],
   "source": [
    "# Now we have balanced data through which we are not going to have any overfitting problem\n",
    "fd_balanced['comp_score'].value_counts()"
   ]
  },
  {
   "cell_type": "code",
   "execution_count": 150,
   "id": "cf3613cd",
   "metadata": {},
   "outputs": [
    {
     "data": {
      "text/html": [
       "<div>\n",
       "<style scoped>\n",
       "    .dataframe tbody tr th:only-of-type {\n",
       "        vertical-align: middle;\n",
       "    }\n",
       "\n",
       "    .dataframe tbody tr th {\n",
       "        vertical-align: top;\n",
       "    }\n",
       "\n",
       "    .dataframe thead th {\n",
       "        text-align: right;\n",
       "    }\n",
       "</style>\n",
       "<table border=\"1\" class=\"dataframe\">\n",
       "  <thead>\n",
       "    <tr style=\"text-align: right;\">\n",
       "      <th></th>\n",
       "      <th>product_title</th>\n",
       "      <th>reviews</th>\n",
       "      <th>scores</th>\n",
       "      <th>compound</th>\n",
       "      <th>comp_score</th>\n",
       "      <th>neg</th>\n",
       "    </tr>\n",
       "  </thead>\n",
       "  <tbody>\n",
       "    <tr>\n",
       "      <th>91305</th>\n",
       "      <td>APPLE iPhone 13 Pro Max (Graphite, 128 GB) Rev...</td>\n",
       "      <td>Terrific purchase</td>\n",
       "      <td>{'neg': 0.0, 'neu': 0.244, 'pos': 0.756, 'comp...</td>\n",
       "      <td>0.4767</td>\n",
       "      <td>pos</td>\n",
       "      <td>0</td>\n",
       "    </tr>\n",
       "    <tr>\n",
       "      <th>188911</th>\n",
       "      <td>IFB Descaling Detergent Powder for washing mac...</td>\n",
       "      <td>Just okay</td>\n",
       "      <td>{'neg': 0.0, 'neu': 0.345, 'pos': 0.655, 'comp...</td>\n",
       "      <td>0.2263</td>\n",
       "      <td>pos</td>\n",
       "      <td>0</td>\n",
       "    </tr>\n",
       "    <tr>\n",
       "      <th>176863</th>\n",
       "      <td>IFB 6.5 kg 5 Star Aqua Conserve Hard Water Was...</td>\n",
       "      <td>Best in the market!</td>\n",
       "      <td>{'neg': 0.0, 'neu': 0.4, 'pos': 0.6, 'compound...</td>\n",
       "      <td>0.6696</td>\n",
       "      <td>pos</td>\n",
       "      <td>0</td>\n",
       "    </tr>\n",
       "    <tr>\n",
       "      <th>247248</th>\n",
       "      <td>Whirlpool 190 L Direct Cool Single Door 2 Star...</td>\n",
       "      <td>Worth every penny</td>\n",
       "      <td>{'neg': 0.0, 'neu': 0.513, 'pos': 0.487, 'comp...</td>\n",
       "      <td>0.2263</td>\n",
       "      <td>pos</td>\n",
       "      <td>0</td>\n",
       "    </tr>\n",
       "    <tr>\n",
       "      <th>156492</th>\n",
       "      <td>IFB 8 kg Steam Wash 4 years Comprehensive Warr...</td>\n",
       "      <td>Waste of money!</td>\n",
       "      <td>{'neg': 0.607, 'neu': 0.393, 'pos': 0.0, 'comp...</td>\n",
       "      <td>-0.4753</td>\n",
       "      <td>neg</td>\n",
       "      <td>1</td>\n",
       "    </tr>\n",
       "    <tr>\n",
       "      <th>62338</th>\n",
       "      <td>Mi A3 (Kind of Grey, 64 GB) Reviews</td>\n",
       "      <td>Not good</td>\n",
       "      <td>{'neg': 0.706, 'neu': 0.294, 'pos': 0.0, 'comp...</td>\n",
       "      <td>-0.3412</td>\n",
       "      <td>neg</td>\n",
       "      <td>1</td>\n",
       "    </tr>\n",
       "    <tr>\n",
       "      <th>125873</th>\n",
       "      <td>Vu Premium 108 cm (43 inch) Ultra HD (4K) LED ...</td>\n",
       "      <td>Great product</td>\n",
       "      <td>{'neg': 0.0, 'neu': 0.196, 'pos': 0.804, 'comp...</td>\n",
       "      <td>0.6249</td>\n",
       "      <td>pos</td>\n",
       "      <td>0</td>\n",
       "    </tr>\n",
       "    <tr>\n",
       "      <th>185192</th>\n",
       "      <td>IFB 23 L Convection Microwave Oven Reviews</td>\n",
       "      <td>Great product</td>\n",
       "      <td>{'neg': 0.0, 'neu': 0.196, 'pos': 0.804, 'comp...</td>\n",
       "      <td>0.6249</td>\n",
       "      <td>pos</td>\n",
       "      <td>0</td>\n",
       "    </tr>\n",
       "    <tr>\n",
       "      <th>13798</th>\n",
       "      <td>InnoQ 7.5 Kg Tubo Wash Technology with Jet Dry...</td>\n",
       "      <td>Classy product, Sleek and Light..</td>\n",
       "      <td>{'neg': 0.0, 'neu': 0.58, 'pos': 0.42, 'compou...</td>\n",
       "      <td>0.4404</td>\n",
       "      <td>pos</td>\n",
       "      <td>0</td>\n",
       "    </tr>\n",
       "    <tr>\n",
       "      <th>88843</th>\n",
       "      <td>APPLE iPhone 7 (Jet Black, 32 GB) Reviews</td>\n",
       "      <td>Great product</td>\n",
       "      <td>{'neg': 0.0, 'neu': 0.196, 'pos': 0.804, 'comp...</td>\n",
       "      <td>0.6249</td>\n",
       "      <td>pos</td>\n",
       "      <td>0</td>\n",
       "    </tr>\n",
       "  </tbody>\n",
       "</table>\n",
       "</div>"
      ],
      "text/plain": [
       "                                            product_title  \\\n",
       "91305   APPLE iPhone 13 Pro Max (Graphite, 128 GB) Rev...   \n",
       "188911  IFB Descaling Detergent Powder for washing mac...   \n",
       "176863  IFB 6.5 kg 5 Star Aqua Conserve Hard Water Was...   \n",
       "247248  Whirlpool 190 L Direct Cool Single Door 2 Star...   \n",
       "156492  IFB 8 kg Steam Wash 4 years Comprehensive Warr...   \n",
       "62338                 Mi A3 (Kind of Grey, 64 GB) Reviews   \n",
       "125873  Vu Premium 108 cm (43 inch) Ultra HD (4K) LED ...   \n",
       "185192         IFB 23 L Convection Microwave Oven Reviews   \n",
       "13798   InnoQ 7.5 Kg Tubo Wash Technology with Jet Dry...   \n",
       "88843           APPLE iPhone 7 (Jet Black, 32 GB) Reviews   \n",
       "\n",
       "                                  reviews  \\\n",
       "91305                   Terrific purchase   \n",
       "188911                          Just okay   \n",
       "176863                Best in the market!   \n",
       "247248                  Worth every penny   \n",
       "156492                    Waste of money!   \n",
       "62338                            Not good   \n",
       "125873                      Great product   \n",
       "185192                      Great product   \n",
       "13798   Classy product, Sleek and Light..   \n",
       "88843                       Great product   \n",
       "\n",
       "                                                   scores  compound  \\\n",
       "91305   {'neg': 0.0, 'neu': 0.244, 'pos': 0.756, 'comp...    0.4767   \n",
       "188911  {'neg': 0.0, 'neu': 0.345, 'pos': 0.655, 'comp...    0.2263   \n",
       "176863  {'neg': 0.0, 'neu': 0.4, 'pos': 0.6, 'compound...    0.6696   \n",
       "247248  {'neg': 0.0, 'neu': 0.513, 'pos': 0.487, 'comp...    0.2263   \n",
       "156492  {'neg': 0.607, 'neu': 0.393, 'pos': 0.0, 'comp...   -0.4753   \n",
       "62338   {'neg': 0.706, 'neu': 0.294, 'pos': 0.0, 'comp...   -0.3412   \n",
       "125873  {'neg': 0.0, 'neu': 0.196, 'pos': 0.804, 'comp...    0.6249   \n",
       "185192  {'neg': 0.0, 'neu': 0.196, 'pos': 0.804, 'comp...    0.6249   \n",
       "13798   {'neg': 0.0, 'neu': 0.58, 'pos': 0.42, 'compou...    0.4404   \n",
       "88843   {'neg': 0.0, 'neu': 0.196, 'pos': 0.804, 'comp...    0.6249   \n",
       "\n",
       "       comp_score  neg  \n",
       "91305         pos    0  \n",
       "188911        pos    0  \n",
       "176863        pos    0  \n",
       "247248        pos    0  \n",
       "156492        neg    1  \n",
       "62338         neg    1  \n",
       "125873        pos    0  \n",
       "185192        pos    0  \n",
       "13798         pos    0  \n",
       "88843         pos    0  "
      ]
     },
     "execution_count": 150,
     "metadata": {},
     "output_type": "execute_result"
    }
   ],
   "source": [
    "fd_balanced['neg']=fd_balanced['comp_score'].apply(lambda x: 1 if x=='neg' else 0)\n",
    "fd_balanced.sample(10)"
   ]
  },
  {
   "cell_type": "code",
   "execution_count": 151,
   "id": "ccd302e1",
   "metadata": {},
   "outputs": [
    {
     "data": {
      "text/plain": [
       "(33196, 6)"
      ]
     },
     "execution_count": 151,
     "metadata": {},
     "output_type": "execute_result"
    }
   ],
   "source": [
    "fd_balanced.shape"
   ]
  },
  {
   "cell_type": "code",
   "execution_count": 156,
   "id": "1fb2c8d2",
   "metadata": {},
   "outputs": [],
   "source": [
    "ps.set_option('display.max_colwidth', None)"
   ]
  },
  {
   "cell_type": "code",
   "execution_count": 161,
   "id": "386548f7",
   "metadata": {},
   "outputs": [
    {
     "name": "stdout",
     "output_type": "stream",
     "text": [
      "33186    Godrej 223 L Frost Free Double Door 2 Star Refrigerator Reviews\n",
      "33187    Godrej 223 L Frost Free Double Door 2 Star Refrigerator Reviews\n",
      "33188    Godrej 223 L Frost Free Double Door 2 Star Refrigerator Reviews\n",
      "33189     Voltas Beko 563 L Frost Free Side by Side Refrigerator Reviews\n",
      "33190     Voltas Beko 563 L Frost Free Side by Side Refrigerator Reviews\n",
      "33191    Godrej 294 L Frost Free Double Door 2 Star Refrigerator Reviews\n",
      "33192    Godrej 294 L Frost Free Double Door 2 Star Refrigerator Reviews\n",
      "33193    Godrej 294 L Frost Free Double Door 2 Star Refrigerator Reviews\n",
      "33194    Godrej 294 L Frost Free Double Door 2 Star Refrigerator Reviews\n",
      "33195    Godrej 294 L Frost Free Double Door 2 Star Refrigerator Reviews\n",
      "Name: product_title, dtype: object\n"
     ]
    }
   ],
   "source": [
    "# Print the DataFrame with full product names\n",
    "print(fd_balanced['product_title'].tail(10))"
   ]
  },
  {
   "cell_type": "code",
   "execution_count": 155,
   "id": "067b5078",
   "metadata": {},
   "outputs": [
    {
     "data": {
      "text/plain": [
       "0                Redmi Note 7S (Onyx Black, 64 GB) Reviews\n",
       "1        IFB 7 kg 5 Star 2X Power Steam, Hard Water Was...\n",
       "2        SAMSUNG Crystal 4K 108 cm (43 inch) Ultra HD (...\n",
       "3              APPLE iPhone 13 mini (Blue, 256 GB) Reviews\n",
       "4        IFB 8 kg 5 Star 9 Swirl AI Powered with Wi-Fi ...\n",
       "                               ...                        \n",
       "33191    Godrej 294 L Frost Free Double Door 2 Star Ref...\n",
       "33192    Godrej 294 L Frost Free Double Door 2 Star Ref...\n",
       "33193    Godrej 294 L Frost Free Double Door 2 Star Ref...\n",
       "33194    Godrej 294 L Frost Free Double Door 2 Star Ref...\n",
       "33195    Godrej 294 L Frost Free Double Door 2 Star Ref...\n",
       "Name: product_title, Length: 33196, dtype: object"
      ]
     },
     "execution_count": 155,
     "metadata": {},
     "output_type": "execute_result"
    }
   ],
   "source": [
    "fd_balanced.product_title"
   ]
  },
  {
   "cell_type": "code",
   "execution_count": 152,
   "id": "c1267159",
   "metadata": {},
   "outputs": [],
   "source": [
    "# Recommendation System\n",
    "def get_similar_products(product_title, n):\n",
    "    # Create TF-IDF matrix\n",
    "    tfidf = TfidfVectorizer(stop_words='english')\n",
    "    tfidf_matrix = tfidf.fit_transform(fd_balanced['reviews'])\n",
    "\n",
    "    # Compute the cosine similarity matrix\n",
    "    cosine_sim = linear_kernel(tfidf_matrix, tfidf_matrix)\n",
    "\n",
    "    # Reset the index of fd_balanced\n",
    "    fd_balanced.reset_index(drop=True, inplace=True)\n",
    "\n",
    "    # Get the index of the product\n",
    "    indices = ps.Series(fd_balanced.index, index=fd_balanced['product_title']).drop_duplicates()\n",
    "    idx = indices[product_title]\n",
    "\n",
    "    # Compute the pairwise similarity scores\n",
    "    scores = list(enumerate(cosine_sim[idx]))\n",
    "\n",
    "    # Sort the products based on similarity scores\n",
    "    scores = sorted(scores, key=lambda x: x[1][0], reverse=True)  # Modify the sorting logic here\n",
    "\n",
    "    # Get the top n similar products (excluding itself)\n",
    "    top_scores = scores[1:n + 1]\n",
    "\n",
    "    # Get the product indices\n",
    "    product_indices = [score[0] for score in top_scores]\n",
    "\n",
    "    # Return the top n similar products\n",
    "    return fd_balanced['product_title'].iloc[product_indices]\n"
   ]
  },
  {
   "cell_type": "code",
   "execution_count": 162,
   "id": "18892856",
   "metadata": {},
   "outputs": [
    {
     "name": "stdout",
     "output_type": "stream",
     "text": [
      "Top 5 recommended products for 'Godrej 223 L Frost Free Double Door 2 Star Refrigerator Reviews':\n",
      "1                                                     IFB 7 kg 5 Star 2X Power Steam, Hard Water Wash Fully Automatic Front Load Washing Machine with In-built Heater Brown Reviews\n",
      "2                                                                                                      SAMSUNG Crystal 4K 108 cm (43 inch) Ultra HD (4K) LED Smart Tizen TV Reviews\n",
      "3                                                                                                                                       APPLE iPhone 13 mini (Blue, 256 GB) Reviews\n",
      "4    IFB 8 kg 5 Star 9 Swirl AI Powered with Wi-Fi 4 years Comprehensive Warranty with 2x Power Steam Fully Automatic Front Load Washing Machine with In-built Heater Brown Reviews\n",
      "5                                                                                                                                    APPLE iPhone 13 ((PRODUCT)RED, 256 GB) Reviews\n",
      "Name: product_title, dtype: object\n"
     ]
    }
   ],
   "source": [
    "product = \"     Godrej 223 L Frost Free Double Door 2 Star Refrigerator Reviews\".strip()\n",
    "num_recommendations = 5\n",
    "recommendations = get_similar_products(product, num_recommendations)\n",
    "print(f\"Top {num_recommendations} recommended products for '{product}':\")\n",
    "print(recommendations)"
   ]
  },
  {
   "cell_type": "code",
   "execution_count": 163,
   "id": "6064d08c",
   "metadata": {},
   "outputs": [],
   "source": [
    "from sklearn.model_selection import train_test_split\n",
    "\n",
    "X_train, X_test, y_train, y_test = train_test_split(fd_balanced['reviews'],fd_balanced['neg'], stratify=fd_balanced['neg'])"
   ]
  },
  {
   "cell_type": "code",
   "execution_count": 164,
   "id": "98016f45",
   "metadata": {},
   "outputs": [
    {
     "data": {
      "text/plain": [
       "19357    Worst experience ever!\n",
       "32247                 Worthless\n",
       "1798          Terrific purchase\n",
       "25848           Waste of money!\n",
       "Name: reviews, dtype: object"
      ]
     },
     "execution_count": 164,
     "metadata": {},
     "output_type": "execute_result"
    }
   ],
   "source": [
    "X_train.head(4)"
   ]
  },
  {
   "cell_type": "code",
   "execution_count": 165,
   "id": "2be3ece3",
   "metadata": {
    "scrolled": true
   },
   "outputs": [],
   "source": [
    "bert_preprocess = hub.KerasLayer(\"https://tfhub.dev/tensorflow/bert_en_uncased_preprocess/3\")\n",
    "bert_encoder = hub.KerasLayer(\"https://tfhub.dev/tensorflow/bert_en_uncased_L-12_H-768_A-12/4\")"
   ]
  },
  {
   "cell_type": "code",
   "execution_count": 166,
   "id": "0b6ffb59",
   "metadata": {},
   "outputs": [
    {
     "data": {
      "text/plain": [
       "<tf.Tensor: shape=(4, 768), dtype=float32, numpy=\n",
       "array([[-0.8435169 , -0.5132726 , -0.88845724, ..., -0.74748874,\n",
       "        -0.7531473 ,  0.9196449 ],\n",
       "       [-0.9241627 , -0.29388258, -0.9712885 , ..., -0.9276766 ,\n",
       "        -0.6102464 ,  0.90782315],\n",
       "       [-0.8739092 , -0.43364036, -0.85776633, ..., -0.7138211 ,\n",
       "        -0.7192733 ,  0.9243591 ],\n",
       "       [-0.8730835 , -0.2893696 , -0.35944772, ...,  0.08192193,\n",
       "        -0.69178367,  0.9021187 ]], dtype=float32)>"
      ]
     },
     "execution_count": 166,
     "metadata": {},
     "output_type": "execute_result"
    }
   ],
   "source": [
    "def get_sentence_embeding(sentences):\n",
    "    preprocessed_text = bert_preprocess(sentences)\n",
    "    return bert_encoder(preprocessed_text)['pooled_output']\n",
    "\n",
    "get_sentence_embeding([\n",
    "    \"500$ discount. hurry up\", \n",
    "    \"Odin, are you there?\",\n",
    "    \"I will meet you in Valhalla, will drink ale\",\n",
    "    \"Why always me, God\"]\n",
    ")"
   ]
  },
  {
   "cell_type": "code",
   "execution_count": 167,
   "id": "13e24bd9",
   "metadata": {},
   "outputs": [],
   "source": [
    "e = get_sentence_embeding([\n",
    "    \"banana\", \n",
    "    \"grapes\",\n",
    "    \"mango\",\n",
    "    \"gautam adani\",\n",
    "    \"elon musk\",\n",
    "    \"Bill gates\",\n",
    "    \"Narendra modi\",\n",
    "    \"yogi adityanath\",\n",
    "    \"Jai Shree Ram\"\n",
    "]\n",
    ")"
   ]
  },
  {
   "cell_type": "code",
   "execution_count": 168,
   "id": "64b52c7d",
   "metadata": {},
   "outputs": [
    {
     "data": {
      "text/plain": [
       "array([[0.9911088]], dtype=float32)"
      ]
     },
     "execution_count": 168,
     "metadata": {},
     "output_type": "execute_result"
    }
   ],
   "source": [
    "from sklearn.metrics.pairwise import cosine_similarity\n",
    "cosine_similarity([e[0]],[e[1]])"
   ]
  },
  {
   "cell_type": "code",
   "execution_count": 169,
   "id": "0995f829",
   "metadata": {},
   "outputs": [
    {
     "data": {
      "text/plain": [
       "array([[0.921638]], dtype=float32)"
      ]
     },
     "execution_count": 169,
     "metadata": {},
     "output_type": "execute_result"
    }
   ],
   "source": [
    "cosine_similarity([e[0]],[e[3]])"
   ]
  },
  {
   "cell_type": "code",
   "execution_count": 170,
   "id": "f6ddd7af",
   "metadata": {},
   "outputs": [],
   "source": [
    "# Bert layers\n",
    "text_input = tf.keras.layers.Input(shape=(), dtype=tf.string, name='text')\n",
    "preprocessed_text = bert_preprocess(text_input)\n",
    "outputs = bert_encoder(preprocessed_text)\n",
    "\n",
    "# Neural network layers\n",
    "l = tf.keras.layers.Dropout(0.1, name=\"dropout\")(outputs['pooled_output'])\n",
    "l = tf.keras.layers.Dense(1, activation='sigmoid', name=\"output\")(l)\n",
    "\n",
    "# Use inputs and outputs to construct a final model\n",
    "model = tf.keras.Model(inputs=[text_input], outputs = [l])"
   ]
  },
  {
   "cell_type": "code",
   "execution_count": 171,
   "id": "0d7b74f9",
   "metadata": {},
   "outputs": [
    {
     "name": "stdout",
     "output_type": "stream",
     "text": [
      "Model: \"model_1\"\n",
      "__________________________________________________________________________________________________\n",
      " Layer (type)                   Output Shape         Param #     Connected to                     \n",
      "==================================================================================================\n",
      " text (InputLayer)              [(None,)]            0           []                               \n",
      "                                                                                                  \n",
      " keras_layer_2 (KerasLayer)     {'input_mask': (Non  0           ['text[0][0]']                   \n",
      "                                e, 128),                                                          \n",
      "                                 'input_word_ids':                                                \n",
      "                                (None, 128),                                                      \n",
      "                                 'input_type_ids':                                                \n",
      "                                (None, 128)}                                                      \n",
      "                                                                                                  \n",
      " keras_layer_3 (KerasLayer)     {'default': (None,   109482241   ['keras_layer_2[0][0]',          \n",
      "                                768),                             'keras_layer_2[0][1]',          \n",
      "                                 'encoder_outputs':               'keras_layer_2[0][2]']          \n",
      "                                 [(None, 128, 768),                                               \n",
      "                                 (None, 128, 768),                                                \n",
      "                                 (None, 128, 768),                                                \n",
      "                                 (None, 128, 768),                                                \n",
      "                                 (None, 128, 768),                                                \n",
      "                                 (None, 128, 768),                                                \n",
      "                                 (None, 128, 768),                                                \n",
      "                                 (None, 128, 768),                                                \n",
      "                                 (None, 128, 768),                                                \n",
      "                                 (None, 128, 768),                                                \n",
      "                                 (None, 128, 768),                                                \n",
      "                                 (None, 128, 768)],                                               \n",
      "                                 'pooled_output': (                                               \n",
      "                                None, 768),                                                       \n",
      "                                 'sequence_output':                                               \n",
      "                                 (None, 128, 768)}                                                \n",
      "                                                                                                  \n",
      " dropout (Dropout)              (None, 768)          0           ['keras_layer_3[0][13]']         \n",
      "                                                                                                  \n",
      " output (Dense)                 (None, 1)            769         ['dropout[0][0]']                \n",
      "                                                                                                  \n",
      "==================================================================================================\n",
      "Total params: 109,483,010\n",
      "Trainable params: 769\n",
      "Non-trainable params: 109,482,241\n",
      "__________________________________________________________________________________________________\n"
     ]
    }
   ],
   "source": [
    "model.summary()"
   ]
  },
  {
   "cell_type": "code",
   "execution_count": 172,
   "id": "447f577c",
   "metadata": {},
   "outputs": [
    {
     "data": {
      "text/plain": [
       "24897"
      ]
     },
     "execution_count": 172,
     "metadata": {},
     "output_type": "execute_result"
    }
   ],
   "source": [
    "len(X_train)"
   ]
  },
  {
   "cell_type": "code",
   "execution_count": 173,
   "id": "0f1d7e7c",
   "metadata": {},
   "outputs": [
    {
     "data": {
      "text/plain": [
       "24897"
      ]
     },
     "execution_count": 173,
     "metadata": {},
     "output_type": "execute_result"
    }
   ],
   "source": [
    "len(y_train)"
   ]
  },
  {
   "cell_type": "code",
   "execution_count": 174,
   "id": "d7a5a925",
   "metadata": {},
   "outputs": [],
   "source": [
    "METRICS = [\n",
    "      tf.keras.metrics.BinaryAccuracy(name='accuracy'),\n",
    "      tf.keras.metrics.Precision(name='precision'),\n",
    "      tf.keras.metrics.Recall(name='recall')\n",
    "]\n",
    "\n",
    "model.compile(optimizer='adam',\n",
    "              loss='binary_crossentropy',\n",
    "              metrics=METRICS)"
   ]
  },
  {
   "cell_type": "code",
   "execution_count": 175,
   "id": "220b00e3",
   "metadata": {},
   "outputs": [],
   "source": [
    "X_train = X_train.reset_index(drop=True)\n",
    "y_train = y_train.reset_index(drop=True)"
   ]
  },
  {
   "cell_type": "code",
   "execution_count": 64,
   "id": "c4f08101",
   "metadata": {},
   "outputs": [
    {
     "name": "stdout",
     "output_type": "stream",
     "text": [
      "Epoch 1/10\n",
      "551/551 [==============================] - 2066s 4s/step - loss: 0.5070 - accuracy: 0.8198 - precision: 0.8144 - recall: 0.8283\n",
      "Epoch 2/10\n",
      "551/551 [==============================] - 2061s 4s/step - loss: 0.3212 - accuracy: 0.9411 - precision: 0.9293 - recall: 0.9549\n",
      "Epoch 3/10\n",
      "551/551 [==============================] - 1976s 4s/step - loss: 0.2418 - accuracy: 0.9589 - precision: 0.9480 - recall: 0.9711\n",
      "Epoch 4/10\n",
      "551/551 [==============================] - 2073s 4s/step - loss: 0.1984 - accuracy: 0.9639 - precision: 0.9548 - recall: 0.9740\n",
      "Epoch 5/10\n",
      "551/551 [==============================] - 2268s 4s/step - loss: 0.1739 - accuracy: 0.9655 - precision: 0.9571 - recall: 0.9747\n",
      "Epoch 6/10\n",
      "551/551 [==============================] - 2038s 4s/step - loss: 0.1558 - accuracy: 0.9693 - precision: 0.9619 - recall: 0.9773\n",
      "Epoch 7/10\n",
      "551/551 [==============================] - 2045s 4s/step - loss: 0.1423 - accuracy: 0.9707 - precision: 0.9640 - recall: 0.9778\n",
      "Epoch 8/10\n",
      "551/551 [==============================] - 2018s 4s/step - loss: 0.1311 - accuracy: 0.9721 - precision: 0.9654 - recall: 0.9793\n",
      "Epoch 9/10\n",
      "551/551 [==============================] - 2034s 4s/step - loss: 0.1217 - accuracy: 0.9723 - precision: 0.9656 - recall: 0.9794\n",
      "Epoch 10/10\n",
      "551/551 [==============================] - 2050s 4s/step - loss: 0.1164 - accuracy: 0.9732 - precision: 0.9669 - recall: 0.9800\n"
     ]
    },
    {
     "data": {
      "text/plain": [
       "<keras.callbacks.History at 0x227e9eb77c0>"
      ]
     },
     "execution_count": 64,
     "metadata": {},
     "output_type": "execute_result"
    }
   ],
   "source": [
    "model.fit(X_train, y_train, epochs=10)"
   ]
  },
  {
   "cell_type": "code",
   "execution_count": 65,
   "id": "156e9313",
   "metadata": {},
   "outputs": [
    {
     "name": "stdout",
     "output_type": "stream",
     "text": [
      "184/184 [==============================] - 675s 4s/step - loss: 0.0943 - accuracy: 0.9797 - precision: 0.9825 - recall: 0.9768\n"
     ]
    },
    {
     "data": {
      "text/plain": [
       "[0.09432397782802582,\n",
       " 0.9797205328941345,\n",
       " 0.9825162887573242,\n",
       " 0.9768234491348267]"
      ]
     },
     "execution_count": 65,
     "metadata": {},
     "output_type": "execute_result"
    }
   ],
   "source": [
    "X_test = X_test.reset_index(drop=True)\n",
    "y_test = y_test.reset_index(drop=True)\n",
    "\n",
    "model.evaluate(X_test, y_test)"
   ]
  },
  {
   "cell_type": "code",
   "execution_count": 66,
   "id": "f4374174",
   "metadata": {},
   "outputs": [
    {
     "name": "stdout",
     "output_type": "stream",
     "text": [
      "184/184 [==============================] - 683s 4s/step\n"
     ]
    }
   ],
   "source": [
    "y_predicted = model.predict(X_test)\n",
    "y_predicted = y_predicted.flatten()"
   ]
  },
  {
   "cell_type": "code",
   "execution_count": 67,
   "id": "db847440",
   "metadata": {},
   "outputs": [
    {
     "data": {
      "text/plain": [
       "array([1, 0, 1, ..., 0, 1, 1])"
      ]
     },
     "execution_count": 67,
     "metadata": {},
     "output_type": "execute_result"
    }
   ],
   "source": [
    "import numpy as np\n",
    "\n",
    "y_predicted = np.where(y_predicted > 0.5, 1, 0)\n",
    "y_predicted"
   ]
  },
  {
   "cell_type": "code",
   "execution_count": 68,
   "id": "26e4ac25",
   "metadata": {},
   "outputs": [
    {
     "data": {
      "text/plain": [
       "array([[2883,   51],\n",
       "       [  68, 2866]], dtype=int64)"
      ]
     },
     "execution_count": 68,
     "metadata": {},
     "output_type": "execute_result"
    }
   ],
   "source": [
    "from sklearn.metrics import confusion_matrix, classification_report\n",
    "\n",
    "cm = confusion_matrix(y_test, y_predicted)\n",
    "cm "
   ]
  },
  {
   "cell_type": "code",
   "execution_count": 69,
   "id": "552f04d9",
   "metadata": {},
   "outputs": [
    {
     "data": {
      "text/plain": [
       "Text(50.722222222222214, 0.5, 'Truth')"
      ]
     },
     "execution_count": 69,
     "metadata": {},
     "output_type": "execute_result"
    },
    {
     "data": {
      "image/png": "[encoded data removed]",
      "text/plain": [
       "<Figure size 640x480 with 2 Axes>"
      ]
     },
     "metadata": {},
     "output_type": "display_data"
    }
   ],
   "source": [
    "sns.heatmap(cm, annot=True, fmt='d')\n",
    "mt.xlabel('Predicted')\n",
    "mt.ylabel('Truth')"
   ]
  },
  {
   "cell_type": "code",
   "execution_count": 70,
   "id": "7a4c0c47",
   "metadata": {},
   "outputs": [
    {
     "name": "stdout",
     "output_type": "stream",
     "text": [
      "              precision    recall  f1-score   support\n",
      "\n",
      "           0       0.98      0.98      0.98      2934\n",
      "           1       0.98      0.98      0.98      2934\n",
      "\n",
      "    accuracy                           0.98      5868\n",
      "   macro avg       0.98      0.98      0.98      5868\n",
      "weighted avg       0.98      0.98      0.98      5868\n",
      "\n"
     ]
    }
   ],
   "source": [
    "print(classification_report(y_test, y_predicted))"
   ]
  },
  {
   "cell_type": "code",
   "execution_count": 176,
   "id": "ba24cc17",
   "metadata": {},
   "outputs": [
    {
     "name": "stdout",
     "output_type": "stream",
     "text": [
      "1/1 [==============================] - 2s 2s/step\n"
     ]
    },
    {
     "data": {
      "text/plain": [
       "array([[0.7000023 ],\n",
       "       [0.82846874],\n",
       "       [0.6304537 ],\n",
       "       [0.7469338 ],\n",
       "       [0.8222758 ],\n",
       "       [0.6595433 ],\n",
       "       [0.89773744],\n",
       "       [0.87080014],\n",
       "       [0.88267267],\n",
       "       [0.8351355 ],\n",
       "       [0.6712159 ]], dtype=float32)"
      ]
     },
     "execution_count": 176,
     "metadata": {},
     "output_type": "execute_result"
    }
   ],
   "source": [
    "reviews = [\n",
    "    \"Utterly Disappointed\",\n",
    "    \"Worst Product i have ever seen\",\n",
    "    \"Worth Purchase\",\n",
    "    \"Super!\",\n",
    "    \"Making shopping feel like a punishment.\",\n",
    "    \"Where your orders go to vanish into thin air\",\n",
    "    \"Excellent quality and durability, worth every penny!\",\n",
    "    \"Sleek design and leak-proof, perfect for on-the-go hydration.\",\n",
    "    \"Lightweight and compact, fits perfectly in my bag or backpack.\",\n",
    "    \"Shut up just say jai shree ram\",\n",
    "    \"This is the worst i have seen\",\n",
    "]\n",
    "model.predict(reviews)"
   ]
  },
  {
   "cell_type": "code",
   "execution_count": null,
   "id": "cfb863e1",
   "metadata": {},
   "outputs": [],
   "source": []
  }
 ],
 "metadata": {
  "kernelspec": {
   "display_name": "Python 3 (ipykernel)",
   "language": "python",
   "name": "python3"
  },
  "language_info": {
   "codemirror_mode": {
    "name": "ipython",
    "version": 3
   },
   "file_extension": ".py",
   "mimetype": "text/x-python",
   "name": "python",
   "nbconvert_exporter": "python",
   "pygments_lexer": "ipython3",
   "version": "3.10.12"
  }
 },
 "nbformat": 4,
 "nbformat_minor": 5
}
