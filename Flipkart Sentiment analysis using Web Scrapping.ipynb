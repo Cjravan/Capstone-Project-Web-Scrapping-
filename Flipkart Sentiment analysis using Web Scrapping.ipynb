{
 "cells": [
  {
   "cell_type": "code",
   "execution_count": 30,
   "id": "859c9c96",
   "metadata": {},
   "outputs": [],
   "source": [
    "import requests \n",
    "from bs4 import BeautifulSoup as bs\n",
    "import numpy as np\n",
    "import pandas as ps\n",
    "import tensorflow as tf\n",
    "import tensorflow_hub as hub\n",
    "import tensorflow_text as text\n",
    "import matplotlib.pyplot as mt\n",
    "import pandas as ps\n",
    "import numpy as np\n",
    "import seaborn as sns\n",
    "import math\n",
    "import warnings\n",
    "warnings.filterwarnings('ignore') # Hides warning\n",
    "warnings.filterwarnings(\"ignore\", category=DeprecationWarning)\n",
    "warnings.filterwarnings(\"ignore\",category=UserWarning)\n",
    "sns.set_style(\"whitegrid\") # Plotting style\n",
    "np.random.seed(7) # seeding random number generator\n",
    "import seaborn as sns\n",
    "\n",
    "mt.style.use('ggplot')\n",
    "\n",
    "import nltk"
   ]
  },
  {
   "cell_type": "code",
   "execution_count": 46,
   "id": "948c060f",
   "metadata": {},
   "outputs": [
    {
     "name": "stdout",
     "output_type": "stream",
     "text": [
      "Enter Your product: vu\n"
     ]
    }
   ],
   "source": [
    "product_name = input(\"Enter Your product: \")"
   ]
  },
  {
   "cell_type": "code",
   "execution_count": 47,
   "id": "f58bee16",
   "metadata": {},
   "outputs": [],
   "source": [
    "page_url=\"https://www.flipkart.com/search?q={}\".format(product_name)\n",
    "scrap_pageno=requests.get(page_url).text\n",
    "page_web=bs(scrap_pageno)"
   ]
  },
  {
   "cell_type": "code",
   "execution_count": 48,
   "id": "59baf120",
   "metadata": {},
   "outputs": [
    {
     "data": {
      "text/plain": [
       "'2'"
      ]
     },
     "execution_count": 48,
     "metadata": {},
     "output_type": "execute_result"
    }
   ],
   "source": [
    "page_web.find_all(\"div\",class_=\"_2MImiq\")[0].find(\"span\").text.split()[3]"
   ]
  },
  {
   "cell_type": "code",
   "execution_count": 49,
   "id": "8b9062bf",
   "metadata": {},
   "outputs": [],
   "source": [
    "page_url=\"https://www.flipkart.com/search?q={}\".format(product_name)\n",
    "scrap_pageno=requests.get(page_url).text\n",
    "page_web=bs(scrap_pageno)\n",
    "try:\n",
    "    page_no=int(page_web.find_all(\"div\",class_=\"_2MImiq\")[0].find(\"span\").text.split()[3])\n",
    "    \n",
    "except Exception as e:\n",
    "    a=page_web.find_all(\"div\",class_=\"_2MImiq\")[0].find(\"span\").text.split()[3].split(\",\")\n",
    "    page_no=int(a[0]+a[1])"
   ]
  },
  {
   "cell_type": "code",
   "execution_count": 50,
   "id": "150e80fe",
   "metadata": {},
   "outputs": [
    {
     "data": {
      "text/plain": [
       "2"
      ]
     },
     "execution_count": 50,
     "metadata": {},
     "output_type": "execute_result"
    }
   ],
   "source": [
    "page_no"
   ]
  },
  {
   "cell_type": "code",
   "execution_count": 52,
   "id": "3fd8a656",
   "metadata": {},
   "outputs": [],
   "source": [
    "import requests\n",
    "from bs4 import BeautifulSoup as bs\n",
    "\n",
    "final_links = []\n",
    "reviews = []\n",
    "product_title = []\n",
    "\n",
    "for i in range(1, page_no + 1):\n",
    "    url = \"https://www.flipkart.com/search?q={}&page={}\".format(product_name, i)\n",
    "    headers = {\n",
    "        \"User-Agent\": \"Mozilla/5.0 (Windows NT 6.3; Win64; x64) AppleWebKit/537.36 (KHTML, like Gecko) Chrome/80.0.3987.162 Safari/537.36\"\n",
    "    }\n",
    "    webpage = requests.get(url, headers=headers).text\n",
    "    scrap = requests.get(url).text\n",
    "    web = bs(scrap)\n",
    "    \n",
    "    for j in web.find_all(\"a\", class_=\"_1fQZEK\"):\n",
    "        link = \"https://www.flipkart.com\" + j.get(\"href\")\n",
    "        link = link.replace(\"/p/\", \"/product-reviews/\")\n",
    "        final_links.append(link)\n",
    "else:\n",
    "    for k in final_links:\n",
    "        product_page = requests.get(k).text\n",
    "        page_web = bs(product_page)\n",
    "        test = page_web.find_all(\"div\", class_=\"_2MImiq _1Qnn1K\")\n",
    "        \n",
    "        if len(test) > 0:\n",
    "            try:\n",
    "                pro_page_no = int(page_web.find_all(\"div\", class_=\"_2MImiq _1Qnn1K\")[0].find(\"span\").text.split()[3])\n",
    "            except Exception as e:\n",
    "                pro_ex = page_web.find_all(\"div\", class_=\"_2MImiq _1Qnn1K\")[0].find(\"span\").text.split()[3].split(\",\")\n",
    "                pro_page_no = int(pro_ex[0] + pro_ex[1])\n",
    "        else:\n",
    "            pro_page_no = 1\n",
    "        \n",
    "        for t in range(1):\n",
    "            scrap = requests.get(k + \"&page={}\".format(t)).text\n",
    "            pro_web = bs(scrap)\n",
    "            \n",
    "            for l in pro_web.find_all(\"p\", class_=\"_2-N8zT\"):\n",
    "                reviews.append(l.text)\n",
    "                try:\n",
    "                    product_title.append(pro_web.find(\"div\", class_=\"_2s4DIt _1CDdy2\").text)\n",
    "                except:\n",
    "                    product_title.append(\"no name\")"
   ]
  },
  {
   "cell_type": "code",
   "execution_count": 53,
   "id": "4159257c",
   "metadata": {},
   "outputs": [
    {
     "data": {
      "text/plain": [
       "<div class=\"_2s4DIt _1CDdy2\">Vu Premium 108 cm (43 inch) Full HD LED Smart Linux TV Reviews</div>"
      ]
     },
     "execution_count": 53,
     "metadata": {},
     "output_type": "execute_result"
    }
   ],
   "source": [
    "pro_web.find(\"div\",class_=\"_2s4DIt _1CDdy2\")"
   ]
  },
  {
   "cell_type": "code",
   "execution_count": 54,
   "id": "df5c1f28",
   "metadata": {},
   "outputs": [
    {
     "data": {
      "text/plain": [
       "0"
      ]
     },
     "execution_count": 54,
     "metadata": {},
     "output_type": "execute_result"
    }
   ],
   "source": [
    "len(reviews)"
   ]
  },
  {
   "cell_type": "code",
   "execution_count": 55,
   "id": "25309fdf",
   "metadata": {},
   "outputs": [
    {
     "data": {
      "text/plain": [
       "0"
      ]
     },
     "execution_count": 55,
     "metadata": {},
     "output_type": "execute_result"
    }
   ],
   "source": [
    "len(product_title)"
   ]
  },
  {
   "cell_type": "code",
   "execution_count": 43,
   "id": "47a42936",
   "metadata": {},
   "outputs": [
    {
     "data": {
      "text/html": [
       "<div>\n",
       "<style scoped>\n",
       "    .dataframe tbody tr th:only-of-type {\n",
       "        vertical-align: middle;\n",
       "    }\n",
       "\n",
       "    .dataframe tbody tr th {\n",
       "        vertical-align: top;\n",
       "    }\n",
       "\n",
       "    .dataframe thead th {\n",
       "        text-align: right;\n",
       "    }\n",
       "</style>\n",
       "<table border=\"1\" class=\"dataframe\">\n",
       "  <thead>\n",
       "    <tr style=\"text-align: right;\">\n",
       "      <th></th>\n",
       "      <th>product_title</th>\n",
       "      <th>reviews</th>\n",
       "    </tr>\n",
       "  </thead>\n",
       "  <tbody>\n",
       "    <tr>\n",
       "      <th>0</th>\n",
       "      <td>Primebook 4G Android Based MediaTek MT8788 - (...</td>\n",
       "      <td>Simply awesome</td>\n",
       "    </tr>\n",
       "    <tr>\n",
       "      <th>1</th>\n",
       "      <td>Primebook 4G Android Based MediaTek MT8788 - (...</td>\n",
       "      <td>Terrific</td>\n",
       "    </tr>\n",
       "    <tr>\n",
       "      <th>2</th>\n",
       "      <td>Primebook 4G Android Based MediaTek MT8788 - (...</td>\n",
       "      <td>Awesome</td>\n",
       "    </tr>\n",
       "    <tr>\n",
       "      <th>3</th>\n",
       "      <td>Primebook 4G Android Based MediaTek MT8788 - (...</td>\n",
       "      <td>Worth every penny</td>\n",
       "    </tr>\n",
       "    <tr>\n",
       "      <th>4</th>\n",
       "      <td>Primebook 4G Android Based MediaTek MT8788 - (...</td>\n",
       "      <td>Very Good</td>\n",
       "    </tr>\n",
       "  </tbody>\n",
       "</table>\n",
       "</div>"
      ],
      "text/plain": [
       "                                       product_title            reviews\n",
       "0  Primebook 4G Android Based MediaTek MT8788 - (...     Simply awesome\n",
       "1  Primebook 4G Android Based MediaTek MT8788 - (...           Terrific\n",
       "2  Primebook 4G Android Based MediaTek MT8788 - (...            Awesome\n",
       "3  Primebook 4G Android Based MediaTek MT8788 - (...  Worth every penny\n",
       "4  Primebook 4G Android Based MediaTek MT8788 - (...          Very Good"
      ]
     },
     "execution_count": 43,
     "metadata": {},
     "output_type": "execute_result"
    }
   ],
   "source": [
    "import pandas as ps\n",
    "fd=ps.DataFrame({\"product_title\":product_title,\"reviews\":reviews})\n",
    "fd.head()"
   ]
  },
  {
   "cell_type": "code",
   "execution_count": 44,
   "id": "c78a12cb",
   "metadata": {},
   "outputs": [],
   "source": [
    "fd.to_csv(r\"C:\\Users\\Harshit\\Downloads\\laptops.csv\")"
   ]
  },
  {
   "cell_type": "code",
   "execution_count": 33,
   "id": "6382c5c8",
   "metadata": {},
   "outputs": [],
   "source": [
    "fd.to_csv(r\"C:\\Users\\Harshit\\Downloads\\jabbaaaa.csv\")"
   ]
  },
  {
   "cell_type": "code",
   "execution_count": 78,
   "id": "5cfbbb7d",
   "metadata": {},
   "outputs": [],
   "source": [
    "fd.to_csv(r\"C:\\Users\\Harshit\\Downloads\\washing_machines.csv\")"
   ]
  },
  {
   "cell_type": "code",
   "execution_count": 28,
   "id": "12b8f428",
   "metadata": {},
   "outputs": [],
   "source": [
    "fd.to_csv(r\"C:\\Users\\Harshit\\Downloads\\mi_mobiles.csv\")"
   ]
  },
  {
   "cell_type": "code",
   "execution_count": null,
   "id": "33594727",
   "metadata": {},
   "outputs": [],
   "source": [
    "fd.to_csv(r\"C:\\Users\\Harshit\\Downloads\\iphone_1.csv\")"
   ]
  },
  {
   "cell_type": "code",
   "execution_count": null,
   "id": "7217bb95",
   "metadata": {},
   "outputs": [],
   "source": [
    "fd.to_csv(r\"C:\\Users\\Harshit\\Downloads\\oneplusmobile.csv\")"
   ]
  },
  {
   "cell_type": "code",
   "execution_count": null,
   "id": "eafaffce",
   "metadata": {},
   "outputs": [],
   "source": [
    "fd.to_csv(r\"C:\\Users\\Harshit\\Downloads\\iphone.csv\")"
   ]
  },
  {
   "cell_type": "code",
   "execution_count": null,
   "id": "81bddaa1",
   "metadata": {},
   "outputs": [],
   "source": [
    "fd.to_csv(r\"C:\\Users\\Harshit\\Downloads\\samsungtv.csv\")"
   ]
  },
  {
   "cell_type": "code",
   "execution_count": 110,
   "id": "7a3f872e",
   "metadata": {},
   "outputs": [],
   "source": [
    "ps.set_option(\"display.max_rows\",None)"
   ]
  },
  {
   "cell_type": "code",
   "execution_count": 31,
   "id": "97be99df",
   "metadata": {},
   "outputs": [
    {
     "data": {
      "text/html": [
       "<div>\n",
       "<style scoped>\n",
       "    .dataframe tbody tr th:only-of-type {\n",
       "        vertical-align: middle;\n",
       "    }\n",
       "\n",
       "    .dataframe tbody tr th {\n",
       "        vertical-align: top;\n",
       "    }\n",
       "\n",
       "    .dataframe thead th {\n",
       "        text-align: right;\n",
       "    }\n",
       "</style>\n",
       "<table border=\"1\" class=\"dataframe\">\n",
       "  <thead>\n",
       "    <tr style=\"text-align: right;\">\n",
       "      <th></th>\n",
       "      <th>Unnamed: 0</th>\n",
       "      <th>product_title</th>\n",
       "      <th>reviews</th>\n",
       "    </tr>\n",
       "  </thead>\n",
       "  <tbody>\n",
       "    <tr>\n",
       "      <th>0</th>\n",
       "      <td>0</td>\n",
       "      <td>InnoQ 6.5 Kg Semi Automatic Top Load Washing M...</td>\n",
       "      <td>Best in the market!</td>\n",
       "    </tr>\n",
       "    <tr>\n",
       "      <th>1</th>\n",
       "      <td>1</td>\n",
       "      <td>InnoQ 6.5 Kg Semi Automatic Top Load Washing M...</td>\n",
       "      <td>Great product</td>\n",
       "    </tr>\n",
       "    <tr>\n",
       "      <th>2</th>\n",
       "      <td>2</td>\n",
       "      <td>InnoQ 6.5 Kg Semi Automatic Top Load Washing M...</td>\n",
       "      <td>Super!</td>\n",
       "    </tr>\n",
       "    <tr>\n",
       "      <th>3</th>\n",
       "      <td>3</td>\n",
       "      <td>InnoQ 6.5 Kg Semi Automatic Top Load Washing M...</td>\n",
       "      <td>Worth every penny</td>\n",
       "    </tr>\n",
       "    <tr>\n",
       "      <th>4</th>\n",
       "      <td>4</td>\n",
       "      <td>InnoQ 6.5 Kg Semi Automatic Top Load Washing M...</td>\n",
       "      <td>Just wow!</td>\n",
       "    </tr>\n",
       "  </tbody>\n",
       "</table>\n",
       "</div>"
      ],
      "text/plain": [
       "   Unnamed: 0                                      product_title  \\\n",
       "0           0  InnoQ 6.5 Kg Semi Automatic Top Load Washing M...   \n",
       "1           1  InnoQ 6.5 Kg Semi Automatic Top Load Washing M...   \n",
       "2           2  InnoQ 6.5 Kg Semi Automatic Top Load Washing M...   \n",
       "3           3  InnoQ 6.5 Kg Semi Automatic Top Load Washing M...   \n",
       "4           4  InnoQ 6.5 Kg Semi Automatic Top Load Washing M...   \n",
       "\n",
       "               reviews  \n",
       "0  Best in the market!  \n",
       "1        Great product  \n",
       "2               Super!  \n",
       "3    Worth every penny  \n",
       "4            Just wow!  "
      ]
     },
     "execution_count": 31,
     "metadata": {},
     "output_type": "execute_result"
    }
   ],
   "source": [
    "df=ps.read_csv(r\"C:\\Users\\Harshit\\Downloads\\washing_machines.csv\")\n",
    "df.head()"
   ]
  },
  {
   "cell_type": "code",
   "execution_count": 32,
   "id": "3542475f",
   "metadata": {},
   "outputs": [
    {
     "data": {
      "text/html": [
       "<div>\n",
       "<style scoped>\n",
       "    .dataframe tbody tr th:only-of-type {\n",
       "        vertical-align: middle;\n",
       "    }\n",
       "\n",
       "    .dataframe tbody tr th {\n",
       "        vertical-align: top;\n",
       "    }\n",
       "\n",
       "    .dataframe thead th {\n",
       "        text-align: right;\n",
       "    }\n",
       "</style>\n",
       "<table border=\"1\" class=\"dataframe\">\n",
       "  <thead>\n",
       "    <tr style=\"text-align: right;\">\n",
       "      <th></th>\n",
       "      <th>Unnamed: 0</th>\n",
       "      <th>product_title</th>\n",
       "      <th>reviews</th>\n",
       "    </tr>\n",
       "  </thead>\n",
       "  <tbody>\n",
       "    <tr>\n",
       "      <th>0</th>\n",
       "      <td>0</td>\n",
       "      <td>APPLE iPhone 13 (Starlight, 128 GB) Reviews</td>\n",
       "      <td>Mind-blowing purchase</td>\n",
       "    </tr>\n",
       "    <tr>\n",
       "      <th>1</th>\n",
       "      <td>1</td>\n",
       "      <td>APPLE iPhone 13 (Starlight, 128 GB) Reviews</td>\n",
       "      <td>Very Good</td>\n",
       "    </tr>\n",
       "    <tr>\n",
       "      <th>2</th>\n",
       "      <td>2</td>\n",
       "      <td>APPLE iPhone 13 (Starlight, 128 GB) Reviews</td>\n",
       "      <td>Best in the market!</td>\n",
       "    </tr>\n",
       "    <tr>\n",
       "      <th>3</th>\n",
       "      <td>3</td>\n",
       "      <td>APPLE iPhone 13 (Starlight, 128 GB) Reviews</td>\n",
       "      <td>Excellent</td>\n",
       "    </tr>\n",
       "    <tr>\n",
       "      <th>4</th>\n",
       "      <td>4</td>\n",
       "      <td>APPLE iPhone 13 (Starlight, 128 GB) Reviews</td>\n",
       "      <td>Brilliant</td>\n",
       "    </tr>\n",
       "  </tbody>\n",
       "</table>\n",
       "</div>"
      ],
      "text/plain": [
       "   Unnamed: 0                                product_title  \\\n",
       "0           0  APPLE iPhone 13 (Starlight, 128 GB) Reviews   \n",
       "1           1  APPLE iPhone 13 (Starlight, 128 GB) Reviews   \n",
       "2           2  APPLE iPhone 13 (Starlight, 128 GB) Reviews   \n",
       "3           3  APPLE iPhone 13 (Starlight, 128 GB) Reviews   \n",
       "4           4  APPLE iPhone 13 (Starlight, 128 GB) Reviews   \n",
       "\n",
       "                 reviews  \n",
       "0  Mind-blowing purchase  \n",
       "1              Very Good  \n",
       "2    Best in the market!  \n",
       "3              Excellent  \n",
       "4              Brilliant  "
      ]
     },
     "execution_count": 32,
     "metadata": {},
     "output_type": "execute_result"
    }
   ],
   "source": [
    "df1=ps.read_csv(r\"C:\\Users\\Harshit\\Downloads\\iphone_1.csv\")\n",
    "df1.head()"
   ]
  },
  {
   "cell_type": "code",
   "execution_count": 33,
   "id": "b493ad61",
   "metadata": {},
   "outputs": [
    {
     "data": {
      "text/html": [
       "<div>\n",
       "<style scoped>\n",
       "    .dataframe tbody tr th:only-of-type {\n",
       "        vertical-align: middle;\n",
       "    }\n",
       "\n",
       "    .dataframe tbody tr th {\n",
       "        vertical-align: top;\n",
       "    }\n",
       "\n",
       "    .dataframe thead th {\n",
       "        text-align: right;\n",
       "    }\n",
       "</style>\n",
       "<table border=\"1\" class=\"dataframe\">\n",
       "  <thead>\n",
       "    <tr style=\"text-align: right;\">\n",
       "      <th></th>\n",
       "      <th>Unnamed: 0</th>\n",
       "      <th>product_title</th>\n",
       "      <th>reviews</th>\n",
       "    </tr>\n",
       "  </thead>\n",
       "  <tbody>\n",
       "    <tr>\n",
       "      <th>0</th>\n",
       "      <td>0</td>\n",
       "      <td>REDMI 10 Power (Sporty Orange, 128 GB) Reviews</td>\n",
       "      <td>Nice product</td>\n",
       "    </tr>\n",
       "    <tr>\n",
       "      <th>1</th>\n",
       "      <td>1</td>\n",
       "      <td>REDMI 10 Power (Sporty Orange, 128 GB) Reviews</td>\n",
       "      <td>Nice product</td>\n",
       "    </tr>\n",
       "    <tr>\n",
       "      <th>2</th>\n",
       "      <td>2</td>\n",
       "      <td>REDMI 10 Power (Sporty Orange, 128 GB) Reviews</td>\n",
       "      <td>Nice</td>\n",
       "    </tr>\n",
       "    <tr>\n",
       "      <th>3</th>\n",
       "      <td>3</td>\n",
       "      <td>REDMI 10 Power (Sporty Orange, 128 GB) Reviews</td>\n",
       "      <td>Delightful</td>\n",
       "    </tr>\n",
       "    <tr>\n",
       "      <th>4</th>\n",
       "      <td>4</td>\n",
       "      <td>REDMI 10 Power (Sporty Orange, 128 GB) Reviews</td>\n",
       "      <td>Moderate</td>\n",
       "    </tr>\n",
       "  </tbody>\n",
       "</table>\n",
       "</div>"
      ],
      "text/plain": [
       "   Unnamed: 0                                   product_title       reviews\n",
       "0           0  REDMI 10 Power (Sporty Orange, 128 GB) Reviews  Nice product\n",
       "1           1  REDMI 10 Power (Sporty Orange, 128 GB) Reviews  Nice product\n",
       "2           2  REDMI 10 Power (Sporty Orange, 128 GB) Reviews          Nice\n",
       "3           3  REDMI 10 Power (Sporty Orange, 128 GB) Reviews    Delightful\n",
       "4           4  REDMI 10 Power (Sporty Orange, 128 GB) Reviews      Moderate"
      ]
     },
     "execution_count": 33,
     "metadata": {},
     "output_type": "execute_result"
    }
   ],
   "source": [
    "df2=ps.read_csv(r\"C:\\Users\\Harshit\\Downloads\\mi_mobiles.csv\")\n",
    "df2.head()"
   ]
  },
  {
   "cell_type": "code",
   "execution_count": 34,
   "id": "d81dcf48",
   "metadata": {},
   "outputs": [
    {
     "data": {
      "text/html": [
       "<div>\n",
       "<style scoped>\n",
       "    .dataframe tbody tr th:only-of-type {\n",
       "        vertical-align: middle;\n",
       "    }\n",
       "\n",
       "    .dataframe tbody tr th {\n",
       "        vertical-align: top;\n",
       "    }\n",
       "\n",
       "    .dataframe thead th {\n",
       "        text-align: right;\n",
       "    }\n",
       "</style>\n",
       "<table border=\"1\" class=\"dataframe\">\n",
       "  <thead>\n",
       "    <tr style=\"text-align: right;\">\n",
       "      <th></th>\n",
       "      <th>Unnamed: 0</th>\n",
       "      <th>product_title</th>\n",
       "      <th>reviews</th>\n",
       "    </tr>\n",
       "  </thead>\n",
       "  <tbody>\n",
       "    <tr>\n",
       "      <th>0</th>\n",
       "      <td>0</td>\n",
       "      <td>OnePlus Nord CE 2 Lite 5G (Blue Tide, 128 GB) ...</td>\n",
       "      <td>Must buy!</td>\n",
       "    </tr>\n",
       "    <tr>\n",
       "      <th>1</th>\n",
       "      <td>1</td>\n",
       "      <td>OnePlus Nord CE 2 Lite 5G (Blue Tide, 128 GB) ...</td>\n",
       "      <td>Delightful</td>\n",
       "    </tr>\n",
       "    <tr>\n",
       "      <th>2</th>\n",
       "      <td>2</td>\n",
       "      <td>OnePlus Nord CE 2 Lite 5G (Blue Tide, 128 GB) ...</td>\n",
       "      <td>Nice product</td>\n",
       "    </tr>\n",
       "    <tr>\n",
       "      <th>3</th>\n",
       "      <td>3</td>\n",
       "      <td>OnePlus Nord CE 2 Lite 5G (Blue Tide, 128 GB) ...</td>\n",
       "      <td>Decent product</td>\n",
       "    </tr>\n",
       "    <tr>\n",
       "      <th>4</th>\n",
       "      <td>4</td>\n",
       "      <td>OnePlus Nord CE 2 Lite 5G (Blue Tide, 128 GB) ...</td>\n",
       "      <td>Nice product</td>\n",
       "    </tr>\n",
       "  </tbody>\n",
       "</table>\n",
       "</div>"
      ],
      "text/plain": [
       "   Unnamed: 0                                      product_title  \\\n",
       "0           0  OnePlus Nord CE 2 Lite 5G (Blue Tide, 128 GB) ...   \n",
       "1           1  OnePlus Nord CE 2 Lite 5G (Blue Tide, 128 GB) ...   \n",
       "2           2  OnePlus Nord CE 2 Lite 5G (Blue Tide, 128 GB) ...   \n",
       "3           3  OnePlus Nord CE 2 Lite 5G (Blue Tide, 128 GB) ...   \n",
       "4           4  OnePlus Nord CE 2 Lite 5G (Blue Tide, 128 GB) ...   \n",
       "\n",
       "          reviews  \n",
       "0       Must buy!  \n",
       "1      Delightful  \n",
       "2    Nice product  \n",
       "3  Decent product  \n",
       "4    Nice product  "
      ]
     },
     "execution_count": 34,
     "metadata": {},
     "output_type": "execute_result"
    }
   ],
   "source": [
    "df3=ps.read_csv(r\"C:\\Users\\Harshit\\Downloads\\oneplusmobile.csv\")\n",
    "df3.head()"
   ]
  },
  {
   "cell_type": "code",
   "execution_count": 35,
   "id": "822392ae",
   "metadata": {},
   "outputs": [
    {
     "data": {
      "text/html": [
       "<div>\n",
       "<style scoped>\n",
       "    .dataframe tbody tr th:only-of-type {\n",
       "        vertical-align: middle;\n",
       "    }\n",
       "\n",
       "    .dataframe tbody tr th {\n",
       "        vertical-align: top;\n",
       "    }\n",
       "\n",
       "    .dataframe thead th {\n",
       "        text-align: right;\n",
       "    }\n",
       "</style>\n",
       "<table border=\"1\" class=\"dataframe\">\n",
       "  <thead>\n",
       "    <tr style=\"text-align: right;\">\n",
       "      <th></th>\n",
       "      <th>Unnamed: 0</th>\n",
       "      <th>product_title</th>\n",
       "      <th>reviews</th>\n",
       "    </tr>\n",
       "  </thead>\n",
       "  <tbody>\n",
       "    <tr>\n",
       "      <th>0</th>\n",
       "      <td>0</td>\n",
       "      <td>APPLE iPhone 13 (Starlight, 128 GB) Reviews</td>\n",
       "      <td>Perfect product!</td>\n",
       "    </tr>\n",
       "    <tr>\n",
       "      <th>1</th>\n",
       "      <td>1</td>\n",
       "      <td>APPLE iPhone 13 (Starlight, 128 GB) Reviews</td>\n",
       "      <td>Perfect product!</td>\n",
       "    </tr>\n",
       "    <tr>\n",
       "      <th>2</th>\n",
       "      <td>2</td>\n",
       "      <td>APPLE iPhone 13 (Starlight, 128 GB) Reviews</td>\n",
       "      <td>Excellent</td>\n",
       "    </tr>\n",
       "    <tr>\n",
       "      <th>3</th>\n",
       "      <td>3</td>\n",
       "      <td>APPLE iPhone 13 (Starlight, 128 GB) Reviews</td>\n",
       "      <td>Brilliant</td>\n",
       "    </tr>\n",
       "    <tr>\n",
       "      <th>4</th>\n",
       "      <td>4</td>\n",
       "      <td>APPLE iPhone 13 (Starlight, 128 GB) Reviews</td>\n",
       "      <td>Fabulous!</td>\n",
       "    </tr>\n",
       "  </tbody>\n",
       "</table>\n",
       "</div>"
      ],
      "text/plain": [
       "   Unnamed: 0                                product_title           reviews\n",
       "0           0  APPLE iPhone 13 (Starlight, 128 GB) Reviews  Perfect product!\n",
       "1           1  APPLE iPhone 13 (Starlight, 128 GB) Reviews  Perfect product!\n",
       "2           2  APPLE iPhone 13 (Starlight, 128 GB) Reviews         Excellent\n",
       "3           3  APPLE iPhone 13 (Starlight, 128 GB) Reviews         Brilliant\n",
       "4           4  APPLE iPhone 13 (Starlight, 128 GB) Reviews         Fabulous!"
      ]
     },
     "execution_count": 35,
     "metadata": {},
     "output_type": "execute_result"
    }
   ],
   "source": [
    "df4=ps.read_csv(r\"C:\\Users\\Harshit\\Downloads\\iphone.csv\")\n",
    "df4.head()"
   ]
  },
  {
   "cell_type": "code",
   "execution_count": 36,
   "id": "e79a225a",
   "metadata": {},
   "outputs": [
    {
     "data": {
      "text/html": [
       "<div>\n",
       "<style scoped>\n",
       "    .dataframe tbody tr th:only-of-type {\n",
       "        vertical-align: middle;\n",
       "    }\n",
       "\n",
       "    .dataframe tbody tr th {\n",
       "        vertical-align: top;\n",
       "    }\n",
       "\n",
       "    .dataframe thead th {\n",
       "        text-align: right;\n",
       "    }\n",
       "</style>\n",
       "<table border=\"1\" class=\"dataframe\">\n",
       "  <thead>\n",
       "    <tr style=\"text-align: right;\">\n",
       "      <th></th>\n",
       "      <th>Unnamed: 0</th>\n",
       "      <th>product_title</th>\n",
       "      <th>reviews</th>\n",
       "    </tr>\n",
       "  </thead>\n",
       "  <tbody>\n",
       "    <tr>\n",
       "      <th>0</th>\n",
       "      <td>0</td>\n",
       "      <td>SAMSUNG Crystal 4K 108 cm (43 inch) Ultra HD (...</td>\n",
       "      <td>Perfect product!</td>\n",
       "    </tr>\n",
       "    <tr>\n",
       "      <th>1</th>\n",
       "      <td>1</td>\n",
       "      <td>SAMSUNG Crystal 4K 108 cm (43 inch) Ultra HD (...</td>\n",
       "      <td>Perfect product!</td>\n",
       "    </tr>\n",
       "    <tr>\n",
       "      <th>2</th>\n",
       "      <td>2</td>\n",
       "      <td>SAMSUNG Crystal 4K 108 cm (43 inch) Ultra HD (...</td>\n",
       "      <td>Awesome</td>\n",
       "    </tr>\n",
       "    <tr>\n",
       "      <th>3</th>\n",
       "      <td>3</td>\n",
       "      <td>SAMSUNG Crystal 4K 108 cm (43 inch) Ultra HD (...</td>\n",
       "      <td>Super!</td>\n",
       "    </tr>\n",
       "    <tr>\n",
       "      <th>4</th>\n",
       "      <td>4</td>\n",
       "      <td>SAMSUNG Crystal 4K 108 cm (43 inch) Ultra HD (...</td>\n",
       "      <td>Good quality product</td>\n",
       "    </tr>\n",
       "  </tbody>\n",
       "</table>\n",
       "</div>"
      ],
      "text/plain": [
       "   Unnamed: 0                                      product_title  \\\n",
       "0           0  SAMSUNG Crystal 4K 108 cm (43 inch) Ultra HD (...   \n",
       "1           1  SAMSUNG Crystal 4K 108 cm (43 inch) Ultra HD (...   \n",
       "2           2  SAMSUNG Crystal 4K 108 cm (43 inch) Ultra HD (...   \n",
       "3           3  SAMSUNG Crystal 4K 108 cm (43 inch) Ultra HD (...   \n",
       "4           4  SAMSUNG Crystal 4K 108 cm (43 inch) Ultra HD (...   \n",
       "\n",
       "                reviews  \n",
       "0      Perfect product!  \n",
       "1      Perfect product!  \n",
       "2               Awesome  \n",
       "3                Super!  \n",
       "4  Good quality product  "
      ]
     },
     "execution_count": 36,
     "metadata": {},
     "output_type": "execute_result"
    }
   ],
   "source": [
    "df5=ps.read_csv(r\"C:\\Users\\Harshit\\Downloads\\samsungtv.csv\")\n",
    "df5.head()"
   ]
  },
  {
   "cell_type": "code",
   "execution_count": 37,
   "id": "05825a6b",
   "metadata": {},
   "outputs": [
    {
     "data": {
      "text/html": [
       "<div>\n",
       "<style scoped>\n",
       "    .dataframe tbody tr th:only-of-type {\n",
       "        vertical-align: middle;\n",
       "    }\n",
       "\n",
       "    .dataframe tbody tr th {\n",
       "        vertical-align: top;\n",
       "    }\n",
       "\n",
       "    .dataframe thead th {\n",
       "        text-align: right;\n",
       "    }\n",
       "</style>\n",
       "<table border=\"1\" class=\"dataframe\">\n",
       "  <thead>\n",
       "    <tr style=\"text-align: right;\">\n",
       "      <th></th>\n",
       "      <th>Unnamed: 0</th>\n",
       "      <th>product_title</th>\n",
       "      <th>reviews</th>\n",
       "    </tr>\n",
       "  </thead>\n",
       "  <tbody>\n",
       "    <tr>\n",
       "      <th>0</th>\n",
       "      <td>0</td>\n",
       "      <td>APPLE iPhone 13 (Midnight, 128 GB) Reviews</td>\n",
       "      <td>Perfect product!</td>\n",
       "    </tr>\n",
       "    <tr>\n",
       "      <th>1</th>\n",
       "      <td>1</td>\n",
       "      <td>APPLE iPhone 13 (Midnight, 128 GB) Reviews</td>\n",
       "      <td>Perfect product!</td>\n",
       "    </tr>\n",
       "    <tr>\n",
       "      <th>2</th>\n",
       "      <td>2</td>\n",
       "      <td>APPLE iPhone 13 (Midnight, 128 GB) Reviews</td>\n",
       "      <td>Brilliant</td>\n",
       "    </tr>\n",
       "    <tr>\n",
       "      <th>3</th>\n",
       "      <td>3</td>\n",
       "      <td>APPLE iPhone 13 (Midnight, 128 GB) Reviews</td>\n",
       "      <td>Excellent</td>\n",
       "    </tr>\n",
       "    <tr>\n",
       "      <th>4</th>\n",
       "      <td>4</td>\n",
       "      <td>APPLE iPhone 13 (Midnight, 128 GB) Reviews</td>\n",
       "      <td>Fabulous!</td>\n",
       "    </tr>\n",
       "  </tbody>\n",
       "</table>\n",
       "</div>"
      ],
      "text/plain": [
       "   Unnamed: 0                               product_title           reviews\n",
       "0           0  APPLE iPhone 13 (Midnight, 128 GB) Reviews  Perfect product!\n",
       "1           1  APPLE iPhone 13 (Midnight, 128 GB) Reviews  Perfect product!\n",
       "2           2  APPLE iPhone 13 (Midnight, 128 GB) Reviews         Brilliant\n",
       "3           3  APPLE iPhone 13 (Midnight, 128 GB) Reviews         Excellent\n",
       "4           4  APPLE iPhone 13 (Midnight, 128 GB) Reviews         Fabulous!"
      ]
     },
     "execution_count": 37,
     "metadata": {},
     "output_type": "execute_result"
    }
   ],
   "source": [
    "df6=ps.read_csv(r\"C:\\Users\\Harshit\\Downloads\\jabbaaaa.csv\")\n",
    "df6.head()"
   ]
  },
  {
   "cell_type": "code",
   "execution_count": 38,
   "id": "abb0563e",
   "metadata": {},
   "outputs": [
    {
     "data": {
      "text/html": [
       "<div>\n",
       "<style scoped>\n",
       "    .dataframe tbody tr th:only-of-type {\n",
       "        vertical-align: middle;\n",
       "    }\n",
       "\n",
       "    .dataframe tbody tr th {\n",
       "        vertical-align: top;\n",
       "    }\n",
       "\n",
       "    .dataframe thead th {\n",
       "        text-align: right;\n",
       "    }\n",
       "</style>\n",
       "<table border=\"1\" class=\"dataframe\">\n",
       "  <thead>\n",
       "    <tr style=\"text-align: right;\">\n",
       "      <th></th>\n",
       "      <th>Unnamed: 0</th>\n",
       "      <th>product_title</th>\n",
       "      <th>reviews</th>\n",
       "    </tr>\n",
       "  </thead>\n",
       "  <tbody>\n",
       "    <tr>\n",
       "      <th>0</th>\n",
       "      <td>0</td>\n",
       "      <td>Primebook 4G Android Based MediaTek MT8788 - (...</td>\n",
       "      <td>Simply awesome</td>\n",
       "    </tr>\n",
       "    <tr>\n",
       "      <th>1</th>\n",
       "      <td>1</td>\n",
       "      <td>Primebook 4G Android Based MediaTek MT8788 - (...</td>\n",
       "      <td>Terrific</td>\n",
       "    </tr>\n",
       "    <tr>\n",
       "      <th>2</th>\n",
       "      <td>2</td>\n",
       "      <td>Primebook 4G Android Based MediaTek MT8788 - (...</td>\n",
       "      <td>Awesome</td>\n",
       "    </tr>\n",
       "    <tr>\n",
       "      <th>3</th>\n",
       "      <td>3</td>\n",
       "      <td>Primebook 4G Android Based MediaTek MT8788 - (...</td>\n",
       "      <td>Worth every penny</td>\n",
       "    </tr>\n",
       "    <tr>\n",
       "      <th>4</th>\n",
       "      <td>4</td>\n",
       "      <td>Primebook 4G Android Based MediaTek MT8788 - (...</td>\n",
       "      <td>Very Good</td>\n",
       "    </tr>\n",
       "    <tr>\n",
       "      <th>5</th>\n",
       "      <td>5</td>\n",
       "      <td>Primebook 4G Android Based MediaTek MT8788 - (...</td>\n",
       "      <td>Fabulous!</td>\n",
       "    </tr>\n",
       "    <tr>\n",
       "      <th>6</th>\n",
       "      <td>6</td>\n",
       "      <td>Primebook 4G Android Based MediaTek MT8788 - (...</td>\n",
       "      <td>Terrific</td>\n",
       "    </tr>\n",
       "    <tr>\n",
       "      <th>7</th>\n",
       "      <td>7</td>\n",
       "      <td>Primebook 4G Android Based MediaTek MT8788 - (...</td>\n",
       "      <td>Super!</td>\n",
       "    </tr>\n",
       "    <tr>\n",
       "      <th>8</th>\n",
       "      <td>8</td>\n",
       "      <td>Primebook 4G Android Based MediaTek MT8788 - (...</td>\n",
       "      <td>Must buy!</td>\n",
       "    </tr>\n",
       "    <tr>\n",
       "      <th>9</th>\n",
       "      <td>9</td>\n",
       "      <td>Primebook 4G Android Based MediaTek MT8788 - (...</td>\n",
       "      <td>Awesome</td>\n",
       "    </tr>\n",
       "  </tbody>\n",
       "</table>\n",
       "</div>"
      ],
      "text/plain": [
       "   Unnamed: 0                                      product_title  \\\n",
       "0           0  Primebook 4G Android Based MediaTek MT8788 - (...   \n",
       "1           1  Primebook 4G Android Based MediaTek MT8788 - (...   \n",
       "2           2  Primebook 4G Android Based MediaTek MT8788 - (...   \n",
       "3           3  Primebook 4G Android Based MediaTek MT8788 - (...   \n",
       "4           4  Primebook 4G Android Based MediaTek MT8788 - (...   \n",
       "5           5  Primebook 4G Android Based MediaTek MT8788 - (...   \n",
       "6           6  Primebook 4G Android Based MediaTek MT8788 - (...   \n",
       "7           7  Primebook 4G Android Based MediaTek MT8788 - (...   \n",
       "8           8  Primebook 4G Android Based MediaTek MT8788 - (...   \n",
       "9           9  Primebook 4G Android Based MediaTek MT8788 - (...   \n",
       "\n",
       "             reviews  \n",
       "0     Simply awesome  \n",
       "1           Terrific  \n",
       "2            Awesome  \n",
       "3  Worth every penny  \n",
       "4          Very Good  \n",
       "5          Fabulous!  \n",
       "6           Terrific  \n",
       "7             Super!  \n",
       "8          Must buy!  \n",
       "9            Awesome  "
      ]
     },
     "execution_count": 38,
     "metadata": {},
     "output_type": "execute_result"
    }
   ],
   "source": [
    "df7=ps.read_csv(r\"C:\\Users\\Harshit\\Downloads\\laptops.csv\")\n",
    "df7.head(10)"
   ]
  },
  {
   "cell_type": "code",
   "execution_count": 39,
   "id": "ad4a4869",
   "metadata": {},
   "outputs": [
    {
     "data": {
      "text/html": [
       "<div>\n",
       "<style scoped>\n",
       "    .dataframe tbody tr th:only-of-type {\n",
       "        vertical-align: middle;\n",
       "    }\n",
       "\n",
       "    .dataframe tbody tr th {\n",
       "        vertical-align: top;\n",
       "    }\n",
       "\n",
       "    .dataframe thead th {\n",
       "        text-align: right;\n",
       "    }\n",
       "</style>\n",
       "<table border=\"1\" class=\"dataframe\">\n",
       "  <thead>\n",
       "    <tr style=\"text-align: right;\">\n",
       "      <th></th>\n",
       "      <th>Unnamed: 0</th>\n",
       "      <th>product_title</th>\n",
       "      <th>reviews</th>\n",
       "    </tr>\n",
       "  </thead>\n",
       "  <tbody>\n",
       "    <tr>\n",
       "      <th>0</th>\n",
       "      <td>0</td>\n",
       "      <td>InnoQ 6.5 Kg Semi Automatic Top Load Washing M...</td>\n",
       "      <td>Best in the market!</td>\n",
       "    </tr>\n",
       "    <tr>\n",
       "      <th>1</th>\n",
       "      <td>1</td>\n",
       "      <td>InnoQ 6.5 Kg Semi Automatic Top Load Washing M...</td>\n",
       "      <td>Great product</td>\n",
       "    </tr>\n",
       "    <tr>\n",
       "      <th>2</th>\n",
       "      <td>2</td>\n",
       "      <td>InnoQ 6.5 Kg Semi Automatic Top Load Washing M...</td>\n",
       "      <td>Super!</td>\n",
       "    </tr>\n",
       "    <tr>\n",
       "      <th>3</th>\n",
       "      <td>3</td>\n",
       "      <td>InnoQ 6.5 Kg Semi Automatic Top Load Washing M...</td>\n",
       "      <td>Worth every penny</td>\n",
       "    </tr>\n",
       "    <tr>\n",
       "      <th>4</th>\n",
       "      <td>4</td>\n",
       "      <td>InnoQ 6.5 Kg Semi Automatic Top Load Washing M...</td>\n",
       "      <td>Just wow!</td>\n",
       "    </tr>\n",
       "    <tr>\n",
       "      <th>5</th>\n",
       "      <td>5</td>\n",
       "      <td>InnoQ 6.5 Kg Semi Automatic Top Load Washing M...</td>\n",
       "      <td>Super!</td>\n",
       "    </tr>\n",
       "    <tr>\n",
       "      <th>6</th>\n",
       "      <td>6</td>\n",
       "      <td>InnoQ 6.5 Kg Semi Automatic Top Load Washing M...</td>\n",
       "      <td>Awesome</td>\n",
       "    </tr>\n",
       "    <tr>\n",
       "      <th>7</th>\n",
       "      <td>7</td>\n",
       "      <td>InnoQ 6.5 Kg Semi Automatic Top Load Washing M...</td>\n",
       "      <td>Mind-blowing purchase</td>\n",
       "    </tr>\n",
       "    <tr>\n",
       "      <th>8</th>\n",
       "      <td>8</td>\n",
       "      <td>InnoQ 6.5 Kg Semi Automatic Top Load Washing M...</td>\n",
       "      <td>Great product</td>\n",
       "    </tr>\n",
       "    <tr>\n",
       "      <th>9</th>\n",
       "      <td>9</td>\n",
       "      <td>no name</td>\n",
       "      <td>Perfect product!</td>\n",
       "    </tr>\n",
       "    <tr>\n",
       "      <th>10</th>\n",
       "      <td>10</td>\n",
       "      <td>no name</td>\n",
       "      <td>Decent product</td>\n",
       "    </tr>\n",
       "    <tr>\n",
       "      <th>11</th>\n",
       "      <td>11</td>\n",
       "      <td>no name</td>\n",
       "      <td>Best in the market!</td>\n",
       "    </tr>\n",
       "    <tr>\n",
       "      <th>12</th>\n",
       "      <td>12</td>\n",
       "      <td>no name</td>\n",
       "      <td>Good</td>\n",
       "    </tr>\n",
       "    <tr>\n",
       "      <th>13</th>\n",
       "      <td>13</td>\n",
       "      <td>no name</td>\n",
       "      <td>Classy product</td>\n",
       "    </tr>\n",
       "    <tr>\n",
       "      <th>14</th>\n",
       "      <td>14</td>\n",
       "      <td>no name</td>\n",
       "      <td>Brilliant</td>\n",
       "    </tr>\n",
       "    <tr>\n",
       "      <th>15</th>\n",
       "      <td>15</td>\n",
       "      <td>no name</td>\n",
       "      <td>Perfect product!</td>\n",
       "    </tr>\n",
       "    <tr>\n",
       "      <th>16</th>\n",
       "      <td>16</td>\n",
       "      <td>no name</td>\n",
       "      <td>Moderate</td>\n",
       "    </tr>\n",
       "    <tr>\n",
       "      <th>17</th>\n",
       "      <td>17</td>\n",
       "      <td>no name</td>\n",
       "      <td>Fabulous!</td>\n",
       "    </tr>\n",
       "    <tr>\n",
       "      <th>18</th>\n",
       "      <td>18</td>\n",
       "      <td>no name</td>\n",
       "      <td>Super!</td>\n",
       "    </tr>\n",
       "    <tr>\n",
       "      <th>19</th>\n",
       "      <td>19</td>\n",
       "      <td>MarQ by Flipkart 7 kg Semi Automatic Top Load ...</td>\n",
       "      <td>Good choice</td>\n",
       "    </tr>\n",
       "  </tbody>\n",
       "</table>\n",
       "</div>"
      ],
      "text/plain": [
       "    Unnamed: 0                                      product_title  \\\n",
       "0            0  InnoQ 6.5 Kg Semi Automatic Top Load Washing M...   \n",
       "1            1  InnoQ 6.5 Kg Semi Automatic Top Load Washing M...   \n",
       "2            2  InnoQ 6.5 Kg Semi Automatic Top Load Washing M...   \n",
       "3            3  InnoQ 6.5 Kg Semi Automatic Top Load Washing M...   \n",
       "4            4  InnoQ 6.5 Kg Semi Automatic Top Load Washing M...   \n",
       "5            5  InnoQ 6.5 Kg Semi Automatic Top Load Washing M...   \n",
       "6            6  InnoQ 6.5 Kg Semi Automatic Top Load Washing M...   \n",
       "7            7  InnoQ 6.5 Kg Semi Automatic Top Load Washing M...   \n",
       "8            8  InnoQ 6.5 Kg Semi Automatic Top Load Washing M...   \n",
       "9            9                                            no name   \n",
       "10          10                                            no name   \n",
       "11          11                                            no name   \n",
       "12          12                                            no name   \n",
       "13          13                                            no name   \n",
       "14          14                                            no name   \n",
       "15          15                                            no name   \n",
       "16          16                                            no name   \n",
       "17          17                                            no name   \n",
       "18          18                                            no name   \n",
       "19          19  MarQ by Flipkart 7 kg Semi Automatic Top Load ...   \n",
       "\n",
       "                  reviews  \n",
       "0     Best in the market!  \n",
       "1           Great product  \n",
       "2                  Super!  \n",
       "3       Worth every penny  \n",
       "4               Just wow!  \n",
       "5                  Super!  \n",
       "6                 Awesome  \n",
       "7   Mind-blowing purchase  \n",
       "8           Great product  \n",
       "9        Perfect product!  \n",
       "10         Decent product  \n",
       "11    Best in the market!  \n",
       "12                   Good  \n",
       "13         Classy product  \n",
       "14              Brilliant  \n",
       "15       Perfect product!  \n",
       "16               Moderate  \n",
       "17              Fabulous!  \n",
       "18                 Super!  \n",
       "19            Good choice  "
      ]
     },
     "execution_count": 39,
     "metadata": {},
     "output_type": "execute_result"
    }
   ],
   "source": [
    "fd=ps.concat([df, df1, df2, df3, df4,df5,df6,df7],ignore_index=True)\n",
    "fd.head(20)"
   ]
  },
  {
   "cell_type": "code",
   "execution_count": 40,
   "id": "7d7c2eff",
   "metadata": {},
   "outputs": [],
   "source": [
    "fd.reset_index(inplace=True)"
   ]
  },
  {
   "cell_type": "code",
   "execution_count": 41,
   "id": "b4505f25",
   "metadata": {},
   "outputs": [
    {
     "data": {
      "text/html": [
       "<div>\n",
       "<style scoped>\n",
       "    .dataframe tbody tr th:only-of-type {\n",
       "        vertical-align: middle;\n",
       "    }\n",
       "\n",
       "    .dataframe tbody tr th {\n",
       "        vertical-align: top;\n",
       "    }\n",
       "\n",
       "    .dataframe thead th {\n",
       "        text-align: right;\n",
       "    }\n",
       "</style>\n",
       "<table border=\"1\" class=\"dataframe\">\n",
       "  <thead>\n",
       "    <tr style=\"text-align: right;\">\n",
       "      <th></th>\n",
       "      <th>index</th>\n",
       "      <th>Unnamed: 0</th>\n",
       "      <th>product_title</th>\n",
       "      <th>reviews</th>\n",
       "    </tr>\n",
       "  </thead>\n",
       "  <tbody>\n",
       "    <tr>\n",
       "      <th>0</th>\n",
       "      <td>0</td>\n",
       "      <td>0</td>\n",
       "      <td>InnoQ 6.5 Kg Semi Automatic Top Load Washing M...</td>\n",
       "      <td>Best in the market!</td>\n",
       "    </tr>\n",
       "    <tr>\n",
       "      <th>1</th>\n",
       "      <td>1</td>\n",
       "      <td>1</td>\n",
       "      <td>InnoQ 6.5 Kg Semi Automatic Top Load Washing M...</td>\n",
       "      <td>Great product</td>\n",
       "    </tr>\n",
       "    <tr>\n",
       "      <th>2</th>\n",
       "      <td>2</td>\n",
       "      <td>2</td>\n",
       "      <td>InnoQ 6.5 Kg Semi Automatic Top Load Washing M...</td>\n",
       "      <td>Super!</td>\n",
       "    </tr>\n",
       "    <tr>\n",
       "      <th>3</th>\n",
       "      <td>3</td>\n",
       "      <td>3</td>\n",
       "      <td>InnoQ 6.5 Kg Semi Automatic Top Load Washing M...</td>\n",
       "      <td>Worth every penny</td>\n",
       "    </tr>\n",
       "    <tr>\n",
       "      <th>4</th>\n",
       "      <td>4</td>\n",
       "      <td>4</td>\n",
       "      <td>InnoQ 6.5 Kg Semi Automatic Top Load Washing M...</td>\n",
       "      <td>Just wow!</td>\n",
       "    </tr>\n",
       "  </tbody>\n",
       "</table>\n",
       "</div>"
      ],
      "text/plain": [
       "   index  Unnamed: 0                                      product_title  \\\n",
       "0      0           0  InnoQ 6.5 Kg Semi Automatic Top Load Washing M...   \n",
       "1      1           1  InnoQ 6.5 Kg Semi Automatic Top Load Washing M...   \n",
       "2      2           2  InnoQ 6.5 Kg Semi Automatic Top Load Washing M...   \n",
       "3      3           3  InnoQ 6.5 Kg Semi Automatic Top Load Washing M...   \n",
       "4      4           4  InnoQ 6.5 Kg Semi Automatic Top Load Washing M...   \n",
       "\n",
       "               reviews  \n",
       "0  Best in the market!  \n",
       "1        Great product  \n",
       "2               Super!  \n",
       "3    Worth every penny  \n",
       "4            Just wow!  "
      ]
     },
     "execution_count": 41,
     "metadata": {},
     "output_type": "execute_result"
    }
   ],
   "source": [
    "fd.head()"
   ]
  },
  {
   "cell_type": "code",
   "execution_count": 42,
   "id": "27063a9a",
   "metadata": {},
   "outputs": [],
   "source": [
    "fd.set_index([\"Unnamed: 0\"], inplace = True,\n",
    "                    append = True, drop = True)"
   ]
  },
  {
   "cell_type": "code",
   "execution_count": 43,
   "id": "b2290c7a",
   "metadata": {},
   "outputs": [],
   "source": [
    "fd.reset_index(inplace = True)"
   ]
  },
  {
   "cell_type": "code",
   "execution_count": 44,
   "id": "a54b4977",
   "metadata": {},
   "outputs": [
    {
     "data": {
      "text/plain": [
       "(113220, 5)"
      ]
     },
     "execution_count": 44,
     "metadata": {},
     "output_type": "execute_result"
    }
   ],
   "source": [
    "fd.shape"
   ]
  },
  {
   "cell_type": "code",
   "execution_count": 45,
   "id": "a569039a",
   "metadata": {},
   "outputs": [],
   "source": [
    "fd.drop([\"Unnamed: 0\"],axis=1,inplace=True)"
   ]
  },
  {
   "cell_type": "code",
   "execution_count": 127,
   "id": "2183912a",
   "metadata": {},
   "outputs": [
    {
     "data": {
      "image/png": "[encoded data removed]",
      "text/plain": [
       "<Figure size 2000x1500 with 1 Axes>"
      ]
     },
     "metadata": {},
     "output_type": "display_data"
    }
   ],
   "source": [
    "fd.hist(bins=50, figsize=(20,15))\n",
    "mt.show()"
   ]
  },
  {
   "cell_type": "code",
   "execution_count": 47,
   "id": "ae4f584f",
   "metadata": {},
   "outputs": [
    {
     "name": "stdout",
     "output_type": "stream",
     "text": [
      "Good choice\n"
     ]
    }
   ],
   "source": [
    "example = fd['reviews'][50]\n",
    "print(example)"
   ]
  },
  {
   "cell_type": "code",
   "execution_count": 48,
   "id": "ba9559b0",
   "metadata": {},
   "outputs": [
    {
     "data": {
      "text/plain": [
       "0         Best in the market!\n",
       "1               Great product\n",
       "2                      Super!\n",
       "3           Worth every penny\n",
       "4                   Just wow!\n",
       "                 ...         \n",
       "113215              Excellent\n",
       "113216         Simply awesome\n",
       "113217              Wonderful\n",
       "113218      Terrific purchase\n",
       "113219              Brilliant\n",
       "Name: reviews, Length: 113220, dtype: object"
      ]
     },
     "execution_count": 48,
     "metadata": {},
     "output_type": "execute_result"
    }
   ],
   "source": [
    "fd['reviews']"
   ]
  },
  {
   "cell_type": "code",
   "execution_count": 49,
   "id": "a4e3bd44",
   "metadata": {
    "scrolled": true
   },
   "outputs": [
    {
     "data": {
      "text/plain": [
       "['Good', 'choice']"
      ]
     },
     "execution_count": 49,
     "metadata": {},
     "output_type": "execute_result"
    }
   ],
   "source": [
    "tokens = nltk.word_tokenize(example)\n",
    "tokens[:10]"
   ]
  },
  {
   "cell_type": "code",
   "execution_count": 50,
   "id": "334f2998",
   "metadata": {},
   "outputs": [
    {
     "data": {
      "text/plain": [
       "[('Good', 'JJ'), ('choice', 'NN')]"
      ]
     },
     "execution_count": 50,
     "metadata": {},
     "output_type": "execute_result"
    }
   ],
   "source": [
    "tagged = nltk.pos_tag(tokens)\n",
    "tagged[:10]"
   ]
  },
  {
   "cell_type": "code",
   "execution_count": 51,
   "id": "be2521e3",
   "metadata": {},
   "outputs": [
    {
     "name": "stdout",
     "output_type": "stream",
     "text": [
      "(S (GPE Good/JJ) choice/NN)\n"
     ]
    }
   ],
   "source": [
    "entities = nltk.chunk.ne_chunk(tagged)\n",
    "entities.pprint()"
   ]
  },
  {
   "cell_type": "code",
   "execution_count": 52,
   "id": "7526af0f",
   "metadata": {
    "scrolled": true
   },
   "outputs": [
    {
     "data": {
      "text/html": [
       "<div>\n",
       "<style scoped>\n",
       "    .dataframe tbody tr th:only-of-type {\n",
       "        vertical-align: middle;\n",
       "    }\n",
       "\n",
       "    .dataframe tbody tr th {\n",
       "        vertical-align: top;\n",
       "    }\n",
       "\n",
       "    .dataframe thead th {\n",
       "        text-align: right;\n",
       "    }\n",
       "</style>\n",
       "<table border=\"1\" class=\"dataframe\">\n",
       "  <thead>\n",
       "    <tr style=\"text-align: right;\">\n",
       "      <th></th>\n",
       "      <th>level_0</th>\n",
       "      <th>index</th>\n",
       "      <th>product_title</th>\n",
       "      <th>reviews</th>\n",
       "    </tr>\n",
       "  </thead>\n",
       "  <tbody>\n",
       "    <tr>\n",
       "      <th>0</th>\n",
       "      <td>0</td>\n",
       "      <td>0</td>\n",
       "      <td>InnoQ 6.5 Kg Semi Automatic Top Load Washing M...</td>\n",
       "      <td>Best in the market!</td>\n",
       "    </tr>\n",
       "    <tr>\n",
       "      <th>1</th>\n",
       "      <td>1</td>\n",
       "      <td>1</td>\n",
       "      <td>InnoQ 6.5 Kg Semi Automatic Top Load Washing M...</td>\n",
       "      <td>Great product</td>\n",
       "    </tr>\n",
       "    <tr>\n",
       "      <th>2</th>\n",
       "      <td>2</td>\n",
       "      <td>2</td>\n",
       "      <td>InnoQ 6.5 Kg Semi Automatic Top Load Washing M...</td>\n",
       "      <td>Super!</td>\n",
       "    </tr>\n",
       "    <tr>\n",
       "      <th>3</th>\n",
       "      <td>3</td>\n",
       "      <td>3</td>\n",
       "      <td>InnoQ 6.5 Kg Semi Automatic Top Load Washing M...</td>\n",
       "      <td>Worth every penny</td>\n",
       "    </tr>\n",
       "    <tr>\n",
       "      <th>4</th>\n",
       "      <td>4</td>\n",
       "      <td>4</td>\n",
       "      <td>InnoQ 6.5 Kg Semi Automatic Top Load Washing M...</td>\n",
       "      <td>Just wow!</td>\n",
       "    </tr>\n",
       "  </tbody>\n",
       "</table>\n",
       "</div>"
      ],
      "text/plain": [
       "   level_0  index                                      product_title  \\\n",
       "0        0      0  InnoQ 6.5 Kg Semi Automatic Top Load Washing M...   \n",
       "1        1      1  InnoQ 6.5 Kg Semi Automatic Top Load Washing M...   \n",
       "2        2      2  InnoQ 6.5 Kg Semi Automatic Top Load Washing M...   \n",
       "3        3      3  InnoQ 6.5 Kg Semi Automatic Top Load Washing M...   \n",
       "4        4      4  InnoQ 6.5 Kg Semi Automatic Top Load Washing M...   \n",
       "\n",
       "               reviews  \n",
       "0  Best in the market!  \n",
       "1        Great product  \n",
       "2               Super!  \n",
       "3    Worth every penny  \n",
       "4            Just wow!  "
      ]
     },
     "execution_count": 52,
     "metadata": {},
     "output_type": "execute_result"
    }
   ],
   "source": [
    "fd.head()"
   ]
  },
  {
   "cell_type": "code",
   "execution_count": 53,
   "id": "37ed97c6",
   "metadata": {},
   "outputs": [],
   "source": [
    "fd.drop([\"level_0\",\"index\"],axis=1,inplace=True)"
   ]
  },
  {
   "cell_type": "code",
   "execution_count": 54,
   "id": "d3c4c9b4",
   "metadata": {},
   "outputs": [],
   "source": [
    "from nltk.sentiment.vader import SentimentIntensityAnalyzer\n",
    "\n",
    "sia = SentimentIntensityAnalyzer()"
   ]
  },
  {
   "cell_type": "code",
   "execution_count": 55,
   "id": "a963105f",
   "metadata": {},
   "outputs": [
    {
     "data": {
      "text/plain": [
       "{'neg': 0.0, 'neu': 0.318, 'pos': 0.682, 'compound': 0.6468}"
      ]
     },
     "execution_count": 55,
     "metadata": {},
     "output_type": "execute_result"
    }
   ],
   "source": [
    "sia.polarity_scores('I am so happy!')"
   ]
  },
  {
   "cell_type": "code",
   "execution_count": 56,
   "id": "c8738b6b",
   "metadata": {},
   "outputs": [
    {
     "data": {
      "text/plain": [
       "{'neg': 0.0, 'neu': 0.4, 'pos': 0.6, 'compound': 0.6696}"
      ]
     },
     "execution_count": 56,
     "metadata": {},
     "output_type": "execute_result"
    }
   ],
   "source": [
    "sia.polarity_scores(fd.iloc[0]['reviews'])"
   ]
  },
  {
   "cell_type": "code",
   "execution_count": 57,
   "id": "8a8f29bc",
   "metadata": {},
   "outputs": [
    {
     "data": {
      "text/plain": [
       "reviews\n",
       "Wonderful                                                5630\n",
       "Must buy!                                                4326\n",
       "Fabulous!                                                4319\n",
       "Brilliant                                                4282\n",
       "Classy product                                           4280\n",
       "                                                         ... \n",
       "Washing machine                                             1\n",
       "Nice Product and stands out from others in this range       1\n",
       "Not a good experience                                       1\n",
       "Performance of the washing machine.                         1\n",
       "VFM product                                                 1\n",
       "Name: count, Length: 1690, dtype: int64"
      ]
     },
     "execution_count": 57,
     "metadata": {},
     "output_type": "execute_result"
    }
   ],
   "source": [
    "fd[\"reviews\"].value_counts()"
   ]
  },
  {
   "cell_type": "code",
   "execution_count": 58,
   "id": "a494a0c4",
   "metadata": {},
   "outputs": [
    {
     "data": {
      "text/plain": [
       "'Great product'"
      ]
     },
     "execution_count": 58,
     "metadata": {},
     "output_type": "execute_result"
    }
   ],
   "source": [
    "fd.iloc[8]['reviews']"
   ]
  },
  {
   "cell_type": "code",
   "execution_count": 59,
   "id": "89f0be4b",
   "metadata": {
    "scrolled": true
   },
   "outputs": [
    {
     "data": {
      "text/html": [
       "<div>\n",
       "<style scoped>\n",
       "    .dataframe tbody tr th:only-of-type {\n",
       "        vertical-align: middle;\n",
       "    }\n",
       "\n",
       "    .dataframe tbody tr th {\n",
       "        vertical-align: top;\n",
       "    }\n",
       "\n",
       "    .dataframe thead th {\n",
       "        text-align: right;\n",
       "    }\n",
       "</style>\n",
       "<table border=\"1\" class=\"dataframe\">\n",
       "  <thead>\n",
       "    <tr style=\"text-align: right;\">\n",
       "      <th></th>\n",
       "      <th>product_title</th>\n",
       "      <th>reviews</th>\n",
       "      <th>scores</th>\n",
       "    </tr>\n",
       "  </thead>\n",
       "  <tbody>\n",
       "    <tr>\n",
       "      <th>0</th>\n",
       "      <td>InnoQ 6.5 Kg Semi Automatic Top Load Washing M...</td>\n",
       "      <td>Best in the market!</td>\n",
       "      <td>{'neg': 0.0, 'neu': 0.4, 'pos': 0.6, 'compound...</td>\n",
       "    </tr>\n",
       "    <tr>\n",
       "      <th>1</th>\n",
       "      <td>InnoQ 6.5 Kg Semi Automatic Top Load Washing M...</td>\n",
       "      <td>Great product</td>\n",
       "      <td>{'neg': 0.0, 'neu': 0.196, 'pos': 0.804, 'comp...</td>\n",
       "    </tr>\n",
       "    <tr>\n",
       "      <th>2</th>\n",
       "      <td>InnoQ 6.5 Kg Semi Automatic Top Load Washing M...</td>\n",
       "      <td>Super!</td>\n",
       "      <td>{'neg': 0.0, 'neu': 0.0, 'pos': 1.0, 'compound...</td>\n",
       "    </tr>\n",
       "    <tr>\n",
       "      <th>3</th>\n",
       "      <td>InnoQ 6.5 Kg Semi Automatic Top Load Washing M...</td>\n",
       "      <td>Worth every penny</td>\n",
       "      <td>{'neg': 0.0, 'neu': 0.513, 'pos': 0.487, 'comp...</td>\n",
       "    </tr>\n",
       "    <tr>\n",
       "      <th>4</th>\n",
       "      <td>InnoQ 6.5 Kg Semi Automatic Top Load Washing M...</td>\n",
       "      <td>Just wow!</td>\n",
       "      <td>{'neg': 0.0, 'neu': 0.196, 'pos': 0.804, 'comp...</td>\n",
       "    </tr>\n",
       "  </tbody>\n",
       "</table>\n",
       "</div>"
      ],
      "text/plain": [
       "                                       product_title              reviews  \\\n",
       "0  InnoQ 6.5 Kg Semi Automatic Top Load Washing M...  Best in the market!   \n",
       "1  InnoQ 6.5 Kg Semi Automatic Top Load Washing M...        Great product   \n",
       "2  InnoQ 6.5 Kg Semi Automatic Top Load Washing M...               Super!   \n",
       "3  InnoQ 6.5 Kg Semi Automatic Top Load Washing M...    Worth every penny   \n",
       "4  InnoQ 6.5 Kg Semi Automatic Top Load Washing M...            Just wow!   \n",
       "\n",
       "                                              scores  \n",
       "0  {'neg': 0.0, 'neu': 0.4, 'pos': 0.6, 'compound...  \n",
       "1  {'neg': 0.0, 'neu': 0.196, 'pos': 0.804, 'comp...  \n",
       "2  {'neg': 0.0, 'neu': 0.0, 'pos': 1.0, 'compound...  \n",
       "3  {'neg': 0.0, 'neu': 0.513, 'pos': 0.487, 'comp...  \n",
       "4  {'neg': 0.0, 'neu': 0.196, 'pos': 0.804, 'comp...  "
      ]
     },
     "execution_count": 59,
     "metadata": {},
     "output_type": "execute_result"
    }
   ],
   "source": [
    "fd['scores'] = fd['reviews'].apply(lambda reviews: sia.polarity_scores(reviews) if not isinstance(reviews, float) else None)\n",
    "\n",
    "fd.head()"
   ]
  },
  {
   "cell_type": "code",
   "execution_count": 60,
   "id": "004b2c83",
   "metadata": {},
   "outputs": [
    {
     "data": {
      "text/plain": [
       "(113220, 3)"
      ]
     },
     "execution_count": 60,
     "metadata": {},
     "output_type": "execute_result"
    }
   ],
   "source": [
    "fd.shape"
   ]
  },
  {
   "cell_type": "code",
   "execution_count": 61,
   "id": "d46bc068",
   "metadata": {},
   "outputs": [
    {
     "data": {
      "text/plain": [
       "0         False\n",
       "1         False\n",
       "2         False\n",
       "3         False\n",
       "4         False\n",
       "          ...  \n",
       "113215    False\n",
       "113216    False\n",
       "113217    False\n",
       "113218    False\n",
       "113219    False\n",
       "Name: reviews, Length: 113220, dtype: bool"
      ]
     },
     "execution_count": 61,
     "metadata": {},
     "output_type": "execute_result"
    }
   ],
   "source": [
    "fd['reviews']==\"no name\""
   ]
  },
  {
   "cell_type": "code",
   "execution_count": 62,
   "id": "4790666e",
   "metadata": {},
   "outputs": [
    {
     "data": {
      "text/html": [
       "<div>\n",
       "<style scoped>\n",
       "    .dataframe tbody tr th:only-of-type {\n",
       "        vertical-align: middle;\n",
       "    }\n",
       "\n",
       "    .dataframe tbody tr th {\n",
       "        vertical-align: top;\n",
       "    }\n",
       "\n",
       "    .dataframe thead th {\n",
       "        text-align: right;\n",
       "    }\n",
       "</style>\n",
       "<table border=\"1\" class=\"dataframe\">\n",
       "  <thead>\n",
       "    <tr style=\"text-align: right;\">\n",
       "      <th></th>\n",
       "      <th>product_title</th>\n",
       "      <th>reviews</th>\n",
       "      <th>scores</th>\n",
       "      <th>compound</th>\n",
       "    </tr>\n",
       "  </thead>\n",
       "  <tbody>\n",
       "    <tr>\n",
       "      <th>0</th>\n",
       "      <td>InnoQ 6.5 Kg Semi Automatic Top Load Washing M...</td>\n",
       "      <td>Best in the market!</td>\n",
       "      <td>{'neg': 0.0, 'neu': 0.4, 'pos': 0.6, 'compound...</td>\n",
       "      <td>0.6696</td>\n",
       "    </tr>\n",
       "    <tr>\n",
       "      <th>1</th>\n",
       "      <td>InnoQ 6.5 Kg Semi Automatic Top Load Washing M...</td>\n",
       "      <td>Great product</td>\n",
       "      <td>{'neg': 0.0, 'neu': 0.196, 'pos': 0.804, 'comp...</td>\n",
       "      <td>0.6249</td>\n",
       "    </tr>\n",
       "    <tr>\n",
       "      <th>2</th>\n",
       "      <td>InnoQ 6.5 Kg Semi Automatic Top Load Washing M...</td>\n",
       "      <td>Super!</td>\n",
       "      <td>{'neg': 0.0, 'neu': 0.0, 'pos': 1.0, 'compound...</td>\n",
       "      <td>0.6360</td>\n",
       "    </tr>\n",
       "    <tr>\n",
       "      <th>3</th>\n",
       "      <td>InnoQ 6.5 Kg Semi Automatic Top Load Washing M...</td>\n",
       "      <td>Worth every penny</td>\n",
       "      <td>{'neg': 0.0, 'neu': 0.513, 'pos': 0.487, 'comp...</td>\n",
       "      <td>0.2263</td>\n",
       "    </tr>\n",
       "    <tr>\n",
       "      <th>4</th>\n",
       "      <td>InnoQ 6.5 Kg Semi Automatic Top Load Washing M...</td>\n",
       "      <td>Just wow!</td>\n",
       "      <td>{'neg': 0.0, 'neu': 0.196, 'pos': 0.804, 'comp...</td>\n",
       "      <td>0.6239</td>\n",
       "    </tr>\n",
       "  </tbody>\n",
       "</table>\n",
       "</div>"
      ],
      "text/plain": [
       "                                       product_title              reviews  \\\n",
       "0  InnoQ 6.5 Kg Semi Automatic Top Load Washing M...  Best in the market!   \n",
       "1  InnoQ 6.5 Kg Semi Automatic Top Load Washing M...        Great product   \n",
       "2  InnoQ 6.5 Kg Semi Automatic Top Load Washing M...               Super!   \n",
       "3  InnoQ 6.5 Kg Semi Automatic Top Load Washing M...    Worth every penny   \n",
       "4  InnoQ 6.5 Kg Semi Automatic Top Load Washing M...            Just wow!   \n",
       "\n",
       "                                              scores  compound  \n",
       "0  {'neg': 0.0, 'neu': 0.4, 'pos': 0.6, 'compound...    0.6696  \n",
       "1  {'neg': 0.0, 'neu': 0.196, 'pos': 0.804, 'comp...    0.6249  \n",
       "2  {'neg': 0.0, 'neu': 0.0, 'pos': 1.0, 'compound...    0.6360  \n",
       "3  {'neg': 0.0, 'neu': 0.513, 'pos': 0.487, 'comp...    0.2263  \n",
       "4  {'neg': 0.0, 'neu': 0.196, 'pos': 0.804, 'comp...    0.6239  "
      ]
     },
     "execution_count": 62,
     "metadata": {},
     "output_type": "execute_result"
    }
   ],
   "source": [
    "fd['compound'] = fd['scores'].apply(lambda score_dict: score_dict['compound'] if score_dict is not None else None)\n",
    "fd.head()"
   ]
  },
  {
   "cell_type": "code",
   "execution_count": 63,
   "id": "700e39d1",
   "metadata": {},
   "outputs": [
    {
     "data": {
      "text/html": [
       "<div>\n",
       "<style scoped>\n",
       "    .dataframe tbody tr th:only-of-type {\n",
       "        vertical-align: middle;\n",
       "    }\n",
       "\n",
       "    .dataframe tbody tr th {\n",
       "        vertical-align: top;\n",
       "    }\n",
       "\n",
       "    .dataframe thead th {\n",
       "        text-align: right;\n",
       "    }\n",
       "</style>\n",
       "<table border=\"1\" class=\"dataframe\">\n",
       "  <thead>\n",
       "    <tr style=\"text-align: right;\">\n",
       "      <th></th>\n",
       "      <th>product_title</th>\n",
       "      <th>reviews</th>\n",
       "      <th>scores</th>\n",
       "      <th>compound</th>\n",
       "      <th>comp_score</th>\n",
       "    </tr>\n",
       "  </thead>\n",
       "  <tbody>\n",
       "    <tr>\n",
       "      <th>0</th>\n",
       "      <td>InnoQ 6.5 Kg Semi Automatic Top Load Washing M...</td>\n",
       "      <td>Best in the market!</td>\n",
       "      <td>{'neg': 0.0, 'neu': 0.4, 'pos': 0.6, 'compound...</td>\n",
       "      <td>0.6696</td>\n",
       "      <td>pos</td>\n",
       "    </tr>\n",
       "    <tr>\n",
       "      <th>1</th>\n",
       "      <td>InnoQ 6.5 Kg Semi Automatic Top Load Washing M...</td>\n",
       "      <td>Great product</td>\n",
       "      <td>{'neg': 0.0, 'neu': 0.196, 'pos': 0.804, 'comp...</td>\n",
       "      <td>0.6249</td>\n",
       "      <td>pos</td>\n",
       "    </tr>\n",
       "    <tr>\n",
       "      <th>2</th>\n",
       "      <td>InnoQ 6.5 Kg Semi Automatic Top Load Washing M...</td>\n",
       "      <td>Super!</td>\n",
       "      <td>{'neg': 0.0, 'neu': 0.0, 'pos': 1.0, 'compound...</td>\n",
       "      <td>0.6360</td>\n",
       "      <td>pos</td>\n",
       "    </tr>\n",
       "    <tr>\n",
       "      <th>3</th>\n",
       "      <td>InnoQ 6.5 Kg Semi Automatic Top Load Washing M...</td>\n",
       "      <td>Worth every penny</td>\n",
       "      <td>{'neg': 0.0, 'neu': 0.513, 'pos': 0.487, 'comp...</td>\n",
       "      <td>0.2263</td>\n",
       "      <td>pos</td>\n",
       "    </tr>\n",
       "    <tr>\n",
       "      <th>4</th>\n",
       "      <td>InnoQ 6.5 Kg Semi Automatic Top Load Washing M...</td>\n",
       "      <td>Just wow!</td>\n",
       "      <td>{'neg': 0.0, 'neu': 0.196, 'pos': 0.804, 'comp...</td>\n",
       "      <td>0.6239</td>\n",
       "      <td>pos</td>\n",
       "    </tr>\n",
       "    <tr>\n",
       "      <th>5</th>\n",
       "      <td>InnoQ 6.5 Kg Semi Automatic Top Load Washing M...</td>\n",
       "      <td>Super!</td>\n",
       "      <td>{'neg': 0.0, 'neu': 0.0, 'pos': 1.0, 'compound...</td>\n",
       "      <td>0.6360</td>\n",
       "      <td>pos</td>\n",
       "    </tr>\n",
       "    <tr>\n",
       "      <th>6</th>\n",
       "      <td>InnoQ 6.5 Kg Semi Automatic Top Load Washing M...</td>\n",
       "      <td>Awesome</td>\n",
       "      <td>{'neg': 0.0, 'neu': 0.0, 'pos': 1.0, 'compound...</td>\n",
       "      <td>0.6249</td>\n",
       "      <td>pos</td>\n",
       "    </tr>\n",
       "    <tr>\n",
       "      <th>7</th>\n",
       "      <td>InnoQ 6.5 Kg Semi Automatic Top Load Washing M...</td>\n",
       "      <td>Mind-blowing purchase</td>\n",
       "      <td>{'neg': 0.0, 'neu': 1.0, 'pos': 0.0, 'compound...</td>\n",
       "      <td>0.0000</td>\n",
       "      <td>pos</td>\n",
       "    </tr>\n",
       "    <tr>\n",
       "      <th>8</th>\n",
       "      <td>InnoQ 6.5 Kg Semi Automatic Top Load Washing M...</td>\n",
       "      <td>Great product</td>\n",
       "      <td>{'neg': 0.0, 'neu': 0.196, 'pos': 0.804, 'comp...</td>\n",
       "      <td>0.6249</td>\n",
       "      <td>pos</td>\n",
       "    </tr>\n",
       "    <tr>\n",
       "      <th>9</th>\n",
       "      <td>no name</td>\n",
       "      <td>Perfect product!</td>\n",
       "      <td>{'neg': 0.0, 'neu': 0.2, 'pos': 0.8, 'compound...</td>\n",
       "      <td>0.6114</td>\n",
       "      <td>pos</td>\n",
       "    </tr>\n",
       "  </tbody>\n",
       "</table>\n",
       "</div>"
      ],
      "text/plain": [
       "                                       product_title                reviews  \\\n",
       "0  InnoQ 6.5 Kg Semi Automatic Top Load Washing M...    Best in the market!   \n",
       "1  InnoQ 6.5 Kg Semi Automatic Top Load Washing M...          Great product   \n",
       "2  InnoQ 6.5 Kg Semi Automatic Top Load Washing M...                 Super!   \n",
       "3  InnoQ 6.5 Kg Semi Automatic Top Load Washing M...      Worth every penny   \n",
       "4  InnoQ 6.5 Kg Semi Automatic Top Load Washing M...              Just wow!   \n",
       "5  InnoQ 6.5 Kg Semi Automatic Top Load Washing M...                 Super!   \n",
       "6  InnoQ 6.5 Kg Semi Automatic Top Load Washing M...                Awesome   \n",
       "7  InnoQ 6.5 Kg Semi Automatic Top Load Washing M...  Mind-blowing purchase   \n",
       "8  InnoQ 6.5 Kg Semi Automatic Top Load Washing M...          Great product   \n",
       "9                                            no name       Perfect product!   \n",
       "\n",
       "                                              scores  compound comp_score  \n",
       "0  {'neg': 0.0, 'neu': 0.4, 'pos': 0.6, 'compound...    0.6696        pos  \n",
       "1  {'neg': 0.0, 'neu': 0.196, 'pos': 0.804, 'comp...    0.6249        pos  \n",
       "2  {'neg': 0.0, 'neu': 0.0, 'pos': 1.0, 'compound...    0.6360        pos  \n",
       "3  {'neg': 0.0, 'neu': 0.513, 'pos': 0.487, 'comp...    0.2263        pos  \n",
       "4  {'neg': 0.0, 'neu': 0.196, 'pos': 0.804, 'comp...    0.6239        pos  \n",
       "5  {'neg': 0.0, 'neu': 0.0, 'pos': 1.0, 'compound...    0.6360        pos  \n",
       "6  {'neg': 0.0, 'neu': 0.0, 'pos': 1.0, 'compound...    0.6249        pos  \n",
       "7  {'neg': 0.0, 'neu': 1.0, 'pos': 0.0, 'compound...    0.0000        pos  \n",
       "8  {'neg': 0.0, 'neu': 0.196, 'pos': 0.804, 'comp...    0.6249        pos  \n",
       "9  {'neg': 0.0, 'neu': 0.2, 'pos': 0.8, 'compound...    0.6114        pos  "
      ]
     },
     "execution_count": 63,
     "metadata": {},
     "output_type": "execute_result"
    }
   ],
   "source": [
    "fd['comp_score'] = fd['compound'].apply(lambda c: 'pos' if c >=0 else 'neg')\n",
    "\n",
    "fd.head(10)"
   ]
  },
  {
   "cell_type": "code",
   "execution_count": 64,
   "id": "722bfcbd",
   "metadata": {},
   "outputs": [
    {
     "data": {
      "text/plain": [
       "comp_score\n",
       "pos    106394\n",
       "neg      6826\n",
       "Name: count, dtype: int64"
      ]
     },
     "execution_count": 64,
     "metadata": {},
     "output_type": "execute_result"
    }
   ],
   "source": [
    "fd.comp_score.value_counts()"
   ]
  },
  {
   "cell_type": "code",
   "execution_count": 42,
   "id": "2919f26b",
   "metadata": {},
   "outputs": [
    {
     "data": {
      "text/plain": [
       "0.017576050217286334"
      ]
     },
     "execution_count": 42,
     "metadata": {},
     "output_type": "execute_result"
    }
   ],
   "source": [
    "364/20710\n",
    "# we can see that barely 1% review are neg so almost 99% percent reviews are positive so it is a matter of data imbalance"
   ]
  },
  {
   "cell_type": "code",
   "execution_count": 65,
   "id": "0503c4ec",
   "metadata": {},
   "outputs": [
    {
     "data": {
      "text/html": [
       "<div>\n",
       "<style scoped>\n",
       "    .dataframe tbody tr th:only-of-type {\n",
       "        vertical-align: middle;\n",
       "    }\n",
       "\n",
       "    .dataframe tbody tr th {\n",
       "        vertical-align: top;\n",
       "    }\n",
       "\n",
       "    .dataframe thead th {\n",
       "        text-align: right;\n",
       "    }\n",
       "</style>\n",
       "<table border=\"1\" class=\"dataframe\">\n",
       "  <thead>\n",
       "    <tr style=\"text-align: right;\">\n",
       "      <th></th>\n",
       "      <th>product_title</th>\n",
       "      <th>reviews</th>\n",
       "      <th>scores</th>\n",
       "      <th>compound</th>\n",
       "      <th>comp_score</th>\n",
       "    </tr>\n",
       "  </thead>\n",
       "  <tbody>\n",
       "    <tr>\n",
       "      <th>0</th>\n",
       "      <td>InnoQ 6.5 Kg Semi Automatic Top Load Washing M...</td>\n",
       "      <td>Best in the market!</td>\n",
       "      <td>{'neg': 0.0, 'neu': 0.4, 'pos': 0.6, 'compound...</td>\n",
       "      <td>0.6696</td>\n",
       "      <td>pos</td>\n",
       "    </tr>\n",
       "    <tr>\n",
       "      <th>1</th>\n",
       "      <td>InnoQ 6.5 Kg Semi Automatic Top Load Washing M...</td>\n",
       "      <td>Great product</td>\n",
       "      <td>{'neg': 0.0, 'neu': 0.196, 'pos': 0.804, 'comp...</td>\n",
       "      <td>0.6249</td>\n",
       "      <td>pos</td>\n",
       "    </tr>\n",
       "    <tr>\n",
       "      <th>2</th>\n",
       "      <td>InnoQ 6.5 Kg Semi Automatic Top Load Washing M...</td>\n",
       "      <td>Super!</td>\n",
       "      <td>{'neg': 0.0, 'neu': 0.0, 'pos': 1.0, 'compound...</td>\n",
       "      <td>0.6360</td>\n",
       "      <td>pos</td>\n",
       "    </tr>\n",
       "    <tr>\n",
       "      <th>3</th>\n",
       "      <td>InnoQ 6.5 Kg Semi Automatic Top Load Washing M...</td>\n",
       "      <td>Worth every penny</td>\n",
       "      <td>{'neg': 0.0, 'neu': 0.513, 'pos': 0.487, 'comp...</td>\n",
       "      <td>0.2263</td>\n",
       "      <td>pos</td>\n",
       "    </tr>\n",
       "    <tr>\n",
       "      <th>4</th>\n",
       "      <td>InnoQ 6.5 Kg Semi Automatic Top Load Washing M...</td>\n",
       "      <td>Just wow!</td>\n",
       "      <td>{'neg': 0.0, 'neu': 0.196, 'pos': 0.804, 'comp...</td>\n",
       "      <td>0.6239</td>\n",
       "      <td>pos</td>\n",
       "    </tr>\n",
       "  </tbody>\n",
       "</table>\n",
       "</div>"
      ],
      "text/plain": [
       "                                       product_title              reviews  \\\n",
       "0  InnoQ 6.5 Kg Semi Automatic Top Load Washing M...  Best in the market!   \n",
       "1  InnoQ 6.5 Kg Semi Automatic Top Load Washing M...        Great product   \n",
       "2  InnoQ 6.5 Kg Semi Automatic Top Load Washing M...               Super!   \n",
       "3  InnoQ 6.5 Kg Semi Automatic Top Load Washing M...    Worth every penny   \n",
       "4  InnoQ 6.5 Kg Semi Automatic Top Load Washing M...            Just wow!   \n",
       "\n",
       "                                              scores  compound comp_score  \n",
       "0  {'neg': 0.0, 'neu': 0.4, 'pos': 0.6, 'compound...    0.6696        pos  \n",
       "1  {'neg': 0.0, 'neu': 0.196, 'pos': 0.804, 'comp...    0.6249        pos  \n",
       "2  {'neg': 0.0, 'neu': 0.0, 'pos': 1.0, 'compound...    0.6360        pos  \n",
       "3  {'neg': 0.0, 'neu': 0.513, 'pos': 0.487, 'comp...    0.2263        pos  \n",
       "4  {'neg': 0.0, 'neu': 0.196, 'pos': 0.804, 'comp...    0.6239        pos  "
      ]
     },
     "execution_count": 65,
     "metadata": {},
     "output_type": "execute_result"
    }
   ],
   "source": [
    "fd.head()"
   ]
  },
  {
   "cell_type": "code",
   "execution_count": 66,
   "id": "2a2323c6",
   "metadata": {},
   "outputs": [
    {
     "data": {
      "text/plain": [
       "product_title    0.000000\n",
       "reviews          0.005299\n",
       "scores           0.005299\n",
       "compound         0.005299\n",
       "comp_score       0.000000\n",
       "dtype: float64"
      ]
     },
     "execution_count": 66,
     "metadata": {},
     "output_type": "execute_result"
    }
   ],
   "source": [
    "fd.isnull().sum()/len(fd)*100"
   ]
  },
  {
   "cell_type": "code",
   "execution_count": 67,
   "id": "ce22dcf4",
   "metadata": {},
   "outputs": [],
   "source": [
    "fd.dropna(subset=['reviews', 'scores', 'compound'], inplace=True)"
   ]
  },
  {
   "cell_type": "code",
   "execution_count": 68,
   "id": "e20e070c",
   "metadata": {},
   "outputs": [
    {
     "data": {
      "text/html": [
       "<div>\n",
       "<style scoped>\n",
       "    .dataframe tbody tr th:only-of-type {\n",
       "        vertical-align: middle;\n",
       "    }\n",
       "\n",
       "    .dataframe tbody tr th {\n",
       "        vertical-align: top;\n",
       "    }\n",
       "\n",
       "    .dataframe thead th {\n",
       "        text-align: right;\n",
       "    }\n",
       "</style>\n",
       "<table border=\"1\" class=\"dataframe\">\n",
       "  <thead>\n",
       "    <tr style=\"text-align: right;\">\n",
       "      <th></th>\n",
       "      <th>compound</th>\n",
       "    </tr>\n",
       "  </thead>\n",
       "  <tbody>\n",
       "    <tr>\n",
       "      <th>count</th>\n",
       "      <td>113214.000000</td>\n",
       "    </tr>\n",
       "    <tr>\n",
       "      <th>mean</th>\n",
       "      <td>0.390910</td>\n",
       "    </tr>\n",
       "    <tr>\n",
       "      <th>std</th>\n",
       "      <td>0.309723</td>\n",
       "    </tr>\n",
       "    <tr>\n",
       "      <th>min</th>\n",
       "      <td>-0.863300</td>\n",
       "    </tr>\n",
       "    <tr>\n",
       "      <th>25%</th>\n",
       "      <td>0.226300</td>\n",
       "    </tr>\n",
       "    <tr>\n",
       "      <th>50%</th>\n",
       "      <td>0.476700</td>\n",
       "    </tr>\n",
       "    <tr>\n",
       "      <th>75%</th>\n",
       "      <td>0.623900</td>\n",
       "    </tr>\n",
       "    <tr>\n",
       "      <th>max</th>\n",
       "      <td>0.949100</td>\n",
       "    </tr>\n",
       "  </tbody>\n",
       "</table>\n",
       "</div>"
      ],
      "text/plain": [
       "            compound\n",
       "count  113214.000000\n",
       "mean        0.390910\n",
       "std         0.309723\n",
       "min        -0.863300\n",
       "25%         0.226300\n",
       "50%         0.476700\n",
       "75%         0.623900\n",
       "max         0.949100"
      ]
     },
     "execution_count": 68,
     "metadata": {},
     "output_type": "execute_result"
    }
   ],
   "source": [
    "fd.describe()"
   ]
  },
  {
   "cell_type": "code",
   "execution_count": 69,
   "id": "d8911dd4",
   "metadata": {},
   "outputs": [
    {
     "name": "stdout",
     "output_type": "stream",
     "text": [
      "<class 'pandas.core.frame.DataFrame'>\n",
      "Index: 113214 entries, 0 to 113219\n",
      "Data columns (total 5 columns):\n",
      " #   Column         Non-Null Count   Dtype  \n",
      "---  ------         --------------   -----  \n",
      " 0   product_title  113214 non-null  object \n",
      " 1   reviews        113214 non-null  object \n",
      " 2   scores         113214 non-null  object \n",
      " 3   compound       113214 non-null  float64\n",
      " 4   comp_score     113214 non-null  object \n",
      "dtypes: float64(1), object(4)\n",
      "memory usage: 5.2+ MB\n"
     ]
    }
   ],
   "source": [
    "fd.info()"
   ]
  },
  {
   "cell_type": "code",
   "execution_count": 70,
   "id": "09a84e5b",
   "metadata": {},
   "outputs": [
    {
     "data": {
      "text/html": [
       "<div>\n",
       "<style scoped>\n",
       "    .dataframe tbody tr th:only-of-type {\n",
       "        vertical-align: middle;\n",
       "    }\n",
       "\n",
       "    .dataframe tbody tr th {\n",
       "        vertical-align: top;\n",
       "    }\n",
       "\n",
       "    .dataframe thead tr th {\n",
       "        text-align: left;\n",
       "    }\n",
       "\n",
       "    .dataframe thead tr:last-of-type th {\n",
       "        text-align: right;\n",
       "    }\n",
       "</style>\n",
       "<table border=\"1\" class=\"dataframe\">\n",
       "  <thead>\n",
       "    <tr>\n",
       "      <th></th>\n",
       "      <th colspan=\"8\" halign=\"left\">compound</th>\n",
       "    </tr>\n",
       "    <tr>\n",
       "      <th></th>\n",
       "      <th>count</th>\n",
       "      <th>mean</th>\n",
       "      <th>std</th>\n",
       "      <th>min</th>\n",
       "      <th>25%</th>\n",
       "      <th>50%</th>\n",
       "      <th>75%</th>\n",
       "      <th>max</th>\n",
       "    </tr>\n",
       "    <tr>\n",
       "      <th>comp_score</th>\n",
       "      <th></th>\n",
       "      <th></th>\n",
       "      <th></th>\n",
       "      <th></th>\n",
       "      <th></th>\n",
       "      <th></th>\n",
       "      <th></th>\n",
       "      <th></th>\n",
       "    </tr>\n",
       "  </thead>\n",
       "  <tbody>\n",
       "    <tr>\n",
       "      <th>neg</th>\n",
       "      <td>6820.0</td>\n",
       "      <td>-0.476506</td>\n",
       "      <td>0.141838</td>\n",
       "      <td>-0.8633</td>\n",
       "      <td>-0.5423</td>\n",
       "      <td>-0.4767</td>\n",
       "      <td>-0.4228</td>\n",
       "      <td>-0.0127</td>\n",
       "    </tr>\n",
       "    <tr>\n",
       "      <th>pos</th>\n",
       "      <td>106394.0</td>\n",
       "      <td>0.446513</td>\n",
       "      <td>0.222408</td>\n",
       "      <td>0.0000</td>\n",
       "      <td>0.3182</td>\n",
       "      <td>0.5707</td>\n",
       "      <td>0.6239</td>\n",
       "      <td>0.9491</td>\n",
       "    </tr>\n",
       "  </tbody>\n",
       "</table>\n",
       "</div>"
      ],
      "text/plain": [
       "            compound                                                      \\\n",
       "               count      mean       std     min     25%     50%     75%   \n",
       "comp_score                                                                 \n",
       "neg           6820.0 -0.476506  0.141838 -0.8633 -0.5423 -0.4767 -0.4228   \n",
       "pos         106394.0  0.446513  0.222408  0.0000  0.3182  0.5707  0.6239   \n",
       "\n",
       "                    \n",
       "               max  \n",
       "comp_score          \n",
       "neg        -0.0127  \n",
       "pos         0.9491  "
      ]
     },
     "execution_count": 70,
     "metadata": {},
     "output_type": "execute_result"
    }
   ],
   "source": [
    "fd.groupby('comp_score').describe()"
   ]
  },
  {
   "cell_type": "code",
   "execution_count": 71,
   "id": "d5343d57",
   "metadata": {},
   "outputs": [
    {
     "data": {
      "text/plain": [
       "(6820, 5)"
      ]
     },
     "execution_count": 71,
     "metadata": {},
     "output_type": "execute_result"
    }
   ],
   "source": [
    "fd_neg = fd[fd['comp_score']=='neg']\n",
    "fd_neg.shape"
   ]
  },
  {
   "cell_type": "code",
   "execution_count": 72,
   "id": "7ad08ae1",
   "metadata": {},
   "outputs": [
    {
     "data": {
      "text/plain": [
       "(106394, 5)"
      ]
     },
     "execution_count": 72,
     "metadata": {},
     "output_type": "execute_result"
    }
   ],
   "source": [
    "fd_pos = fd[fd['comp_score']=='pos']\n",
    "fd_pos.shape"
   ]
  },
  {
   "cell_type": "code",
   "execution_count": 73,
   "id": "c65120fa",
   "metadata": {},
   "outputs": [
    {
     "data": {
      "text/plain": [
       "(6820, 5)"
      ]
     },
     "execution_count": 73,
     "metadata": {},
     "output_type": "execute_result"
    }
   ],
   "source": [
    "fd_pos_downsampled = fd_pos.sample(fd_neg.shape[0])\n",
    "fd_pos_downsampled.shape"
   ]
  },
  {
   "cell_type": "code",
   "execution_count": 74,
   "id": "f9472c5f",
   "metadata": {},
   "outputs": [
    {
     "data": {
      "text/plain": [
       "(13640, 5)"
      ]
     },
     "execution_count": 74,
     "metadata": {},
     "output_type": "execute_result"
    }
   ],
   "source": [
    "fd_balanced = ps.concat([fd_pos_downsampled, fd_neg])\n",
    "fd_balanced.shape"
   ]
  },
  {
   "cell_type": "code",
   "execution_count": 75,
   "id": "3394ec70",
   "metadata": {},
   "outputs": [
    {
     "data": {
      "text/plain": [
       "comp_score\n",
       "pos    6820\n",
       "neg    6820\n",
       "Name: count, dtype: int64"
      ]
     },
     "execution_count": 75,
     "metadata": {},
     "output_type": "execute_result"
    }
   ],
   "source": [
    "fd_balanced['comp_score'].value_counts()"
   ]
  },
  {
   "cell_type": "code",
   "execution_count": 76,
   "id": "cf3613cd",
   "metadata": {},
   "outputs": [
    {
     "data": {
      "text/html": [
       "<div>\n",
       "<style scoped>\n",
       "    .dataframe tbody tr th:only-of-type {\n",
       "        vertical-align: middle;\n",
       "    }\n",
       "\n",
       "    .dataframe tbody tr th {\n",
       "        vertical-align: top;\n",
       "    }\n",
       "\n",
       "    .dataframe thead th {\n",
       "        text-align: right;\n",
       "    }\n",
       "</style>\n",
       "<table border=\"1\" class=\"dataframe\">\n",
       "  <thead>\n",
       "    <tr style=\"text-align: right;\">\n",
       "      <th></th>\n",
       "      <th>product_title</th>\n",
       "      <th>reviews</th>\n",
       "      <th>scores</th>\n",
       "      <th>compound</th>\n",
       "      <th>comp_score</th>\n",
       "      <th>neg</th>\n",
       "    </tr>\n",
       "  </thead>\n",
       "  <tbody>\n",
       "    <tr>\n",
       "      <th>100107</th>\n",
       "      <td>APPLE iPhone X (Silver, 256 GB) Reviews</td>\n",
       "      <td>Not worth more than 60k, only buy during sale ...</td>\n",
       "      <td>{'neg': 0.156, 'neu': 0.844, 'pos': 0.0, 'comp...</td>\n",
       "      <td>-0.1695</td>\n",
       "      <td>neg</td>\n",
       "      <td>1</td>\n",
       "    </tr>\n",
       "    <tr>\n",
       "      <th>16465</th>\n",
       "      <td>Whirlpool 7.5 kg Fully Automatic Top Load Wash...</td>\n",
       "      <td>Utterly Disappointed</td>\n",
       "      <td>{'neg': 0.772, 'neu': 0.228, 'pos': 0.0, 'comp...</td>\n",
       "      <td>-0.5256</td>\n",
       "      <td>neg</td>\n",
       "      <td>1</td>\n",
       "    </tr>\n",
       "    <tr>\n",
       "      <th>60440</th>\n",
       "      <td>Redmi 2 Prime (Grey, 16 GB) Reviews</td>\n",
       "      <td>Superb Value for Money!</td>\n",
       "      <td>{'neg': 0.0, 'neu': 0.227, 'pos': 0.773, 'comp...</td>\n",
       "      <td>0.7777</td>\n",
       "      <td>pos</td>\n",
       "      <td>0</td>\n",
       "    </tr>\n",
       "    <tr>\n",
       "      <th>35329</th>\n",
       "      <td>Redmi Note 11 PRO Plus 5G (Phantom White, 128 ...</td>\n",
       "      <td>Hated it!</td>\n",
       "      <td>{'neg': 0.818, 'neu': 0.182, 'pos': 0.0, 'comp...</td>\n",
       "      <td>-0.6696</td>\n",
       "      <td>neg</td>\n",
       "      <td>1</td>\n",
       "    </tr>\n",
       "    <tr>\n",
       "      <th>43489</th>\n",
       "      <td>REDMI 11 Prime (Peppy Purple, 64 GB) Reviews</td>\n",
       "      <td>Hated it!</td>\n",
       "      <td>{'neg': 0.818, 'neu': 0.182, 'pos': 0.0, 'comp...</td>\n",
       "      <td>-0.6696</td>\n",
       "      <td>neg</td>\n",
       "      <td>1</td>\n",
       "    </tr>\n",
       "    <tr>\n",
       "      <th>84947</th>\n",
       "      <td>APPLE iPhone 14 (Starlight, 512 GB) Reviews</td>\n",
       "      <td>Simply awesome</td>\n",
       "      <td>{'neg': 0.0, 'neu': 0.196, 'pos': 0.804, 'comp...</td>\n",
       "      <td>0.6249</td>\n",
       "      <td>pos</td>\n",
       "      <td>0</td>\n",
       "    </tr>\n",
       "    <tr>\n",
       "      <th>53588</th>\n",
       "      <td>itel MagicX Pro (4G Hotspot) Reviews</td>\n",
       "      <td>Useless product</td>\n",
       "      <td>{'neg': 0.737, 'neu': 0.263, 'pos': 0.0, 'comp...</td>\n",
       "      <td>-0.4215</td>\n",
       "      <td>neg</td>\n",
       "      <td>1</td>\n",
       "    </tr>\n",
       "    <tr>\n",
       "      <th>43223</th>\n",
       "      <td>REDMI 9 Activ (Carbon Black, 128 GB) Reviews</td>\n",
       "      <td>Very poor</td>\n",
       "      <td>{'neg': 0.772, 'neu': 0.228, 'pos': 0.0, 'comp...</td>\n",
       "      <td>-0.5256</td>\n",
       "      <td>neg</td>\n",
       "      <td>1</td>\n",
       "    </tr>\n",
       "    <tr>\n",
       "      <th>39627</th>\n",
       "      <td>Redmi Note 5 (Rose Gold, 64 GB) Reviews</td>\n",
       "      <td>Perfect product!</td>\n",
       "      <td>{'neg': 0.0, 'neu': 0.2, 'pos': 0.8, 'compound...</td>\n",
       "      <td>0.6114</td>\n",
       "      <td>pos</td>\n",
       "      <td>0</td>\n",
       "    </tr>\n",
       "    <tr>\n",
       "      <th>70708</th>\n",
       "      <td>REDMI Note 10 Pro Max (Vintage Bronze, 128 GB)...</td>\n",
       "      <td>Good choice</td>\n",
       "      <td>{'neg': 0.0, 'neu': 0.256, 'pos': 0.744, 'comp...</td>\n",
       "      <td>0.4404</td>\n",
       "      <td>pos</td>\n",
       "      <td>0</td>\n",
       "    </tr>\n",
       "  </tbody>\n",
       "</table>\n",
       "</div>"
      ],
      "text/plain": [
       "                                            product_title  \\\n",
       "100107            APPLE iPhone X (Silver, 256 GB) Reviews   \n",
       "16465   Whirlpool 7.5 kg Fully Automatic Top Load Wash...   \n",
       "60440                 Redmi 2 Prime (Grey, 16 GB) Reviews   \n",
       "35329   Redmi Note 11 PRO Plus 5G (Phantom White, 128 ...   \n",
       "43489        REDMI 11 Prime (Peppy Purple, 64 GB) Reviews   \n",
       "84947         APPLE iPhone 14 (Starlight, 512 GB) Reviews   \n",
       "53588                itel MagicX Pro (4G Hotspot) Reviews   \n",
       "43223        REDMI 9 Activ (Carbon Black, 128 GB) Reviews   \n",
       "39627             Redmi Note 5 (Rose Gold, 64 GB) Reviews   \n",
       "70708   REDMI Note 10 Pro Max (Vintage Bronze, 128 GB)...   \n",
       "\n",
       "                                                  reviews  \\\n",
       "100107  Not worth more than 60k, only buy during sale ...   \n",
       "16465                                Utterly Disappointed   \n",
       "60440                             Superb Value for Money!   \n",
       "35329                                           Hated it!   \n",
       "43489                                           Hated it!   \n",
       "84947                                      Simply awesome   \n",
       "53588                                     Useless product   \n",
       "43223                                           Very poor   \n",
       "39627                                    Perfect product!   \n",
       "70708                                         Good choice   \n",
       "\n",
       "                                                   scores  compound  \\\n",
       "100107  {'neg': 0.156, 'neu': 0.844, 'pos': 0.0, 'comp...   -0.1695   \n",
       "16465   {'neg': 0.772, 'neu': 0.228, 'pos': 0.0, 'comp...   -0.5256   \n",
       "60440   {'neg': 0.0, 'neu': 0.227, 'pos': 0.773, 'comp...    0.7777   \n",
       "35329   {'neg': 0.818, 'neu': 0.182, 'pos': 0.0, 'comp...   -0.6696   \n",
       "43489   {'neg': 0.818, 'neu': 0.182, 'pos': 0.0, 'comp...   -0.6696   \n",
       "84947   {'neg': 0.0, 'neu': 0.196, 'pos': 0.804, 'comp...    0.6249   \n",
       "53588   {'neg': 0.737, 'neu': 0.263, 'pos': 0.0, 'comp...   -0.4215   \n",
       "43223   {'neg': 0.772, 'neu': 0.228, 'pos': 0.0, 'comp...   -0.5256   \n",
       "39627   {'neg': 0.0, 'neu': 0.2, 'pos': 0.8, 'compound...    0.6114   \n",
       "70708   {'neg': 0.0, 'neu': 0.256, 'pos': 0.744, 'comp...    0.4404   \n",
       "\n",
       "       comp_score  neg  \n",
       "100107        neg    1  \n",
       "16465         neg    1  \n",
       "60440         pos    0  \n",
       "35329         neg    1  \n",
       "43489         neg    1  \n",
       "84947         pos    0  \n",
       "53588         neg    1  \n",
       "43223         neg    1  \n",
       "39627         pos    0  \n",
       "70708         pos    0  "
      ]
     },
     "execution_count": 76,
     "metadata": {},
     "output_type": "execute_result"
    }
   ],
   "source": [
    "fd_balanced['neg']=fd_balanced['comp_score'].apply(lambda x: 1 if x=='neg' else 0)\n",
    "fd_balanced.sample(10)"
   ]
  },
  {
   "cell_type": "code",
   "execution_count": 79,
   "id": "6064d08c",
   "metadata": {},
   "outputs": [],
   "source": [
    "from sklearn.model_selection import train_test_split\n",
    "\n",
    "X_train, X_test, y_train, y_test = train_test_split(fd_balanced['reviews'],fd_balanced['neg'], stratify=fd_balanced['neg'])"
   ]
  },
  {
   "cell_type": "code",
   "execution_count": 80,
   "id": "98016f45",
   "metadata": {},
   "outputs": [
    {
     "data": {
      "text/plain": [
       "105980    Really Nice\n",
       "4151        Just wow!\n",
       "57126     Bad quality\n",
       "51061       Very poor\n",
       "Name: reviews, dtype: object"
      ]
     },
     "execution_count": 80,
     "metadata": {},
     "output_type": "execute_result"
    }
   ],
   "source": [
    "X_train.head(4)"
   ]
  },
  {
   "cell_type": "code",
   "execution_count": 84,
   "id": "2be3ece3",
   "metadata": {},
   "outputs": [],
   "source": [
    "bert_preprocess = hub.KerasLayer(\"https://tfhub.dev/tensorflow/bert_en_uncased_preprocess/3\")\n",
    "bert_encoder = hub.KerasLayer(\"https://tfhub.dev/tensorflow/bert_en_uncased_L-12_H-768_A-12/4\")"
   ]
  },
  {
   "cell_type": "code",
   "execution_count": 85,
   "id": "0b6ffb59",
   "metadata": {},
   "outputs": [
    {
     "data": {
      "text/plain": [
       "<tf.Tensor: shape=(2, 768), dtype=float32, numpy=\n",
       "array([[-0.84351677, -0.5132725 , -0.8884572 , ..., -0.7474883 ,\n",
       "        -0.75314724,  0.9196449 ],\n",
       "       [-0.92416286, -0.293883  , -0.97128856, ..., -0.92767686,\n",
       "        -0.6102466 ,  0.90782326]], dtype=float32)>"
      ]
     },
     "execution_count": 85,
     "metadata": {},
     "output_type": "execute_result"
    }
   ],
   "source": [
    "def get_sentence_embeding(sentences):\n",
    "    preprocessed_text = bert_preprocess(sentences)\n",
    "    return bert_encoder(preprocessed_text)['pooled_output']\n",
    "\n",
    "get_sentence_embeding([\n",
    "    \"500$ discount. hurry up\", \n",
    "    \"Odin, are you there?\"]\n",
    ")"
   ]
  },
  {
   "cell_type": "code",
   "execution_count": 124,
   "id": "13e24bd9",
   "metadata": {},
   "outputs": [],
   "source": [
    "e = get_sentence_embeding([\n",
    "    \"banana\", \n",
    "    \"grapes\",\n",
    "    \"mango\",\n",
    "    \"gautam adani\",\n",
    "    \"elon musk\",\n",
    "    \"bill gates\",\n",
    "    \"narendra modi\",\n",
    "    \"yogi adityanath\"\n",
    "]\n",
    ")"
   ]
  },
  {
   "cell_type": "code",
   "execution_count": 125,
   "id": "64b52c7d",
   "metadata": {},
   "outputs": [
    {
     "data": {
      "text/plain": [
       "array([[0.9911088]], dtype=float32)"
      ]
     },
     "execution_count": 125,
     "metadata": {},
     "output_type": "execute_result"
    }
   ],
   "source": [
    "from sklearn.metrics.pairwise import cosine_similarity\n",
    "cosine_similarity([e[0]],[e[1]])"
   ]
  },
  {
   "cell_type": "code",
   "execution_count": 126,
   "id": "0995f829",
   "metadata": {},
   "outputs": [
    {
     "data": {
      "text/plain": [
       "array([[0.92163813]], dtype=float32)"
      ]
     },
     "execution_count": 126,
     "metadata": {},
     "output_type": "execute_result"
    }
   ],
   "source": [
    "cosine_similarity([e[0]],[e[3]])"
   ]
  },
  {
   "cell_type": "code",
   "execution_count": 90,
   "id": "f6ddd7af",
   "metadata": {},
   "outputs": [],
   "source": [
    "# Bert layers\n",
    "text_input = tf.keras.layers.Input(shape=(), dtype=tf.string, name='text')\n",
    "preprocessed_text = bert_preprocess(text_input)\n",
    "outputs = bert_encoder(preprocessed_text)\n",
    "\n",
    "# Neural network layers\n",
    "l = tf.keras.layers.Dropout(0.1, name=\"dropout\")(outputs['pooled_output'])\n",
    "l = tf.keras.layers.Dense(1, activation='sigmoid', name=\"output\")(l)\n",
    "\n",
    "# Use inputs and outputs to construct a final model\n",
    "model = tf.keras.Model(inputs=[text_input], outputs = [l])"
   ]
  },
  {
   "cell_type": "code",
   "execution_count": 91,
   "id": "0d7b74f9",
   "metadata": {},
   "outputs": [
    {
     "name": "stdout",
     "output_type": "stream",
     "text": [
      "Model: \"model\"\n",
      "__________________________________________________________________________________________________\n",
      " Layer (type)                   Output Shape         Param #     Connected to                     \n",
      "==================================================================================================\n",
      " text (InputLayer)              [(None,)]            0           []                               \n",
      "                                                                                                  \n",
      " keras_layer (KerasLayer)       {'input_mask': (Non  0           ['text[0][0]']                   \n",
      "                                e, 128),                                                          \n",
      "                                 'input_type_ids':                                                \n",
      "                                (None, 128),                                                      \n",
      "                                 'input_word_ids':                                                \n",
      "                                (None, 128)}                                                      \n",
      "                                                                                                  \n",
      " keras_layer_1 (KerasLayer)     {'default': (None,   109482241   ['keras_layer[0][0]',            \n",
      "                                768),                             'keras_layer[0][1]',            \n",
      "                                 'encoder_outputs':               'keras_layer[0][2]']            \n",
      "                                 [(None, 128, 768),                                               \n",
      "                                 (None, 128, 768),                                                \n",
      "                                 (None, 128, 768),                                                \n",
      "                                 (None, 128, 768),                                                \n",
      "                                 (None, 128, 768),                                                \n",
      "                                 (None, 128, 768),                                                \n",
      "                                 (None, 128, 768),                                                \n",
      "                                 (None, 128, 768),                                                \n",
      "                                 (None, 128, 768),                                                \n",
      "                                 (None, 128, 768),                                                \n",
      "                                 (None, 128, 768),                                                \n",
      "                                 (None, 128, 768)],                                               \n",
      "                                 'pooled_output': (                                               \n",
      "                                None, 768),                                                       \n",
      "                                 'sequence_output':                                               \n",
      "                                 (None, 128, 768)}                                                \n",
      "                                                                                                  \n",
      " dropout (Dropout)              (None, 768)          0           ['keras_layer_1[0][13]']         \n",
      "                                                                                                  \n",
      " output (Dense)                 (None, 1)            769         ['dropout[0][0]']                \n",
      "                                                                                                  \n",
      "==================================================================================================\n",
      "Total params: 109,483,010\n",
      "Trainable params: 769\n",
      "Non-trainable params: 109,482,241\n",
      "__________________________________________________________________________________________________\n"
     ]
    }
   ],
   "source": [
    "model.summary()"
   ]
  },
  {
   "cell_type": "code",
   "execution_count": 92,
   "id": "447f577c",
   "metadata": {},
   "outputs": [
    {
     "data": {
      "text/plain": [
       "10230"
      ]
     },
     "execution_count": 92,
     "metadata": {},
     "output_type": "execute_result"
    }
   ],
   "source": [
    "len(X_train)"
   ]
  },
  {
   "cell_type": "code",
   "execution_count": 93,
   "id": "d7a5a925",
   "metadata": {},
   "outputs": [],
   "source": [
    "METRICS = [\n",
    "      tf.keras.metrics.BinaryAccuracy(name='accuracy'),\n",
    "      tf.keras.metrics.Precision(name='precision'),\n",
    "      tf.keras.metrics.Recall(name='recall')\n",
    "]\n",
    "\n",
    "model.compile(optimizer='adam',\n",
    "              loss='binary_crossentropy',\n",
    "              metrics=METRICS)"
   ]
  },
  {
   "cell_type": "code",
   "execution_count": 105,
   "id": "220b00e3",
   "metadata": {},
   "outputs": [],
   "source": [
    "X_train = X_train.reset_index(drop=True)\n",
    "y_train = y_train.reset_index(drop=True)"
   ]
  },
  {
   "cell_type": "code",
   "execution_count": 106,
   "id": "c4f08101",
   "metadata": {},
   "outputs": [
    {
     "name": "stdout",
     "output_type": "stream",
     "text": [
      "WARNING:tensorflow:Keras is training/fitting/evaluating on array-like data. Keras may not be optimized for this format, so if your input data format is supported by TensorFlow I/O (https://github.com/tensorflow/io) we recommend using that to load a Dataset instead.\n"
     ]
    },
    {
     "name": "stderr",
     "output_type": "stream",
     "text": [
      "WARNING:tensorflow:Keras is training/fitting/evaluating on array-like data. Keras may not be optimized for this format, so if your input data format is supported by TensorFlow I/O (https://github.com/tensorflow/io) we recommend using that to load a Dataset instead.\n"
     ]
    },
    {
     "name": "stdout",
     "output_type": "stream",
     "text": [
      "Epoch 1/10\n",
      "320/320 [==============================] - 1291s 4s/step - loss: 0.5794 - accuracy: 0.7422 - precision: 0.7388 - recall: 0.7494\n",
      "Epoch 2/10\n",
      "320/320 [==============================] - 1263s 4s/step - loss: 0.4170 - accuracy: 0.8999 - precision: 0.8838 - recall: 0.9208\n",
      "Epoch 3/10\n",
      "320/320 [==============================] - 1289s 4s/step - loss: 0.3327 - accuracy: 0.9385 - precision: 0.9219 - recall: 0.9582\n",
      "Epoch 4/10\n",
      "320/320 [==============================] - 1270s 4s/step - loss: 0.2818 - accuracy: 0.9481 - precision: 0.9323 - recall: 0.9664\n",
      "Epoch 5/10\n",
      "320/320 [==============================] - 1250s 4s/step - loss: 0.2456 - accuracy: 0.9556 - precision: 0.9421 - recall: 0.9709\n",
      "Epoch 6/10\n",
      "320/320 [==============================] - 1285s 4s/step - loss: 0.2207 - accuracy: 0.9589 - precision: 0.9460 - recall: 0.9734\n",
      "Epoch 7/10\n",
      "320/320 [==============================] - 1250s 4s/step - loss: 0.2026 - accuracy: 0.9621 - precision: 0.9534 - recall: 0.9717\n",
      "Epoch 8/10\n",
      "320/320 [==============================] - 1241s 4s/step - loss: 0.1856 - accuracy: 0.9641 - precision: 0.9537 - recall: 0.9756\n",
      "Epoch 9/10\n",
      "320/320 [==============================] - 1233s 4s/step - loss: 0.1742 - accuracy: 0.9649 - precision: 0.9557 - recall: 0.9750\n",
      "Epoch 10/10\n",
      "320/320 [==============================] - 1229s 4s/step - loss: 0.1649 - accuracy: 0.9652 - precision: 0.9575 - recall: 0.9736\n"
     ]
    },
    {
     "data": {
      "text/plain": [
       "<keras.callbacks.History at 0x23a552541c0>"
      ]
     },
     "execution_count": 106,
     "metadata": {},
     "output_type": "execute_result"
    }
   ],
   "source": [
    "model.fit(X_train, y_train, epochs=10)"
   ]
  },
  {
   "cell_type": "code",
   "execution_count": 109,
   "id": "156e9313",
   "metadata": {},
   "outputs": [
    {
     "name": "stdout",
     "output_type": "stream",
     "text": [
      "WARNING:tensorflow:Keras is training/fitting/evaluating on array-like data. Keras may not be optimized for this format, so if your input data format is supported by TensorFlow I/O (https://github.com/tensorflow/io) we recommend using that to load a Dataset instead.\n"
     ]
    },
    {
     "name": "stderr",
     "output_type": "stream",
     "text": [
      "WARNING:tensorflow:Keras is training/fitting/evaluating on array-like data. Keras may not be optimized for this format, so if your input data format is supported by TensorFlow I/O (https://github.com/tensorflow/io) we recommend using that to load a Dataset instead.\n"
     ]
    },
    {
     "name": "stdout",
     "output_type": "stream",
     "text": [
      "107/107 [==============================] - 423s 4s/step - loss: 0.1382 - accuracy: 0.9689 - precision: 0.9624 - recall: 0.9760\n"
     ]
    },
    {
     "data": {
      "text/plain": [
       "[0.1382351815700531,\n",
       " 0.9689149856567383,\n",
       " 0.9624060392379761,\n",
       " 0.9759531021118164]"
      ]
     },
     "execution_count": 109,
     "metadata": {},
     "output_type": "execute_result"
    }
   ],
   "source": [
    "X_test = X_test.reset_index(drop=True)\n",
    "y_test = y_test.reset_index(drop=True)\n",
    "\n",
    "model.evaluate(X_test, y_test)"
   ]
  },
  {
   "cell_type": "code",
   "execution_count": 111,
   "id": "f4374174",
   "metadata": {},
   "outputs": [
    {
     "name": "stdout",
     "output_type": "stream",
     "text": [
      "WARNING:tensorflow:Keras is training/fitting/evaluating on array-like data. Keras may not be optimized for this format, so if your input data format is supported by TensorFlow I/O (https://github.com/tensorflow/io) we recommend using that to load a Dataset instead.\n"
     ]
    },
    {
     "name": "stderr",
     "output_type": "stream",
     "text": [
      "WARNING:tensorflow:Keras is training/fitting/evaluating on array-like data. Keras may not be optimized for this format, so if your input data format is supported by TensorFlow I/O (https://github.com/tensorflow/io) we recommend using that to load a Dataset instead.\n"
     ]
    },
    {
     "name": "stdout",
     "output_type": "stream",
     "text": [
      "107/107 [==============================] - 421s 4s/step\n"
     ]
    }
   ],
   "source": [
    "y_predicted = model.predict(X_test)\n",
    "y_predicted = y_predicted.flatten()"
   ]
  },
  {
   "cell_type": "code",
   "execution_count": 112,
   "id": "db847440",
   "metadata": {},
   "outputs": [
    {
     "data": {
      "text/plain": [
       "array([1, 1, 0, ..., 0, 1, 1])"
      ]
     },
     "execution_count": 112,
     "metadata": {},
     "output_type": "execute_result"
    }
   ],
   "source": [
    "import numpy as np\n",
    "\n",
    "y_predicted = np.where(y_predicted > 0.5, 1, 0)\n",
    "y_predicted"
   ]
  },
  {
   "cell_type": "code",
   "execution_count": 113,
   "id": "26e4ac25",
   "metadata": {},
   "outputs": [
    {
     "data": {
      "text/plain": [
       "array([[1640,   65],\n",
       "       [  41, 1664]], dtype=int64)"
      ]
     },
     "execution_count": 113,
     "metadata": {},
     "output_type": "execute_result"
    }
   ],
   "source": [
    "from sklearn.metrics import confusion_matrix, classification_report\n",
    "\n",
    "cm = confusion_matrix(y_test, y_predicted)\n",
    "cm "
   ]
  },
  {
   "cell_type": "code",
   "execution_count": 114,
   "id": "552f04d9",
   "metadata": {},
   "outputs": [
    {
     "data": {
      "text/plain": [
       "Text(50.722222222222214, 0.5, 'Truth')"
      ]
     },
     "execution_count": 114,
     "metadata": {},
     "output_type": "execute_result"
    },
    {
     "data": {
      "image/png": "[encoded data removed]",
      "text/plain": [
       "<Figure size 640x480 with 2 Axes>"
      ]
     },
     "metadata": {},
     "output_type": "display_data"
    }
   ],
   "source": [
    "sns.heatmap(cm, annot=True, fmt='d')\n",
    "mt.xlabel('Predicted')\n",
    "mt.ylabel('Truth')"
   ]
  },
  {
   "cell_type": "code",
   "execution_count": 115,
   "id": "7a4c0c47",
   "metadata": {},
   "outputs": [
    {
     "name": "stdout",
     "output_type": "stream",
     "text": [
      "              precision    recall  f1-score   support\n",
      "\n",
      "           0       0.98      0.96      0.97      1705\n",
      "           1       0.96      0.98      0.97      1705\n",
      "\n",
      "    accuracy                           0.97      3410\n",
      "   macro avg       0.97      0.97      0.97      3410\n",
      "weighted avg       0.97      0.97      0.97      3410\n",
      "\n"
     ]
    }
   ],
   "source": [
    "print(classification_report(y_test, y_predicted))"
   ]
  },
  {
   "cell_type": "code",
   "execution_count": 123,
   "id": "ba24cc17",
   "metadata": {},
   "outputs": [
    {
     "name": "stdout",
     "output_type": "stream",
     "text": [
      "1/1 [==============================] - 1s 1s/step\n"
     ]
    },
    {
     "data": {
      "text/plain": [
       "array([[0.93466455],\n",
       "       [0.98716176],\n",
       "       [0.45358518],\n",
       "       [0.0074071 ],\n",
       "       [0.34660605],\n",
       "       [0.886345  ],\n",
       "       [0.19200383],\n",
       "       [0.04628715],\n",
       "       [0.07861082]], dtype=float32)"
      ]
     },
     "execution_count": 123,
     "metadata": {},
     "output_type": "execute_result"
    }
   ],
   "source": [
    "reviews = [\n",
    "    \"Utterly Disappointed\",\n",
    "    \"Worst Product i have ever seen\",\n",
    "    \"Worth Purchase\",\n",
    "    \"Super!\",\n",
    "    \"Making shopping feel like a punishment.\",\n",
    "    \"Where your orders go to vanish into thin air\",\n",
    "    \"Excellent quality and durability, worth every penny!\",\n",
    "    \"Sleek design and leak-proof, perfect for on-the-go hydration.\",\n",
    "    \"Lightweight and compact, fits perfectly in my bag or backpack.\"\n",
    "]\n",
    "model.predict(reviews)"
   ]
  },
  {
   "cell_type": "code",
   "execution_count": null,
   "id": "cfb863e1",
   "metadata": {},
   "outputs": [],
   "source": []
  }
 ],
 "metadata": {
  "kernelspec": {
   "display_name": "Python 3 (ipykernel)",
   "language": "python",
   "name": "python3"
  },
  "language_info": {
   "codemirror_mode": {
    "name": "ipython",
    "version": 3
   },
   "file_extension": ".py",
   "mimetype": "text/x-python",
   "name": "python",
   "nbconvert_exporter": "python",
   "pygments_lexer": "ipython3",
   "version": "3.10.11"
  }
 },
 "nbformat": 4,
 "nbformat_minor": 5
}
