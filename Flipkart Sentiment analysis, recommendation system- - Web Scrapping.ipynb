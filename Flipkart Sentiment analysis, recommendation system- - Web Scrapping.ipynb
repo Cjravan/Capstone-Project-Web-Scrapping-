{
 "cells": [
  {
   "cell_type": "code",
   "execution_count": 1,
   "id": "859c9c96",
   "metadata": {},
   "outputs": [],
   "source": [
    "import requests \n",
    "from bs4 import BeautifulSoup as bs\n",
    "import numpy as np\n",
    "import pandas as ps\n",
    "import tensorflow as tf\n",
    "import tensorflow_hub as hub\n",
    "import tensorflow_text as text\n",
    "import matplotlib.pyplot as mt\n",
    "import pandas as ps\n",
    "import numpy as np\n",
    "import seaborn as sns\n",
    "import math\n",
    "import warnings\n",
    "from sklearn.feature_extraction.text import TfidfVectorizer\n",
    "from sklearn.metrics.pairwise import linear_kernel\n",
    "warnings.filterwarnings('ignore') # Hides warning\n",
    "warnings.filterwarnings(\"ignore\", category=DeprecationWarning)\n",
    "warnings.filterwarnings(\"ignore\",category=UserWarning)\n",
    "sns.set_style(\"whitegrid\") # Plotting style\n",
    "np.random.seed(7) # seeding random number generator\n",
    "import seaborn as sns\n",
    "from sklearn.feature_extraction.text import TfidfVectorizer\n",
    "from sklearn.metrics.pairwise import linear_kernel\n",
    "mt.style.use('ggplot')\n",
    "import nltk"
   ]
  },
  {
   "cell_type": "code",
   "execution_count": 2,
   "id": "948c060f",
   "metadata": {},
   "outputs": [
    {
     "name": "stdout",
     "output_type": "stream",
     "text": [
      "Enter Your product: earphones\n"
     ]
    }
   ],
   "source": [
    "product_name = input(\"Enter Your product: \")"
   ]
  },
  {
   "cell_type": "code",
   "execution_count": 3,
   "id": "f58bee16",
   "metadata": {},
   "outputs": [],
   "source": [
    "page_url=\"https://www.flipkart.com/search?q={}\".format(product_name)\n",
    "scrap_pageno=requests.get(page_url).text\n",
    "page_web=bs(scrap_pageno)"
   ]
  },
  {
   "cell_type": "code",
   "execution_count": 4,
   "id": "59baf120",
   "metadata": {},
   "outputs": [
    {
     "data": {
      "text/plain": [
       "'4,997'"
      ]
     },
     "execution_count": 4,
     "metadata": {},
     "output_type": "execute_result"
    }
   ],
   "source": [
    "page_web.find_all(\"div\",class_=\"_2MImiq\")[0].find(\"span\").text.split()[3]"
   ]
  },
  {
   "cell_type": "code",
   "execution_count": 5,
   "id": "8b9062bf",
   "metadata": {},
   "outputs": [],
   "source": [
    "page_url=\"https://www.flipkart.com/search?q={}\".format(product_name)\n",
    "scrap_pageno=requests.get(page_url).text\n",
    "page_web=bs(scrap_pageno)\n",
    "try:\n",
    "    page_no=int(page_web.find_all(\"div\",class_=\"_2MImiq\")[0].find(\"span\").text.split()[3])\n",
    "    \n",
    "except Exception as e:\n",
    "    a=page_web.find_all(\"div\",class_=\"_2MImiq\")[0].find(\"span\").text.split()[3].split(\",\")\n",
    "    page_no=int(a[0]+a[1])"
   ]
  },
  {
   "cell_type": "code",
   "execution_count": 6,
   "id": "150e80fe",
   "metadata": {},
   "outputs": [
    {
     "data": {
      "text/plain": [
       "4997"
      ]
     },
     "execution_count": 6,
     "metadata": {},
     "output_type": "execute_result"
    }
   ],
   "source": [
    "page_no"
   ]
  },
  {
   "cell_type": "code",
   "execution_count": 7,
   "id": "c6903bf1",
   "metadata": {},
   "outputs": [],
   "source": [
    "import requests\n",
    "from bs4 import BeautifulSoup as bs\n",
    "\n",
    "final_links = []\n",
    "reviews = []\n",
    "product_title = []\n",
    "\n",
    "for i in range(1, page_no + 1):\n",
    "    url = \"https://www.flipkart.com/search?q={}&page={}\".format(product_name, i)\n",
    "    headers = {\n",
    "        \"User-Agent\": \"Mozilla/5.0 (Windows NT 6.3; Win64; x64) AppleWebKit/537.36 (KHTML, like Gecko) Chrome/80.0.3987.162 Safari/537.36\"\n",
    "    }\n",
    "    webpage = requests.get(url, headers=headers).text\n",
    "    scrap = requests.get(url).text\n",
    "    web = bs(scrap)\n",
    "    \n",
    "    # Find the product links with the specified class for accessories\n",
    "    for j in web.find_all(\"a\", class_=\"s1Q9rs\"):\n",
    "        link = \"https://www.flipkart.com\" + j.get(\"href\")\n",
    "        link = link.replace(\"/p/\", \"/product-reviews/\")\n",
    "        final_links.append(link)\n",
    "\n",
    "# Iterate through the collected links and scrape reviews\n",
    "for k in final_links:\n",
    "    product_page = requests.get(k).text\n",
    "    page_web = bs(product_page)\n",
    "    test = page_web.find_all(\"div\", class_=\"_2MImiq _1Qnn1K\")\n",
    "    \n",
    "    if len(test) > 0:\n",
    "        try:\n",
    "            pro_page_no = int(page_web.find_all(\"div\", class_=\"_2MImiq _1Qnn1K\")[0].find(\"span\").text.split()[3])\n",
    "        except Exception as e:\n",
    "            pro_ex = page_web.find_all(\"div\", class_=\"_2MImiq _1Qnn1K\")[0].find(\"span\").text.split()[3].split(\",\")\n",
    "            pro_page_no = int(pro_ex[0] + pro_ex[1])\n",
    "    else:\n",
    "        pro_page_no = 1\n",
    "    \n",
    "    for t in range(1,10):\n",
    "        scrap = requests.get(k + \"&page={}\".format(t)).text\n",
    "        pro_web = bs(scrap)\n",
    "        \n",
    "        for l in pro_web.find_all(\"p\", class_=\"_2-N8zT\"):\n",
    "            reviews.append(l.text)\n",
    "            try:\n",
    "                product_title.append(pro_web.find(\"div\", class_=\"_2s4DIt _1CDdy2\").text)\n",
    "            except:\n",
    "                product_title.append(\"no name\")\n",
    "                "
   ]
  },
  {
   "cell_type": "code",
   "execution_count": 8,
   "id": "3fd8a656",
   "metadata": {},
   "outputs": [],
   "source": [
    "# Pipeline for data fetching from website\n",
    "# import requests\n",
    "# from bs4 import BeautifulSoup as bs\n",
    "\n",
    "# final_links = []\n",
    "# reviews = []\n",
    "# product_title = []\n",
    "\n",
    "# for i in range(1, page_no + 1):\n",
    "#     url = \"https://www.flipkart.com/search?q={}&page={}\".format(product_name, i)\n",
    "#     headers = {\n",
    "#         \"User-Agent\": \"Mozilla/5.0 (Windows NT 6.3; Win64; x64) AppleWebKit/537.36 (KHTML, like Gecko) Chrome/80.0.3987.162 Safari/537.36\"\n",
    "#     }\n",
    "#     webpage = requests.get(url, headers=headers).text\n",
    "#     scrap = requests.get(url).text\n",
    "#     web = bs(scrap)\n",
    "    \n",
    "#     for j in web.find_all(\"a\", class_=\"_1fQZEK\"):\n",
    "#         link = \"https://www.flipkart.com\" + j.get(\"href\")\n",
    "#         link = link.replace(\"/p/\", \"/product-reviews/\")\n",
    "#         final_links.append(link)\n",
    "# else:\n",
    "#     for k in final_links:\n",
    "#         product_page = requests.get(k).text\n",
    "#         page_web = bs(product_page)\n",
    "#         test = page_web.find_all(\"div\", class_=\"_2MImiq _1Qnn1K\")\n",
    "        \n",
    "#         if len(test) > 0:\n",
    "#             try:\n",
    "#                 pro_page_no = int(page_web.find_all(\"div\", class_=\"_2MImiq _1Qnn1K\")[0].find(\"span\").text.split()[3])\n",
    "#             except Exception as e:\n",
    "#                 pro_ex = page_web.find_all(\"div\", class_=\"_2MImiq _1Qnn1K\")[0].find(\"span\").text.split()[3].split(\",\")\n",
    "#                 pro_page_no = int(pro_ex[0] + pro_ex[1])\n",
    "#         else:\n",
    "#             pro_page_no = 1\n",
    "        \n",
    "#         for t in range(1,2):\n",
    "#             scrap = requests.get(k + \"&page={}\".format(t)).text\n",
    "#             pro_web = bs(scrap)\n",
    "            \n",
    "#             for l in pro_web.find_all(\"p\", class_=\"_2-N8zT\"):\n",
    "#                 reviews.append(l.text)\n",
    "#                 try:\n",
    "#                     product_title.append(pro_web.find(\"div\", class_=\"_2s4DIt _1CDdy2\").text)\n",
    "#                 except:\n",
    "#                     product_title.append(\"no name\")"
   ]
  },
  {
   "cell_type": "code",
   "execution_count": 8,
   "id": "6c22d669",
   "metadata": {},
   "outputs": [
    {
     "data": {
      "text/plain": [
       "<a class=\"s1Q9rs _2qfgz2\" href=\"/bydye-b329-m28-max-6hrs-playback-headset-black-pack-1-bluetooth-gaming/p/itm2a309811e6ef0?pid=ACCGS7SJZHVMEYMT&amp;fm=organic&amp;ppt=None&amp;ppn=None&amp;ssid=5busu7cl400000001692087231513\" rel=\"noopener noreferrer\" target=\"_blank\" title=\"Bydye B329_M28 MAX 6HRS PLAYBACK HEADSET BLACK (PACK OF 1) Bluetooth Gaming Headset\">Bydye B329_M28 MAX 6HRS PLAYBACK HEADSET BLACK (PACK OF 1) Blu...</a>"
      ]
     },
     "execution_count": 8,
     "metadata": {},
     "output_type": "execute_result"
    }
   ],
   "source": [
    "pro_web.find(\"a\",class_=\"s1Q9rs\")"
   ]
  },
  {
   "cell_type": "code",
   "execution_count": 12,
   "id": "cd6fd0bf",
   "metadata": {},
   "outputs": [
    {
     "data": {
      "text/plain": [
       "<div class=\"_2s4DIt _1CDdy2\">Enflamo Back Cover for Apple iPhone 13 Reviews</div>"
      ]
     },
     "execution_count": 12,
     "metadata": {},
     "output_type": "execute_result"
    }
   ],
   "source": [
    "pro_web.find(\"div\",class_=\"_2s4DIt _1CDdy2\")"
   ]
  },
  {
   "cell_type": "code",
   "execution_count": 21,
   "id": "f33910d5",
   "metadata": {},
   "outputs": [],
   "source": [
    "# pro_page_no+1"
   ]
  },
  {
   "cell_type": "code",
   "execution_count": 9,
   "id": "df5c1f28",
   "metadata": {},
   "outputs": [
    {
     "data": {
      "text/plain": [
       "62842"
      ]
     },
     "execution_count": 9,
     "metadata": {},
     "output_type": "execute_result"
    }
   ],
   "source": [
    "len(reviews)"
   ]
  },
  {
   "cell_type": "code",
   "execution_count": 10,
   "id": "25309fdf",
   "metadata": {},
   "outputs": [
    {
     "data": {
      "text/plain": [
       "62842"
      ]
     },
     "execution_count": 10,
     "metadata": {},
     "output_type": "execute_result"
    }
   ],
   "source": [
    "len(product_title)"
   ]
  },
  {
   "cell_type": "code",
   "execution_count": 11,
   "id": "47a42936",
   "metadata": {
    "scrolled": true
   },
   "outputs": [
    {
     "data": {
      "text/html": [
       "<div>\n",
       "<style scoped>\n",
       "    .dataframe tbody tr th:only-of-type {\n",
       "        vertical-align: middle;\n",
       "    }\n",
       "\n",
       "    .dataframe tbody tr th {\n",
       "        vertical-align: top;\n",
       "    }\n",
       "\n",
       "    .dataframe thead th {\n",
       "        text-align: right;\n",
       "    }\n",
       "</style>\n",
       "<table border=\"1\" class=\"dataframe\">\n",
       "  <thead>\n",
       "    <tr style=\"text-align: right;\">\n",
       "      <th></th>\n",
       "      <th>product_title</th>\n",
       "      <th>reviews</th>\n",
       "    </tr>\n",
       "  </thead>\n",
       "  <tbody>\n",
       "    <tr>\n",
       "      <th>0</th>\n",
       "      <td>Aroma NB119C Carter 48 Hours Playing Time Fast...</td>\n",
       "      <td>Value-for-money</td>\n",
       "    </tr>\n",
       "    <tr>\n",
       "      <th>1</th>\n",
       "      <td>Aroma NB119C Carter 48 Hours Playing Time Fast...</td>\n",
       "      <td>Terrific purchase</td>\n",
       "    </tr>\n",
       "    <tr>\n",
       "      <th>2</th>\n",
       "      <td>Aroma NB119C Carter 48 Hours Playing Time Fast...</td>\n",
       "      <td>Value-for-money</td>\n",
       "    </tr>\n",
       "    <tr>\n",
       "      <th>3</th>\n",
       "      <td>Aroma NB119C Carter 48 Hours Playing Time Fast...</td>\n",
       "      <td>Wonderful</td>\n",
       "    </tr>\n",
       "    <tr>\n",
       "      <th>4</th>\n",
       "      <td>Aroma NB119C Carter 48 Hours Playing Time Fast...</td>\n",
       "      <td>Wonderful</td>\n",
       "    </tr>\n",
       "  </tbody>\n",
       "</table>\n",
       "</div>"
      ],
      "text/plain": [
       "                                       product_title            reviews\n",
       "0  Aroma NB119C Carter 48 Hours Playing Time Fast...    Value-for-money\n",
       "1  Aroma NB119C Carter 48 Hours Playing Time Fast...  Terrific purchase\n",
       "2  Aroma NB119C Carter 48 Hours Playing Time Fast...    Value-for-money\n",
       "3  Aroma NB119C Carter 48 Hours Playing Time Fast...          Wonderful\n",
       "4  Aroma NB119C Carter 48 Hours Playing Time Fast...          Wonderful"
      ]
     },
     "execution_count": 11,
     "metadata": {},
     "output_type": "execute_result"
    }
   ],
   "source": [
    "import pandas as ps\n",
    "fd=ps.DataFrame({\"product_title\":product_title,\"reviews\":reviews})\n",
    "fd.head()"
   ]
  },
  {
   "cell_type": "code",
   "execution_count": 12,
   "id": "b1a392b3",
   "metadata": {},
   "outputs": [],
   "source": [
    "fd.to_csv(r\"C:\\Users\\Harshit\\Downloads\\earphones.csv\")"
   ]
  },
  {
   "cell_type": "code",
   "execution_count": 30,
   "id": "5bbffb1a",
   "metadata": {},
   "outputs": [],
   "source": [
    "fd.to_csv(r\"C:\\Users\\Harshit\\Downloads\\mobile.csv\")"
   ]
  },
  {
   "cell_type": "code",
   "execution_count": 20,
   "id": "e3f97c89",
   "metadata": {},
   "outputs": [],
   "source": [
    "fd.to_csv(r\"C:\\Users\\Harshit\\Downloads\\accessories.csv\")"
   ]
  },
  {
   "cell_type": "code",
   "execution_count": 16,
   "id": "3c8ee9ff",
   "metadata": {},
   "outputs": [],
   "source": [
    "fd.to_csv(r\"C:\\Users\\Harshit\\Downloads\\vivo.csv\")"
   ]
  },
  {
   "cell_type": "code",
   "execution_count": 19,
   "id": "b9bda4dc",
   "metadata": {},
   "outputs": [],
   "source": [
    "fd.to_csv(r\"C:\\Users\\Harshit\\Downloads\\refrigerators.csv\")"
   ]
  },
  {
   "cell_type": "code",
   "execution_count": 12,
   "id": "d036241c",
   "metadata": {},
   "outputs": [],
   "source": [
    "fd.to_csv(r\"C:\\Users\\Harshit\\Downloads\\IFB_.csv\")"
   ]
  },
  {
   "cell_type": "code",
   "execution_count": 42,
   "id": "7ee86a22",
   "metadata": {},
   "outputs": [],
   "source": [
    "fd.to_csv(r\"C:\\Users\\Harshit\\Downloads\\IFB.csv\")"
   ]
  },
  {
   "cell_type": "code",
   "execution_count": 13,
   "id": "c1e22b44",
   "metadata": {},
   "outputs": [],
   "source": [
    "fd.to_csv(r\"C:\\Users\\Harshit\\Downloads\\LG.csv\")"
   ]
  },
  {
   "cell_type": "code",
   "execution_count": 12,
   "id": "4e72f663",
   "metadata": {},
   "outputs": [],
   "source": [
    "fd.to_csv(r\"C:\\Users\\Harshit\\Downloads\\vu.csv\")"
   ]
  },
  {
   "cell_type": "code",
   "execution_count": 44,
   "id": "c78a12cb",
   "metadata": {},
   "outputs": [],
   "source": [
    "fd.to_csv(r\"C:\\Users\\Harshit\\Downloads\\laptops.csv\")"
   ]
  },
  {
   "cell_type": "code",
   "execution_count": 33,
   "id": "6382c5c8",
   "metadata": {},
   "outputs": [],
   "source": [
    "fd.to_csv(r\"C:\\Users\\Harshit\\Downloads\\jabbaaaa.csv\")"
   ]
  },
  {
   "cell_type": "code",
   "execution_count": 78,
   "id": "5cfbbb7d",
   "metadata": {},
   "outputs": [],
   "source": [
    "fd.to_csv(r\"C:\\Users\\Harshit\\Downloads\\washing_machines.csv\")"
   ]
  },
  {
   "cell_type": "code",
   "execution_count": 28,
   "id": "12b8f428",
   "metadata": {},
   "outputs": [],
   "source": [
    "fd.to_csv(r\"C:\\Users\\Harshit\\Downloads\\mi_mobiles.csv\")"
   ]
  },
  {
   "cell_type": "code",
   "execution_count": null,
   "id": "33594727",
   "metadata": {},
   "outputs": [],
   "source": [
    "fd.to_csv(r\"C:\\Users\\Harshit\\Downloads\\iphone_1.csv\")"
   ]
  },
  {
   "cell_type": "code",
   "execution_count": null,
   "id": "7217bb95",
   "metadata": {},
   "outputs": [],
   "source": [
    "fd.to_csv(r\"C:\\Users\\Harshit\\Downloads\\oneplusmobile.csv\")"
   ]
  },
  {
   "cell_type": "code",
   "execution_count": 13,
   "id": "eafaffce",
   "metadata": {},
   "outputs": [],
   "source": [
    "fd.to_csv(r\"C:\\Users\\Harshit\\Downloads\\iphone.csv\")"
   ]
  },
  {
   "cell_type": "code",
   "execution_count": 25,
   "id": "81bddaa1",
   "metadata": {},
   "outputs": [],
   "source": [
    "fd.to_csv(r\"C:\\Users\\Harshit\\Downloads\\samsungtv.csv\")"
   ]
  },
  {
   "cell_type": "code",
   "execution_count": 110,
   "id": "7a3f872e",
   "metadata": {},
   "outputs": [],
   "source": [
    "ps.set_option(\"display.max_rows\",None)"
   ]
  },
  {
   "cell_type": "code",
   "execution_count": 13,
   "id": "97be99df",
   "metadata": {},
   "outputs": [
    {
     "data": {
      "text/html": [
       "<div>\n",
       "<style scoped>\n",
       "    .dataframe tbody tr th:only-of-type {\n",
       "        vertical-align: middle;\n",
       "    }\n",
       "\n",
       "    .dataframe tbody tr th {\n",
       "        vertical-align: top;\n",
       "    }\n",
       "\n",
       "    .dataframe thead th {\n",
       "        text-align: right;\n",
       "    }\n",
       "</style>\n",
       "<table border=\"1\" class=\"dataframe\">\n",
       "  <thead>\n",
       "    <tr style=\"text-align: right;\">\n",
       "      <th></th>\n",
       "      <th>Unnamed: 0</th>\n",
       "      <th>product_title</th>\n",
       "      <th>reviews</th>\n",
       "    </tr>\n",
       "  </thead>\n",
       "  <tbody>\n",
       "    <tr>\n",
       "      <th>0</th>\n",
       "      <td>0</td>\n",
       "      <td>InnoQ 6.5 Kg Semi Automatic Top Load Washing M...</td>\n",
       "      <td>Best in the market!</td>\n",
       "    </tr>\n",
       "    <tr>\n",
       "      <th>1</th>\n",
       "      <td>1</td>\n",
       "      <td>InnoQ 6.5 Kg Semi Automatic Top Load Washing M...</td>\n",
       "      <td>Great product</td>\n",
       "    </tr>\n",
       "    <tr>\n",
       "      <th>2</th>\n",
       "      <td>2</td>\n",
       "      <td>InnoQ 6.5 Kg Semi Automatic Top Load Washing M...</td>\n",
       "      <td>Super!</td>\n",
       "    </tr>\n",
       "    <tr>\n",
       "      <th>3</th>\n",
       "      <td>3</td>\n",
       "      <td>InnoQ 6.5 Kg Semi Automatic Top Load Washing M...</td>\n",
       "      <td>Worth every penny</td>\n",
       "    </tr>\n",
       "    <tr>\n",
       "      <th>4</th>\n",
       "      <td>4</td>\n",
       "      <td>InnoQ 6.5 Kg Semi Automatic Top Load Washing M...</td>\n",
       "      <td>Just wow!</td>\n",
       "    </tr>\n",
       "  </tbody>\n",
       "</table>\n",
       "</div>"
      ],
      "text/plain": [
       "   Unnamed: 0                                      product_title  \\\n",
       "0           0  InnoQ 6.5 Kg Semi Automatic Top Load Washing M...   \n",
       "1           1  InnoQ 6.5 Kg Semi Automatic Top Load Washing M...   \n",
       "2           2  InnoQ 6.5 Kg Semi Automatic Top Load Washing M...   \n",
       "3           3  InnoQ 6.5 Kg Semi Automatic Top Load Washing M...   \n",
       "4           4  InnoQ 6.5 Kg Semi Automatic Top Load Washing M...   \n",
       "\n",
       "               reviews  \n",
       "0  Best in the market!  \n",
       "1        Great product  \n",
       "2               Super!  \n",
       "3    Worth every penny  \n",
       "4            Just wow!  "
      ]
     },
     "execution_count": 13,
     "metadata": {},
     "output_type": "execute_result"
    }
   ],
   "source": [
    "df=ps.read_csv(r\"C:\\Users\\Harshit\\Downloads\\washing_machines.csv\")\n",
    "df.head()"
   ]
  },
  {
   "cell_type": "code",
   "execution_count": 14,
   "id": "3542475f",
   "metadata": {},
   "outputs": [
    {
     "data": {
      "text/html": [
       "<div>\n",
       "<style scoped>\n",
       "    .dataframe tbody tr th:only-of-type {\n",
       "        vertical-align: middle;\n",
       "    }\n",
       "\n",
       "    .dataframe tbody tr th {\n",
       "        vertical-align: top;\n",
       "    }\n",
       "\n",
       "    .dataframe thead th {\n",
       "        text-align: right;\n",
       "    }\n",
       "</style>\n",
       "<table border=\"1\" class=\"dataframe\">\n",
       "  <thead>\n",
       "    <tr style=\"text-align: right;\">\n",
       "      <th></th>\n",
       "      <th>Unnamed: 0</th>\n",
       "      <th>product_title</th>\n",
       "      <th>reviews</th>\n",
       "    </tr>\n",
       "  </thead>\n",
       "  <tbody>\n",
       "    <tr>\n",
       "      <th>0</th>\n",
       "      <td>0</td>\n",
       "      <td>APPLE iPhone 13 (Starlight, 128 GB) Reviews</td>\n",
       "      <td>Mind-blowing purchase</td>\n",
       "    </tr>\n",
       "    <tr>\n",
       "      <th>1</th>\n",
       "      <td>1</td>\n",
       "      <td>APPLE iPhone 13 (Starlight, 128 GB) Reviews</td>\n",
       "      <td>Very Good</td>\n",
       "    </tr>\n",
       "    <tr>\n",
       "      <th>2</th>\n",
       "      <td>2</td>\n",
       "      <td>APPLE iPhone 13 (Starlight, 128 GB) Reviews</td>\n",
       "      <td>Best in the market!</td>\n",
       "    </tr>\n",
       "    <tr>\n",
       "      <th>3</th>\n",
       "      <td>3</td>\n",
       "      <td>APPLE iPhone 13 (Starlight, 128 GB) Reviews</td>\n",
       "      <td>Excellent</td>\n",
       "    </tr>\n",
       "    <tr>\n",
       "      <th>4</th>\n",
       "      <td>4</td>\n",
       "      <td>APPLE iPhone 13 (Starlight, 128 GB) Reviews</td>\n",
       "      <td>Brilliant</td>\n",
       "    </tr>\n",
       "  </tbody>\n",
       "</table>\n",
       "</div>"
      ],
      "text/plain": [
       "   Unnamed: 0                                product_title  \\\n",
       "0           0  APPLE iPhone 13 (Starlight, 128 GB) Reviews   \n",
       "1           1  APPLE iPhone 13 (Starlight, 128 GB) Reviews   \n",
       "2           2  APPLE iPhone 13 (Starlight, 128 GB) Reviews   \n",
       "3           3  APPLE iPhone 13 (Starlight, 128 GB) Reviews   \n",
       "4           4  APPLE iPhone 13 (Starlight, 128 GB) Reviews   \n",
       "\n",
       "                 reviews  \n",
       "0  Mind-blowing purchase  \n",
       "1              Very Good  \n",
       "2    Best in the market!  \n",
       "3              Excellent  \n",
       "4              Brilliant  "
      ]
     },
     "execution_count": 14,
     "metadata": {},
     "output_type": "execute_result"
    }
   ],
   "source": [
    "df1=ps.read_csv(r\"C:\\Users\\Harshit\\Downloads\\iphone_1.csv\")\n",
    "df1.head()"
   ]
  },
  {
   "cell_type": "code",
   "execution_count": 15,
   "id": "b493ad61",
   "metadata": {},
   "outputs": [
    {
     "data": {
      "text/html": [
       "<div>\n",
       "<style scoped>\n",
       "    .dataframe tbody tr th:only-of-type {\n",
       "        vertical-align: middle;\n",
       "    }\n",
       "\n",
       "    .dataframe tbody tr th {\n",
       "        vertical-align: top;\n",
       "    }\n",
       "\n",
       "    .dataframe thead th {\n",
       "        text-align: right;\n",
       "    }\n",
       "</style>\n",
       "<table border=\"1\" class=\"dataframe\">\n",
       "  <thead>\n",
       "    <tr style=\"text-align: right;\">\n",
       "      <th></th>\n",
       "      <th>Unnamed: 0</th>\n",
       "      <th>product_title</th>\n",
       "      <th>reviews</th>\n",
       "    </tr>\n",
       "  </thead>\n",
       "  <tbody>\n",
       "    <tr>\n",
       "      <th>0</th>\n",
       "      <td>0</td>\n",
       "      <td>REDMI 10 Power (Sporty Orange, 128 GB) Reviews</td>\n",
       "      <td>Nice product</td>\n",
       "    </tr>\n",
       "    <tr>\n",
       "      <th>1</th>\n",
       "      <td>1</td>\n",
       "      <td>REDMI 10 Power (Sporty Orange, 128 GB) Reviews</td>\n",
       "      <td>Nice product</td>\n",
       "    </tr>\n",
       "    <tr>\n",
       "      <th>2</th>\n",
       "      <td>2</td>\n",
       "      <td>REDMI 10 Power (Sporty Orange, 128 GB) Reviews</td>\n",
       "      <td>Nice</td>\n",
       "    </tr>\n",
       "    <tr>\n",
       "      <th>3</th>\n",
       "      <td>3</td>\n",
       "      <td>REDMI 10 Power (Sporty Orange, 128 GB) Reviews</td>\n",
       "      <td>Delightful</td>\n",
       "    </tr>\n",
       "    <tr>\n",
       "      <th>4</th>\n",
       "      <td>4</td>\n",
       "      <td>REDMI 10 Power (Sporty Orange, 128 GB) Reviews</td>\n",
       "      <td>Moderate</td>\n",
       "    </tr>\n",
       "  </tbody>\n",
       "</table>\n",
       "</div>"
      ],
      "text/plain": [
       "   Unnamed: 0                                   product_title       reviews\n",
       "0           0  REDMI 10 Power (Sporty Orange, 128 GB) Reviews  Nice product\n",
       "1           1  REDMI 10 Power (Sporty Orange, 128 GB) Reviews  Nice product\n",
       "2           2  REDMI 10 Power (Sporty Orange, 128 GB) Reviews          Nice\n",
       "3           3  REDMI 10 Power (Sporty Orange, 128 GB) Reviews    Delightful\n",
       "4           4  REDMI 10 Power (Sporty Orange, 128 GB) Reviews      Moderate"
      ]
     },
     "execution_count": 15,
     "metadata": {},
     "output_type": "execute_result"
    }
   ],
   "source": [
    "df2=ps.read_csv(r\"C:\\Users\\Harshit\\Downloads\\mi_mobiles.csv\")\n",
    "df2.head()"
   ]
  },
  {
   "cell_type": "code",
   "execution_count": 16,
   "id": "d81dcf48",
   "metadata": {},
   "outputs": [
    {
     "data": {
      "text/html": [
       "<div>\n",
       "<style scoped>\n",
       "    .dataframe tbody tr th:only-of-type {\n",
       "        vertical-align: middle;\n",
       "    }\n",
       "\n",
       "    .dataframe tbody tr th {\n",
       "        vertical-align: top;\n",
       "    }\n",
       "\n",
       "    .dataframe thead th {\n",
       "        text-align: right;\n",
       "    }\n",
       "</style>\n",
       "<table border=\"1\" class=\"dataframe\">\n",
       "  <thead>\n",
       "    <tr style=\"text-align: right;\">\n",
       "      <th></th>\n",
       "      <th>Unnamed: 0</th>\n",
       "      <th>product_title</th>\n",
       "      <th>reviews</th>\n",
       "    </tr>\n",
       "  </thead>\n",
       "  <tbody>\n",
       "    <tr>\n",
       "      <th>0</th>\n",
       "      <td>0</td>\n",
       "      <td>OnePlus Nord CE 2 Lite 5G (Blue Tide, 128 GB) ...</td>\n",
       "      <td>Must buy!</td>\n",
       "    </tr>\n",
       "    <tr>\n",
       "      <th>1</th>\n",
       "      <td>1</td>\n",
       "      <td>OnePlus Nord CE 2 Lite 5G (Blue Tide, 128 GB) ...</td>\n",
       "      <td>Delightful</td>\n",
       "    </tr>\n",
       "    <tr>\n",
       "      <th>2</th>\n",
       "      <td>2</td>\n",
       "      <td>OnePlus Nord CE 2 Lite 5G (Blue Tide, 128 GB) ...</td>\n",
       "      <td>Nice product</td>\n",
       "    </tr>\n",
       "    <tr>\n",
       "      <th>3</th>\n",
       "      <td>3</td>\n",
       "      <td>OnePlus Nord CE 2 Lite 5G (Blue Tide, 128 GB) ...</td>\n",
       "      <td>Decent product</td>\n",
       "    </tr>\n",
       "    <tr>\n",
       "      <th>4</th>\n",
       "      <td>4</td>\n",
       "      <td>OnePlus Nord CE 2 Lite 5G (Blue Tide, 128 GB) ...</td>\n",
       "      <td>Nice product</td>\n",
       "    </tr>\n",
       "  </tbody>\n",
       "</table>\n",
       "</div>"
      ],
      "text/plain": [
       "   Unnamed: 0                                      product_title  \\\n",
       "0           0  OnePlus Nord CE 2 Lite 5G (Blue Tide, 128 GB) ...   \n",
       "1           1  OnePlus Nord CE 2 Lite 5G (Blue Tide, 128 GB) ...   \n",
       "2           2  OnePlus Nord CE 2 Lite 5G (Blue Tide, 128 GB) ...   \n",
       "3           3  OnePlus Nord CE 2 Lite 5G (Blue Tide, 128 GB) ...   \n",
       "4           4  OnePlus Nord CE 2 Lite 5G (Blue Tide, 128 GB) ...   \n",
       "\n",
       "          reviews  \n",
       "0       Must buy!  \n",
       "1      Delightful  \n",
       "2    Nice product  \n",
       "3  Decent product  \n",
       "4    Nice product  "
      ]
     },
     "execution_count": 16,
     "metadata": {},
     "output_type": "execute_result"
    }
   ],
   "source": [
    "df3=ps.read_csv(r\"C:\\Users\\Harshit\\Downloads\\oneplusmobile.csv\")\n",
    "df3.head()"
   ]
  },
  {
   "cell_type": "code",
   "execution_count": 17,
   "id": "822392ae",
   "metadata": {},
   "outputs": [
    {
     "data": {
      "text/html": [
       "<div>\n",
       "<style scoped>\n",
       "    .dataframe tbody tr th:only-of-type {\n",
       "        vertical-align: middle;\n",
       "    }\n",
       "\n",
       "    .dataframe tbody tr th {\n",
       "        vertical-align: top;\n",
       "    }\n",
       "\n",
       "    .dataframe thead th {\n",
       "        text-align: right;\n",
       "    }\n",
       "</style>\n",
       "<table border=\"1\" class=\"dataframe\">\n",
       "  <thead>\n",
       "    <tr style=\"text-align: right;\">\n",
       "      <th></th>\n",
       "      <th>Unnamed: 0</th>\n",
       "      <th>product_title</th>\n",
       "      <th>reviews</th>\n",
       "    </tr>\n",
       "  </thead>\n",
       "  <tbody>\n",
       "    <tr>\n",
       "      <th>0</th>\n",
       "      <td>0</td>\n",
       "      <td>Apple 20W ,USB-C Power Charging Adapter for iP...</td>\n",
       "      <td>Just wow!</td>\n",
       "    </tr>\n",
       "    <tr>\n",
       "      <th>1</th>\n",
       "      <td>1</td>\n",
       "      <td>Apple 20W ,USB-C Power Charging Adapter for iP...</td>\n",
       "      <td>Worth the money</td>\n",
       "    </tr>\n",
       "    <tr>\n",
       "      <th>2</th>\n",
       "      <td>2</td>\n",
       "      <td>Apple 20W ,USB-C Power Charging Adapter for iP...</td>\n",
       "      <td>Terrific purchase</td>\n",
       "    </tr>\n",
       "    <tr>\n",
       "      <th>3</th>\n",
       "      <td>3</td>\n",
       "      <td>Apple 20W ,USB-C Power Charging Adapter for iP...</td>\n",
       "      <td>Must buy!</td>\n",
       "    </tr>\n",
       "    <tr>\n",
       "      <th>4</th>\n",
       "      <td>4</td>\n",
       "      <td>Apple 20W ,USB-C Power Charging Adapter for iP...</td>\n",
       "      <td>Great product</td>\n",
       "    </tr>\n",
       "  </tbody>\n",
       "</table>\n",
       "</div>"
      ],
      "text/plain": [
       "   Unnamed: 0                                      product_title  \\\n",
       "0           0  Apple 20W ,USB-C Power Charging Adapter for iP...   \n",
       "1           1  Apple 20W ,USB-C Power Charging Adapter for iP...   \n",
       "2           2  Apple 20W ,USB-C Power Charging Adapter for iP...   \n",
       "3           3  Apple 20W ,USB-C Power Charging Adapter for iP...   \n",
       "4           4  Apple 20W ,USB-C Power Charging Adapter for iP...   \n",
       "\n",
       "             reviews  \n",
       "0          Just wow!  \n",
       "1    Worth the money  \n",
       "2  Terrific purchase  \n",
       "3          Must buy!  \n",
       "4      Great product  "
      ]
     },
     "execution_count": 17,
     "metadata": {},
     "output_type": "execute_result"
    }
   ],
   "source": [
    "df4=ps.read_csv(r\"C:\\Users\\Harshit\\Downloads\\iphone.csv\")\n",
    "df4.head()"
   ]
  },
  {
   "cell_type": "code",
   "execution_count": 18,
   "id": "e79a225a",
   "metadata": {},
   "outputs": [
    {
     "data": {
      "text/html": [
       "<div>\n",
       "<style scoped>\n",
       "    .dataframe tbody tr th:only-of-type {\n",
       "        vertical-align: middle;\n",
       "    }\n",
       "\n",
       "    .dataframe tbody tr th {\n",
       "        vertical-align: top;\n",
       "    }\n",
       "\n",
       "    .dataframe thead th {\n",
       "        text-align: right;\n",
       "    }\n",
       "</style>\n",
       "<table border=\"1\" class=\"dataframe\">\n",
       "  <thead>\n",
       "    <tr style=\"text-align: right;\">\n",
       "      <th></th>\n",
       "      <th>Unnamed: 0</th>\n",
       "      <th>product_title</th>\n",
       "      <th>reviews</th>\n",
       "    </tr>\n",
       "  </thead>\n",
       "  <tbody>\n",
       "    <tr>\n",
       "      <th>0</th>\n",
       "      <td>0</td>\n",
       "      <td>SAMSUNG Galaxy F13 (Waterfall Blue, 64 GB) Rev...</td>\n",
       "      <td>Simply awesome</td>\n",
       "    </tr>\n",
       "    <tr>\n",
       "      <th>1</th>\n",
       "      <td>1</td>\n",
       "      <td>SAMSUNG Galaxy F13 (Waterfall Blue, 64 GB) Rev...</td>\n",
       "      <td>Worth every penny</td>\n",
       "    </tr>\n",
       "    <tr>\n",
       "      <th>2</th>\n",
       "      <td>2</td>\n",
       "      <td>SAMSUNG Galaxy F13 (Waterfall Blue, 64 GB) Rev...</td>\n",
       "      <td>Nice product</td>\n",
       "    </tr>\n",
       "    <tr>\n",
       "      <th>3</th>\n",
       "      <td>3</td>\n",
       "      <td>SAMSUNG Galaxy F13 (Waterfall Blue, 64 GB) Rev...</td>\n",
       "      <td>Fabulous!</td>\n",
       "    </tr>\n",
       "    <tr>\n",
       "      <th>4</th>\n",
       "      <td>4</td>\n",
       "      <td>SAMSUNG Galaxy F13 (Waterfall Blue, 64 GB) Rev...</td>\n",
       "      <td>Awesome</td>\n",
       "    </tr>\n",
       "  </tbody>\n",
       "</table>\n",
       "</div>"
      ],
      "text/plain": [
       "   Unnamed: 0                                      product_title  \\\n",
       "0           0  SAMSUNG Galaxy F13 (Waterfall Blue, 64 GB) Rev...   \n",
       "1           1  SAMSUNG Galaxy F13 (Waterfall Blue, 64 GB) Rev...   \n",
       "2           2  SAMSUNG Galaxy F13 (Waterfall Blue, 64 GB) Rev...   \n",
       "3           3  SAMSUNG Galaxy F13 (Waterfall Blue, 64 GB) Rev...   \n",
       "4           4  SAMSUNG Galaxy F13 (Waterfall Blue, 64 GB) Rev...   \n",
       "\n",
       "             reviews  \n",
       "0     Simply awesome  \n",
       "1  Worth every penny  \n",
       "2       Nice product  \n",
       "3          Fabulous!  \n",
       "4            Awesome  "
      ]
     },
     "execution_count": 18,
     "metadata": {},
     "output_type": "execute_result"
    }
   ],
   "source": [
    "df5=ps.read_csv(r\"C:\\Users\\Harshit\\Downloads\\samsungtv.csv\")\n",
    "df5.head()"
   ]
  },
  {
   "cell_type": "code",
   "execution_count": 19,
   "id": "05825a6b",
   "metadata": {},
   "outputs": [
    {
     "data": {
      "text/html": [
       "<div>\n",
       "<style scoped>\n",
       "    .dataframe tbody tr th:only-of-type {\n",
       "        vertical-align: middle;\n",
       "    }\n",
       "\n",
       "    .dataframe tbody tr th {\n",
       "        vertical-align: top;\n",
       "    }\n",
       "\n",
       "    .dataframe thead th {\n",
       "        text-align: right;\n",
       "    }\n",
       "</style>\n",
       "<table border=\"1\" class=\"dataframe\">\n",
       "  <thead>\n",
       "    <tr style=\"text-align: right;\">\n",
       "      <th></th>\n",
       "      <th>Unnamed: 0</th>\n",
       "      <th>product_title</th>\n",
       "      <th>reviews</th>\n",
       "    </tr>\n",
       "  </thead>\n",
       "  <tbody>\n",
       "    <tr>\n",
       "      <th>0</th>\n",
       "      <td>0</td>\n",
       "      <td>APPLE iPhone 13 (Midnight, 128 GB) Reviews</td>\n",
       "      <td>Perfect product!</td>\n",
       "    </tr>\n",
       "    <tr>\n",
       "      <th>1</th>\n",
       "      <td>1</td>\n",
       "      <td>APPLE iPhone 13 (Midnight, 128 GB) Reviews</td>\n",
       "      <td>Perfect product!</td>\n",
       "    </tr>\n",
       "    <tr>\n",
       "      <th>2</th>\n",
       "      <td>2</td>\n",
       "      <td>APPLE iPhone 13 (Midnight, 128 GB) Reviews</td>\n",
       "      <td>Brilliant</td>\n",
       "    </tr>\n",
       "    <tr>\n",
       "      <th>3</th>\n",
       "      <td>3</td>\n",
       "      <td>APPLE iPhone 13 (Midnight, 128 GB) Reviews</td>\n",
       "      <td>Excellent</td>\n",
       "    </tr>\n",
       "    <tr>\n",
       "      <th>4</th>\n",
       "      <td>4</td>\n",
       "      <td>APPLE iPhone 13 (Midnight, 128 GB) Reviews</td>\n",
       "      <td>Fabulous!</td>\n",
       "    </tr>\n",
       "  </tbody>\n",
       "</table>\n",
       "</div>"
      ],
      "text/plain": [
       "   Unnamed: 0                               product_title           reviews\n",
       "0           0  APPLE iPhone 13 (Midnight, 128 GB) Reviews  Perfect product!\n",
       "1           1  APPLE iPhone 13 (Midnight, 128 GB) Reviews  Perfect product!\n",
       "2           2  APPLE iPhone 13 (Midnight, 128 GB) Reviews         Brilliant\n",
       "3           3  APPLE iPhone 13 (Midnight, 128 GB) Reviews         Excellent\n",
       "4           4  APPLE iPhone 13 (Midnight, 128 GB) Reviews         Fabulous!"
      ]
     },
     "execution_count": 19,
     "metadata": {},
     "output_type": "execute_result"
    }
   ],
   "source": [
    "df6=ps.read_csv(r\"C:\\Users\\Harshit\\Downloads\\jabbaaaa.csv\")\n",
    "df6.head()"
   ]
  },
  {
   "cell_type": "code",
   "execution_count": 20,
   "id": "abb0563e",
   "metadata": {},
   "outputs": [
    {
     "data": {
      "text/html": [
       "<div>\n",
       "<style scoped>\n",
       "    .dataframe tbody tr th:only-of-type {\n",
       "        vertical-align: middle;\n",
       "    }\n",
       "\n",
       "    .dataframe tbody tr th {\n",
       "        vertical-align: top;\n",
       "    }\n",
       "\n",
       "    .dataframe thead th {\n",
       "        text-align: right;\n",
       "    }\n",
       "</style>\n",
       "<table border=\"1\" class=\"dataframe\">\n",
       "  <thead>\n",
       "    <tr style=\"text-align: right;\">\n",
       "      <th></th>\n",
       "      <th>Unnamed: 0</th>\n",
       "      <th>product_title</th>\n",
       "      <th>reviews</th>\n",
       "    </tr>\n",
       "  </thead>\n",
       "  <tbody>\n",
       "    <tr>\n",
       "      <th>0</th>\n",
       "      <td>0</td>\n",
       "      <td>Vu Premium TV 108 cm (43 inch) Full HD LED Sma...</td>\n",
       "      <td>Simply awesome</td>\n",
       "    </tr>\n",
       "    <tr>\n",
       "      <th>1</th>\n",
       "      <td>1</td>\n",
       "      <td>Vu Premium TV 108 cm (43 inch) Full HD LED Sma...</td>\n",
       "      <td>Terrific</td>\n",
       "    </tr>\n",
       "    <tr>\n",
       "      <th>2</th>\n",
       "      <td>2</td>\n",
       "      <td>Vu Premium TV 108 cm (43 inch) Full HD LED Sma...</td>\n",
       "      <td>Wonderful</td>\n",
       "    </tr>\n",
       "    <tr>\n",
       "      <th>3</th>\n",
       "      <td>3</td>\n",
       "      <td>Vu Premium TV 108 cm (43 inch) Full HD LED Sma...</td>\n",
       "      <td>Highly recommended</td>\n",
       "    </tr>\n",
       "    <tr>\n",
       "      <th>4</th>\n",
       "      <td>4</td>\n",
       "      <td>Vu Premium TV 108 cm (43 inch) Full HD LED Sma...</td>\n",
       "      <td>Don't waste your money</td>\n",
       "    </tr>\n",
       "    <tr>\n",
       "      <th>5</th>\n",
       "      <td>5</td>\n",
       "      <td>Vu Premium TV 108 cm (43 inch) Full HD LED Sma...</td>\n",
       "      <td>Did not meet expectations</td>\n",
       "    </tr>\n",
       "    <tr>\n",
       "      <th>6</th>\n",
       "      <td>6</td>\n",
       "      <td>Vu Premium TV 108 cm (43 inch) Full HD LED Sma...</td>\n",
       "      <td>Really Nice</td>\n",
       "    </tr>\n",
       "    <tr>\n",
       "      <th>7</th>\n",
       "      <td>7</td>\n",
       "      <td>Vu Premium TV 108 cm (43 inch) Full HD LED Sma...</td>\n",
       "      <td>Worth every penny</td>\n",
       "    </tr>\n",
       "    <tr>\n",
       "      <th>8</th>\n",
       "      <td>8</td>\n",
       "      <td>Vu Premium TV 108 cm (43 inch) Full HD LED Sma...</td>\n",
       "      <td>Wonderful</td>\n",
       "    </tr>\n",
       "    <tr>\n",
       "      <th>9</th>\n",
       "      <td>9</td>\n",
       "      <td>Vu Premium TV 108 cm (43 inch) Full HD LED Sma...</td>\n",
       "      <td>Classy product</td>\n",
       "    </tr>\n",
       "  </tbody>\n",
       "</table>\n",
       "</div>"
      ],
      "text/plain": [
       "   Unnamed: 0                                      product_title  \\\n",
       "0           0  Vu Premium TV 108 cm (43 inch) Full HD LED Sma...   \n",
       "1           1  Vu Premium TV 108 cm (43 inch) Full HD LED Sma...   \n",
       "2           2  Vu Premium TV 108 cm (43 inch) Full HD LED Sma...   \n",
       "3           3  Vu Premium TV 108 cm (43 inch) Full HD LED Sma...   \n",
       "4           4  Vu Premium TV 108 cm (43 inch) Full HD LED Sma...   \n",
       "5           5  Vu Premium TV 108 cm (43 inch) Full HD LED Sma...   \n",
       "6           6  Vu Premium TV 108 cm (43 inch) Full HD LED Sma...   \n",
       "7           7  Vu Premium TV 108 cm (43 inch) Full HD LED Sma...   \n",
       "8           8  Vu Premium TV 108 cm (43 inch) Full HD LED Sma...   \n",
       "9           9  Vu Premium TV 108 cm (43 inch) Full HD LED Sma...   \n",
       "\n",
       "                     reviews  \n",
       "0             Simply awesome  \n",
       "1                   Terrific  \n",
       "2                  Wonderful  \n",
       "3         Highly recommended  \n",
       "4     Don't waste your money  \n",
       "5  Did not meet expectations  \n",
       "6                Really Nice  \n",
       "7          Worth every penny  \n",
       "8                  Wonderful  \n",
       "9             Classy product  "
      ]
     },
     "execution_count": 20,
     "metadata": {},
     "output_type": "execute_result"
    }
   ],
   "source": [
    "df7=ps.read_csv(r\"C:\\Users\\Harshit\\Downloads\\vu.csv\")\n",
    "df7.head(10)"
   ]
  },
  {
   "cell_type": "code",
   "execution_count": 21,
   "id": "225ee069",
   "metadata": {},
   "outputs": [
    {
     "data": {
      "text/html": [
       "<div>\n",
       "<style scoped>\n",
       "    .dataframe tbody tr th:only-of-type {\n",
       "        vertical-align: middle;\n",
       "    }\n",
       "\n",
       "    .dataframe tbody tr th {\n",
       "        vertical-align: top;\n",
       "    }\n",
       "\n",
       "    .dataframe thead th {\n",
       "        text-align: right;\n",
       "    }\n",
       "</style>\n",
       "<table border=\"1\" class=\"dataframe\">\n",
       "  <thead>\n",
       "    <tr style=\"text-align: right;\">\n",
       "      <th></th>\n",
       "      <th>Unnamed: 0</th>\n",
       "      <th>product_title</th>\n",
       "      <th>reviews</th>\n",
       "    </tr>\n",
       "  </thead>\n",
       "  <tbody>\n",
       "    <tr>\n",
       "      <th>0</th>\n",
       "      <td>0</td>\n",
       "      <td>Primebook 4G Android Based MediaTek MT8788 - (...</td>\n",
       "      <td>Simply awesome</td>\n",
       "    </tr>\n",
       "    <tr>\n",
       "      <th>1</th>\n",
       "      <td>1</td>\n",
       "      <td>Primebook 4G Android Based MediaTek MT8788 - (...</td>\n",
       "      <td>Terrific</td>\n",
       "    </tr>\n",
       "    <tr>\n",
       "      <th>2</th>\n",
       "      <td>2</td>\n",
       "      <td>Primebook 4G Android Based MediaTek MT8788 - (...</td>\n",
       "      <td>Awesome</td>\n",
       "    </tr>\n",
       "    <tr>\n",
       "      <th>3</th>\n",
       "      <td>3</td>\n",
       "      <td>Primebook 4G Android Based MediaTek MT8788 - (...</td>\n",
       "      <td>Worth every penny</td>\n",
       "    </tr>\n",
       "    <tr>\n",
       "      <th>4</th>\n",
       "      <td>4</td>\n",
       "      <td>Primebook 4G Android Based MediaTek MT8788 - (...</td>\n",
       "      <td>Very Good</td>\n",
       "    </tr>\n",
       "    <tr>\n",
       "      <th>5</th>\n",
       "      <td>5</td>\n",
       "      <td>Primebook 4G Android Based MediaTek MT8788 - (...</td>\n",
       "      <td>Fabulous!</td>\n",
       "    </tr>\n",
       "    <tr>\n",
       "      <th>6</th>\n",
       "      <td>6</td>\n",
       "      <td>Primebook 4G Android Based MediaTek MT8788 - (...</td>\n",
       "      <td>Terrific</td>\n",
       "    </tr>\n",
       "    <tr>\n",
       "      <th>7</th>\n",
       "      <td>7</td>\n",
       "      <td>Primebook 4G Android Based MediaTek MT8788 - (...</td>\n",
       "      <td>Super!</td>\n",
       "    </tr>\n",
       "    <tr>\n",
       "      <th>8</th>\n",
       "      <td>8</td>\n",
       "      <td>Primebook 4G Android Based MediaTek MT8788 - (...</td>\n",
       "      <td>Must buy!</td>\n",
       "    </tr>\n",
       "    <tr>\n",
       "      <th>9</th>\n",
       "      <td>9</td>\n",
       "      <td>Primebook 4G Android Based MediaTek MT8788 - (...</td>\n",
       "      <td>Awesome</td>\n",
       "    </tr>\n",
       "  </tbody>\n",
       "</table>\n",
       "</div>"
      ],
      "text/plain": [
       "   Unnamed: 0                                      product_title  \\\n",
       "0           0  Primebook 4G Android Based MediaTek MT8788 - (...   \n",
       "1           1  Primebook 4G Android Based MediaTek MT8788 - (...   \n",
       "2           2  Primebook 4G Android Based MediaTek MT8788 - (...   \n",
       "3           3  Primebook 4G Android Based MediaTek MT8788 - (...   \n",
       "4           4  Primebook 4G Android Based MediaTek MT8788 - (...   \n",
       "5           5  Primebook 4G Android Based MediaTek MT8788 - (...   \n",
       "6           6  Primebook 4G Android Based MediaTek MT8788 - (...   \n",
       "7           7  Primebook 4G Android Based MediaTek MT8788 - (...   \n",
       "8           8  Primebook 4G Android Based MediaTek MT8788 - (...   \n",
       "9           9  Primebook 4G Android Based MediaTek MT8788 - (...   \n",
       "\n",
       "             reviews  \n",
       "0     Simply awesome  \n",
       "1           Terrific  \n",
       "2            Awesome  \n",
       "3  Worth every penny  \n",
       "4          Very Good  \n",
       "5          Fabulous!  \n",
       "6           Terrific  \n",
       "7             Super!  \n",
       "8          Must buy!  \n",
       "9            Awesome  "
      ]
     },
     "execution_count": 21,
     "metadata": {},
     "output_type": "execute_result"
    }
   ],
   "source": [
    "df8=ps.read_csv(r\"C:\\Users\\Harshit\\Downloads\\laptops.csv\")\n",
    "df8.head(10)"
   ]
  },
  {
   "cell_type": "code",
   "execution_count": 22,
   "id": "29197889",
   "metadata": {},
   "outputs": [
    {
     "data": {
      "text/html": [
       "<div>\n",
       "<style scoped>\n",
       "    .dataframe tbody tr th:only-of-type {\n",
       "        vertical-align: middle;\n",
       "    }\n",
       "\n",
       "    .dataframe tbody tr th {\n",
       "        vertical-align: top;\n",
       "    }\n",
       "\n",
       "    .dataframe thead th {\n",
       "        text-align: right;\n",
       "    }\n",
       "</style>\n",
       "<table border=\"1\" class=\"dataframe\">\n",
       "  <thead>\n",
       "    <tr style=\"text-align: right;\">\n",
       "      <th></th>\n",
       "      <th>Unnamed: 0</th>\n",
       "      <th>product_title</th>\n",
       "      <th>reviews</th>\n",
       "    </tr>\n",
       "  </thead>\n",
       "  <tbody>\n",
       "    <tr>\n",
       "      <th>0</th>\n",
       "      <td>0</td>\n",
       "      <td>LG AI Convertible 6-in-1 Cooling 2023 Model 1....</td>\n",
       "      <td>Pretty good</td>\n",
       "    </tr>\n",
       "    <tr>\n",
       "      <th>1</th>\n",
       "      <td>1</td>\n",
       "      <td>LG AI Convertible 6-in-1 Cooling 2023 Model 1....</td>\n",
       "      <td>Perfect product!</td>\n",
       "    </tr>\n",
       "    <tr>\n",
       "      <th>2</th>\n",
       "      <td>2</td>\n",
       "      <td>LG AI Convertible 6-in-1 Cooling 2023 Model 1....</td>\n",
       "      <td>Must buy!</td>\n",
       "    </tr>\n",
       "    <tr>\n",
       "      <th>3</th>\n",
       "      <td>3</td>\n",
       "      <td>LG AI Convertible 6-in-1 Cooling 2023 Model 1....</td>\n",
       "      <td>Super!</td>\n",
       "    </tr>\n",
       "    <tr>\n",
       "      <th>4</th>\n",
       "      <td>4</td>\n",
       "      <td>LG AI Convertible 6-in-1 Cooling 2023 Model 1....</td>\n",
       "      <td>Value-for-money</td>\n",
       "    </tr>\n",
       "    <tr>\n",
       "      <th>5</th>\n",
       "      <td>5</td>\n",
       "      <td>LG AI Convertible 6-in-1 Cooling 2023 Model 1....</td>\n",
       "      <td>Classy product</td>\n",
       "    </tr>\n",
       "    <tr>\n",
       "      <th>6</th>\n",
       "      <td>6</td>\n",
       "      <td>LG AI Convertible 6-in-1 Cooling 2023 Model 1....</td>\n",
       "      <td>Very Good</td>\n",
       "    </tr>\n",
       "    <tr>\n",
       "      <th>7</th>\n",
       "      <td>7</td>\n",
       "      <td>LG AI Convertible 6-in-1 Cooling 2023 Model 1....</td>\n",
       "      <td>Excellent</td>\n",
       "    </tr>\n",
       "    <tr>\n",
       "      <th>8</th>\n",
       "      <td>8</td>\n",
       "      <td>LG AI Convertible 6-in-1 Cooling 2023 Model 1....</td>\n",
       "      <td>Super!</td>\n",
       "    </tr>\n",
       "    <tr>\n",
       "      <th>9</th>\n",
       "      <td>9</td>\n",
       "      <td>LG AI Convertible 6-in-1 Cooling 2023 Model 1....</td>\n",
       "      <td>Fabulous!</td>\n",
       "    </tr>\n",
       "  </tbody>\n",
       "</table>\n",
       "</div>"
      ],
      "text/plain": [
       "   Unnamed: 0                                      product_title  \\\n",
       "0           0  LG AI Convertible 6-in-1 Cooling 2023 Model 1....   \n",
       "1           1  LG AI Convertible 6-in-1 Cooling 2023 Model 1....   \n",
       "2           2  LG AI Convertible 6-in-1 Cooling 2023 Model 1....   \n",
       "3           3  LG AI Convertible 6-in-1 Cooling 2023 Model 1....   \n",
       "4           4  LG AI Convertible 6-in-1 Cooling 2023 Model 1....   \n",
       "5           5  LG AI Convertible 6-in-1 Cooling 2023 Model 1....   \n",
       "6           6  LG AI Convertible 6-in-1 Cooling 2023 Model 1....   \n",
       "7           7  LG AI Convertible 6-in-1 Cooling 2023 Model 1....   \n",
       "8           8  LG AI Convertible 6-in-1 Cooling 2023 Model 1....   \n",
       "9           9  LG AI Convertible 6-in-1 Cooling 2023 Model 1....   \n",
       "\n",
       "            reviews  \n",
       "0       Pretty good  \n",
       "1  Perfect product!  \n",
       "2         Must buy!  \n",
       "3            Super!  \n",
       "4   Value-for-money  \n",
       "5    Classy product  \n",
       "6         Very Good  \n",
       "7         Excellent  \n",
       "8            Super!  \n",
       "9         Fabulous!  "
      ]
     },
     "execution_count": 22,
     "metadata": {},
     "output_type": "execute_result"
    }
   ],
   "source": [
    "df9=ps.read_csv(r\"C:\\Users\\Harshit\\Downloads\\LG.csv\")\n",
    "df9.head(10)"
   ]
  },
  {
   "cell_type": "code",
   "execution_count": 23,
   "id": "c1fe1339",
   "metadata": {
    "scrolled": true
   },
   "outputs": [
    {
     "data": {
      "text/html": [
       "<div>\n",
       "<style scoped>\n",
       "    .dataframe tbody tr th:only-of-type {\n",
       "        vertical-align: middle;\n",
       "    }\n",
       "\n",
       "    .dataframe tbody tr th {\n",
       "        vertical-align: top;\n",
       "    }\n",
       "\n",
       "    .dataframe thead th {\n",
       "        text-align: right;\n",
       "    }\n",
       "</style>\n",
       "<table border=\"1\" class=\"dataframe\">\n",
       "  <thead>\n",
       "    <tr style=\"text-align: right;\">\n",
       "      <th></th>\n",
       "      <th>Unnamed: 0</th>\n",
       "      <th>product_title</th>\n",
       "      <th>reviews</th>\n",
       "    </tr>\n",
       "  </thead>\n",
       "  <tbody>\n",
       "    <tr>\n",
       "      <th>0</th>\n",
       "      <td>0</td>\n",
       "      <td>IFB 9 kg 2X Power Dual Steam, Hard Water Wash,...</td>\n",
       "      <td>Fabulous!</td>\n",
       "    </tr>\n",
       "    <tr>\n",
       "      <th>1</th>\n",
       "      <td>1</td>\n",
       "      <td>IFB 9 kg 2X Power Dual Steam, Hard Water Wash,...</td>\n",
       "      <td>Must buy!</td>\n",
       "    </tr>\n",
       "    <tr>\n",
       "      <th>2</th>\n",
       "      <td>2</td>\n",
       "      <td>IFB 9 kg 2X Power Dual Steam, Hard Water Wash,...</td>\n",
       "      <td>Nice</td>\n",
       "    </tr>\n",
       "    <tr>\n",
       "      <th>3</th>\n",
       "      <td>3</td>\n",
       "      <td>IFB 9 kg 2X Power Dual Steam, Hard Water Wash,...</td>\n",
       "      <td>Best in the market!</td>\n",
       "    </tr>\n",
       "    <tr>\n",
       "      <th>4</th>\n",
       "      <td>4</td>\n",
       "      <td>IFB 9 kg 2X Power Dual Steam, Hard Water Wash,...</td>\n",
       "      <td>Hated it!</td>\n",
       "    </tr>\n",
       "    <tr>\n",
       "      <th>5</th>\n",
       "      <td>5</td>\n",
       "      <td>IFB 9 kg 2X Power Dual Steam, Hard Water Wash,...</td>\n",
       "      <td>Fabulous!</td>\n",
       "    </tr>\n",
       "    <tr>\n",
       "      <th>6</th>\n",
       "      <td>6</td>\n",
       "      <td>IFB 9 kg 2X Power Dual Steam, Hard Water Wash,...</td>\n",
       "      <td>Fabulous!</td>\n",
       "    </tr>\n",
       "    <tr>\n",
       "      <th>7</th>\n",
       "      <td>7</td>\n",
       "      <td>IFB 9 kg 2X Power Dual Steam, Hard Water Wash,...</td>\n",
       "      <td>Classy product</td>\n",
       "    </tr>\n",
       "    <tr>\n",
       "      <th>8</th>\n",
       "      <td>8</td>\n",
       "      <td>IFB 9 kg 2X Power Dual Steam, Hard Water Wash,...</td>\n",
       "      <td>Fabulous!</td>\n",
       "    </tr>\n",
       "    <tr>\n",
       "      <th>9</th>\n",
       "      <td>9</td>\n",
       "      <td>IFB 9 kg 2X Power Dual Steam, Hard Water Wash,...</td>\n",
       "      <td>Wonderful</td>\n",
       "    </tr>\n",
       "  </tbody>\n",
       "</table>\n",
       "</div>"
      ],
      "text/plain": [
       "   Unnamed: 0                                      product_title  \\\n",
       "0           0  IFB 9 kg 2X Power Dual Steam, Hard Water Wash,...   \n",
       "1           1  IFB 9 kg 2X Power Dual Steam, Hard Water Wash,...   \n",
       "2           2  IFB 9 kg 2X Power Dual Steam, Hard Water Wash,...   \n",
       "3           3  IFB 9 kg 2X Power Dual Steam, Hard Water Wash,...   \n",
       "4           4  IFB 9 kg 2X Power Dual Steam, Hard Water Wash,...   \n",
       "5           5  IFB 9 kg 2X Power Dual Steam, Hard Water Wash,...   \n",
       "6           6  IFB 9 kg 2X Power Dual Steam, Hard Water Wash,...   \n",
       "7           7  IFB 9 kg 2X Power Dual Steam, Hard Water Wash,...   \n",
       "8           8  IFB 9 kg 2X Power Dual Steam, Hard Water Wash,...   \n",
       "9           9  IFB 9 kg 2X Power Dual Steam, Hard Water Wash,...   \n",
       "\n",
       "               reviews  \n",
       "0            Fabulous!  \n",
       "1            Must buy!  \n",
       "2                 Nice  \n",
       "3  Best in the market!  \n",
       "4            Hated it!  \n",
       "5            Fabulous!  \n",
       "6            Fabulous!  \n",
       "7       Classy product  \n",
       "8            Fabulous!  \n",
       "9            Wonderful  "
      ]
     },
     "execution_count": 23,
     "metadata": {},
     "output_type": "execute_result"
    }
   ],
   "source": [
    "df10=ps.read_csv(r\"C:\\Users\\Harshit\\Downloads\\IFB.csv\")\n",
    "df10.head(10)"
   ]
  },
  {
   "cell_type": "code",
   "execution_count": 24,
   "id": "e1472cf1",
   "metadata": {},
   "outputs": [
    {
     "data": {
      "text/html": [
       "<div>\n",
       "<style scoped>\n",
       "    .dataframe tbody tr th:only-of-type {\n",
       "        vertical-align: middle;\n",
       "    }\n",
       "\n",
       "    .dataframe tbody tr th {\n",
       "        vertical-align: top;\n",
       "    }\n",
       "\n",
       "    .dataframe thead th {\n",
       "        text-align: right;\n",
       "    }\n",
       "</style>\n",
       "<table border=\"1\" class=\"dataframe\">\n",
       "  <thead>\n",
       "    <tr style=\"text-align: right;\">\n",
       "      <th></th>\n",
       "      <th>Unnamed: 0</th>\n",
       "      <th>product_title</th>\n",
       "      <th>reviews</th>\n",
       "    </tr>\n",
       "  </thead>\n",
       "  <tbody>\n",
       "    <tr>\n",
       "      <th>0</th>\n",
       "      <td>0</td>\n",
       "      <td>IFB 8 kg 5 Star 9 Swirl AI Powered with Wi-Fi ...</td>\n",
       "      <td>Delightful</td>\n",
       "    </tr>\n",
       "    <tr>\n",
       "      <th>1</th>\n",
       "      <td>1</td>\n",
       "      <td>IFB 8 kg 5 Star 9 Swirl AI Powered with Wi-Fi ...</td>\n",
       "      <td>Best in the market!</td>\n",
       "    </tr>\n",
       "    <tr>\n",
       "      <th>2</th>\n",
       "      <td>2</td>\n",
       "      <td>IFB 8 kg 5 Star 9 Swirl AI Powered with Wi-Fi ...</td>\n",
       "      <td>Must buy!</td>\n",
       "    </tr>\n",
       "    <tr>\n",
       "      <th>3</th>\n",
       "      <td>3</td>\n",
       "      <td>IFB 8 kg 5 Star 9 Swirl AI Powered with Wi-Fi ...</td>\n",
       "      <td>Great product</td>\n",
       "    </tr>\n",
       "    <tr>\n",
       "      <th>4</th>\n",
       "      <td>4</td>\n",
       "      <td>IFB 8 kg 5 Star 9 Swirl AI Powered with Wi-Fi ...</td>\n",
       "      <td>Really Nice</td>\n",
       "    </tr>\n",
       "    <tr>\n",
       "      <th>5</th>\n",
       "      <td>5</td>\n",
       "      <td>IFB 8 kg 5 Star 9 Swirl AI Powered with Wi-Fi ...</td>\n",
       "      <td>Mind-blowing purchase</td>\n",
       "    </tr>\n",
       "    <tr>\n",
       "      <th>6</th>\n",
       "      <td>6</td>\n",
       "      <td>IFB 8 kg 5 Star 9 Swirl AI Powered with Wi-Fi ...</td>\n",
       "      <td>Awesome</td>\n",
       "    </tr>\n",
       "    <tr>\n",
       "      <th>7</th>\n",
       "      <td>7</td>\n",
       "      <td>IFB 8 kg 5 Star 9 Swirl AI Powered with Wi-Fi ...</td>\n",
       "      <td>Mind-blowing purchase</td>\n",
       "    </tr>\n",
       "    <tr>\n",
       "      <th>8</th>\n",
       "      <td>8</td>\n",
       "      <td>IFB 8 kg 5 Star 9 Swirl AI Powered with Wi-Fi ...</td>\n",
       "      <td>Great product</td>\n",
       "    </tr>\n",
       "    <tr>\n",
       "      <th>9</th>\n",
       "      <td>9</td>\n",
       "      <td>IFB 8 kg 5 Star 9 Swirl AI Powered with Wi-Fi ...</td>\n",
       "      <td>Just wow!</td>\n",
       "    </tr>\n",
       "  </tbody>\n",
       "</table>\n",
       "</div>"
      ],
      "text/plain": [
       "   Unnamed: 0                                      product_title  \\\n",
       "0           0  IFB 8 kg 5 Star 9 Swirl AI Powered with Wi-Fi ...   \n",
       "1           1  IFB 8 kg 5 Star 9 Swirl AI Powered with Wi-Fi ...   \n",
       "2           2  IFB 8 kg 5 Star 9 Swirl AI Powered with Wi-Fi ...   \n",
       "3           3  IFB 8 kg 5 Star 9 Swirl AI Powered with Wi-Fi ...   \n",
       "4           4  IFB 8 kg 5 Star 9 Swirl AI Powered with Wi-Fi ...   \n",
       "5           5  IFB 8 kg 5 Star 9 Swirl AI Powered with Wi-Fi ...   \n",
       "6           6  IFB 8 kg 5 Star 9 Swirl AI Powered with Wi-Fi ...   \n",
       "7           7  IFB 8 kg 5 Star 9 Swirl AI Powered with Wi-Fi ...   \n",
       "8           8  IFB 8 kg 5 Star 9 Swirl AI Powered with Wi-Fi ...   \n",
       "9           9  IFB 8 kg 5 Star 9 Swirl AI Powered with Wi-Fi ...   \n",
       "\n",
       "                 reviews  \n",
       "0             Delightful  \n",
       "1    Best in the market!  \n",
       "2              Must buy!  \n",
       "3          Great product  \n",
       "4            Really Nice  \n",
       "5  Mind-blowing purchase  \n",
       "6                Awesome  \n",
       "7  Mind-blowing purchase  \n",
       "8          Great product  \n",
       "9              Just wow!  "
      ]
     },
     "execution_count": 24,
     "metadata": {},
     "output_type": "execute_result"
    }
   ],
   "source": [
    "df11=ps.read_csv(r\"C:\\Users\\Harshit\\Downloads\\IFB_.csv\")\n",
    "df11.head(10)"
   ]
  },
  {
   "cell_type": "code",
   "execution_count": 25,
   "id": "6014a44e",
   "metadata": {},
   "outputs": [
    {
     "data": {
      "text/html": [
       "<div>\n",
       "<style scoped>\n",
       "    .dataframe tbody tr th:only-of-type {\n",
       "        vertical-align: middle;\n",
       "    }\n",
       "\n",
       "    .dataframe tbody tr th {\n",
       "        vertical-align: top;\n",
       "    }\n",
       "\n",
       "    .dataframe thead th {\n",
       "        text-align: right;\n",
       "    }\n",
       "</style>\n",
       "<table border=\"1\" class=\"dataframe\">\n",
       "  <thead>\n",
       "    <tr style=\"text-align: right;\">\n",
       "      <th></th>\n",
       "      <th>Unnamed: 0</th>\n",
       "      <th>product_title</th>\n",
       "      <th>reviews</th>\n",
       "    </tr>\n",
       "  </thead>\n",
       "  <tbody>\n",
       "    <tr>\n",
       "      <th>0</th>\n",
       "      <td>0</td>\n",
       "      <td>FABER HOOD PLUTO PB BF BK 60 Wall Mounted Chim...</td>\n",
       "      <td>Worth every penny</td>\n",
       "    </tr>\n",
       "    <tr>\n",
       "      <th>1</th>\n",
       "      <td>1</td>\n",
       "      <td>FABER HOOD PLUTO PB BF BK 60 Wall Mounted Chim...</td>\n",
       "      <td>Excellent</td>\n",
       "    </tr>\n",
       "    <tr>\n",
       "      <th>2</th>\n",
       "      <td>2</td>\n",
       "      <td>FABER HOOD PLUTO PB BF BK 60 Wall Mounted Chim...</td>\n",
       "      <td>Perfect product!</td>\n",
       "    </tr>\n",
       "    <tr>\n",
       "      <th>3</th>\n",
       "      <td>3</td>\n",
       "      <td>FABER HOOD PLUTO PB BF BK 60 Wall Mounted Chim...</td>\n",
       "      <td>Horrible</td>\n",
       "    </tr>\n",
       "    <tr>\n",
       "      <th>4</th>\n",
       "      <td>4</td>\n",
       "      <td>FABER HOOD PLUTO PB BF BK 60 Wall Mounted Chim...</td>\n",
       "      <td>Excellent</td>\n",
       "    </tr>\n",
       "    <tr>\n",
       "      <th>5</th>\n",
       "      <td>5</td>\n",
       "      <td>FABER HOOD PLUTO PB BF BK 60 Wall Mounted Chim...</td>\n",
       "      <td>Great product</td>\n",
       "    </tr>\n",
       "    <tr>\n",
       "      <th>6</th>\n",
       "      <td>6</td>\n",
       "      <td>FABER HOOD PLUTO PB BF BK 60 Wall Mounted Chim...</td>\n",
       "      <td>Highly recommended</td>\n",
       "    </tr>\n",
       "    <tr>\n",
       "      <th>7</th>\n",
       "      <td>7</td>\n",
       "      <td>FABER HOOD PLUTO PB BF BK 60 Wall Mounted Chim...</td>\n",
       "      <td>Super!</td>\n",
       "    </tr>\n",
       "    <tr>\n",
       "      <th>8</th>\n",
       "      <td>8</td>\n",
       "      <td>FABER HOOD PLUTO PB BF BK 60 Wall Mounted Chim...</td>\n",
       "      <td>Best in the market!</td>\n",
       "    </tr>\n",
       "    <tr>\n",
       "      <th>9</th>\n",
       "      <td>9</td>\n",
       "      <td>FABER HOOD PLUTO PB BF BK 60 Wall Mounted Chim...</td>\n",
       "      <td>Highly recommended</td>\n",
       "    </tr>\n",
       "  </tbody>\n",
       "</table>\n",
       "</div>"
      ],
      "text/plain": [
       "   Unnamed: 0                                      product_title  \\\n",
       "0           0  FABER HOOD PLUTO PB BF BK 60 Wall Mounted Chim...   \n",
       "1           1  FABER HOOD PLUTO PB BF BK 60 Wall Mounted Chim...   \n",
       "2           2  FABER HOOD PLUTO PB BF BK 60 Wall Mounted Chim...   \n",
       "3           3  FABER HOOD PLUTO PB BF BK 60 Wall Mounted Chim...   \n",
       "4           4  FABER HOOD PLUTO PB BF BK 60 Wall Mounted Chim...   \n",
       "5           5  FABER HOOD PLUTO PB BF BK 60 Wall Mounted Chim...   \n",
       "6           6  FABER HOOD PLUTO PB BF BK 60 Wall Mounted Chim...   \n",
       "7           7  FABER HOOD PLUTO PB BF BK 60 Wall Mounted Chim...   \n",
       "8           8  FABER HOOD PLUTO PB BF BK 60 Wall Mounted Chim...   \n",
       "9           9  FABER HOOD PLUTO PB BF BK 60 Wall Mounted Chim...   \n",
       "\n",
       "               reviews  \n",
       "0    Worth every penny  \n",
       "1            Excellent  \n",
       "2     Perfect product!  \n",
       "3             Horrible  \n",
       "4            Excellent  \n",
       "5        Great product  \n",
       "6   Highly recommended  \n",
       "7               Super!  \n",
       "8  Best in the market!  \n",
       "9   Highly recommended  "
      ]
     },
     "execution_count": 25,
     "metadata": {},
     "output_type": "execute_result"
    }
   ],
   "source": [
    "df12=ps.read_csv(r\"C:\\Users\\Harshit\\Downloads\\refrigerators.csv\")\n",
    "df12.head(10)"
   ]
  },
  {
   "cell_type": "code",
   "execution_count": 26,
   "id": "bb799809",
   "metadata": {},
   "outputs": [
    {
     "data": {
      "text/html": [
       "<div>\n",
       "<style scoped>\n",
       "    .dataframe tbody tr th:only-of-type {\n",
       "        vertical-align: middle;\n",
       "    }\n",
       "\n",
       "    .dataframe tbody tr th {\n",
       "        vertical-align: top;\n",
       "    }\n",
       "\n",
       "    .dataframe thead th {\n",
       "        text-align: right;\n",
       "    }\n",
       "</style>\n",
       "<table border=\"1\" class=\"dataframe\">\n",
       "  <thead>\n",
       "    <tr style=\"text-align: right;\">\n",
       "      <th></th>\n",
       "      <th>Unnamed: 0</th>\n",
       "      <th>product_title</th>\n",
       "      <th>reviews</th>\n",
       "    </tr>\n",
       "  </thead>\n",
       "  <tbody>\n",
       "    <tr>\n",
       "      <th>0</th>\n",
       "      <td>0</td>\n",
       "      <td>Caseex Back Cover for Apple iPhone 13 Reviews</td>\n",
       "      <td>Super!</td>\n",
       "    </tr>\n",
       "    <tr>\n",
       "      <th>1</th>\n",
       "      <td>1</td>\n",
       "      <td>Caseex Back Cover for Apple iPhone 13 Reviews</td>\n",
       "      <td>Not recommended at all</td>\n",
       "    </tr>\n",
       "    <tr>\n",
       "      <th>2</th>\n",
       "      <td>2</td>\n",
       "      <td>Caseex Back Cover for Apple iPhone 13 Reviews</td>\n",
       "      <td>Perfect product!</td>\n",
       "    </tr>\n",
       "    <tr>\n",
       "      <th>3</th>\n",
       "      <td>3</td>\n",
       "      <td>Caseex Back Cover for Apple iPhone 13 Reviews</td>\n",
       "      <td>Wonderful</td>\n",
       "    </tr>\n",
       "    <tr>\n",
       "      <th>4</th>\n",
       "      <td>4</td>\n",
       "      <td>Caseex Back Cover for Apple iPhone 13 Reviews</td>\n",
       "      <td>Wonderful</td>\n",
       "    </tr>\n",
       "    <tr>\n",
       "      <th>5</th>\n",
       "      <td>5</td>\n",
       "      <td>Caseex Back Cover for Apple iPhone 13 Reviews</td>\n",
       "      <td>Awesome</td>\n",
       "    </tr>\n",
       "    <tr>\n",
       "      <th>6</th>\n",
       "      <td>6</td>\n",
       "      <td>Caseex Back Cover for Apple iPhone 13 Reviews</td>\n",
       "      <td>Not good</td>\n",
       "    </tr>\n",
       "    <tr>\n",
       "      <th>7</th>\n",
       "      <td>7</td>\n",
       "      <td>Caseex Back Cover for Apple iPhone 13 Reviews</td>\n",
       "      <td>Terrific</td>\n",
       "    </tr>\n",
       "    <tr>\n",
       "      <th>8</th>\n",
       "      <td>8</td>\n",
       "      <td>Caseex Back Cover for Apple iPhone 13 Reviews</td>\n",
       "      <td>Awesome</td>\n",
       "    </tr>\n",
       "    <tr>\n",
       "      <th>9</th>\n",
       "      <td>9</td>\n",
       "      <td>Caseex Back Cover for Apple iPhone 13 Reviews</td>\n",
       "      <td>Best in the market!</td>\n",
       "    </tr>\n",
       "  </tbody>\n",
       "</table>\n",
       "</div>"
      ],
      "text/plain": [
       "   Unnamed: 0                                  product_title  \\\n",
       "0           0  Caseex Back Cover for Apple iPhone 13 Reviews   \n",
       "1           1  Caseex Back Cover for Apple iPhone 13 Reviews   \n",
       "2           2  Caseex Back Cover for Apple iPhone 13 Reviews   \n",
       "3           3  Caseex Back Cover for Apple iPhone 13 Reviews   \n",
       "4           4  Caseex Back Cover for Apple iPhone 13 Reviews   \n",
       "5           5  Caseex Back Cover for Apple iPhone 13 Reviews   \n",
       "6           6  Caseex Back Cover for Apple iPhone 13 Reviews   \n",
       "7           7  Caseex Back Cover for Apple iPhone 13 Reviews   \n",
       "8           8  Caseex Back Cover for Apple iPhone 13 Reviews   \n",
       "9           9  Caseex Back Cover for Apple iPhone 13 Reviews   \n",
       "\n",
       "                  reviews  \n",
       "0                  Super!  \n",
       "1  Not recommended at all  \n",
       "2        Perfect product!  \n",
       "3               Wonderful  \n",
       "4               Wonderful  \n",
       "5                 Awesome  \n",
       "6                Not good  \n",
       "7                Terrific  \n",
       "8                 Awesome  \n",
       "9     Best in the market!  "
      ]
     },
     "execution_count": 26,
     "metadata": {},
     "output_type": "execute_result"
    }
   ],
   "source": [
    "df13=ps.read_csv(r\"C:\\Users\\Harshit\\Downloads\\vivo.csv\")\n",
    "df13.head(10)"
   ]
  },
  {
   "cell_type": "code",
   "execution_count": 27,
   "id": "49f88037",
   "metadata": {},
   "outputs": [
    {
     "data": {
      "text/html": [
       "<div>\n",
       "<style scoped>\n",
       "    .dataframe tbody tr th:only-of-type {\n",
       "        vertical-align: middle;\n",
       "    }\n",
       "\n",
       "    .dataframe tbody tr th {\n",
       "        vertical-align: top;\n",
       "    }\n",
       "\n",
       "    .dataframe thead th {\n",
       "        text-align: right;\n",
       "    }\n",
       "</style>\n",
       "<table border=\"1\" class=\"dataframe\">\n",
       "  <thead>\n",
       "    <tr style=\"text-align: right;\">\n",
       "      <th></th>\n",
       "      <th>Unnamed: 0</th>\n",
       "      <th>product_title</th>\n",
       "      <th>reviews</th>\n",
       "    </tr>\n",
       "  </thead>\n",
       "  <tbody>\n",
       "    <tr>\n",
       "      <th>0</th>\n",
       "      <td>0</td>\n",
       "      <td>CEDO XPRO Flip Cover for Vivo T1 Pro, IQoo Z6 ...</td>\n",
       "      <td>Great product</td>\n",
       "    </tr>\n",
       "    <tr>\n",
       "      <th>1</th>\n",
       "      <td>1</td>\n",
       "      <td>CEDO XPRO Flip Cover for Vivo T1 Pro, IQoo Z6 ...</td>\n",
       "      <td>Worth the money</td>\n",
       "    </tr>\n",
       "    <tr>\n",
       "      <th>2</th>\n",
       "      <td>2</td>\n",
       "      <td>CEDO XPRO Flip Cover for Vivo T1 Pro, IQoo Z6 ...</td>\n",
       "      <td>Nice</td>\n",
       "    </tr>\n",
       "    <tr>\n",
       "      <th>3</th>\n",
       "      <td>3</td>\n",
       "      <td>CEDO XPRO Flip Cover for Vivo T1 Pro, IQoo Z6 ...</td>\n",
       "      <td>Simply awesome</td>\n",
       "    </tr>\n",
       "    <tr>\n",
       "      <th>4</th>\n",
       "      <td>4</td>\n",
       "      <td>CEDO XPRO Flip Cover for Vivo T1 Pro, IQoo Z6 ...</td>\n",
       "      <td>Just wow!</td>\n",
       "    </tr>\n",
       "    <tr>\n",
       "      <th>5</th>\n",
       "      <td>5</td>\n",
       "      <td>CEDO XPRO Flip Cover for Vivo T1 Pro, IQoo Z6 ...</td>\n",
       "      <td>Excellent</td>\n",
       "    </tr>\n",
       "    <tr>\n",
       "      <th>6</th>\n",
       "      <td>6</td>\n",
       "      <td>CEDO XPRO Flip Cover for Vivo T1 Pro, IQoo Z6 ...</td>\n",
       "      <td>Super!</td>\n",
       "    </tr>\n",
       "    <tr>\n",
       "      <th>7</th>\n",
       "      <td>7</td>\n",
       "      <td>CEDO XPRO Flip Cover for Vivo T1 Pro, IQoo Z6 ...</td>\n",
       "      <td>Perfect product!</td>\n",
       "    </tr>\n",
       "    <tr>\n",
       "      <th>8</th>\n",
       "      <td>8</td>\n",
       "      <td>CEDO XPRO Flip Cover for Vivo T1 Pro, IQoo Z6 ...</td>\n",
       "      <td>Mind-blowing purchase</td>\n",
       "    </tr>\n",
       "    <tr>\n",
       "      <th>9</th>\n",
       "      <td>9</td>\n",
       "      <td>CEDO XPRO Flip Cover for Vivo T1 Pro, IQoo Z6 ...</td>\n",
       "      <td>Brilliant</td>\n",
       "    </tr>\n",
       "  </tbody>\n",
       "</table>\n",
       "</div>"
      ],
      "text/plain": [
       "   Unnamed: 0                                      product_title  \\\n",
       "0           0  CEDO XPRO Flip Cover for Vivo T1 Pro, IQoo Z6 ...   \n",
       "1           1  CEDO XPRO Flip Cover for Vivo T1 Pro, IQoo Z6 ...   \n",
       "2           2  CEDO XPRO Flip Cover for Vivo T1 Pro, IQoo Z6 ...   \n",
       "3           3  CEDO XPRO Flip Cover for Vivo T1 Pro, IQoo Z6 ...   \n",
       "4           4  CEDO XPRO Flip Cover for Vivo T1 Pro, IQoo Z6 ...   \n",
       "5           5  CEDO XPRO Flip Cover for Vivo T1 Pro, IQoo Z6 ...   \n",
       "6           6  CEDO XPRO Flip Cover for Vivo T1 Pro, IQoo Z6 ...   \n",
       "7           7  CEDO XPRO Flip Cover for Vivo T1 Pro, IQoo Z6 ...   \n",
       "8           8  CEDO XPRO Flip Cover for Vivo T1 Pro, IQoo Z6 ...   \n",
       "9           9  CEDO XPRO Flip Cover for Vivo T1 Pro, IQoo Z6 ...   \n",
       "\n",
       "                 reviews  \n",
       "0          Great product  \n",
       "1        Worth the money  \n",
       "2                   Nice  \n",
       "3         Simply awesome  \n",
       "4              Just wow!  \n",
       "5              Excellent  \n",
       "6                 Super!  \n",
       "7       Perfect product!  \n",
       "8  Mind-blowing purchase  \n",
       "9              Brilliant  "
      ]
     },
     "execution_count": 27,
     "metadata": {},
     "output_type": "execute_result"
    }
   ],
   "source": [
    "df14=ps.read_csv(r\"C:\\Users\\Harshit\\Downloads\\accessories.csv\")\n",
    "df14.head(10)"
   ]
  },
  {
   "cell_type": "code",
   "execution_count": 28,
   "id": "c9d14791",
   "metadata": {},
   "outputs": [
    {
     "data": {
      "text/html": [
       "<div>\n",
       "<style scoped>\n",
       "    .dataframe tbody tr th:only-of-type {\n",
       "        vertical-align: middle;\n",
       "    }\n",
       "\n",
       "    .dataframe tbody tr th {\n",
       "        vertical-align: top;\n",
       "    }\n",
       "\n",
       "    .dataframe thead th {\n",
       "        text-align: right;\n",
       "    }\n",
       "</style>\n",
       "<table border=\"1\" class=\"dataframe\">\n",
       "  <thead>\n",
       "    <tr style=\"text-align: right;\">\n",
       "      <th></th>\n",
       "      <th>Unnamed: 0</th>\n",
       "      <th>product_title</th>\n",
       "      <th>reviews</th>\n",
       "    </tr>\n",
       "  </thead>\n",
       "  <tbody>\n",
       "    <tr>\n",
       "      <th>0</th>\n",
       "      <td>0</td>\n",
       "      <td>Bestor USB Type C Cable 1 m USB C Cable 5A Fas...</td>\n",
       "      <td>Good choice</td>\n",
       "    </tr>\n",
       "    <tr>\n",
       "      <th>1</th>\n",
       "      <td>1</td>\n",
       "      <td>Bestor USB Type C Cable 1 m USB C Cable 5A Fas...</td>\n",
       "      <td>Worst experience ever!</td>\n",
       "    </tr>\n",
       "    <tr>\n",
       "      <th>2</th>\n",
       "      <td>2</td>\n",
       "      <td>Bestor USB Type C Cable 1 m USB C Cable 5A Fas...</td>\n",
       "      <td>Did not meet expectations</td>\n",
       "    </tr>\n",
       "    <tr>\n",
       "      <th>3</th>\n",
       "      <td>3</td>\n",
       "      <td>Bestor USB Type C Cable 1 m USB C Cable 5A Fas...</td>\n",
       "      <td>Perfect product!</td>\n",
       "    </tr>\n",
       "    <tr>\n",
       "      <th>4</th>\n",
       "      <td>4</td>\n",
       "      <td>Bestor USB Type C Cable 1 m USB C Cable 5A Fas...</td>\n",
       "      <td>Terrific purchase</td>\n",
       "    </tr>\n",
       "  </tbody>\n",
       "</table>\n",
       "</div>"
      ],
      "text/plain": [
       "   Unnamed: 0                                      product_title  \\\n",
       "0           0  Bestor USB Type C Cable 1 m USB C Cable 5A Fas...   \n",
       "1           1  Bestor USB Type C Cable 1 m USB C Cable 5A Fas...   \n",
       "2           2  Bestor USB Type C Cable 1 m USB C Cable 5A Fas...   \n",
       "3           3  Bestor USB Type C Cable 1 m USB C Cable 5A Fas...   \n",
       "4           4  Bestor USB Type C Cable 1 m USB C Cable 5A Fas...   \n",
       "\n",
       "                     reviews  \n",
       "0                Good choice  \n",
       "1     Worst experience ever!  \n",
       "2  Did not meet expectations  \n",
       "3           Perfect product!  \n",
       "4          Terrific purchase  "
      ]
     },
     "execution_count": 28,
     "metadata": {},
     "output_type": "execute_result"
    }
   ],
   "source": [
    "df15=ps.read_csv(r\"C:\\Users\\Harshit\\Downloads\\mobile.csv\")\n",
    "df15.head()"
   ]
  },
  {
   "cell_type": "code",
   "execution_count": 30,
   "id": "25d9d27d",
   "metadata": {},
   "outputs": [
    {
     "data": {
      "text/html": [
       "<div>\n",
       "<style scoped>\n",
       "    .dataframe tbody tr th:only-of-type {\n",
       "        vertical-align: middle;\n",
       "    }\n",
       "\n",
       "    .dataframe tbody tr th {\n",
       "        vertical-align: top;\n",
       "    }\n",
       "\n",
       "    .dataframe thead th {\n",
       "        text-align: right;\n",
       "    }\n",
       "</style>\n",
       "<table border=\"1\" class=\"dataframe\">\n",
       "  <thead>\n",
       "    <tr style=\"text-align: right;\">\n",
       "      <th></th>\n",
       "      <th>Unnamed: 0</th>\n",
       "      <th>product_title</th>\n",
       "      <th>reviews</th>\n",
       "    </tr>\n",
       "  </thead>\n",
       "  <tbody>\n",
       "    <tr>\n",
       "      <th>0</th>\n",
       "      <td>0</td>\n",
       "      <td>Aroma NB119C Carter 48 Hours Playing Time Fast...</td>\n",
       "      <td>Value-for-money</td>\n",
       "    </tr>\n",
       "    <tr>\n",
       "      <th>1</th>\n",
       "      <td>1</td>\n",
       "      <td>Aroma NB119C Carter 48 Hours Playing Time Fast...</td>\n",
       "      <td>Terrific purchase</td>\n",
       "    </tr>\n",
       "    <tr>\n",
       "      <th>2</th>\n",
       "      <td>2</td>\n",
       "      <td>Aroma NB119C Carter 48 Hours Playing Time Fast...</td>\n",
       "      <td>Value-for-money</td>\n",
       "    </tr>\n",
       "    <tr>\n",
       "      <th>3</th>\n",
       "      <td>3</td>\n",
       "      <td>Aroma NB119C Carter 48 Hours Playing Time Fast...</td>\n",
       "      <td>Wonderful</td>\n",
       "    </tr>\n",
       "    <tr>\n",
       "      <th>4</th>\n",
       "      <td>4</td>\n",
       "      <td>Aroma NB119C Carter 48 Hours Playing Time Fast...</td>\n",
       "      <td>Wonderful</td>\n",
       "    </tr>\n",
       "  </tbody>\n",
       "</table>\n",
       "</div>"
      ],
      "text/plain": [
       "   Unnamed: 0                                      product_title  \\\n",
       "0           0  Aroma NB119C Carter 48 Hours Playing Time Fast...   \n",
       "1           1  Aroma NB119C Carter 48 Hours Playing Time Fast...   \n",
       "2           2  Aroma NB119C Carter 48 Hours Playing Time Fast...   \n",
       "3           3  Aroma NB119C Carter 48 Hours Playing Time Fast...   \n",
       "4           4  Aroma NB119C Carter 48 Hours Playing Time Fast...   \n",
       "\n",
       "             reviews  \n",
       "0    Value-for-money  \n",
       "1  Terrific purchase  \n",
       "2    Value-for-money  \n",
       "3          Wonderful  \n",
       "4          Wonderful  "
      ]
     },
     "execution_count": 30,
     "metadata": {},
     "output_type": "execute_result"
    }
   ],
   "source": [
    "df16=ps.read_csv(r\"C:\\Users\\Harshit\\Downloads\\earphones.csv\")\n",
    "df16.head()"
   ]
  },
  {
   "cell_type": "code",
   "execution_count": 31,
   "id": "ad4a4869",
   "metadata": {},
   "outputs": [
    {
     "data": {
      "text/html": [
       "<div>\n",
       "<style scoped>\n",
       "    .dataframe tbody tr th:only-of-type {\n",
       "        vertical-align: middle;\n",
       "    }\n",
       "\n",
       "    .dataframe tbody tr th {\n",
       "        vertical-align: top;\n",
       "    }\n",
       "\n",
       "    .dataframe thead th {\n",
       "        text-align: right;\n",
       "    }\n",
       "</style>\n",
       "<table border=\"1\" class=\"dataframe\">\n",
       "  <thead>\n",
       "    <tr style=\"text-align: right;\">\n",
       "      <th></th>\n",
       "      <th>Unnamed: 0</th>\n",
       "      <th>product_title</th>\n",
       "      <th>reviews</th>\n",
       "    </tr>\n",
       "  </thead>\n",
       "  <tbody>\n",
       "    <tr>\n",
       "      <th>0</th>\n",
       "      <td>0</td>\n",
       "      <td>InnoQ 6.5 Kg Semi Automatic Top Load Washing M...</td>\n",
       "      <td>Best in the market!</td>\n",
       "    </tr>\n",
       "    <tr>\n",
       "      <th>1</th>\n",
       "      <td>1</td>\n",
       "      <td>InnoQ 6.5 Kg Semi Automatic Top Load Washing M...</td>\n",
       "      <td>Great product</td>\n",
       "    </tr>\n",
       "    <tr>\n",
       "      <th>2</th>\n",
       "      <td>2</td>\n",
       "      <td>InnoQ 6.5 Kg Semi Automatic Top Load Washing M...</td>\n",
       "      <td>Super!</td>\n",
       "    </tr>\n",
       "    <tr>\n",
       "      <th>3</th>\n",
       "      <td>3</td>\n",
       "      <td>InnoQ 6.5 Kg Semi Automatic Top Load Washing M...</td>\n",
       "      <td>Worth every penny</td>\n",
       "    </tr>\n",
       "    <tr>\n",
       "      <th>4</th>\n",
       "      <td>4</td>\n",
       "      <td>InnoQ 6.5 Kg Semi Automatic Top Load Washing M...</td>\n",
       "      <td>Just wow!</td>\n",
       "    </tr>\n",
       "  </tbody>\n",
       "</table>\n",
       "</div>"
      ],
      "text/plain": [
       "   Unnamed: 0                                      product_title  \\\n",
       "0           0  InnoQ 6.5 Kg Semi Automatic Top Load Washing M...   \n",
       "1           1  InnoQ 6.5 Kg Semi Automatic Top Load Washing M...   \n",
       "2           2  InnoQ 6.5 Kg Semi Automatic Top Load Washing M...   \n",
       "3           3  InnoQ 6.5 Kg Semi Automatic Top Load Washing M...   \n",
       "4           4  InnoQ 6.5 Kg Semi Automatic Top Load Washing M...   \n",
       "\n",
       "               reviews  \n",
       "0  Best in the market!  \n",
       "1        Great product  \n",
       "2               Super!  \n",
       "3    Worth every penny  \n",
       "4            Just wow!  "
      ]
     },
     "execution_count": 31,
     "metadata": {},
     "output_type": "execute_result"
    }
   ],
   "source": [
    "fd=ps.concat([df, df1, df2, df3, df4,df5,df6,df7,df8,df9,df10,df11,df12,df13,df14,df15,df16],ignore_index=True)\n",
    "fd.head()"
   ]
  },
  {
   "cell_type": "code",
   "execution_count": 32,
   "id": "043e47fa",
   "metadata": {},
   "outputs": [
    {
     "data": {
      "text/plain": [
       "(334892, 3)"
      ]
     },
     "execution_count": 32,
     "metadata": {},
     "output_type": "execute_result"
    }
   ],
   "source": [
    "fd.shape"
   ]
  },
  {
   "cell_type": "code",
   "execution_count": 33,
   "id": "7d7c2eff",
   "metadata": {},
   "outputs": [],
   "source": [
    "fd.reset_index(inplace=True)"
   ]
  },
  {
   "cell_type": "code",
   "execution_count": 34,
   "id": "b4505f25",
   "metadata": {},
   "outputs": [
    {
     "data": {
      "text/html": [
       "<div>\n",
       "<style scoped>\n",
       "    .dataframe tbody tr th:only-of-type {\n",
       "        vertical-align: middle;\n",
       "    }\n",
       "\n",
       "    .dataframe tbody tr th {\n",
       "        vertical-align: top;\n",
       "    }\n",
       "\n",
       "    .dataframe thead th {\n",
       "        text-align: right;\n",
       "    }\n",
       "</style>\n",
       "<table border=\"1\" class=\"dataframe\">\n",
       "  <thead>\n",
       "    <tr style=\"text-align: right;\">\n",
       "      <th></th>\n",
       "      <th>index</th>\n",
       "      <th>Unnamed: 0</th>\n",
       "      <th>product_title</th>\n",
       "      <th>reviews</th>\n",
       "    </tr>\n",
       "  </thead>\n",
       "  <tbody>\n",
       "    <tr>\n",
       "      <th>0</th>\n",
       "      <td>0</td>\n",
       "      <td>0</td>\n",
       "      <td>InnoQ 6.5 Kg Semi Automatic Top Load Washing M...</td>\n",
       "      <td>Best in the market!</td>\n",
       "    </tr>\n",
       "    <tr>\n",
       "      <th>1</th>\n",
       "      <td>1</td>\n",
       "      <td>1</td>\n",
       "      <td>InnoQ 6.5 Kg Semi Automatic Top Load Washing M...</td>\n",
       "      <td>Great product</td>\n",
       "    </tr>\n",
       "    <tr>\n",
       "      <th>2</th>\n",
       "      <td>2</td>\n",
       "      <td>2</td>\n",
       "      <td>InnoQ 6.5 Kg Semi Automatic Top Load Washing M...</td>\n",
       "      <td>Super!</td>\n",
       "    </tr>\n",
       "    <tr>\n",
       "      <th>3</th>\n",
       "      <td>3</td>\n",
       "      <td>3</td>\n",
       "      <td>InnoQ 6.5 Kg Semi Automatic Top Load Washing M...</td>\n",
       "      <td>Worth every penny</td>\n",
       "    </tr>\n",
       "    <tr>\n",
       "      <th>4</th>\n",
       "      <td>4</td>\n",
       "      <td>4</td>\n",
       "      <td>InnoQ 6.5 Kg Semi Automatic Top Load Washing M...</td>\n",
       "      <td>Just wow!</td>\n",
       "    </tr>\n",
       "  </tbody>\n",
       "</table>\n",
       "</div>"
      ],
      "text/plain": [
       "   index  Unnamed: 0                                      product_title  \\\n",
       "0      0           0  InnoQ 6.5 Kg Semi Automatic Top Load Washing M...   \n",
       "1      1           1  InnoQ 6.5 Kg Semi Automatic Top Load Washing M...   \n",
       "2      2           2  InnoQ 6.5 Kg Semi Automatic Top Load Washing M...   \n",
       "3      3           3  InnoQ 6.5 Kg Semi Automatic Top Load Washing M...   \n",
       "4      4           4  InnoQ 6.5 Kg Semi Automatic Top Load Washing M...   \n",
       "\n",
       "               reviews  \n",
       "0  Best in the market!  \n",
       "1        Great product  \n",
       "2               Super!  \n",
       "3    Worth every penny  \n",
       "4            Just wow!  "
      ]
     },
     "execution_count": 34,
     "metadata": {},
     "output_type": "execute_result"
    }
   ],
   "source": [
    "fd.head()"
   ]
  },
  {
   "cell_type": "code",
   "execution_count": 35,
   "id": "a54b4977",
   "metadata": {},
   "outputs": [
    {
     "data": {
      "text/plain": [
       "(334892, 4)"
      ]
     },
     "execution_count": 35,
     "metadata": {},
     "output_type": "execute_result"
    }
   ],
   "source": [
    "fd.shape"
   ]
  },
  {
   "cell_type": "code",
   "execution_count": 36,
   "id": "ceb959b7",
   "metadata": {},
   "outputs": [],
   "source": [
    "fd.drop([\"Unnamed: 0\"],axis=1,inplace=True)"
   ]
  },
  {
   "cell_type": "code",
   "execution_count": 37,
   "id": "ae4f584f",
   "metadata": {},
   "outputs": [
    {
     "name": "stdout",
     "output_type": "stream",
     "text": [
      "Awesome\n"
     ]
    }
   ],
   "source": [
    "example = fd['reviews'][69]\n",
    "print(example)"
   ]
  },
  {
   "cell_type": "code",
   "execution_count": 38,
   "id": "ba9559b0",
   "metadata": {},
   "outputs": [
    {
     "data": {
      "text/plain": [
       "0         Best in the market!\n",
       "1               Great product\n",
       "2                      Super!\n",
       "3           Worth every penny\n",
       "4                   Just wow!\n",
       "                 ...         \n",
       "334887               Moderate\n",
       "334888         Simply awesome\n",
       "334889         Unsatisfactory\n",
       "334890        Waste of money!\n",
       "334891                 Super!\n",
       "Name: reviews, Length: 334892, dtype: object"
      ]
     },
     "execution_count": 38,
     "metadata": {},
     "output_type": "execute_result"
    }
   ],
   "source": [
    "fd['reviews']"
   ]
  },
  {
   "cell_type": "code",
   "execution_count": 39,
   "id": "a4e3bd44",
   "metadata": {
    "scrolled": true
   },
   "outputs": [
    {
     "data": {
      "text/plain": [
       "['Awesome']"
      ]
     },
     "execution_count": 39,
     "metadata": {},
     "output_type": "execute_result"
    }
   ],
   "source": [
    "tokens = nltk.word_tokenize(example)\n",
    "tokens[:10]"
   ]
  },
  {
   "cell_type": "code",
   "execution_count": 40,
   "id": "334f2998",
   "metadata": {},
   "outputs": [
    {
     "data": {
      "text/plain": [
       "[('Awesome', 'NNP')]"
      ]
     },
     "execution_count": 40,
     "metadata": {},
     "output_type": "execute_result"
    }
   ],
   "source": [
    "tagged = nltk.pos_tag(tokens)\n",
    "tagged[:10]"
   ]
  },
  {
   "cell_type": "code",
   "execution_count": 41,
   "id": "be2521e3",
   "metadata": {},
   "outputs": [
    {
     "name": "stdout",
     "output_type": "stream",
     "text": [
      "(S (GPE Awesome/NNP))\n"
     ]
    }
   ],
   "source": [
    "entities = nltk.chunk.ne_chunk(tagged)\n",
    "entities.pprint()"
   ]
  },
  {
   "cell_type": "code",
   "execution_count": 42,
   "id": "7526af0f",
   "metadata": {
    "scrolled": true
   },
   "outputs": [
    {
     "data": {
      "text/html": [
       "<div>\n",
       "<style scoped>\n",
       "    .dataframe tbody tr th:only-of-type {\n",
       "        vertical-align: middle;\n",
       "    }\n",
       "\n",
       "    .dataframe tbody tr th {\n",
       "        vertical-align: top;\n",
       "    }\n",
       "\n",
       "    .dataframe thead th {\n",
       "        text-align: right;\n",
       "    }\n",
       "</style>\n",
       "<table border=\"1\" class=\"dataframe\">\n",
       "  <thead>\n",
       "    <tr style=\"text-align: right;\">\n",
       "      <th></th>\n",
       "      <th>index</th>\n",
       "      <th>product_title</th>\n",
       "      <th>reviews</th>\n",
       "    </tr>\n",
       "  </thead>\n",
       "  <tbody>\n",
       "    <tr>\n",
       "      <th>0</th>\n",
       "      <td>0</td>\n",
       "      <td>InnoQ 6.5 Kg Semi Automatic Top Load Washing M...</td>\n",
       "      <td>Best in the market!</td>\n",
       "    </tr>\n",
       "    <tr>\n",
       "      <th>1</th>\n",
       "      <td>1</td>\n",
       "      <td>InnoQ 6.5 Kg Semi Automatic Top Load Washing M...</td>\n",
       "      <td>Great product</td>\n",
       "    </tr>\n",
       "    <tr>\n",
       "      <th>2</th>\n",
       "      <td>2</td>\n",
       "      <td>InnoQ 6.5 Kg Semi Automatic Top Load Washing M...</td>\n",
       "      <td>Super!</td>\n",
       "    </tr>\n",
       "    <tr>\n",
       "      <th>3</th>\n",
       "      <td>3</td>\n",
       "      <td>InnoQ 6.5 Kg Semi Automatic Top Load Washing M...</td>\n",
       "      <td>Worth every penny</td>\n",
       "    </tr>\n",
       "    <tr>\n",
       "      <th>4</th>\n",
       "      <td>4</td>\n",
       "      <td>InnoQ 6.5 Kg Semi Automatic Top Load Washing M...</td>\n",
       "      <td>Just wow!</td>\n",
       "    </tr>\n",
       "  </tbody>\n",
       "</table>\n",
       "</div>"
      ],
      "text/plain": [
       "   index                                      product_title  \\\n",
       "0      0  InnoQ 6.5 Kg Semi Automatic Top Load Washing M...   \n",
       "1      1  InnoQ 6.5 Kg Semi Automatic Top Load Washing M...   \n",
       "2      2  InnoQ 6.5 Kg Semi Automatic Top Load Washing M...   \n",
       "3      3  InnoQ 6.5 Kg Semi Automatic Top Load Washing M...   \n",
       "4      4  InnoQ 6.5 Kg Semi Automatic Top Load Washing M...   \n",
       "\n",
       "               reviews  \n",
       "0  Best in the market!  \n",
       "1        Great product  \n",
       "2               Super!  \n",
       "3    Worth every penny  \n",
       "4            Just wow!  "
      ]
     },
     "execution_count": 42,
     "metadata": {},
     "output_type": "execute_result"
    }
   ],
   "source": [
    "fd.head()"
   ]
  },
  {
   "cell_type": "code",
   "execution_count": 43,
   "id": "37ed97c6",
   "metadata": {},
   "outputs": [],
   "source": [
    "fd.drop([\"index\"],axis=1,inplace=True)"
   ]
  },
  {
   "cell_type": "code",
   "execution_count": 44,
   "id": "d3c4c9b4",
   "metadata": {},
   "outputs": [],
   "source": [
    "from nltk.sentiment.vader import SentimentIntensityAnalyzer\n",
    "\n",
    "sia = SentimentIntensityAnalyzer()"
   ]
  },
  {
   "cell_type": "code",
   "execution_count": 45,
   "id": "1b6b9e46",
   "metadata": {},
   "outputs": [
    {
     "data": {
      "text/plain": [
       "{'neg': 0.594, 'neu': 0.406, 'pos': 0.0, 'compound': -0.6588}"
      ]
     },
     "execution_count": 45,
     "metadata": {},
     "output_type": "execute_result"
    }
   ],
   "source": [
    "sia.polarity_scores('I am at my worst!')"
   ]
  },
  {
   "cell_type": "code",
   "execution_count": 46,
   "id": "a963105f",
   "metadata": {},
   "outputs": [
    {
     "data": {
      "text/plain": [
       "{'neg': 0.0, 'neu': 0.318, 'pos': 0.682, 'compound': 0.6468}"
      ]
     },
     "execution_count": 46,
     "metadata": {},
     "output_type": "execute_result"
    }
   ],
   "source": [
    "sia.polarity_scores('I am so happy!')"
   ]
  },
  {
   "cell_type": "code",
   "execution_count": 47,
   "id": "c8738b6b",
   "metadata": {},
   "outputs": [
    {
     "data": {
      "text/plain": [
       "{'neg': 0.0, 'neu': 0.0, 'pos': 1.0, 'compound': 0.6249}"
      ]
     },
     "execution_count": 47,
     "metadata": {},
     "output_type": "execute_result"
    }
   ],
   "source": [
    "sia.polarity_scores(fd.iloc[69]['reviews'])"
   ]
  },
  {
   "cell_type": "code",
   "execution_count": 48,
   "id": "8a8f29bc",
   "metadata": {},
   "outputs": [
    {
     "data": {
      "text/plain": [
       "reviews\n",
       "Wonderful                                                                                     17110\n",
       "Great product                                                                                 11965\n",
       "Classy product                                                                                11607\n",
       "Must buy!                                                                                     11597\n",
       "Best in the market!                                                                           11474\n",
       "                                                                                              ...  \n",
       "Samsung is selling inferior version of Note 3 in India at the same price as the US version        1\n",
       "I can cook an omlete over this device                                                             1\n",
       "Note 3 Upcomming Phones Should Be These Specs                                                     1\n",
       "Certainly one of the best SmartPhones in the World!                                               1\n",
       "Amazingly awesome                                                                                 1\n",
       "Name: count, Length: 2515, dtype: int64"
      ]
     },
     "execution_count": 48,
     "metadata": {},
     "output_type": "execute_result"
    }
   ],
   "source": [
    "fd[\"reviews\"].value_counts()"
   ]
  },
  {
   "cell_type": "code",
   "execution_count": 49,
   "id": "a494a0c4",
   "metadata": {},
   "outputs": [
    {
     "data": {
      "text/plain": [
       "'Brilliant'"
      ]
     },
     "execution_count": 49,
     "metadata": {},
     "output_type": "execute_result"
    }
   ],
   "source": [
    "fd.iloc[60]['reviews']"
   ]
  },
  {
   "cell_type": "code",
   "execution_count": 50,
   "id": "89f0be4b",
   "metadata": {
    "scrolled": true
   },
   "outputs": [
    {
     "data": {
      "text/html": [
       "<div>\n",
       "<style scoped>\n",
       "    .dataframe tbody tr th:only-of-type {\n",
       "        vertical-align: middle;\n",
       "    }\n",
       "\n",
       "    .dataframe tbody tr th {\n",
       "        vertical-align: top;\n",
       "    }\n",
       "\n",
       "    .dataframe thead th {\n",
       "        text-align: right;\n",
       "    }\n",
       "</style>\n",
       "<table border=\"1\" class=\"dataframe\">\n",
       "  <thead>\n",
       "    <tr style=\"text-align: right;\">\n",
       "      <th></th>\n",
       "      <th>product_title</th>\n",
       "      <th>reviews</th>\n",
       "      <th>scores</th>\n",
       "    </tr>\n",
       "  </thead>\n",
       "  <tbody>\n",
       "    <tr>\n",
       "      <th>0</th>\n",
       "      <td>InnoQ 6.5 Kg Semi Automatic Top Load Washing M...</td>\n",
       "      <td>Best in the market!</td>\n",
       "      <td>{'neg': 0.0, 'neu': 0.4, 'pos': 0.6, 'compound...</td>\n",
       "    </tr>\n",
       "    <tr>\n",
       "      <th>1</th>\n",
       "      <td>InnoQ 6.5 Kg Semi Automatic Top Load Washing M...</td>\n",
       "      <td>Great product</td>\n",
       "      <td>{'neg': 0.0, 'neu': 0.196, 'pos': 0.804, 'comp...</td>\n",
       "    </tr>\n",
       "    <tr>\n",
       "      <th>2</th>\n",
       "      <td>InnoQ 6.5 Kg Semi Automatic Top Load Washing M...</td>\n",
       "      <td>Super!</td>\n",
       "      <td>{'neg': 0.0, 'neu': 0.0, 'pos': 1.0, 'compound...</td>\n",
       "    </tr>\n",
       "    <tr>\n",
       "      <th>3</th>\n",
       "      <td>InnoQ 6.5 Kg Semi Automatic Top Load Washing M...</td>\n",
       "      <td>Worth every penny</td>\n",
       "      <td>{'neg': 0.0, 'neu': 0.513, 'pos': 0.487, 'comp...</td>\n",
       "    </tr>\n",
       "    <tr>\n",
       "      <th>4</th>\n",
       "      <td>InnoQ 6.5 Kg Semi Automatic Top Load Washing M...</td>\n",
       "      <td>Just wow!</td>\n",
       "      <td>{'neg': 0.0, 'neu': 0.196, 'pos': 0.804, 'comp...</td>\n",
       "    </tr>\n",
       "  </tbody>\n",
       "</table>\n",
       "</div>"
      ],
      "text/plain": [
       "                                       product_title              reviews  \\\n",
       "0  InnoQ 6.5 Kg Semi Automatic Top Load Washing M...  Best in the market!   \n",
       "1  InnoQ 6.5 Kg Semi Automatic Top Load Washing M...        Great product   \n",
       "2  InnoQ 6.5 Kg Semi Automatic Top Load Washing M...               Super!   \n",
       "3  InnoQ 6.5 Kg Semi Automatic Top Load Washing M...    Worth every penny   \n",
       "4  InnoQ 6.5 Kg Semi Automatic Top Load Washing M...            Just wow!   \n",
       "\n",
       "                                              scores  \n",
       "0  {'neg': 0.0, 'neu': 0.4, 'pos': 0.6, 'compound...  \n",
       "1  {'neg': 0.0, 'neu': 0.196, 'pos': 0.804, 'comp...  \n",
       "2  {'neg': 0.0, 'neu': 0.0, 'pos': 1.0, 'compound...  \n",
       "3  {'neg': 0.0, 'neu': 0.513, 'pos': 0.487, 'comp...  \n",
       "4  {'neg': 0.0, 'neu': 0.196, 'pos': 0.804, 'comp...  "
      ]
     },
     "execution_count": 50,
     "metadata": {},
     "output_type": "execute_result"
    }
   ],
   "source": [
    "fd['scores'] = fd['reviews'].apply(lambda reviews: sia.polarity_scores(reviews) if not isinstance(reviews, float) else None)\n",
    "\n",
    "fd.head()"
   ]
  },
  {
   "cell_type": "code",
   "execution_count": 51,
   "id": "004b2c83",
   "metadata": {},
   "outputs": [
    {
     "data": {
      "text/plain": [
       "(334892, 3)"
      ]
     },
     "execution_count": 51,
     "metadata": {},
     "output_type": "execute_result"
    }
   ],
   "source": [
    "fd.shape"
   ]
  },
  {
   "cell_type": "code",
   "execution_count": 52,
   "id": "d46bc068",
   "metadata": {},
   "outputs": [
    {
     "data": {
      "text/plain": [
       "0         False\n",
       "1         False\n",
       "2         False\n",
       "3         False\n",
       "4         False\n",
       "          ...  \n",
       "334887    False\n",
       "334888    False\n",
       "334889    False\n",
       "334890    False\n",
       "334891    False\n",
       "Name: reviews, Length: 334892, dtype: bool"
      ]
     },
     "execution_count": 52,
     "metadata": {},
     "output_type": "execute_result"
    }
   ],
   "source": [
    "fd['reviews']==\"no name\""
   ]
  },
  {
   "cell_type": "code",
   "execution_count": 53,
   "id": "4790666e",
   "metadata": {},
   "outputs": [
    {
     "data": {
      "text/html": [
       "<div>\n",
       "<style scoped>\n",
       "    .dataframe tbody tr th:only-of-type {\n",
       "        vertical-align: middle;\n",
       "    }\n",
       "\n",
       "    .dataframe tbody tr th {\n",
       "        vertical-align: top;\n",
       "    }\n",
       "\n",
       "    .dataframe thead th {\n",
       "        text-align: right;\n",
       "    }\n",
       "</style>\n",
       "<table border=\"1\" class=\"dataframe\">\n",
       "  <thead>\n",
       "    <tr style=\"text-align: right;\">\n",
       "      <th></th>\n",
       "      <th>product_title</th>\n",
       "      <th>reviews</th>\n",
       "      <th>scores</th>\n",
       "      <th>compound</th>\n",
       "    </tr>\n",
       "  </thead>\n",
       "  <tbody>\n",
       "    <tr>\n",
       "      <th>0</th>\n",
       "      <td>InnoQ 6.5 Kg Semi Automatic Top Load Washing M...</td>\n",
       "      <td>Best in the market!</td>\n",
       "      <td>{'neg': 0.0, 'neu': 0.4, 'pos': 0.6, 'compound...</td>\n",
       "      <td>0.6696</td>\n",
       "    </tr>\n",
       "    <tr>\n",
       "      <th>1</th>\n",
       "      <td>InnoQ 6.5 Kg Semi Automatic Top Load Washing M...</td>\n",
       "      <td>Great product</td>\n",
       "      <td>{'neg': 0.0, 'neu': 0.196, 'pos': 0.804, 'comp...</td>\n",
       "      <td>0.6249</td>\n",
       "    </tr>\n",
       "    <tr>\n",
       "      <th>2</th>\n",
       "      <td>InnoQ 6.5 Kg Semi Automatic Top Load Washing M...</td>\n",
       "      <td>Super!</td>\n",
       "      <td>{'neg': 0.0, 'neu': 0.0, 'pos': 1.0, 'compound...</td>\n",
       "      <td>0.6360</td>\n",
       "    </tr>\n",
       "    <tr>\n",
       "      <th>3</th>\n",
       "      <td>InnoQ 6.5 Kg Semi Automatic Top Load Washing M...</td>\n",
       "      <td>Worth every penny</td>\n",
       "      <td>{'neg': 0.0, 'neu': 0.513, 'pos': 0.487, 'comp...</td>\n",
       "      <td>0.2263</td>\n",
       "    </tr>\n",
       "    <tr>\n",
       "      <th>4</th>\n",
       "      <td>InnoQ 6.5 Kg Semi Automatic Top Load Washing M...</td>\n",
       "      <td>Just wow!</td>\n",
       "      <td>{'neg': 0.0, 'neu': 0.196, 'pos': 0.804, 'comp...</td>\n",
       "      <td>0.6239</td>\n",
       "    </tr>\n",
       "  </tbody>\n",
       "</table>\n",
       "</div>"
      ],
      "text/plain": [
       "                                       product_title              reviews  \\\n",
       "0  InnoQ 6.5 Kg Semi Automatic Top Load Washing M...  Best in the market!   \n",
       "1  InnoQ 6.5 Kg Semi Automatic Top Load Washing M...        Great product   \n",
       "2  InnoQ 6.5 Kg Semi Automatic Top Load Washing M...               Super!   \n",
       "3  InnoQ 6.5 Kg Semi Automatic Top Load Washing M...    Worth every penny   \n",
       "4  InnoQ 6.5 Kg Semi Automatic Top Load Washing M...            Just wow!   \n",
       "\n",
       "                                              scores  compound  \n",
       "0  {'neg': 0.0, 'neu': 0.4, 'pos': 0.6, 'compound...    0.6696  \n",
       "1  {'neg': 0.0, 'neu': 0.196, 'pos': 0.804, 'comp...    0.6249  \n",
       "2  {'neg': 0.0, 'neu': 0.0, 'pos': 1.0, 'compound...    0.6360  \n",
       "3  {'neg': 0.0, 'neu': 0.513, 'pos': 0.487, 'comp...    0.2263  \n",
       "4  {'neg': 0.0, 'neu': 0.196, 'pos': 0.804, 'comp...    0.6239  "
      ]
     },
     "execution_count": 53,
     "metadata": {},
     "output_type": "execute_result"
    }
   ],
   "source": [
    "fd['compound'] = fd['scores'].apply(lambda score_dict: score_dict['compound'] if score_dict is not None else None)\n",
    "fd.head()"
   ]
  },
  {
   "cell_type": "code",
   "execution_count": 54,
   "id": "700e39d1",
   "metadata": {},
   "outputs": [
    {
     "data": {
      "text/html": [
       "<div>\n",
       "<style scoped>\n",
       "    .dataframe tbody tr th:only-of-type {\n",
       "        vertical-align: middle;\n",
       "    }\n",
       "\n",
       "    .dataframe tbody tr th {\n",
       "        vertical-align: top;\n",
       "    }\n",
       "\n",
       "    .dataframe thead th {\n",
       "        text-align: right;\n",
       "    }\n",
       "</style>\n",
       "<table border=\"1\" class=\"dataframe\">\n",
       "  <thead>\n",
       "    <tr style=\"text-align: right;\">\n",
       "      <th></th>\n",
       "      <th>product_title</th>\n",
       "      <th>reviews</th>\n",
       "      <th>scores</th>\n",
       "      <th>compound</th>\n",
       "      <th>comp_score</th>\n",
       "    </tr>\n",
       "  </thead>\n",
       "  <tbody>\n",
       "    <tr>\n",
       "      <th>0</th>\n",
       "      <td>InnoQ 6.5 Kg Semi Automatic Top Load Washing M...</td>\n",
       "      <td>Best in the market!</td>\n",
       "      <td>{'neg': 0.0, 'neu': 0.4, 'pos': 0.6, 'compound...</td>\n",
       "      <td>0.6696</td>\n",
       "      <td>pos</td>\n",
       "    </tr>\n",
       "    <tr>\n",
       "      <th>1</th>\n",
       "      <td>InnoQ 6.5 Kg Semi Automatic Top Load Washing M...</td>\n",
       "      <td>Great product</td>\n",
       "      <td>{'neg': 0.0, 'neu': 0.196, 'pos': 0.804, 'comp...</td>\n",
       "      <td>0.6249</td>\n",
       "      <td>pos</td>\n",
       "    </tr>\n",
       "    <tr>\n",
       "      <th>2</th>\n",
       "      <td>InnoQ 6.5 Kg Semi Automatic Top Load Washing M...</td>\n",
       "      <td>Super!</td>\n",
       "      <td>{'neg': 0.0, 'neu': 0.0, 'pos': 1.0, 'compound...</td>\n",
       "      <td>0.6360</td>\n",
       "      <td>pos</td>\n",
       "    </tr>\n",
       "    <tr>\n",
       "      <th>3</th>\n",
       "      <td>InnoQ 6.5 Kg Semi Automatic Top Load Washing M...</td>\n",
       "      <td>Worth every penny</td>\n",
       "      <td>{'neg': 0.0, 'neu': 0.513, 'pos': 0.487, 'comp...</td>\n",
       "      <td>0.2263</td>\n",
       "      <td>pos</td>\n",
       "    </tr>\n",
       "    <tr>\n",
       "      <th>4</th>\n",
       "      <td>InnoQ 6.5 Kg Semi Automatic Top Load Washing M...</td>\n",
       "      <td>Just wow!</td>\n",
       "      <td>{'neg': 0.0, 'neu': 0.196, 'pos': 0.804, 'comp...</td>\n",
       "      <td>0.6239</td>\n",
       "      <td>pos</td>\n",
       "    </tr>\n",
       "    <tr>\n",
       "      <th>5</th>\n",
       "      <td>InnoQ 6.5 Kg Semi Automatic Top Load Washing M...</td>\n",
       "      <td>Super!</td>\n",
       "      <td>{'neg': 0.0, 'neu': 0.0, 'pos': 1.0, 'compound...</td>\n",
       "      <td>0.6360</td>\n",
       "      <td>pos</td>\n",
       "    </tr>\n",
       "    <tr>\n",
       "      <th>6</th>\n",
       "      <td>InnoQ 6.5 Kg Semi Automatic Top Load Washing M...</td>\n",
       "      <td>Awesome</td>\n",
       "      <td>{'neg': 0.0, 'neu': 0.0, 'pos': 1.0, 'compound...</td>\n",
       "      <td>0.6249</td>\n",
       "      <td>pos</td>\n",
       "    </tr>\n",
       "    <tr>\n",
       "      <th>7</th>\n",
       "      <td>InnoQ 6.5 Kg Semi Automatic Top Load Washing M...</td>\n",
       "      <td>Mind-blowing purchase</td>\n",
       "      <td>{'neg': 0.0, 'neu': 1.0, 'pos': 0.0, 'compound...</td>\n",
       "      <td>0.0000</td>\n",
       "      <td>pos</td>\n",
       "    </tr>\n",
       "    <tr>\n",
       "      <th>8</th>\n",
       "      <td>InnoQ 6.5 Kg Semi Automatic Top Load Washing M...</td>\n",
       "      <td>Great product</td>\n",
       "      <td>{'neg': 0.0, 'neu': 0.196, 'pos': 0.804, 'comp...</td>\n",
       "      <td>0.6249</td>\n",
       "      <td>pos</td>\n",
       "    </tr>\n",
       "    <tr>\n",
       "      <th>9</th>\n",
       "      <td>no name</td>\n",
       "      <td>Perfect product!</td>\n",
       "      <td>{'neg': 0.0, 'neu': 0.2, 'pos': 0.8, 'compound...</td>\n",
       "      <td>0.6114</td>\n",
       "      <td>pos</td>\n",
       "    </tr>\n",
       "  </tbody>\n",
       "</table>\n",
       "</div>"
      ],
      "text/plain": [
       "                                       product_title                reviews  \\\n",
       "0  InnoQ 6.5 Kg Semi Automatic Top Load Washing M...    Best in the market!   \n",
       "1  InnoQ 6.5 Kg Semi Automatic Top Load Washing M...          Great product   \n",
       "2  InnoQ 6.5 Kg Semi Automatic Top Load Washing M...                 Super!   \n",
       "3  InnoQ 6.5 Kg Semi Automatic Top Load Washing M...      Worth every penny   \n",
       "4  InnoQ 6.5 Kg Semi Automatic Top Load Washing M...              Just wow!   \n",
       "5  InnoQ 6.5 Kg Semi Automatic Top Load Washing M...                 Super!   \n",
       "6  InnoQ 6.5 Kg Semi Automatic Top Load Washing M...                Awesome   \n",
       "7  InnoQ 6.5 Kg Semi Automatic Top Load Washing M...  Mind-blowing purchase   \n",
       "8  InnoQ 6.5 Kg Semi Automatic Top Load Washing M...          Great product   \n",
       "9                                            no name       Perfect product!   \n",
       "\n",
       "                                              scores  compound comp_score  \n",
       "0  {'neg': 0.0, 'neu': 0.4, 'pos': 0.6, 'compound...    0.6696        pos  \n",
       "1  {'neg': 0.0, 'neu': 0.196, 'pos': 0.804, 'comp...    0.6249        pos  \n",
       "2  {'neg': 0.0, 'neu': 0.0, 'pos': 1.0, 'compound...    0.6360        pos  \n",
       "3  {'neg': 0.0, 'neu': 0.513, 'pos': 0.487, 'comp...    0.2263        pos  \n",
       "4  {'neg': 0.0, 'neu': 0.196, 'pos': 0.804, 'comp...    0.6239        pos  \n",
       "5  {'neg': 0.0, 'neu': 0.0, 'pos': 1.0, 'compound...    0.6360        pos  \n",
       "6  {'neg': 0.0, 'neu': 0.0, 'pos': 1.0, 'compound...    0.6249        pos  \n",
       "7  {'neg': 0.0, 'neu': 1.0, 'pos': 0.0, 'compound...    0.0000        pos  \n",
       "8  {'neg': 0.0, 'neu': 0.196, 'pos': 0.804, 'comp...    0.6249        pos  \n",
       "9  {'neg': 0.0, 'neu': 0.2, 'pos': 0.8, 'compound...    0.6114        pos  "
      ]
     },
     "execution_count": 54,
     "metadata": {},
     "output_type": "execute_result"
    }
   ],
   "source": [
    "fd['comp_score'] = fd['compound'].apply(lambda c: 'pos' if c >=0 else 'neg')\n",
    "\n",
    "fd.head(10)"
   ]
  },
  {
   "cell_type": "code",
   "execution_count": 55,
   "id": "722bfcbd",
   "metadata": {},
   "outputs": [
    {
     "data": {
      "text/plain": [
       "comp_score\n",
       "pos    302166\n",
       "neg     32726\n",
       "Name: count, dtype: int64"
      ]
     },
     "execution_count": 55,
     "metadata": {},
     "output_type": "execute_result"
    }
   ],
   "source": [
    "fd.comp_score.value_counts()"
   ]
  },
  {
   "cell_type": "code",
   "execution_count": 57,
   "id": "2919f26b",
   "metadata": {},
   "outputs": [
    {
     "data": {
      "text/plain": [
       "0.10830470668440526"
      ]
     },
     "execution_count": 57,
     "metadata": {},
     "output_type": "execute_result"
    }
   ],
   "source": [
    "32726/302166\n",
    "# we can see that barely see that it is the matter of data imbalance"
   ]
  },
  {
   "cell_type": "code",
   "execution_count": 58,
   "id": "0503c4ec",
   "metadata": {},
   "outputs": [
    {
     "data": {
      "text/html": [
       "<div>\n",
       "<style scoped>\n",
       "    .dataframe tbody tr th:only-of-type {\n",
       "        vertical-align: middle;\n",
       "    }\n",
       "\n",
       "    .dataframe tbody tr th {\n",
       "        vertical-align: top;\n",
       "    }\n",
       "\n",
       "    .dataframe thead th {\n",
       "        text-align: right;\n",
       "    }\n",
       "</style>\n",
       "<table border=\"1\" class=\"dataframe\">\n",
       "  <thead>\n",
       "    <tr style=\"text-align: right;\">\n",
       "      <th></th>\n",
       "      <th>product_title</th>\n",
       "      <th>reviews</th>\n",
       "      <th>scores</th>\n",
       "      <th>compound</th>\n",
       "      <th>comp_score</th>\n",
       "    </tr>\n",
       "  </thead>\n",
       "  <tbody>\n",
       "    <tr>\n",
       "      <th>0</th>\n",
       "      <td>InnoQ 6.5 Kg Semi Automatic Top Load Washing M...</td>\n",
       "      <td>Best in the market!</td>\n",
       "      <td>{'neg': 0.0, 'neu': 0.4, 'pos': 0.6, 'compound...</td>\n",
       "      <td>0.6696</td>\n",
       "      <td>pos</td>\n",
       "    </tr>\n",
       "    <tr>\n",
       "      <th>1</th>\n",
       "      <td>InnoQ 6.5 Kg Semi Automatic Top Load Washing M...</td>\n",
       "      <td>Great product</td>\n",
       "      <td>{'neg': 0.0, 'neu': 0.196, 'pos': 0.804, 'comp...</td>\n",
       "      <td>0.6249</td>\n",
       "      <td>pos</td>\n",
       "    </tr>\n",
       "    <tr>\n",
       "      <th>2</th>\n",
       "      <td>InnoQ 6.5 Kg Semi Automatic Top Load Washing M...</td>\n",
       "      <td>Super!</td>\n",
       "      <td>{'neg': 0.0, 'neu': 0.0, 'pos': 1.0, 'compound...</td>\n",
       "      <td>0.6360</td>\n",
       "      <td>pos</td>\n",
       "    </tr>\n",
       "    <tr>\n",
       "      <th>3</th>\n",
       "      <td>InnoQ 6.5 Kg Semi Automatic Top Load Washing M...</td>\n",
       "      <td>Worth every penny</td>\n",
       "      <td>{'neg': 0.0, 'neu': 0.513, 'pos': 0.487, 'comp...</td>\n",
       "      <td>0.2263</td>\n",
       "      <td>pos</td>\n",
       "    </tr>\n",
       "    <tr>\n",
       "      <th>4</th>\n",
       "      <td>InnoQ 6.5 Kg Semi Automatic Top Load Washing M...</td>\n",
       "      <td>Just wow!</td>\n",
       "      <td>{'neg': 0.0, 'neu': 0.196, 'pos': 0.804, 'comp...</td>\n",
       "      <td>0.6239</td>\n",
       "      <td>pos</td>\n",
       "    </tr>\n",
       "  </tbody>\n",
       "</table>\n",
       "</div>"
      ],
      "text/plain": [
       "                                       product_title              reviews  \\\n",
       "0  InnoQ 6.5 Kg Semi Automatic Top Load Washing M...  Best in the market!   \n",
       "1  InnoQ 6.5 Kg Semi Automatic Top Load Washing M...        Great product   \n",
       "2  InnoQ 6.5 Kg Semi Automatic Top Load Washing M...               Super!   \n",
       "3  InnoQ 6.5 Kg Semi Automatic Top Load Washing M...    Worth every penny   \n",
       "4  InnoQ 6.5 Kg Semi Automatic Top Load Washing M...            Just wow!   \n",
       "\n",
       "                                              scores  compound comp_score  \n",
       "0  {'neg': 0.0, 'neu': 0.4, 'pos': 0.6, 'compound...    0.6696        pos  \n",
       "1  {'neg': 0.0, 'neu': 0.196, 'pos': 0.804, 'comp...    0.6249        pos  \n",
       "2  {'neg': 0.0, 'neu': 0.0, 'pos': 1.0, 'compound...    0.6360        pos  \n",
       "3  {'neg': 0.0, 'neu': 0.513, 'pos': 0.487, 'comp...    0.2263        pos  \n",
       "4  {'neg': 0.0, 'neu': 0.196, 'pos': 0.804, 'comp...    0.6239        pos  "
      ]
     },
     "execution_count": 58,
     "metadata": {},
     "output_type": "execute_result"
    }
   ],
   "source": [
    "fd.head()"
   ]
  },
  {
   "cell_type": "code",
   "execution_count": 59,
   "id": "2a2323c6",
   "metadata": {},
   "outputs": [
    {
     "data": {
      "text/plain": [
       "product_title    0.000000\n",
       "reviews          0.003583\n",
       "scores           0.003583\n",
       "compound         0.003583\n",
       "comp_score       0.000000\n",
       "dtype: float64"
      ]
     },
     "execution_count": 59,
     "metadata": {},
     "output_type": "execute_result"
    }
   ],
   "source": [
    "fd.isnull().sum()/len(fd)*100"
   ]
  },
  {
   "cell_type": "code",
   "execution_count": 60,
   "id": "ce22dcf4",
   "metadata": {},
   "outputs": [],
   "source": [
    "fd.dropna(subset=['reviews', 'scores', 'compound'], inplace=True)"
   ]
  },
  {
   "cell_type": "code",
   "execution_count": 61,
   "id": "e20e070c",
   "metadata": {},
   "outputs": [
    {
     "data": {
      "text/html": [
       "<div>\n",
       "<style scoped>\n",
       "    .dataframe tbody tr th:only-of-type {\n",
       "        vertical-align: middle;\n",
       "    }\n",
       "\n",
       "    .dataframe tbody tr th {\n",
       "        vertical-align: top;\n",
       "    }\n",
       "\n",
       "    .dataframe thead th {\n",
       "        text-align: right;\n",
       "    }\n",
       "</style>\n",
       "<table border=\"1\" class=\"dataframe\">\n",
       "  <thead>\n",
       "    <tr style=\"text-align: right;\">\n",
       "      <th></th>\n",
       "      <th>compound</th>\n",
       "    </tr>\n",
       "  </thead>\n",
       "  <tbody>\n",
       "    <tr>\n",
       "      <th>count</th>\n",
       "      <td>334880.000000</td>\n",
       "    </tr>\n",
       "    <tr>\n",
       "      <th>mean</th>\n",
       "      <td>0.343160</td>\n",
       "    </tr>\n",
       "    <tr>\n",
       "      <th>std</th>\n",
       "      <td>0.347939</td>\n",
       "    </tr>\n",
       "    <tr>\n",
       "      <th>min</th>\n",
       "      <td>-0.863300</td>\n",
       "    </tr>\n",
       "    <tr>\n",
       "      <th>25%</th>\n",
       "      <td>0.226300</td>\n",
       "    </tr>\n",
       "    <tr>\n",
       "      <th>50%</th>\n",
       "      <td>0.476700</td>\n",
       "    </tr>\n",
       "    <tr>\n",
       "      <th>75%</th>\n",
       "      <td>0.611400</td>\n",
       "    </tr>\n",
       "    <tr>\n",
       "      <th>max</th>\n",
       "      <td>0.949100</td>\n",
       "    </tr>\n",
       "  </tbody>\n",
       "</table>\n",
       "</div>"
      ],
      "text/plain": [
       "            compound\n",
       "count  334880.000000\n",
       "mean        0.343160\n",
       "std         0.347939\n",
       "min        -0.863300\n",
       "25%         0.226300\n",
       "50%         0.476700\n",
       "75%         0.611400\n",
       "max         0.949100"
      ]
     },
     "execution_count": 61,
     "metadata": {},
     "output_type": "execute_result"
    }
   ],
   "source": [
    "fd.describe()"
   ]
  },
  {
   "cell_type": "code",
   "execution_count": 62,
   "id": "d8911dd4",
   "metadata": {},
   "outputs": [
    {
     "name": "stdout",
     "output_type": "stream",
     "text": [
      "<class 'pandas.core.frame.DataFrame'>\n",
      "Index: 334880 entries, 0 to 334891\n",
      "Data columns (total 5 columns):\n",
      " #   Column         Non-Null Count   Dtype  \n",
      "---  ------         --------------   -----  \n",
      " 0   product_title  334880 non-null  object \n",
      " 1   reviews        334880 non-null  object \n",
      " 2   scores         334880 non-null  object \n",
      " 3   compound       334880 non-null  float64\n",
      " 4   comp_score     334880 non-null  object \n",
      "dtypes: float64(1), object(4)\n",
      "memory usage: 15.3+ MB\n"
     ]
    }
   ],
   "source": [
    "fd.info()"
   ]
  },
  {
   "cell_type": "code",
   "execution_count": 63,
   "id": "09a84e5b",
   "metadata": {},
   "outputs": [
    {
     "data": {
      "text/html": [
       "<div>\n",
       "<style scoped>\n",
       "    .dataframe tbody tr th:only-of-type {\n",
       "        vertical-align: middle;\n",
       "    }\n",
       "\n",
       "    .dataframe tbody tr th {\n",
       "        vertical-align: top;\n",
       "    }\n",
       "\n",
       "    .dataframe thead tr th {\n",
       "        text-align: left;\n",
       "    }\n",
       "\n",
       "    .dataframe thead tr:last-of-type th {\n",
       "        text-align: right;\n",
       "    }\n",
       "</style>\n",
       "<table border=\"1\" class=\"dataframe\">\n",
       "  <thead>\n",
       "    <tr>\n",
       "      <th></th>\n",
       "      <th colspan=\"8\" halign=\"left\">compound</th>\n",
       "    </tr>\n",
       "    <tr>\n",
       "      <th></th>\n",
       "      <th>count</th>\n",
       "      <th>mean</th>\n",
       "      <th>std</th>\n",
       "      <th>min</th>\n",
       "      <th>25%</th>\n",
       "      <th>50%</th>\n",
       "      <th>75%</th>\n",
       "      <th>max</th>\n",
       "    </tr>\n",
       "    <tr>\n",
       "      <th>comp_score</th>\n",
       "      <th></th>\n",
       "      <th></th>\n",
       "      <th></th>\n",
       "      <th></th>\n",
       "      <th></th>\n",
       "      <th></th>\n",
       "      <th></th>\n",
       "      <th></th>\n",
       "    </tr>\n",
       "  </thead>\n",
       "  <tbody>\n",
       "    <tr>\n",
       "      <th>neg</th>\n",
       "      <td>32714.0</td>\n",
       "      <td>-0.48075</td>\n",
       "      <td>0.138124</td>\n",
       "      <td>-0.8633</td>\n",
       "      <td>-0.5423</td>\n",
       "      <td>-0.4767</td>\n",
       "      <td>-0.4228</td>\n",
       "      <td>-0.0127</td>\n",
       "    </tr>\n",
       "    <tr>\n",
       "      <th>pos</th>\n",
       "      <td>302166.0</td>\n",
       "      <td>0.43236</td>\n",
       "      <td>0.225061</td>\n",
       "      <td>0.0000</td>\n",
       "      <td>0.2716</td>\n",
       "      <td>0.4767</td>\n",
       "      <td>0.6114</td>\n",
       "      <td>0.9491</td>\n",
       "    </tr>\n",
       "  </tbody>\n",
       "</table>\n",
       "</div>"
      ],
      "text/plain": [
       "            compound                                                     \\\n",
       "               count     mean       std     min     25%     50%     75%   \n",
       "comp_score                                                                \n",
       "neg          32714.0 -0.48075  0.138124 -0.8633 -0.5423 -0.4767 -0.4228   \n",
       "pos         302166.0  0.43236  0.225061  0.0000  0.2716  0.4767  0.6114   \n",
       "\n",
       "                    \n",
       "               max  \n",
       "comp_score          \n",
       "neg        -0.0127  \n",
       "pos         0.9491  "
      ]
     },
     "execution_count": 63,
     "metadata": {},
     "output_type": "execute_result"
    }
   ],
   "source": [
    "fd.groupby('comp_score').describe()"
   ]
  },
  {
   "cell_type": "code",
   "execution_count": 64,
   "id": "d5343d57",
   "metadata": {},
   "outputs": [
    {
     "data": {
      "text/plain": [
       "(32714, 5)"
      ]
     },
     "execution_count": 64,
     "metadata": {},
     "output_type": "execute_result"
    }
   ],
   "source": [
    "# Now we are managing our data to make it balance\n",
    "fd_neg = fd[fd['comp_score']=='neg']\n",
    "fd_neg.shape"
   ]
  },
  {
   "cell_type": "code",
   "execution_count": 65,
   "id": "7ad08ae1",
   "metadata": {},
   "outputs": [
    {
     "data": {
      "text/plain": [
       "(302166, 5)"
      ]
     },
     "execution_count": 65,
     "metadata": {},
     "output_type": "execute_result"
    }
   ],
   "source": [
    "fd_pos = fd[fd['comp_score']=='pos']\n",
    "fd_pos.shape"
   ]
  },
  {
   "cell_type": "code",
   "execution_count": 66,
   "id": "c65120fa",
   "metadata": {},
   "outputs": [
    {
     "data": {
      "text/plain": [
       "(32714, 5)"
      ]
     },
     "execution_count": 66,
     "metadata": {},
     "output_type": "execute_result"
    }
   ],
   "source": [
    "fd_pos_downsampled = fd_pos.sample(fd_neg.shape[0])\n",
    "fd_pos_downsampled.shape"
   ]
  },
  {
   "cell_type": "code",
   "execution_count": 67,
   "id": "f9472c5f",
   "metadata": {},
   "outputs": [
    {
     "data": {
      "text/plain": [
       "(65428, 5)"
      ]
     },
     "execution_count": 67,
     "metadata": {},
     "output_type": "execute_result"
    }
   ],
   "source": [
    "fd_balanced = ps.concat([fd_pos_downsampled, fd_neg])\n",
    "fd_balanced.shape"
   ]
  },
  {
   "cell_type": "code",
   "execution_count": 68,
   "id": "3394ec70",
   "metadata": {},
   "outputs": [
    {
     "data": {
      "text/plain": [
       "comp_score\n",
       "pos    32714\n",
       "neg    32714\n",
       "Name: count, dtype: int64"
      ]
     },
     "execution_count": 68,
     "metadata": {},
     "output_type": "execute_result"
    }
   ],
   "source": [
    "# Now we have balanced data through which we are not going to have any overfitting problem\n",
    "fd_balanced['comp_score'].value_counts()"
   ]
  },
  {
   "cell_type": "code",
   "execution_count": 69,
   "id": "cf3613cd",
   "metadata": {},
   "outputs": [
    {
     "data": {
      "text/html": [
       "<div>\n",
       "<style scoped>\n",
       "    .dataframe tbody tr th:only-of-type {\n",
       "        vertical-align: middle;\n",
       "    }\n",
       "\n",
       "    .dataframe tbody tr th {\n",
       "        vertical-align: top;\n",
       "    }\n",
       "\n",
       "    .dataframe thead th {\n",
       "        text-align: right;\n",
       "    }\n",
       "</style>\n",
       "<table border=\"1\" class=\"dataframe\">\n",
       "  <thead>\n",
       "    <tr style=\"text-align: right;\">\n",
       "      <th></th>\n",
       "      <th>product_title</th>\n",
       "      <th>reviews</th>\n",
       "      <th>scores</th>\n",
       "      <th>compound</th>\n",
       "      <th>comp_score</th>\n",
       "      <th>neg</th>\n",
       "    </tr>\n",
       "  </thead>\n",
       "  <tbody>\n",
       "    <tr>\n",
       "      <th>49871</th>\n",
       "      <td>REDMI Note 10S (Shadow Black, 128 GB) Reviews</td>\n",
       "      <td>Very poor</td>\n",
       "      <td>{'neg': 0.772, 'neu': 0.228, 'pos': 0.0, 'comp...</td>\n",
       "      <td>-0.5256</td>\n",
       "      <td>neg</td>\n",
       "      <td>1</td>\n",
       "    </tr>\n",
       "    <tr>\n",
       "      <th>84730</th>\n",
       "      <td>SAMSUNG Galaxy M04 (Dark Blue, 64 GB) Reviews</td>\n",
       "      <td>Good choice</td>\n",
       "      <td>{'neg': 0.0, 'neu': 0.256, 'pos': 0.744, 'comp...</td>\n",
       "      <td>0.4404</td>\n",
       "      <td>pos</td>\n",
       "      <td>0</td>\n",
       "    </tr>\n",
       "    <tr>\n",
       "      <th>308067</th>\n",
       "      <td>Boult Audio Airbass Z35 with ZEN ENC Mic, 32H ...</td>\n",
       "      <td>Terrible product</td>\n",
       "      <td>{'neg': 0.756, 'neu': 0.244, 'pos': 0.0, 'comp...</td>\n",
       "      <td>-0.4767</td>\n",
       "      <td>neg</td>\n",
       "      <td>1</td>\n",
       "    </tr>\n",
       "    <tr>\n",
       "      <th>158955</th>\n",
       "      <td>LG Convertible 6-in-1 Cooling 2023 Model 1.5 T...</td>\n",
       "      <td>Worthless</td>\n",
       "      <td>{'neg': 1.0, 'neu': 0.0, 'pos': 0.0, 'compound...</td>\n",
       "      <td>-0.4404</td>\n",
       "      <td>neg</td>\n",
       "      <td>1</td>\n",
       "    </tr>\n",
       "    <tr>\n",
       "      <th>168260</th>\n",
       "      <td>LG AI Convertible 6-in-1 Cooling 2023 Model 1 ...</td>\n",
       "      <td>Brilliant</td>\n",
       "      <td>{'neg': 0.0, 'neu': 0.0, 'pos': 1.0, 'compound...</td>\n",
       "      <td>0.5859</td>\n",
       "      <td>pos</td>\n",
       "      <td>0</td>\n",
       "    </tr>\n",
       "    <tr>\n",
       "      <th>245986</th>\n",
       "      <td>KWINE CASE Back Cover for Mi A1, Redmi A1 2022...</td>\n",
       "      <td>Mind-blowing purchase</td>\n",
       "      <td>{'neg': 0.0, 'neu': 1.0, 'pos': 0.0, 'compound...</td>\n",
       "      <td>0.0000</td>\n",
       "      <td>pos</td>\n",
       "      <td>0</td>\n",
       "    </tr>\n",
       "    <tr>\n",
       "      <th>287883</th>\n",
       "      <td>Boult Audio YCharge with Pro+ Calling Mic, Ful...</td>\n",
       "      <td>Brilliant</td>\n",
       "      <td>{'neg': 0.0, 'neu': 0.0, 'pos': 1.0, 'compound...</td>\n",
       "      <td>0.5859</td>\n",
       "      <td>pos</td>\n",
       "      <td>0</td>\n",
       "    </tr>\n",
       "    <tr>\n",
       "      <th>326605</th>\n",
       "      <td>Aroma NB140 Evolve 24 Hours* Playtime | Deep B...</td>\n",
       "      <td>Hated it!</td>\n",
       "      <td>{'neg': 0.818, 'neu': 0.182, 'pos': 0.0, 'comp...</td>\n",
       "      <td>-0.6696</td>\n",
       "      <td>neg</td>\n",
       "      <td>1</td>\n",
       "    </tr>\n",
       "    <tr>\n",
       "      <th>307156</th>\n",
       "      <td>Aroma NB119 Diamond 50 Hours Playtime Fast Cha...</td>\n",
       "      <td>Worth every penny</td>\n",
       "      <td>{'neg': 0.0, 'neu': 0.513, 'pos': 0.487, 'comp...</td>\n",
       "      <td>0.2263</td>\n",
       "      <td>pos</td>\n",
       "      <td>0</td>\n",
       "    </tr>\n",
       "    <tr>\n",
       "      <th>111058</th>\n",
       "      <td>SAMSUNG Galaxy A51 (Haze Crush Silver, 128 GB)...</td>\n",
       "      <td>Just wow!</td>\n",
       "      <td>{'neg': 0.0, 'neu': 0.196, 'pos': 0.804, 'comp...</td>\n",
       "      <td>0.6239</td>\n",
       "      <td>pos</td>\n",
       "      <td>0</td>\n",
       "    </tr>\n",
       "  </tbody>\n",
       "</table>\n",
       "</div>"
      ],
      "text/plain": [
       "                                            product_title  \\\n",
       "49871       REDMI Note 10S (Shadow Black, 128 GB) Reviews   \n",
       "84730       SAMSUNG Galaxy M04 (Dark Blue, 64 GB) Reviews   \n",
       "308067  Boult Audio Airbass Z35 with ZEN ENC Mic, 32H ...   \n",
       "158955  LG Convertible 6-in-1 Cooling 2023 Model 1.5 T...   \n",
       "168260  LG AI Convertible 6-in-1 Cooling 2023 Model 1 ...   \n",
       "245986  KWINE CASE Back Cover for Mi A1, Redmi A1 2022...   \n",
       "287883  Boult Audio YCharge with Pro+ Calling Mic, Ful...   \n",
       "326605  Aroma NB140 Evolve 24 Hours* Playtime | Deep B...   \n",
       "307156  Aroma NB119 Diamond 50 Hours Playtime Fast Cha...   \n",
       "111058  SAMSUNG Galaxy A51 (Haze Crush Silver, 128 GB)...   \n",
       "\n",
       "                      reviews  \\\n",
       "49871               Very poor   \n",
       "84730             Good choice   \n",
       "308067       Terrible product   \n",
       "158955              Worthless   \n",
       "168260              Brilliant   \n",
       "245986  Mind-blowing purchase   \n",
       "287883              Brilliant   \n",
       "326605              Hated it!   \n",
       "307156      Worth every penny   \n",
       "111058              Just wow!   \n",
       "\n",
       "                                                   scores  compound  \\\n",
       "49871   {'neg': 0.772, 'neu': 0.228, 'pos': 0.0, 'comp...   -0.5256   \n",
       "84730   {'neg': 0.0, 'neu': 0.256, 'pos': 0.744, 'comp...    0.4404   \n",
       "308067  {'neg': 0.756, 'neu': 0.244, 'pos': 0.0, 'comp...   -0.4767   \n",
       "158955  {'neg': 1.0, 'neu': 0.0, 'pos': 0.0, 'compound...   -0.4404   \n",
       "168260  {'neg': 0.0, 'neu': 0.0, 'pos': 1.0, 'compound...    0.5859   \n",
       "245986  {'neg': 0.0, 'neu': 1.0, 'pos': 0.0, 'compound...    0.0000   \n",
       "287883  {'neg': 0.0, 'neu': 0.0, 'pos': 1.0, 'compound...    0.5859   \n",
       "326605  {'neg': 0.818, 'neu': 0.182, 'pos': 0.0, 'comp...   -0.6696   \n",
       "307156  {'neg': 0.0, 'neu': 0.513, 'pos': 0.487, 'comp...    0.2263   \n",
       "111058  {'neg': 0.0, 'neu': 0.196, 'pos': 0.804, 'comp...    0.6239   \n",
       "\n",
       "       comp_score  neg  \n",
       "49871         neg    1  \n",
       "84730         pos    0  \n",
       "308067        neg    1  \n",
       "158955        neg    1  \n",
       "168260        pos    0  \n",
       "245986        pos    0  \n",
       "287883        pos    0  \n",
       "326605        neg    1  \n",
       "307156        pos    0  \n",
       "111058        pos    0  "
      ]
     },
     "execution_count": 69,
     "metadata": {},
     "output_type": "execute_result"
    }
   ],
   "source": [
    "fd_balanced['neg']=fd_balanced['comp_score'].apply(lambda x: 1 if x=='neg' else 0)\n",
    "fd_balanced.sample(10)"
   ]
  },
  {
   "cell_type": "code",
   "execution_count": 70,
   "id": "ccd302e1",
   "metadata": {},
   "outputs": [
    {
     "data": {
      "text/plain": [
       "(65428, 6)"
      ]
     },
     "execution_count": 70,
     "metadata": {},
     "output_type": "execute_result"
    }
   ],
   "source": [
    "fd_balanced.shape"
   ]
  },
  {
   "cell_type": "code",
   "execution_count": 71,
   "id": "4ff7e11b",
   "metadata": {},
   "outputs": [],
   "source": [
    "ps.set_option('display.max_colwidth', None)"
   ]
  },
  {
   "cell_type": "code",
   "execution_count": 72,
   "id": "52ef6920",
   "metadata": {},
   "outputs": [
    {
     "name": "stdout",
     "output_type": "stream",
     "text": [
      "334835    boAt Rockerz 235 Pro with upto 20 Hours Playback & ASAP Charge Bluetooth Headset Reviews\n",
      "334848    boAt Rockerz 235 Pro with upto 20 Hours Playback & ASAP Charge Bluetooth Headset Reviews\n",
      "334874    boAt Rockerz 235 Pro with upto 20 Hours Playback & ASAP Charge Bluetooth Headset Reviews\n",
      "334877    boAt Rockerz 235 Pro with upto 20 Hours Playback & ASAP Charge Bluetooth Headset Reviews\n",
      "334890    boAt Rockerz 235 Pro with upto 20 Hours Playback & ASAP Charge Bluetooth Headset Reviews\n",
      "Name: product_title, dtype: object\n"
     ]
    }
   ],
   "source": [
    "# Print the DataFrame with full product names\n",
    "print(fd_balanced['product_title'].tail())"
   ]
  },
  {
   "cell_type": "code",
   "execution_count": 90,
   "id": "552d128c",
   "metadata": {},
   "outputs": [
    {
     "data": {
      "text/plain": [
       "0                                                                                                                                   Whirlpool 7.5 kg Magic Clean 5 Star Fully Automatic Top Load Washing Machine Grey Reviews\n",
       "1                                                                                                                                                                Vu 138 cm (55 inch) Ultra HD (4K) LED Smart WebOS TV Reviews\n",
       "2                                                                                                                                                      Vu Premium 164 cm (65 inch) Ultra HD (4K) LED Smart Android TV Reviews\n",
       "3                                                                                                                                                                                       Redmi 7A (Matte Black, 32 GB) Reviews\n",
       "4                                                                                                                                LG 7 kg Steam Fully Automatic Front Load Washing Machine with In-built Heater Silver Reviews\n",
       "5                                                                                                                        HP Envy Core i5 8th Gen - (8 GB/256 GB SSD/Windows 10 Home) 13-ad125TU Thin and Light Laptop Reviews\n",
       "6                                                                                                IFB 7 kg 5 Star 2X Power Steam,Hard Water Wash Fully Automatic Front Load Washing Machine with In-built Heater White Reviews\n",
       "7                                                                                                                                                                                   SAMSUNG Galaxy M01 (Black, 32 GB) Reviews\n",
       "8                                              IFB 8 kg 5 Star 9 Swirl AI Powered with Wi-Fi 4 years Comprehensive Warranty with 2x Power Steam Fully Automatic Front Load Washing Machine with In-built Heater Brown Reviews\n",
       "9                                                                                                                                                    OnePlus Buds Z2 with Active Noise cancellation Bluetooth Headset Reviews\n",
       "10                                                                                                                      boAt Rockerz 255 Pro+ /258 Pro+ with ASAP Charge and upto 60 Hours Playback Bluetooth Headset Reviews\n",
       "11                                                                                                                              boAt Rockerz 255 Arc with ENx Technology and upto 30 Hours Playback Bluetooth Headset Reviews\n",
       "12                                                                                                                                 jjonline service IFB SCALEgo lgo powder each pack 100gm* 8 Detergent Powder 0.8 ml Reviews\n",
       "13                                                                                                                                                                    Casotec Flip Cover for Mi Redmi 9A, Mi Redmi 9i Reviews\n",
       "14                                                                                                                                                                                                                    no name\n",
       "15                                                                                                                                                    FABER HOOD BLISS FL SC AC BK 60 Auto Clean Wall Mounted Chimney Reviews\n",
       "16                                                                                                                                                                                   SAMSUNG Galaxy A12 (Blue, 64 GB) Reviews\n",
       "17                                                                     IFB 6 kg Steam Wash, Hard Water Wash, Active Color Protection 4 years Comprehensive Warranty Fully Automatic Front Load Washing Machine Silver Reviews\n",
       "18                                       IFB 9 kg 2X Power Dual Steam, Hard Water Wash, Active Color Protection 4 years Comprehensive Warranty Fully Automatic Front Load Washing Machine with In-built Heater Silver Reviews\n",
       "19                                                                                                                                             boAt Airdopes 131 with upto 60 Hours and ASAP Charge Bluetooth Headset Reviews\n",
       "20                                                LG AI Convertible 6-in-1 Cooling 2023 Model 1.5 Ton 5 Star Split AI Dual Inverter 4 Way Swing, HD Filter with Anti-Virus Protection AC with Wi-fi Connect  - Floral Reviews\n",
       "21                                                                                                                                                       Vu 114 cm (45 inch) Ultra HD (4K) LED Smart Android Based TV Reviews\n",
       "22                                                                                                                                                                                             Redmi 5A (Gold, 16 GB) Reviews\n",
       "23                                                                                                                      boAt Rockerz 255 Pro+ /258 Pro+ with ASAP Charge and upto 60 Hours Playback Bluetooth Headset Reviews\n",
       "24                                                                                              IFB 7 kg 5 Star 2X Power Steam, Hard Water Wash Fully Automatic Front Load Washing Machine with In-built Heater Brown Reviews\n",
       "25                                                                                                                                                                              REDMI Note 10S (Shadow Black, 128 GB) Reviews\n",
       "26                                                                                                                                                                               IFB HSR Descal Detergent Powder 1 kg Reviews\n",
       "27                                                                                                                  ORAIMO FreePods 3 in Ear TWS Earbuds,36Hrs Playtime ,4-mic ENC Noise Cancelling Bluetooth Headset Reviews\n",
       "28                                                                                                                                                                                 IFB 23 L Convection Microwave Oven Reviews\n",
       "29                                                                                                                                                                              REDMI Note 11 Pro (Star blue, 128 GB) Reviews\n",
       "30                                                                                                             boAt Airdopes 191G with 6mm Dual Drivers, Quad Mics ENx Tech & Beast Mode for Gaming Bluetooth Headset Reviews\n",
       "31    Bestor USB Type C Cable 1.2 m Multi Charging Cable 4ft 3 in 1 Nylon Braided Multiple USB Fast Charging Cable for Android, iOS and Type C Devices USB Port Connectors Compatible Smart Phones & Tablets And More Reviews\n",
       "32                                                                                                                      IFB 7 Stage Air Treatment 1.5 Ton 3 Star Split Inverter PM 0.3 Filter Gold Series AC  - White Reviews\n",
       "33                                                                                              IFB 7 kg 5 Star 2X Power Steam, Hard Water Wash Fully Automatic Front Load Washing Machine with In-built Heater Brown Reviews\n",
       "34                                                                                                                                                       FABER HOOD ALPHA HC PB BK 90 Auto Clean Wall Mounted Chimney Reviews\n",
       "35                                                                                                                                                                                 IFB 23 L Convection Microwave Oven Reviews\n",
       "36                                                                                                              Boult Audio ProBass EQCharge with ZEN Mode ENC, 32hrs Playtime, Ultra-Fast Charging Bluetooth Headset Reviews\n",
       "37                                                                                                                                                                          Redmi Note 9 Pro (Champagne Gold, 128 GB) Reviews\n",
       "38                                       IFB 9 kg 2X Power Dual Steam, Hard Water Wash, Active Color Protection 4 years Comprehensive Warranty Fully Automatic Front Load Washing Machine with In-built Heater Silver Reviews\n",
       "39                                                                                                                                                                                ZEBRONICS ZEB-BRO PRO Wired Headset Reviews\n",
       "40                                                                                                                                                          JBL C150SI with One Button Universal Remote Wired Headset Reviews\n",
       "41                                                                          LG Convertible 6-in-1 Cooling 2023 Model 1.5 Ton 4 Star Split Dual Inverter 4 Way Swing, HD Filter with Anti-Virus Protection AC  - White Reviews\n",
       "42                                             IFB 8 kg 5 Star 9 Swirl AI Powered with Wi-Fi 4 years Comprehensive Warranty with 2x Power Steam Fully Automatic Front Load Washing Machine with In-built Heater Brown Reviews\n",
       "43                                                                                                              Aroma NB119C Carter 48 Hours Playing Time Fast Charging Bluetooth Neckband Earphone Bluetooth Headset Reviews\n",
       "44                                                                                                                                                                                    SAMSUNG Galaxy A7 (Blue, 64 GB) Reviews\n",
       "45                                                                                                                                                       MarQ by Flipkart by Flipkart 80 cm (32 inch) HD Ready LED TV Reviews\n",
       "46                                                                                                                           Godrej 6.5 kg 5 Star with Turbo 6 Pulsator Washing Machine Fully Automatic Top Load Grey Reviews\n",
       "47                                                                                                                                                                                          Redmi 9A (SeaBlue, 32 GB) Reviews\n",
       "48                                                                                                                                                 SONY WI-XB400 Extra Bass Wireless Stereo Headset Bluetooth Headset Reviews\n",
       "49                                       IFB 9 kg 2X Power Dual Steam, Hard Water Wash, Active Color Protection 4 years Comprehensive Warranty Fully Automatic Front Load Washing Machine with In-built Heater Silver Reviews\n",
       "Name: product_title, dtype: object"
      ]
     },
     "execution_count": 90,
     "metadata": {},
     "output_type": "execute_result"
    }
   ],
   "source": [
    "fd_balanced.product_title.head(50)"
   ]
  },
  {
   "cell_type": "code",
   "execution_count": 95,
   "id": "f3275b90",
   "metadata": {},
   "outputs": [],
   "source": [
    "# Recommendation System\n",
    "\n",
    "from annoy import AnnoyIndex\n",
    "\n",
    "# Create TF-IDF matrix\n",
    "tfidf = TfidfVectorizer(stop_words='english')\n",
    "tfidf_matrix = tfidf.fit_transform(fd_balanced['reviews'])\n",
    "\n",
    "# Build AnnoyIndex\n",
    "embedding_size = tfidf_matrix.shape[1]\n",
    "annoy_index = AnnoyIndex(embedding_size, metric='angular')\n",
    "for i in range(tfidf_matrix.shape[0]):\n",
    "    vector = tfidf_matrix[i].toarray()[0]\n",
    "    annoy_index.add_item(i, vector)\n",
    "annoy_index.build(50)  # 50 trees\n",
    "\n",
    "def get_similar_products(product_title, n):\n",
    "    # Get the index of the product\n",
    "    indices = ps.Series(fd_balanced.index, index=fd_balanced['product_title']).drop_duplicates()\n",
    "    idx = indices[product_title].iloc[0]\n",
    "\n",
    "    # Query AnnoyIndex for similar products\n",
    "    product_indices = annoy_index.get_nns_by_item(idx, n + 1, search_k=-1, include_distances=False)\n",
    "\n",
    "    # Exclude the input product itself\n",
    "    product_indices = product_indices[1:]\n",
    "\n",
    "    # Return the top n similar products\n",
    "    return fd_balanced['product_title'].iloc[product_indices]"
   ]
  },
  {
   "cell_type": "code",
   "execution_count": 98,
   "id": "0aeb47e9",
   "metadata": {},
   "outputs": [
    {
     "name": "stdout",
     "output_type": "stream",
     "text": [
      "Enter Product name:  boAt Rockerz 235 Pro with upto 20 Hours Playback & ASAP Charge Bluetooth Headset Reviews\n",
      "Top 5 recommended products for 'boAt Rockerz 235 Pro with upto 20 Hours Playback & ASAP Charge Bluetooth Headset Reviews':\n",
      "168                                                        IFB Descaling Detergent Powder for washing machine(Pack of 10) Detergent Powder 100 g Reviews\n",
      "227                                        Aroma NB119C Carter 48 Hours Playing Time Fast Charging Bluetooth Neckband Earphone Bluetooth Headset Reviews\n",
      "240                                                                                       SharpDart Micro USB Cable 3 A 1 m USB Micro Cable V2.0 Reviews\n",
      "577    IFB 6.5 kg 5 Star Aqua Conserve Hard Water Wash, Smart Sense 4 years Comprehensive Warranty Fully Automatic Top Load Washing Machine Grey Reviews\n",
      "623                                                                                                   APPLE iPhone 12 Pro (Pacific Blue, 256 GB) Reviews\n",
      "Name: product_title, dtype: object\n"
     ]
    }
   ],
   "source": [
    "product = input(\"Enter Product name: \").strip()\n",
    "num_recommendations = 5\n",
    "recommendations = get_similar_products(product, num_recommendations)\n",
    "print(f\"Top {num_recommendations} recommended products for '{product}':\")\n",
    "print(recommendations)"
   ]
  },
  {
   "cell_type": "code",
   "execution_count": 99,
   "id": "6064d08c",
   "metadata": {},
   "outputs": [],
   "source": [
    "from sklearn.model_selection import train_test_split\n",
    "\n",
    "X_train, X_test, y_train, y_test = train_test_split(fd_balanced['reviews'],fd_balanced['neg'], stratify=fd_balanced['neg'])"
   ]
  },
  {
   "cell_type": "code",
   "execution_count": 100,
   "id": "98016f45",
   "metadata": {},
   "outputs": [
    {
     "data": {
      "text/plain": [
       "18725    Highly recommended\n",
       "61372              Horrible\n",
       "20747       Worth the money\n",
       "5486          Great product\n",
       "Name: reviews, dtype: object"
      ]
     },
     "execution_count": 100,
     "metadata": {},
     "output_type": "execute_result"
    }
   ],
   "source": [
    "X_train.head(4)"
   ]
  },
  {
   "cell_type": "code",
   "execution_count": 101,
   "id": "2be3ece3",
   "metadata": {
    "scrolled": true
   },
   "outputs": [],
   "source": [
    "bert_preprocess = hub.KerasLayer(\"https://tfhub.dev/tensorflow/bert_en_uncased_preprocess/3\")\n",
    "bert_encoder = hub.KerasLayer(\"https://tfhub.dev/tensorflow/bert_en_uncased_L-12_H-768_A-12/4\")"
   ]
  },
  {
   "cell_type": "code",
   "execution_count": 102,
   "id": "0b6ffb59",
   "metadata": {},
   "outputs": [
    {
     "data": {
      "text/plain": [
       "<tf.Tensor: shape=(4, 768), dtype=float32, numpy=\n",
       "array([[-0.8435169 , -0.5132726 , -0.88845724, ..., -0.74748874,\n",
       "        -0.7531473 ,  0.9196449 ],\n",
       "       [-0.9241627 , -0.29388258, -0.9712885 , ..., -0.9276766 ,\n",
       "        -0.6102464 ,  0.90782315],\n",
       "       [-0.8739092 , -0.43364036, -0.85776633, ..., -0.7138211 ,\n",
       "        -0.7192733 ,  0.9243591 ],\n",
       "       [-0.8730835 , -0.2893696 , -0.35944772, ...,  0.08192193,\n",
       "        -0.69178367,  0.9021187 ]], dtype=float32)>"
      ]
     },
     "execution_count": 102,
     "metadata": {},
     "output_type": "execute_result"
    }
   ],
   "source": [
    "def get_sentence_embeding(sentences):\n",
    "    preprocessed_text = bert_preprocess(sentences)\n",
    "    return bert_encoder(preprocessed_text)['pooled_output']\n",
    "\n",
    "get_sentence_embeding([\n",
    "    \"500$ discount. hurry up\", \n",
    "    \"Odin, are you there?\",\n",
    "    \"I will meet you in Valhalla, will drink ale\",\n",
    "    \"Why always me, God\"]\n",
    ")"
   ]
  },
  {
   "cell_type": "code",
   "execution_count": 104,
   "id": "13e24bd9",
   "metadata": {},
   "outputs": [],
   "source": [
    "e = get_sentence_embeding([\n",
    "    \"banana\", \n",
    "    \"grapes\",\n",
    "    \"mango\",\n",
    "    \"gautam adani\",\n",
    "    \"elon musk\",\n",
    "    \"Bill gates\",\n",
    "    \"Narendra modi\",\n",
    "    \"yogi adityanath\",\n",
    "    \"Jai Shree Ram\",\n",
    "    \"Harshit Verma\",\n",
    "]\n",
    ")"
   ]
  },
  {
   "cell_type": "code",
   "execution_count": 105,
   "id": "64b52c7d",
   "metadata": {},
   "outputs": [
    {
     "data": {
      "text/plain": [
       "array([[0.9911088]], dtype=float32)"
      ]
     },
     "execution_count": 105,
     "metadata": {},
     "output_type": "execute_result"
    }
   ],
   "source": [
    "from sklearn.metrics.pairwise import cosine_similarity\n",
    "cosine_similarity([e[0]],[e[1]])"
   ]
  },
  {
   "cell_type": "code",
   "execution_count": 106,
   "id": "0995f829",
   "metadata": {},
   "outputs": [
    {
     "data": {
      "text/plain": [
       "array([[0.921638]], dtype=float32)"
      ]
     },
     "execution_count": 106,
     "metadata": {},
     "output_type": "execute_result"
    }
   ],
   "source": [
    "cosine_similarity([e[0]],[e[3]])"
   ]
  },
  {
   "cell_type": "code",
   "execution_count": 107,
   "id": "f6ddd7af",
   "metadata": {},
   "outputs": [],
   "source": [
    "# Bert layers\n",
    "text_input = tf.keras.layers.Input(shape=(), dtype=tf.string, name='text')\n",
    "preprocessed_text = bert_preprocess(text_input)\n",
    "outputs = bert_encoder(preprocessed_text)\n",
    "\n",
    "# Neural network layers\n",
    "l = tf.keras.layers.Dropout(0.1, name=\"dropout\")(outputs['pooled_output'])\n",
    "l = tf.keras.layers.Dense(1, activation='sigmoid', name=\"output\")(l)\n",
    "\n",
    "# Use inputs and outputs to construct a final model\n",
    "model = tf.keras.Model(inputs=[text_input], outputs = [l])"
   ]
  },
  {
   "cell_type": "code",
   "execution_count": 108,
   "id": "0d7b74f9",
   "metadata": {},
   "outputs": [
    {
     "name": "stdout",
     "output_type": "stream",
     "text": [
      "Model: \"model\"\n",
      "__________________________________________________________________________________________________\n",
      " Layer (type)                   Output Shape         Param #     Connected to                     \n",
      "==================================================================================================\n",
      " text (InputLayer)              [(None,)]            0           []                               \n",
      "                                                                                                  \n",
      " keras_layer (KerasLayer)       {'input_type_ids':   0           ['text[0][0]']                   \n",
      "                                (None, 128),                                                      \n",
      "                                 'input_mask': (Non                                               \n",
      "                                e, 128),                                                          \n",
      "                                 'input_word_ids':                                                \n",
      "                                (None, 128)}                                                      \n",
      "                                                                                                  \n",
      " keras_layer_1 (KerasLayer)     {'pooled_output': (  109482241   ['keras_layer[0][0]',            \n",
      "                                None, 768),                       'keras_layer[0][1]',            \n",
      "                                 'sequence_output':               'keras_layer[0][2]']            \n",
      "                                 (None, 128, 768),                                                \n",
      "                                 'encoder_outputs':                                               \n",
      "                                 [(None, 128, 768),                                               \n",
      "                                 (None, 128, 768),                                                \n",
      "                                 (None, 128, 768),                                                \n",
      "                                 (None, 128, 768),                                                \n",
      "                                 (None, 128, 768),                                                \n",
      "                                 (None, 128, 768),                                                \n",
      "                                 (None, 128, 768),                                                \n",
      "                                 (None, 128, 768),                                                \n",
      "                                 (None, 128, 768),                                                \n",
      "                                 (None, 128, 768),                                                \n",
      "                                 (None, 128, 768),                                                \n",
      "                                 (None, 128, 768)],                                               \n",
      "                                 'default': (None,                                                \n",
      "                                768)}                                                             \n",
      "                                                                                                  \n",
      " dropout (Dropout)              (None, 768)          0           ['keras_layer_1[0][13]']         \n",
      "                                                                                                  \n",
      " output (Dense)                 (None, 1)            769         ['dropout[0][0]']                \n",
      "                                                                                                  \n",
      "==================================================================================================\n",
      "Total params: 109,483,010\n",
      "Trainable params: 769\n",
      "Non-trainable params: 109,482,241\n",
      "__________________________________________________________________________________________________\n"
     ]
    }
   ],
   "source": [
    "model.summary()"
   ]
  },
  {
   "cell_type": "code",
   "execution_count": 109,
   "id": "447f577c",
   "metadata": {},
   "outputs": [
    {
     "data": {
      "text/plain": [
       "49071"
      ]
     },
     "execution_count": 109,
     "metadata": {},
     "output_type": "execute_result"
    }
   ],
   "source": [
    "len(X_train)"
   ]
  },
  {
   "cell_type": "code",
   "execution_count": 110,
   "id": "0f1d7e7c",
   "metadata": {},
   "outputs": [
    {
     "data": {
      "text/plain": [
       "49071"
      ]
     },
     "execution_count": 110,
     "metadata": {},
     "output_type": "execute_result"
    }
   ],
   "source": [
    "len(y_train)"
   ]
  },
  {
   "cell_type": "code",
   "execution_count": 111,
   "id": "d7a5a925",
   "metadata": {},
   "outputs": [],
   "source": [
    "METRICS = [\n",
    "      tf.keras.metrics.BinaryAccuracy(name='accuracy'),\n",
    "      tf.keras.metrics.Precision(name='precision'),\n",
    "      tf.keras.metrics.Recall(name='recall')\n",
    "]\n",
    "\n",
    "model.compile(optimizer='adam',\n",
    "              loss='binary_crossentropy',\n",
    "              metrics=METRICS)"
   ]
  },
  {
   "cell_type": "code",
   "execution_count": 112,
   "id": "220b00e3",
   "metadata": {},
   "outputs": [],
   "source": [
    "X_train = X_train.reset_index(drop=True)\n",
    "y_train = y_train.reset_index(drop=True)"
   ]
  },
  {
   "cell_type": "code",
   "execution_count": 113,
   "id": "6cfab2c2",
   "metadata": {},
   "outputs": [
    {
     "name": "stdout",
     "output_type": "stream",
     "text": [
      "Epoch 1/10\n",
      "1534/1534 [==============================] - 5934s 4s/step - loss: 0.3663 - accuracy: 0.9013 - precision: 0.8906 - recall: 0.9149\n",
      "Epoch 2/10\n",
      "1534/1534 [==============================] - 5933s 4s/step - loss: 0.1769 - accuracy: 0.9688 - precision: 0.9549 - recall: 0.9840\n",
      "Epoch 3/10\n",
      "1534/1534 [==============================] - 5509s 4s/step - loss: 0.1266 - accuracy: 0.9750 - precision: 0.9640 - recall: 0.9869\n",
      "Epoch 4/10\n",
      "1534/1534 [==============================] - 5692s 4s/step - loss: 0.0989 - accuracy: 0.9789 - precision: 0.9701 - recall: 0.9883\n",
      "Epoch 5/10\n",
      "1534/1534 [==============================] - 5783s 4s/step - loss: 0.0828 - accuracy: 0.9820 - precision: 0.9748 - recall: 0.9897\n",
      "Epoch 6/10\n",
      "1534/1534 [==============================] - 5513s 4s/step - loss: 0.0746 - accuracy: 0.9830 - precision: 0.9775 - recall: 0.9888\n",
      "Epoch 7/10\n",
      "1534/1534 [==============================] - 5456s 4s/step - loss: 0.0662 - accuracy: 0.9854 - precision: 0.9810 - recall: 0.9900\n",
      "Epoch 8/10\n",
      "1534/1534 [==============================] - 5459s 4s/step - loss: 0.0628 - accuracy: 0.9856 - precision: 0.9818 - recall: 0.9896\n",
      "Epoch 9/10\n",
      "1534/1534 [==============================] - 5446s 4s/step - loss: 0.0586 - accuracy: 0.9870 - precision: 0.9834 - recall: 0.9906\n",
      "Epoch 10/10\n",
      "1534/1534 [==============================] - 5500s 4s/step - loss: 0.0544 - accuracy: 0.9882 - precision: 0.9852 - recall: 0.9913\n"
     ]
    },
    {
     "data": {
      "text/plain": [
       "<keras.callbacks.History at 0x2b5f2d23910>"
      ]
     },
     "execution_count": 113,
     "metadata": {},
     "output_type": "execute_result"
    }
   ],
   "source": [
    "model.fit(X_train, y_train, epochs=10)"
   ]
  },
  {
   "cell_type": "code",
   "execution_count": 114,
   "id": "156e9313",
   "metadata": {},
   "outputs": [
    {
     "name": "stdout",
     "output_type": "stream",
     "text": [
      "512/512 [==============================] - 1876s 4s/step - loss: 0.0338 - accuracy: 0.9938 - precision: 0.9951 - recall: 0.9925\n"
     ]
    },
    {
     "data": {
      "text/plain": [
       "[0.033828768879175186,\n",
       " 0.9938252568244934,\n",
       " 0.9950968623161316,\n",
       " 0.9925418496131897]"
      ]
     },
     "execution_count": 114,
     "metadata": {},
     "output_type": "execute_result"
    }
   ],
   "source": [
    "X_test = X_test.reset_index(drop=True)\n",
    "y_test = y_test.reset_index(drop=True)\n",
    "\n",
    "model.evaluate(X_test, y_test)"
   ]
  },
  {
   "cell_type": "code",
   "execution_count": 115,
   "id": "f4374174",
   "metadata": {},
   "outputs": [
    {
     "name": "stdout",
     "output_type": "stream",
     "text": [
      "512/512 [==============================] - 1877s 4s/step\n"
     ]
    }
   ],
   "source": [
    "y_predicted = model.predict(X_test)\n",
    "y_predicted = y_predicted.flatten()"
   ]
  },
  {
   "cell_type": "code",
   "execution_count": 116,
   "id": "db847440",
   "metadata": {},
   "outputs": [
    {
     "data": {
      "text/plain": [
       "array([0, 1, 1, ..., 0, 0, 0])"
      ]
     },
     "execution_count": 116,
     "metadata": {},
     "output_type": "execute_result"
    }
   ],
   "source": [
    "import numpy as np\n",
    "\n",
    "y_predicted = np.where(y_predicted > 0.5, 1, 0)\n",
    "y_predicted"
   ]
  },
  {
   "cell_type": "code",
   "execution_count": 117,
   "id": "26e4ac25",
   "metadata": {},
   "outputs": [
    {
     "data": {
      "text/plain": [
       "array([[8138,   40],\n",
       "       [  61, 8118]], dtype=int64)"
      ]
     },
     "execution_count": 117,
     "metadata": {},
     "output_type": "execute_result"
    }
   ],
   "source": [
    "from sklearn.metrics import confusion_matrix, classification_report\n",
    "\n",
    "cm = confusion_matrix(y_test, y_predicted)\n",
    "cm "
   ]
  },
  {
   "cell_type": "code",
   "execution_count": 118,
   "id": "552f04d9",
   "metadata": {},
   "outputs": [
    {
     "data": {
      "text/plain": [
       "Text(50.722222222222214, 0.5, 'Truth')"
      ]
     },
     "execution_count": 118,
     "metadata": {},
     "output_type": "execute_result"
    },
    {
     "data": {
      "image/png": "[encoded data removed]",
      "text/plain": [
       "<Figure size 640x480 with 2 Axes>"
      ]
     },
     "metadata": {},
     "output_type": "display_data"
    }
   ],
   "source": [
    "sns.heatmap(cm, annot=True, fmt='d')\n",
    "mt.xlabel('Predicted')\n",
    "mt.ylabel('Truth')"
   ]
  },
  {
   "cell_type": "code",
   "execution_count": 120,
   "id": "7a4c0c47",
   "metadata": {},
   "outputs": [
    {
     "name": "stdout",
     "output_type": "stream",
     "text": [
      "              precision    recall  f1-score   support\n",
      "\n",
      "           0       0.99      1.00      0.99      8178\n",
      "           1       1.00      0.99      0.99      8179\n",
      "\n",
      "    accuracy                           0.99     16357\n",
      "   macro avg       0.99      0.99      0.99     16357\n",
      "weighted avg       0.99      0.99      0.99     16357\n",
      "\n"
     ]
    }
   ],
   "source": [
    "print(classification_report(y_test, y_predicted))"
   ]
  },
  {
   "cell_type": "code",
   "execution_count": 121,
   "id": "ba24cc17",
   "metadata": {},
   "outputs": [
    {
     "name": "stdout",
     "output_type": "stream",
     "text": [
      "1/1 [==============================] - 2s 2s/step\n"
     ]
    },
    {
     "data": {
      "text/plain": [
       "array([[9.90252137e-01],\n",
       "       [9.99859929e-01],\n",
       "       [5.35360277e-01],\n",
       "       [8.44332390e-05],\n",
       "       [2.61296809e-01],\n",
       "       [8.43056500e-01],\n",
       "       [9.28151887e-04],\n",
       "       [1.16724965e-04],\n",
       "       [1.00154732e-03],\n",
       "       [5.33487014e-02],\n",
       "       [9.95479763e-01],\n",
       "       [2.72558676e-03],\n",
       "       [1.97323877e-02]], dtype=float32)"
      ]
     },
     "execution_count": 121,
     "metadata": {},
     "output_type": "execute_result"
    }
   ],
   "source": [
    "reviews = [\n",
    "    \"Utterly Disappointed\",\n",
    "    \"Worst Product i have ever seen\",\n",
    "    \"Worth Purchase\",\n",
    "    \"Super!\",\n",
    "    \"Making shopping feel like a punishment.\",\n",
    "    \"Where your orders go to vanish into thin air\",\n",
    "    \"Excellent quality and durability, worth every penny!\",\n",
    "    \"Sleek design and leak-proof, perfect for on-the-go hydration.\",\n",
    "    \"Lightweight and compact, fits perfectly in my bag or backpack.\",\n",
    "    \"Shut up just say jai shree ram\",\n",
    "    \"This is the worst i have seen\"\n",
    "    \"Marvellous Product\",\n",
    "    \"Best Purchase ever\",\n",
    "    \"Worth every penny\"\n",
    "]\n",
    "model.predict(reviews)"
   ]
  },
  {
   "cell_type": "code",
   "execution_count": null,
   "id": "44e8fe2c",
   "metadata": {},
   "outputs": [],
   "source": []
  }
 ],
 "metadata": {
  "kernelspec": {
   "display_name": "Python 3 (ipykernel)",
   "language": "python",
   "name": "python3"
  },
  "language_info": {
   "codemirror_mode": {
    "name": "ipython",
    "version": 3
   },
   "file_extension": ".py",
   "mimetype": "text/x-python",
   "name": "python",
   "nbconvert_exporter": "python",
   "pygments_lexer": "ipython3",
   "version": "3.8.17"
  }
 },
 "nbformat": 4,
 "nbformat_minor": 5
}
